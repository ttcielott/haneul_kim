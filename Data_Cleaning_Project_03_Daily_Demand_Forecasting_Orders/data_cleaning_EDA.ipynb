{
 "cells": [
  {
   "cell_type": "markdown",
   "metadata": {},
   "source": [
    "# Final Project: Data Cleaning & Exploratory Data Analysis\n",
    "\n",
    "### Daily_Demand_Forecasting_Orders Dataset\n",
    "\n",
    "> Author: *Haneul Kim* (ttcielott)\n",
    "\n",
    "- Repository: https://github.com/ttcielott/haneul_kim/tree/master/Data_Cleaning_Project_03_Daily_Demand_Forecasting_Orders\n",
    "- Overview & Assesment: https://github.com/ttcielott/haneul_kim/blob/master/Data_Cleaning_Project_03_Daily_Demand_Forecasting_Orders/InitialAssessment.pdf"
   ]
  },
  {
   "cell_type": "code",
   "execution_count": 1,
   "metadata": {},
   "outputs": [],
   "source": [
    "import pandas as pd"
   ]
  },
  {
   "cell_type": "markdown",
   "metadata": {},
   "source": [
    "# Raw Data View"
   ]
  },
  {
   "cell_type": "code",
   "execution_count": 2,
   "metadata": {},
   "outputs": [
    {
     "data": {
      "text/html": [
       "<div>\n",
       "<style scoped>\n",
       "    .dataframe tbody tr th:only-of-type {\n",
       "        vertical-align: middle;\n",
       "    }\n",
       "\n",
       "    .dataframe tbody tr th {\n",
       "        vertical-align: top;\n",
       "    }\n",
       "\n",
       "    .dataframe thead th {\n",
       "        text-align: right;\n",
       "    }\n",
       "</style>\n",
       "<table border=\"1\" class=\"dataframe\">\n",
       "  <thead>\n",
       "    <tr style=\"text-align: right;\">\n",
       "      <th></th>\n",
       "      <th>Week of the month (first week, second, third, fourth or fifth week</th>\n",
       "      <th>Day of the week (Monday to Friday)</th>\n",
       "      <th>Non-urgent order</th>\n",
       "      <th>Urgent order</th>\n",
       "      <th>Order type A</th>\n",
       "      <th>Order type B</th>\n",
       "      <th>Order type C</th>\n",
       "      <th>Fiscal sector orders</th>\n",
       "      <th>Orders from the traffic controller sector</th>\n",
       "      <th>Banking orders (1)</th>\n",
       "      <th>Banking orders (2)</th>\n",
       "      <th>Banking orders (3)</th>\n",
       "      <th>Target (Total orders)</th>\n",
       "    </tr>\n",
       "  </thead>\n",
       "  <tbody>\n",
       "    <tr>\n",
       "      <th>0</th>\n",
       "      <td>1</td>\n",
       "      <td>4</td>\n",
       "      <td>316.307</td>\n",
       "      <td>223.270</td>\n",
       "      <td>61.543</td>\n",
       "      <td>175.586</td>\n",
       "      <td>302.448</td>\n",
       "      <td>0.000</td>\n",
       "      <td>65556</td>\n",
       "      <td>44914</td>\n",
       "      <td>188411</td>\n",
       "      <td>14793</td>\n",
       "      <td>539.577</td>\n",
       "    </tr>\n",
       "    <tr>\n",
       "      <th>1</th>\n",
       "      <td>1</td>\n",
       "      <td>5</td>\n",
       "      <td>128.633</td>\n",
       "      <td>96.042</td>\n",
       "      <td>38.058</td>\n",
       "      <td>56.037</td>\n",
       "      <td>130.580</td>\n",
       "      <td>0.000</td>\n",
       "      <td>40419</td>\n",
       "      <td>21399</td>\n",
       "      <td>89461</td>\n",
       "      <td>7679</td>\n",
       "      <td>224.675</td>\n",
       "    </tr>\n",
       "    <tr>\n",
       "      <th>2</th>\n",
       "      <td>1</td>\n",
       "      <td>6</td>\n",
       "      <td>43.651</td>\n",
       "      <td>84.375</td>\n",
       "      <td>21.826</td>\n",
       "      <td>25.125</td>\n",
       "      <td>82.461</td>\n",
       "      <td>1.386</td>\n",
       "      <td>11992</td>\n",
       "      <td>3452</td>\n",
       "      <td>21305</td>\n",
       "      <td>14947</td>\n",
       "      <td>129.412</td>\n",
       "    </tr>\n",
       "    <tr>\n",
       "      <th>3</th>\n",
       "      <td>2</td>\n",
       "      <td>2</td>\n",
       "      <td>171.297</td>\n",
       "      <td>127.667</td>\n",
       "      <td>41.542</td>\n",
       "      <td>113.294</td>\n",
       "      <td>162.284</td>\n",
       "      <td>18.156</td>\n",
       "      <td>49971</td>\n",
       "      <td>33703</td>\n",
       "      <td>69054</td>\n",
       "      <td>18423</td>\n",
       "      <td>317.120</td>\n",
       "    </tr>\n",
       "    <tr>\n",
       "      <th>4</th>\n",
       "      <td>2</td>\n",
       "      <td>3</td>\n",
       "      <td>90.532</td>\n",
       "      <td>113.526</td>\n",
       "      <td>37.679</td>\n",
       "      <td>56.618</td>\n",
       "      <td>116.220</td>\n",
       "      <td>6.459</td>\n",
       "      <td>48534</td>\n",
       "      <td>19646</td>\n",
       "      <td>16411</td>\n",
       "      <td>20257</td>\n",
       "      <td>210.517</td>\n",
       "    </tr>\n",
       "  </tbody>\n",
       "</table>\n",
       "</div>"
      ],
      "text/plain": [
       "   Week of the month (first week, second, third, fourth or fifth week  \\\n",
       "0                                                  1                    \n",
       "1                                                  1                    \n",
       "2                                                  1                    \n",
       "3                                                  2                    \n",
       "4                                                  2                    \n",
       "\n",
       "   Day of the week (Monday to Friday)  Non-urgent order  Urgent order  \\\n",
       "0                                   4           316.307       223.270   \n",
       "1                                   5           128.633        96.042   \n",
       "2                                   6            43.651        84.375   \n",
       "3                                   2           171.297       127.667   \n",
       "4                                   3            90.532       113.526   \n",
       "\n",
       "   Order type A  Order type B  Order type C  Fiscal sector orders  \\\n",
       "0        61.543       175.586       302.448                 0.000   \n",
       "1        38.058        56.037       130.580                 0.000   \n",
       "2        21.826        25.125        82.461                 1.386   \n",
       "3        41.542       113.294       162.284                18.156   \n",
       "4        37.679        56.618       116.220                 6.459   \n",
       "\n",
       "   Orders from the traffic controller sector  Banking orders (1)  \\\n",
       "0                                      65556               44914   \n",
       "1                                      40419               21399   \n",
       "2                                      11992                3452   \n",
       "3                                      49971               33703   \n",
       "4                                      48534               19646   \n",
       "\n",
       "   Banking orders (2)  Banking orders (3)  Target (Total orders)  \n",
       "0              188411               14793                539.577  \n",
       "1               89461                7679                224.675  \n",
       "2               21305               14947                129.412  \n",
       "3               69054               18423                317.120  \n",
       "4               16411               20257                210.517  "
      ]
     },
     "execution_count": 2,
     "metadata": {},
     "output_type": "execute_result"
    }
   ],
   "source": [
    "df=pd.read_csv('Daily_Demand_Forecasting_Orders.csv', sep=';')\n",
    "df.head()"
   ]
  },
  {
   "cell_type": "code",
   "execution_count": 3,
   "metadata": {},
   "outputs": [
    {
     "data": {
      "text/plain": [
       "(60, 13)"
      ]
     },
     "execution_count": 3,
     "metadata": {},
     "output_type": "execute_result"
    }
   ],
   "source": [
    "df.shape"
   ]
  },
  {
   "cell_type": "markdown",
   "metadata": {},
   "source": [
    "# Data Wrangling\n",
    "## 1. Identify and handle missing values"
   ]
  },
  {
   "cell_type": "code",
   "execution_count": 4,
   "metadata": {},
   "outputs": [],
   "source": [
    "import numpy as np\n",
    "\n",
    "# convert '?' to 'NaN', Python's default missing value\n",
    "df.replace('?', np.nan, inplace=True)"
   ]
  },
  {
   "cell_type": "code",
   "execution_count": 5,
   "metadata": {},
   "outputs": [
    {
     "name": "stdout",
     "output_type": "stream",
     "text": [
      "Week of the month (first week, second, third, fourth or fifth week\n",
      "False    60\n",
      "Name: Week of the month (first week, second, third, fourth or fifth week, dtype: int64\n",
      "\n",
      "Day of the week (Monday to Friday)\n",
      "False    60\n",
      "Name: Day of the week (Monday to Friday), dtype: int64\n",
      "\n",
      "Non-urgent order\n",
      "False    60\n",
      "Name: Non-urgent order, dtype: int64\n",
      "\n",
      "Urgent order\n",
      "False    60\n",
      "Name: Urgent order, dtype: int64\n",
      "\n",
      "Order type A\n",
      "False    60\n",
      "Name: Order type A, dtype: int64\n",
      "\n",
      "Order type B\n",
      "False    60\n",
      "Name: Order type B, dtype: int64\n",
      "\n",
      "Order type C\n",
      "False    60\n",
      "Name: Order type C, dtype: int64\n",
      "\n",
      "Fiscal sector orders\n",
      "False    60\n",
      "Name: Fiscal sector orders, dtype: int64\n",
      "\n",
      "Orders from the traffic controller sector\n",
      "False    60\n",
      "Name: Orders from the traffic controller sector, dtype: int64\n",
      "\n",
      "Banking orders (1)\n",
      "False    60\n",
      "Name: Banking orders (1), dtype: int64\n",
      "\n",
      "Banking orders (2)\n",
      "False    60\n",
      "Name: Banking orders (2), dtype: int64\n",
      "\n",
      "Banking orders (3)\n",
      "False    60\n",
      "Name: Banking orders (3), dtype: int64\n",
      "\n",
      "Target (Total orders)\n",
      "False    60\n",
      "Name: Target (Total orders), dtype: int64\n",
      "\n"
     ]
    }
   ],
   "source": [
    "# count missing data\n",
    "\n",
    "missing_data=df.isnull()\n",
    "\n",
    "for column in missing_data.columns.values.tolist():\n",
    "    print(column)\n",
    "    print(missing_data[column].value_counts())\n",
    "    print(\"\")"
   ]
  },
  {
   "cell_type": "markdown",
   "metadata": {},
   "source": [
    "There is no missing value."
   ]
  },
  {
   "cell_type": "markdown",
   "metadata": {},
   "source": [
    "## 2. Correct data format"
   ]
  },
  {
   "cell_type": "code",
   "execution_count": 6,
   "metadata": {},
   "outputs": [
    {
     "data": {
      "text/plain": [
       "Week of the month (first week, second, third, fourth or fifth week      int64\n",
       "Day of the week (Monday to Friday)                                      int64\n",
       "Non-urgent order                                                      float64\n",
       "Urgent order                                                          float64\n",
       "Order type A                                                          float64\n",
       "Order type B                                                          float64\n",
       "Order type C                                                          float64\n",
       "Fiscal sector orders                                                  float64\n",
       "Orders from the traffic controller sector                               int64\n",
       "Banking orders (1)                                                      int64\n",
       "Banking orders (2)                                                      int64\n",
       "Banking orders (3)                                                      int64\n",
       "Target (Total orders)                                                 float64\n",
       "dtype: object"
      ]
     },
     "execution_count": 6,
     "metadata": {},
     "output_type": "execute_result"
    }
   ],
   "source": [
    "# check data type of each columns\n",
    "df.dtypes"
   ]
  },
  {
   "cell_type": "markdown",
   "metadata": {},
   "source": [
    "All the columns have numerical values and they have proper data type 'int' or 'float.' However, among the order columns, some have float and others int, so I will unify the data type of the order columns and assuming that the unit is quantity, I will convert the data type to 'int', which indicates 'integer.'"
   ]
  },
  {
   "cell_type": "code",
   "execution_count": 7,
   "metadata": {},
   "outputs": [],
   "source": [
    "# convert data type\n",
    "df[['Non-urgent order','Urgent order','Order type A','Order type B','Order type C','Fiscal sector orders','Target (Total orders)']]=df[['Non-urgent order','Urgent order','Order type A','Order type B','Order type C','Fiscal sector orders','Target (Total orders)']].astype('int')"
   ]
  },
  {
   "cell_type": "code",
   "execution_count": 8,
   "metadata": {},
   "outputs": [
    {
     "data": {
      "text/plain": [
       "Week of the month (first week, second, third, fourth or fifth week    int64\n",
       "Day of the week (Monday to Friday)                                    int64\n",
       "Non-urgent order                                                      int64\n",
       "Urgent order                                                          int64\n",
       "Order type A                                                          int64\n",
       "Order type B                                                          int64\n",
       "Order type C                                                          int64\n",
       "Fiscal sector orders                                                  int64\n",
       "Orders from the traffic controller sector                             int64\n",
       "Banking orders (1)                                                    int64\n",
       "Banking orders (2)                                                    int64\n",
       "Banking orders (3)                                                    int64\n",
       "Target (Total orders)                                                 int64\n",
       "dtype: object"
      ]
     },
     "execution_count": 8,
     "metadata": {},
     "output_type": "execute_result"
    }
   ],
   "source": [
    "df.dtypes"
   ]
  },
  {
   "cell_type": "markdown",
   "metadata": {},
   "source": [
    "## 3. Data standardization"
   ]
  },
  {
   "cell_type": "code",
   "execution_count": 9,
   "metadata": {},
   "outputs": [
    {
     "data": {
      "text/html": [
       "<div>\n",
       "<style scoped>\n",
       "    .dataframe tbody tr th:only-of-type {\n",
       "        vertical-align: middle;\n",
       "    }\n",
       "\n",
       "    .dataframe tbody tr th {\n",
       "        vertical-align: top;\n",
       "    }\n",
       "\n",
       "    .dataframe thead th {\n",
       "        text-align: right;\n",
       "    }\n",
       "</style>\n",
       "<table border=\"1\" class=\"dataframe\">\n",
       "  <thead>\n",
       "    <tr style=\"text-align: right;\">\n",
       "      <th></th>\n",
       "      <th>Week of the month</th>\n",
       "      <th>Day of the week</th>\n",
       "      <th>Non-urgent order</th>\n",
       "      <th>Urgent order</th>\n",
       "      <th>Order type A</th>\n",
       "      <th>Order type B</th>\n",
       "      <th>Order type C</th>\n",
       "      <th>Fiscal sector orders</th>\n",
       "      <th>Orders from the traffic controller sector</th>\n",
       "      <th>Banking orders (1)</th>\n",
       "      <th>Banking orders (2)</th>\n",
       "      <th>Banking orders (3)</th>\n",
       "      <th>Target (Total orders)</th>\n",
       "    </tr>\n",
       "  </thead>\n",
       "  <tbody>\n",
       "    <tr>\n",
       "      <th>0</th>\n",
       "      <td>1</td>\n",
       "      <td>4</td>\n",
       "      <td>316</td>\n",
       "      <td>223</td>\n",
       "      <td>61</td>\n",
       "      <td>175</td>\n",
       "      <td>302</td>\n",
       "      <td>0</td>\n",
       "      <td>65556</td>\n",
       "      <td>44914</td>\n",
       "      <td>188411</td>\n",
       "      <td>14793</td>\n",
       "      <td>539</td>\n",
       "    </tr>\n",
       "    <tr>\n",
       "      <th>1</th>\n",
       "      <td>1</td>\n",
       "      <td>5</td>\n",
       "      <td>128</td>\n",
       "      <td>96</td>\n",
       "      <td>38</td>\n",
       "      <td>56</td>\n",
       "      <td>130</td>\n",
       "      <td>0</td>\n",
       "      <td>40419</td>\n",
       "      <td>21399</td>\n",
       "      <td>89461</td>\n",
       "      <td>7679</td>\n",
       "      <td>224</td>\n",
       "    </tr>\n",
       "    <tr>\n",
       "      <th>2</th>\n",
       "      <td>1</td>\n",
       "      <td>6</td>\n",
       "      <td>43</td>\n",
       "      <td>84</td>\n",
       "      <td>21</td>\n",
       "      <td>25</td>\n",
       "      <td>82</td>\n",
       "      <td>1</td>\n",
       "      <td>11992</td>\n",
       "      <td>3452</td>\n",
       "      <td>21305</td>\n",
       "      <td>14947</td>\n",
       "      <td>129</td>\n",
       "    </tr>\n",
       "    <tr>\n",
       "      <th>3</th>\n",
       "      <td>2</td>\n",
       "      <td>2</td>\n",
       "      <td>171</td>\n",
       "      <td>127</td>\n",
       "      <td>41</td>\n",
       "      <td>113</td>\n",
       "      <td>162</td>\n",
       "      <td>18</td>\n",
       "      <td>49971</td>\n",
       "      <td>33703</td>\n",
       "      <td>69054</td>\n",
       "      <td>18423</td>\n",
       "      <td>317</td>\n",
       "    </tr>\n",
       "    <tr>\n",
       "      <th>4</th>\n",
       "      <td>2</td>\n",
       "      <td>3</td>\n",
       "      <td>90</td>\n",
       "      <td>113</td>\n",
       "      <td>37</td>\n",
       "      <td>56</td>\n",
       "      <td>116</td>\n",
       "      <td>6</td>\n",
       "      <td>48534</td>\n",
       "      <td>19646</td>\n",
       "      <td>16411</td>\n",
       "      <td>20257</td>\n",
       "      <td>210</td>\n",
       "    </tr>\n",
       "  </tbody>\n",
       "</table>\n",
       "</div>"
      ],
      "text/plain": [
       "   Week of the month  Day of the week  Non-urgent order  Urgent order  \\\n",
       "0                  1                4               316           223   \n",
       "1                  1                5               128            96   \n",
       "2                  1                6                43            84   \n",
       "3                  2                2               171           127   \n",
       "4                  2                3                90           113   \n",
       "\n",
       "   Order type A  Order type B  Order type C  Fiscal sector orders  \\\n",
       "0            61           175           302                     0   \n",
       "1            38            56           130                     0   \n",
       "2            21            25            82                     1   \n",
       "3            41           113           162                    18   \n",
       "4            37            56           116                     6   \n",
       "\n",
       "   Orders from the traffic controller sector  Banking orders (1)  \\\n",
       "0                                      65556               44914   \n",
       "1                                      40419               21399   \n",
       "2                                      11992                3452   \n",
       "3                                      49971               33703   \n",
       "4                                      48534               19646   \n",
       "\n",
       "   Banking orders (2)  Banking orders (3)  Target (Total orders)  \n",
       "0              188411               14793                    539  \n",
       "1               89461                7679                    224  \n",
       "2               21305               14947                    129  \n",
       "3               69054               18423                    317  \n",
       "4               16411               20257                    210  "
      ]
     },
     "execution_count": 9,
     "metadata": {},
     "output_type": "execute_result"
    }
   ],
   "source": [
    "#rename the column names\n",
    "\n",
    "df.rename(columns={'Week of the month (first week, second, third, fourth or fifth week':'Week of the month'}, inplace=True)\n",
    "df.rename(columns={'Day of the week (Monday to Friday)':'Day of the week'}, inplace=True)\n",
    "df.head()"
   ]
  },
  {
   "cell_type": "code",
   "execution_count": 10,
   "metadata": {},
   "outputs": [
    {
     "data": {
      "text/plain": [
       "array([1, 2, 3, 4, 5])"
      ]
     },
     "execution_count": 10,
     "metadata": {},
     "output_type": "execute_result"
    }
   ],
   "source": [
    "# list the unique inputs of the column 'Week of the month'\n",
    "df['Week of the month'].unique()"
   ]
  },
  {
   "cell_type": "code",
   "execution_count": 11,
   "metadata": {},
   "outputs": [
    {
     "data": {
      "text/plain": [
       "array([4, 5, 6, 2, 3])"
      ]
     },
     "execution_count": 11,
     "metadata": {},
     "output_type": "execute_result"
    }
   ],
   "source": [
    "# list the unique inputs of the column 'Day of the week'\n",
    "df['Day of the week'].unique()"
   ]
  },
  {
   "cell_type": "code",
   "execution_count": 12,
   "metadata": {},
   "outputs": [],
   "source": [
    "# transform numerical values of 'Week of the month' to a common format, 'N th week'.\n",
    "df['Week of the month'].replace(1, '1st week', inplace=True)\n",
    "df['Week of the month'].replace(2, '2nd week', inplace=True)\n",
    "df['Week of the month'].replace(3, '3rd week', inplace=True)\n",
    "df['Week of the month'].replace(4, '4th week', inplace=True)\n",
    "df['Week of the month'].replace(5, '5th week', inplace=True)\n",
    "\n",
    "# transform numerical values of 'Day of the week' to a common format, 'Mon to Fri'\n",
    "df['Day of the week'].replace(2, 'Mon', inplace=True)\n",
    "df['Day of the week'].replace(3, 'Tue', inplace=True)\n",
    "df['Day of the week'].replace(4, 'Wed', inplace=True)\n",
    "df['Day of the week'].replace(5, 'Thu', inplace=True)\n",
    "df['Day of the week'].replace(6, 'Fri', inplace=True)"
   ]
  },
  {
   "cell_type": "code",
   "execution_count": 13,
   "metadata": {},
   "outputs": [
    {
     "data": {
      "text/html": [
       "<div>\n",
       "<style scoped>\n",
       "    .dataframe tbody tr th:only-of-type {\n",
       "        vertical-align: middle;\n",
       "    }\n",
       "\n",
       "    .dataframe tbody tr th {\n",
       "        vertical-align: top;\n",
       "    }\n",
       "\n",
       "    .dataframe thead th {\n",
       "        text-align: right;\n",
       "    }\n",
       "</style>\n",
       "<table border=\"1\" class=\"dataframe\">\n",
       "  <thead>\n",
       "    <tr style=\"text-align: right;\">\n",
       "      <th></th>\n",
       "      <th>Week of the month</th>\n",
       "      <th>Day of the week</th>\n",
       "      <th>Non-urgent order</th>\n",
       "      <th>Urgent order</th>\n",
       "      <th>Order type A</th>\n",
       "      <th>Order type B</th>\n",
       "      <th>Order type C</th>\n",
       "      <th>Fiscal sector orders</th>\n",
       "      <th>Orders from the traffic controller sector</th>\n",
       "      <th>Banking orders (1)</th>\n",
       "      <th>Banking orders (2)</th>\n",
       "      <th>Banking orders (3)</th>\n",
       "      <th>Target (Total orders)</th>\n",
       "    </tr>\n",
       "  </thead>\n",
       "  <tbody>\n",
       "    <tr>\n",
       "      <th>0</th>\n",
       "      <td>1st week</td>\n",
       "      <td>Wed</td>\n",
       "      <td>316</td>\n",
       "      <td>223</td>\n",
       "      <td>61</td>\n",
       "      <td>175</td>\n",
       "      <td>302</td>\n",
       "      <td>0</td>\n",
       "      <td>65556</td>\n",
       "      <td>44914</td>\n",
       "      <td>188411</td>\n",
       "      <td>14793</td>\n",
       "      <td>539</td>\n",
       "    </tr>\n",
       "    <tr>\n",
       "      <th>1</th>\n",
       "      <td>1st week</td>\n",
       "      <td>Thu</td>\n",
       "      <td>128</td>\n",
       "      <td>96</td>\n",
       "      <td>38</td>\n",
       "      <td>56</td>\n",
       "      <td>130</td>\n",
       "      <td>0</td>\n",
       "      <td>40419</td>\n",
       "      <td>21399</td>\n",
       "      <td>89461</td>\n",
       "      <td>7679</td>\n",
       "      <td>224</td>\n",
       "    </tr>\n",
       "    <tr>\n",
       "      <th>2</th>\n",
       "      <td>1st week</td>\n",
       "      <td>Fri</td>\n",
       "      <td>43</td>\n",
       "      <td>84</td>\n",
       "      <td>21</td>\n",
       "      <td>25</td>\n",
       "      <td>82</td>\n",
       "      <td>1</td>\n",
       "      <td>11992</td>\n",
       "      <td>3452</td>\n",
       "      <td>21305</td>\n",
       "      <td>14947</td>\n",
       "      <td>129</td>\n",
       "    </tr>\n",
       "    <tr>\n",
       "      <th>3</th>\n",
       "      <td>2nd week</td>\n",
       "      <td>Mon</td>\n",
       "      <td>171</td>\n",
       "      <td>127</td>\n",
       "      <td>41</td>\n",
       "      <td>113</td>\n",
       "      <td>162</td>\n",
       "      <td>18</td>\n",
       "      <td>49971</td>\n",
       "      <td>33703</td>\n",
       "      <td>69054</td>\n",
       "      <td>18423</td>\n",
       "      <td>317</td>\n",
       "    </tr>\n",
       "    <tr>\n",
       "      <th>4</th>\n",
       "      <td>2nd week</td>\n",
       "      <td>Tue</td>\n",
       "      <td>90</td>\n",
       "      <td>113</td>\n",
       "      <td>37</td>\n",
       "      <td>56</td>\n",
       "      <td>116</td>\n",
       "      <td>6</td>\n",
       "      <td>48534</td>\n",
       "      <td>19646</td>\n",
       "      <td>16411</td>\n",
       "      <td>20257</td>\n",
       "      <td>210</td>\n",
       "    </tr>\n",
       "  </tbody>\n",
       "</table>\n",
       "</div>"
      ],
      "text/plain": [
       "  Week of the month Day of the week  Non-urgent order  Urgent order  \\\n",
       "0          1st week             Wed               316           223   \n",
       "1          1st week             Thu               128            96   \n",
       "2          1st week             Fri                43            84   \n",
       "3          2nd week             Mon               171           127   \n",
       "4          2nd week             Tue                90           113   \n",
       "\n",
       "   Order type A  Order type B  Order type C  Fiscal sector orders  \\\n",
       "0            61           175           302                     0   \n",
       "1            38            56           130                     0   \n",
       "2            21            25            82                     1   \n",
       "3            41           113           162                    18   \n",
       "4            37            56           116                     6   \n",
       "\n",
       "   Orders from the traffic controller sector  Banking orders (1)  \\\n",
       "0                                      65556               44914   \n",
       "1                                      40419               21399   \n",
       "2                                      11992                3452   \n",
       "3                                      49971               33703   \n",
       "4                                      48534               19646   \n",
       "\n",
       "   Banking orders (2)  Banking orders (3)  Target (Total orders)  \n",
       "0              188411               14793                    539  \n",
       "1               89461                7679                    224  \n",
       "2               21305               14947                    129  \n",
       "3               69054               18423                    317  \n",
       "4               16411               20257                    210  "
      ]
     },
     "execution_count": 13,
     "metadata": {},
     "output_type": "execute_result"
    }
   ],
   "source": [
    "df.head()"
   ]
  },
  {
   "cell_type": "code",
   "execution_count": 14,
   "metadata": {},
   "outputs": [],
   "source": [
    "# export a clean data to csv file with separator, ',' \n",
    "df.to_csv('cleaned_data.csv', sep=',', index=False)"
   ]
  },
  {
   "cell_type": "markdown",
   "metadata": {},
   "source": [
    "# Exploratory Data Analysis\n",
    "## 1. Analyzing individual feature pattern using visualization"
   ]
  },
  {
   "cell_type": "code",
   "execution_count": 15,
   "metadata": {},
   "outputs": [
    {
     "data": {
      "text/html": [
       "<div>\n",
       "<style scoped>\n",
       "    .dataframe tbody tr th:only-of-type {\n",
       "        vertical-align: middle;\n",
       "    }\n",
       "\n",
       "    .dataframe tbody tr th {\n",
       "        vertical-align: top;\n",
       "    }\n",
       "\n",
       "    .dataframe thead th {\n",
       "        text-align: right;\n",
       "    }\n",
       "</style>\n",
       "<table border=\"1\" class=\"dataframe\">\n",
       "  <thead>\n",
       "    <tr style=\"text-align: right;\">\n",
       "      <th></th>\n",
       "      <th>Week of the month</th>\n",
       "      <th>Day of the week</th>\n",
       "    </tr>\n",
       "  </thead>\n",
       "  <tbody>\n",
       "    <tr>\n",
       "      <th>count</th>\n",
       "      <td>60</td>\n",
       "      <td>60</td>\n",
       "    </tr>\n",
       "    <tr>\n",
       "      <th>unique</th>\n",
       "      <td>5</td>\n",
       "      <td>5</td>\n",
       "    </tr>\n",
       "    <tr>\n",
       "      <th>top</th>\n",
       "      <td>2nd week</td>\n",
       "      <td>Wed</td>\n",
       "    </tr>\n",
       "    <tr>\n",
       "      <th>freq</th>\n",
       "      <td>15</td>\n",
       "      <td>13</td>\n",
       "    </tr>\n",
       "  </tbody>\n",
       "</table>\n",
       "</div>"
      ],
      "text/plain": [
       "       Week of the month Day of the week\n",
       "count                 60              60\n",
       "unique                 5               5\n",
       "top             2nd week             Wed\n",
       "freq                  15              13"
      ]
     },
     "execution_count": 15,
     "metadata": {},
     "output_type": "execute_result"
    }
   ],
   "source": [
    "# calculate the statistics of categorical data\n",
    "df.describe(include='object')"
   ]
  },
  {
   "cell_type": "code",
   "execution_count": 16,
   "metadata": {},
   "outputs": [
    {
     "data": {
      "text/plain": [
       "2nd week    15\n",
       "3rd week    14\n",
       "4th week    14\n",
       "5th week     9\n",
       "1st week     8\n",
       "Name: Week of the month, dtype: int64"
      ]
     },
     "execution_count": 16,
     "metadata": {},
     "output_type": "execute_result"
    }
   ],
   "source": [
    "# count the number of each unique inputs\n",
    "df['Week of the month'].value_counts()"
   ]
  },
  {
   "cell_type": "code",
   "execution_count": 17,
   "metadata": {},
   "outputs": [
    {
     "data": {
      "text/plain": [
       "Wed    13\n",
       "Thu    12\n",
       "Tue    12\n",
       "Fri    12\n",
       "Mon    11\n",
       "Name: Day of the week, dtype: int64"
      ]
     },
     "execution_count": 17,
     "metadata": {},
     "output_type": "execute_result"
    }
   ],
   "source": [
    "# count the number of each unique inputs\n",
    "df['Day of the week'].value_counts()"
   ]
  },
  {
   "cell_type": "code",
   "execution_count": 18,
   "metadata": {},
   "outputs": [
    {
     "data": {
      "text/html": [
       "<div>\n",
       "<style scoped>\n",
       "    .dataframe tbody tr th:only-of-type {\n",
       "        vertical-align: middle;\n",
       "    }\n",
       "\n",
       "    .dataframe tbody tr th {\n",
       "        vertical-align: top;\n",
       "    }\n",
       "\n",
       "    .dataframe thead th {\n",
       "        text-align: right;\n",
       "    }\n",
       "</style>\n",
       "<table border=\"1\" class=\"dataframe\">\n",
       "  <thead>\n",
       "    <tr style=\"text-align: right;\">\n",
       "      <th></th>\n",
       "      <th>Non-urgent order</th>\n",
       "      <th>Urgent order</th>\n",
       "      <th>Order type A</th>\n",
       "      <th>Order type B</th>\n",
       "      <th>Order type C</th>\n",
       "      <th>Fiscal sector orders</th>\n",
       "      <th>Orders from the traffic controller sector</th>\n",
       "      <th>Banking orders (1)</th>\n",
       "      <th>Banking orders (2)</th>\n",
       "      <th>Banking orders (3)</th>\n",
       "      <th>Target (Total orders)</th>\n",
       "    </tr>\n",
       "  </thead>\n",
       "  <tbody>\n",
       "    <tr>\n",
       "      <th>count</th>\n",
       "      <td>60.000000</td>\n",
       "      <td>60.000000</td>\n",
       "      <td>60.000000</td>\n",
       "      <td>60.000000</td>\n",
       "      <td>60.000000</td>\n",
       "      <td>60.000000</td>\n",
       "      <td>60.000000</td>\n",
       "      <td>60.000000</td>\n",
       "      <td>60.000000</td>\n",
       "      <td>60.000000</td>\n",
       "      <td>60.000000</td>\n",
       "    </tr>\n",
       "    <tr>\n",
       "      <th>mean</th>\n",
       "      <td>172.066667</td>\n",
       "      <td>118.466667</td>\n",
       "      <td>51.650000</td>\n",
       "      <td>108.733333</td>\n",
       "      <td>139.033333</td>\n",
       "      <td>77.133333</td>\n",
       "      <td>44504.350000</td>\n",
       "      <td>46640.833333</td>\n",
       "      <td>79401.483333</td>\n",
       "      <td>23114.633333</td>\n",
       "      <td>300.400000</td>\n",
       "    </tr>\n",
       "    <tr>\n",
       "      <th>std</th>\n",
       "      <td>69.508167</td>\n",
       "      <td>27.165199</td>\n",
       "      <td>18.842636</td>\n",
       "      <td>50.751928</td>\n",
       "      <td>41.433617</td>\n",
       "      <td>186.593410</td>\n",
       "      <td>12197.905134</td>\n",
       "      <td>45220.736293</td>\n",
       "      <td>40504.420041</td>\n",
       "      <td>13148.039829</td>\n",
       "      <td>89.546163</td>\n",
       "    </tr>\n",
       "    <tr>\n",
       "      <th>min</th>\n",
       "      <td>43.000000</td>\n",
       "      <td>77.000000</td>\n",
       "      <td>21.000000</td>\n",
       "      <td>25.000000</td>\n",
       "      <td>74.000000</td>\n",
       "      <td>0.000000</td>\n",
       "      <td>11992.000000</td>\n",
       "      <td>3452.000000</td>\n",
       "      <td>16411.000000</td>\n",
       "      <td>7679.000000</td>\n",
       "      <td>129.000000</td>\n",
       "    </tr>\n",
       "    <tr>\n",
       "      <th>25%</th>\n",
       "      <td>125.250000</td>\n",
       "      <td>100.750000</td>\n",
       "      <td>39.000000</td>\n",
       "      <td>74.250000</td>\n",
       "      <td>112.750000</td>\n",
       "      <td>1.000000</td>\n",
       "      <td>34994.250000</td>\n",
       "      <td>20130.000000</td>\n",
       "      <td>50680.500000</td>\n",
       "      <td>12609.750000</td>\n",
       "      <td>237.500000</td>\n",
       "    </tr>\n",
       "    <tr>\n",
       "      <th>50%</th>\n",
       "      <td>150.500000</td>\n",
       "      <td>112.500000</td>\n",
       "      <td>47.000000</td>\n",
       "      <td>99.000000</td>\n",
       "      <td>127.500000</td>\n",
       "      <td>7.500000</td>\n",
       "      <td>44312.000000</td>\n",
       "      <td>32527.500000</td>\n",
       "      <td>67181.000000</td>\n",
       "      <td>18011.500000</td>\n",
       "      <td>287.500000</td>\n",
       "    </tr>\n",
       "    <tr>\n",
       "      <th>75%</th>\n",
       "      <td>193.750000</td>\n",
       "      <td>131.500000</td>\n",
       "      <td>58.000000</td>\n",
       "      <td>132.000000</td>\n",
       "      <td>159.750000</td>\n",
       "      <td>20.250000</td>\n",
       "      <td>52111.750000</td>\n",
       "      <td>45118.750000</td>\n",
       "      <td>94787.750000</td>\n",
       "      <td>31047.750000</td>\n",
       "      <td>333.750000</td>\n",
       "    </tr>\n",
       "    <tr>\n",
       "      <th>max</th>\n",
       "      <td>435.000000</td>\n",
       "      <td>223.000000</td>\n",
       "      <td>118.000000</td>\n",
       "      <td>267.000000</td>\n",
       "      <td>302.000000</td>\n",
       "      <td>865.000000</td>\n",
       "      <td>71772.000000</td>\n",
       "      <td>210508.000000</td>\n",
       "      <td>188411.000000</td>\n",
       "      <td>73839.000000</td>\n",
       "      <td>616.000000</td>\n",
       "    </tr>\n",
       "  </tbody>\n",
       "</table>\n",
       "</div>"
      ],
      "text/plain": [
       "       Non-urgent order  Urgent order  Order type A  Order type B  \\\n",
       "count         60.000000     60.000000     60.000000     60.000000   \n",
       "mean         172.066667    118.466667     51.650000    108.733333   \n",
       "std           69.508167     27.165199     18.842636     50.751928   \n",
       "min           43.000000     77.000000     21.000000     25.000000   \n",
       "25%          125.250000    100.750000     39.000000     74.250000   \n",
       "50%          150.500000    112.500000     47.000000     99.000000   \n",
       "75%          193.750000    131.500000     58.000000    132.000000   \n",
       "max          435.000000    223.000000    118.000000    267.000000   \n",
       "\n",
       "       Order type C  Fiscal sector orders  \\\n",
       "count     60.000000             60.000000   \n",
       "mean     139.033333             77.133333   \n",
       "std       41.433617            186.593410   \n",
       "min       74.000000              0.000000   \n",
       "25%      112.750000              1.000000   \n",
       "50%      127.500000              7.500000   \n",
       "75%      159.750000             20.250000   \n",
       "max      302.000000            865.000000   \n",
       "\n",
       "       Orders from the traffic controller sector  Banking orders (1)  \\\n",
       "count                                  60.000000           60.000000   \n",
       "mean                                44504.350000        46640.833333   \n",
       "std                                 12197.905134        45220.736293   \n",
       "min                                 11992.000000         3452.000000   \n",
       "25%                                 34994.250000        20130.000000   \n",
       "50%                                 44312.000000        32527.500000   \n",
       "75%                                 52111.750000        45118.750000   \n",
       "max                                 71772.000000       210508.000000   \n",
       "\n",
       "       Banking orders (2)  Banking orders (3)  Target (Total orders)  \n",
       "count           60.000000           60.000000              60.000000  \n",
       "mean         79401.483333        23114.633333             300.400000  \n",
       "std          40504.420041        13148.039829              89.546163  \n",
       "min          16411.000000         7679.000000             129.000000  \n",
       "25%          50680.500000        12609.750000             237.500000  \n",
       "50%          67181.000000        18011.500000             287.500000  \n",
       "75%          94787.750000        31047.750000             333.750000  \n",
       "max         188411.000000        73839.000000             616.000000  "
      ]
     },
     "execution_count": 18,
     "metadata": {},
     "output_type": "execute_result"
    }
   ],
   "source": [
    "# calculate the statisctics of numerical data\n",
    "df.describe()"
   ]
  },
  {
   "cell_type": "code",
   "execution_count": 19,
   "metadata": {},
   "outputs": [
    {
     "data": {
      "text/plain": [
       "Text(0, 0.5, 'count')"
      ]
     },
     "execution_count": 19,
     "metadata": {},
     "output_type": "execute_result"
    },
    {
     "data": {
      "image/png": "[encoded data removed]",
      "text/plain": [
       "<Figure size 432x288 with 1 Axes>"
      ]
     },
     "metadata": {
      "needs_background": "light"
     },
     "output_type": "display_data"
    }
   ],
   "source": [
    "# plot the histogram of 'Week of the month' to see what its distribution looks like \n",
    "%matplotlib inline\n",
    "import matplotlib as plt\n",
    "from matplotlib import pyplot\n",
    "\n",
    "plt.pyplot.hist(df['Week of the month'])\n",
    "\n",
    "# set x/y labels and plot title\n",
    "plt.pyplot.title('Week of the month')\n",
    "plt.pyplot.xlabel('week number')\n",
    "plt.pyplot.ylabel('count')"
   ]
  },
  {
   "cell_type": "markdown",
   "metadata": {},
   "source": [
    "We can see the numbers of collected data for 1st and 5th week are relatively low compared to other weeks."
   ]
  },
  {
   "cell_type": "code",
   "execution_count": 20,
   "metadata": {},
   "outputs": [
    {
     "data": {
      "text/plain": [
       "Text(0, 0.5, 'count')"
      ]
     },
     "execution_count": 20,
     "metadata": {},
     "output_type": "execute_result"
    },
    {
     "data": {
      "image/png": "[encoded data removed]",
      "text/plain": [
       "<Figure size 432x288 with 1 Axes>"
      ]
     },
     "metadata": {
      "needs_background": "light"
     },
     "output_type": "display_data"
    }
   ],
   "source": [
    "# plot the histogram of day of week to see what its distribution looks like \n",
    "plt.pyplot.hist(df['Day of the week'])\n",
    "\n",
    "# set x/y labels and plot title\n",
    "plt.pyplot.title('Day of Week')\n",
    "plt.pyplot.xlabel('day')\n",
    "plt.pyplot.ylabel('count')"
   ]
  },
  {
   "cell_type": "markdown",
   "metadata": {},
   "source": [
    "We can see data are evenly distributed among all day"
   ]
  },
  {
   "cell_type": "markdown",
   "metadata": {},
   "source": [
    "To install 'Seaborn',visualization library, I will use the pip, which is the Python package manager."
   ]
  },
  {
   "cell_type": "code",
   "execution_count": 25,
   "metadata": {},
   "outputs": [],
   "source": [
    "%%capture\n",
    "! pip install seaborn"
   ]
  },
  {
   "cell_type": "code",
   "execution_count": 26,
   "metadata": {},
   "outputs": [],
   "source": [
    "import seaborn as sns\n",
    "import matplotlib.pyplot as plt\n",
    "%matplotlib inline"
   ]
  },
  {
   "cell_type": "code",
   "execution_count": 27,
   "metadata": {},
   "outputs": [
    {
     "data": {
      "text/html": [
       "<div>\n",
       "<style scoped>\n",
       "    .dataframe tbody tr th:only-of-type {\n",
       "        vertical-align: middle;\n",
       "    }\n",
       "\n",
       "    .dataframe tbody tr th {\n",
       "        vertical-align: top;\n",
       "    }\n",
       "\n",
       "    .dataframe thead th {\n",
       "        text-align: right;\n",
       "    }\n",
       "</style>\n",
       "<table border=\"1\" class=\"dataframe\">\n",
       "  <thead>\n",
       "    <tr style=\"text-align: right;\">\n",
       "      <th></th>\n",
       "      <th>Non-urgent order</th>\n",
       "      <th>Urgent order</th>\n",
       "      <th>Order type A</th>\n",
       "      <th>Order type B</th>\n",
       "      <th>Order type C</th>\n",
       "      <th>Fiscal sector orders</th>\n",
       "      <th>Orders from the traffic controller sector</th>\n",
       "      <th>Banking orders (1)</th>\n",
       "      <th>Banking orders (2)</th>\n",
       "      <th>Banking orders (3)</th>\n",
       "      <th>Target (Total orders)</th>\n",
       "    </tr>\n",
       "  </thead>\n",
       "  <tbody>\n",
       "    <tr>\n",
       "      <th>Non-urgent order</th>\n",
       "      <td>1.000000</td>\n",
       "      <td>0.566256</td>\n",
       "      <td>0.561583</td>\n",
       "      <td>0.827319</td>\n",
       "      <td>0.753066</td>\n",
       "      <td>-0.056234</td>\n",
       "      <td>0.246281</td>\n",
       "      <td>0.732638</td>\n",
       "      <td>0.788130</td>\n",
       "      <td>0.133319</td>\n",
       "      <td>0.934594</td>\n",
       "    </tr>\n",
       "    <tr>\n",
       "      <th>Urgent order</th>\n",
       "      <td>0.566256</td>\n",
       "      <td>1.000000</td>\n",
       "      <td>0.414365</td>\n",
       "      <td>0.509321</td>\n",
       "      <td>0.768196</td>\n",
       "      <td>-0.011328</td>\n",
       "      <td>0.242572</td>\n",
       "      <td>0.231462</td>\n",
       "      <td>0.662392</td>\n",
       "      <td>0.030692</td>\n",
       "      <td>0.730323</td>\n",
       "    </tr>\n",
       "    <tr>\n",
       "      <th>Order type A</th>\n",
       "      <td>0.561583</td>\n",
       "      <td>0.414365</td>\n",
       "      <td>1.000000</td>\n",
       "      <td>0.439342</td>\n",
       "      <td>0.217525</td>\n",
       "      <td>0.066033</td>\n",
       "      <td>-0.154998</td>\n",
       "      <td>0.675464</td>\n",
       "      <td>0.295863</td>\n",
       "      <td>0.231485</td>\n",
       "      <td>0.558167</td>\n",
       "    </tr>\n",
       "    <tr>\n",
       "      <th>Order type B</th>\n",
       "      <td>0.827319</td>\n",
       "      <td>0.509321</td>\n",
       "      <td>0.439342</td>\n",
       "      <td>1.000000</td>\n",
       "      <td>0.524800</td>\n",
       "      <td>-0.122272</td>\n",
       "      <td>0.127188</td>\n",
       "      <td>0.593079</td>\n",
       "      <td>0.714208</td>\n",
       "      <td>0.066405</td>\n",
       "      <td>0.900876</td>\n",
       "    </tr>\n",
       "    <tr>\n",
       "      <th>Order type C</th>\n",
       "      <td>0.753066</td>\n",
       "      <td>0.768196</td>\n",
       "      <td>0.217525</td>\n",
       "      <td>0.524800</td>\n",
       "      <td>1.000000</td>\n",
       "      <td>0.007425</td>\n",
       "      <td>0.441532</td>\n",
       "      <td>0.331272</td>\n",
       "      <td>0.718195</td>\n",
       "      <td>0.031789</td>\n",
       "      <td>0.806015</td>\n",
       "    </tr>\n",
       "    <tr>\n",
       "      <th>Fiscal sector orders</th>\n",
       "      <td>-0.056234</td>\n",
       "      <td>-0.011328</td>\n",
       "      <td>0.066033</td>\n",
       "      <td>-0.122272</td>\n",
       "      <td>0.007425</td>\n",
       "      <td>1.000000</td>\n",
       "      <td>0.197799</td>\n",
       "      <td>0.003814</td>\n",
       "      <td>-0.054635</td>\n",
       "      <td>0.294374</td>\n",
       "      <td>-0.051618</td>\n",
       "    </tr>\n",
       "    <tr>\n",
       "      <th>Orders from the traffic controller sector</th>\n",
       "      <td>0.246281</td>\n",
       "      <td>0.242572</td>\n",
       "      <td>-0.154998</td>\n",
       "      <td>0.127188</td>\n",
       "      <td>0.441532</td>\n",
       "      <td>0.197799</td>\n",
       "      <td>1.000000</td>\n",
       "      <td>-0.162309</td>\n",
       "      <td>0.240450</td>\n",
       "      <td>0.231614</td>\n",
       "      <td>0.244684</td>\n",
       "    </tr>\n",
       "    <tr>\n",
       "      <th>Banking orders (1)</th>\n",
       "      <td>0.732638</td>\n",
       "      <td>0.231462</td>\n",
       "      <td>0.675464</td>\n",
       "      <td>0.593079</td>\n",
       "      <td>0.331272</td>\n",
       "      <td>0.003814</td>\n",
       "      <td>-0.162309</td>\n",
       "      <td>1.000000</td>\n",
       "      <td>0.262905</td>\n",
       "      <td>0.221335</td>\n",
       "      <td>0.630360</td>\n",
       "    </tr>\n",
       "    <tr>\n",
       "      <th>Banking orders (2)</th>\n",
       "      <td>0.788130</td>\n",
       "      <td>0.662392</td>\n",
       "      <td>0.295863</td>\n",
       "      <td>0.714208</td>\n",
       "      <td>0.718195</td>\n",
       "      <td>-0.054635</td>\n",
       "      <td>0.240450</td>\n",
       "      <td>0.262905</td>\n",
       "      <td>1.000000</td>\n",
       "      <td>-0.108797</td>\n",
       "      <td>0.798443</td>\n",
       "    </tr>\n",
       "    <tr>\n",
       "      <th>Banking orders (3)</th>\n",
       "      <td>0.133319</td>\n",
       "      <td>0.030692</td>\n",
       "      <td>0.231485</td>\n",
       "      <td>0.066405</td>\n",
       "      <td>0.031789</td>\n",
       "      <td>0.294374</td>\n",
       "      <td>0.231614</td>\n",
       "      <td>0.221335</td>\n",
       "      <td>-0.108797</td>\n",
       "      <td>1.000000</td>\n",
       "      <td>0.100800</td>\n",
       "    </tr>\n",
       "    <tr>\n",
       "      <th>Target (Total orders)</th>\n",
       "      <td>0.934594</td>\n",
       "      <td>0.730323</td>\n",
       "      <td>0.558167</td>\n",
       "      <td>0.900876</td>\n",
       "      <td>0.806015</td>\n",
       "      <td>-0.051618</td>\n",
       "      <td>0.244684</td>\n",
       "      <td>0.630360</td>\n",
       "      <td>0.798443</td>\n",
       "      <td>0.100800</td>\n",
       "      <td>1.000000</td>\n",
       "    </tr>\n",
       "  </tbody>\n",
       "</table>\n",
       "</div>"
      ],
      "text/plain": [
       "                                           Non-urgent order  Urgent order  \\\n",
       "Non-urgent order                                   1.000000      0.566256   \n",
       "Urgent order                                       0.566256      1.000000   \n",
       "Order type A                                       0.561583      0.414365   \n",
       "Order type B                                       0.827319      0.509321   \n",
       "Order type C                                       0.753066      0.768196   \n",
       "Fiscal sector orders                              -0.056234     -0.011328   \n",
       "Orders from the traffic controller sector          0.246281      0.242572   \n",
       "Banking orders (1)                                 0.732638      0.231462   \n",
       "Banking orders (2)                                 0.788130      0.662392   \n",
       "Banking orders (3)                                 0.133319      0.030692   \n",
       "Target (Total orders)                              0.934594      0.730323   \n",
       "\n",
       "                                           Order type A  Order type B  \\\n",
       "Non-urgent order                               0.561583      0.827319   \n",
       "Urgent order                                   0.414365      0.509321   \n",
       "Order type A                                   1.000000      0.439342   \n",
       "Order type B                                   0.439342      1.000000   \n",
       "Order type C                                   0.217525      0.524800   \n",
       "Fiscal sector orders                           0.066033     -0.122272   \n",
       "Orders from the traffic controller sector     -0.154998      0.127188   \n",
       "Banking orders (1)                             0.675464      0.593079   \n",
       "Banking orders (2)                             0.295863      0.714208   \n",
       "Banking orders (3)                             0.231485      0.066405   \n",
       "Target (Total orders)                          0.558167      0.900876   \n",
       "\n",
       "                                           Order type C  Fiscal sector orders  \\\n",
       "Non-urgent order                               0.753066             -0.056234   \n",
       "Urgent order                                   0.768196             -0.011328   \n",
       "Order type A                                   0.217525              0.066033   \n",
       "Order type B                                   0.524800             -0.122272   \n",
       "Order type C                                   1.000000              0.007425   \n",
       "Fiscal sector orders                           0.007425              1.000000   \n",
       "Orders from the traffic controller sector      0.441532              0.197799   \n",
       "Banking orders (1)                             0.331272              0.003814   \n",
       "Banking orders (2)                             0.718195             -0.054635   \n",
       "Banking orders (3)                             0.031789              0.294374   \n",
       "Target (Total orders)                          0.806015             -0.051618   \n",
       "\n",
       "                                           Orders from the traffic controller sector  \\\n",
       "Non-urgent order                                                            0.246281   \n",
       "Urgent order                                                                0.242572   \n",
       "Order type A                                                               -0.154998   \n",
       "Order type B                                                                0.127188   \n",
       "Order type C                                                                0.441532   \n",
       "Fiscal sector orders                                                        0.197799   \n",
       "Orders from the traffic controller sector                                   1.000000   \n",
       "Banking orders (1)                                                         -0.162309   \n",
       "Banking orders (2)                                                          0.240450   \n",
       "Banking orders (3)                                                          0.231614   \n",
       "Target (Total orders)                                                       0.244684   \n",
       "\n",
       "                                           Banking orders (1)  \\\n",
       "Non-urgent order                                     0.732638   \n",
       "Urgent order                                         0.231462   \n",
       "Order type A                                         0.675464   \n",
       "Order type B                                         0.593079   \n",
       "Order type C                                         0.331272   \n",
       "Fiscal sector orders                                 0.003814   \n",
       "Orders from the traffic controller sector           -0.162309   \n",
       "Banking orders (1)                                   1.000000   \n",
       "Banking orders (2)                                   0.262905   \n",
       "Banking orders (3)                                   0.221335   \n",
       "Target (Total orders)                                0.630360   \n",
       "\n",
       "                                           Banking orders (2)  \\\n",
       "Non-urgent order                                     0.788130   \n",
       "Urgent order                                         0.662392   \n",
       "Order type A                                         0.295863   \n",
       "Order type B                                         0.714208   \n",
       "Order type C                                         0.718195   \n",
       "Fiscal sector orders                                -0.054635   \n",
       "Orders from the traffic controller sector            0.240450   \n",
       "Banking orders (1)                                   0.262905   \n",
       "Banking orders (2)                                   1.000000   \n",
       "Banking orders (3)                                  -0.108797   \n",
       "Target (Total orders)                                0.798443   \n",
       "\n",
       "                                           Banking orders (3)  \\\n",
       "Non-urgent order                                     0.133319   \n",
       "Urgent order                                         0.030692   \n",
       "Order type A                                         0.231485   \n",
       "Order type B                                         0.066405   \n",
       "Order type C                                         0.031789   \n",
       "Fiscal sector orders                                 0.294374   \n",
       "Orders from the traffic controller sector            0.231614   \n",
       "Banking orders (1)                                   0.221335   \n",
       "Banking orders (2)                                  -0.108797   \n",
       "Banking orders (3)                                   1.000000   \n",
       "Target (Total orders)                                0.100800   \n",
       "\n",
       "                                           Target (Total orders)  \n",
       "Non-urgent order                                        0.934594  \n",
       "Urgent order                                            0.730323  \n",
       "Order type A                                            0.558167  \n",
       "Order type B                                            0.900876  \n",
       "Order type C                                            0.806015  \n",
       "Fiscal sector orders                                   -0.051618  \n",
       "Orders from the traffic controller sector               0.244684  \n",
       "Banking orders (1)                                      0.630360  \n",
       "Banking orders (2)                                      0.798443  \n",
       "Banking orders (3)                                      0.100800  \n",
       "Target (Total orders)                                   1.000000  "
      ]
     },
     "execution_count": 27,
     "metadata": {},
     "output_type": "execute_result"
    }
   ],
   "source": [
    "# calculate the correlation between numerical variables.\n",
    "df.corr()"
   ]
  },
  {
   "cell_type": "markdown",
   "metadata": {},
   "source": [
    "If you see the last row, you can find the correlation between individual variables and Total orders. \n",
    "The closer the value is to 1 is the stronger positive linear correlation.\n",
    "The closer the value is to -1 is the stronger negative linear correlation.\n",
    "The closer the value is to 0 the less correlation exists."
   ]
  },
  {
   "cell_type": "markdown",
   "metadata": {},
   "source": [
    "### Non-Urgent order VS Total Order"
   ]
  },
  {
   "cell_type": "code",
   "execution_count": 28,
   "metadata": {},
   "outputs": [
    {
     "data": {
      "text/plain": [
       "(0, 677.001603807337)"
      ]
     },
     "execution_count": 28,
     "metadata": {},
     "output_type": "execute_result"
    },
    {
     "data": {
      "image/png": "[encoded data removed]",
      "text/plain": [
       "<Figure size 432x288 with 1 Axes>"
      ]
     },
     "metadata": {
      "needs_background": "light"
     },
     "output_type": "display_data"
    }
   ],
   "source": [
    "sns.regplot(x='Non-urgent order', y='Target (Total orders)', data=df)\n",
    "plt.ylim(0,)"
   ]
  },
  {
   "cell_type": "markdown",
   "metadata": {},
   "source": [
    "As the non-urgent order goes up, the total order goes up: This indicates a positive linear relationship between two variables. Non-urgent order could potentially be a predictor of total order. \n",
    "\n",
    "Let's examine the correlation between 'Non-urgent order' and 'Total order' and see it's approximately 0.934594."
   ]
  },
  {
   "cell_type": "code",
   "execution_count": 29,
   "metadata": {},
   "outputs": [
    {
     "data": {
      "text/html": [
       "<div>\n",
       "<style scoped>\n",
       "    .dataframe tbody tr th:only-of-type {\n",
       "        vertical-align: middle;\n",
       "    }\n",
       "\n",
       "    .dataframe tbody tr th {\n",
       "        vertical-align: top;\n",
       "    }\n",
       "\n",
       "    .dataframe thead th {\n",
       "        text-align: right;\n",
       "    }\n",
       "</style>\n",
       "<table border=\"1\" class=\"dataframe\">\n",
       "  <thead>\n",
       "    <tr style=\"text-align: right;\">\n",
       "      <th></th>\n",
       "      <th>Non-urgent order</th>\n",
       "      <th>Target (Total orders)</th>\n",
       "    </tr>\n",
       "  </thead>\n",
       "  <tbody>\n",
       "    <tr>\n",
       "      <th>Non-urgent order</th>\n",
       "      <td>1.000000</td>\n",
       "      <td>0.934594</td>\n",
       "    </tr>\n",
       "    <tr>\n",
       "      <th>Target (Total orders)</th>\n",
       "      <td>0.934594</td>\n",
       "      <td>1.000000</td>\n",
       "    </tr>\n",
       "  </tbody>\n",
       "</table>\n",
       "</div>"
      ],
      "text/plain": [
       "                       Non-urgent order  Target (Total orders)\n",
       "Non-urgent order               1.000000               0.934594\n",
       "Target (Total orders)          0.934594               1.000000"
      ]
     },
     "execution_count": 29,
     "metadata": {},
     "output_type": "execute_result"
    }
   ],
   "source": [
    "df[['Non-urgent order','Target (Total orders)']].corr()"
   ]
  },
  {
   "cell_type": "markdown",
   "metadata": {},
   "source": [
    "### Fiscal sector orders VS Total order"
   ]
  },
  {
   "cell_type": "code",
   "execution_count": 30,
   "metadata": {},
   "outputs": [
    {
     "data": {
      "text/plain": [
       "(0, 640.3666942604857)"
      ]
     },
     "execution_count": 30,
     "metadata": {},
     "output_type": "execute_result"
    },
    {
     "data": {
      "image/png": "[encoded data removed]",
      "text/plain": [
       "<Figure size 432x288 with 1 Axes>"
      ]
     },
     "metadata": {
      "needs_background": "light"
     },
     "output_type": "display_data"
    }
   ],
   "source": [
    "sns.regplot(x='Fiscal sector orders', y='Target (Total orders)',data=df)\n",
    "plt.ylim(0,)"
   ]
  },
  {
   "cell_type": "markdown",
   "metadata": {},
   "source": [
    "Fiscal sector orders doesn't seems like a good predictor of Total order at all since the regression line is closed to horizontal. Also, the data points are very scattered and far from the fitted line, showing a lot of variability. Therefore, it's not a reliable variable.\n",
    "\n",
    "Let's examamine the correlation between 'fiscal sector orders' and 'total order' and see it's approximately -0.051618."
   ]
  },
  {
   "cell_type": "code",
   "execution_count": 31,
   "metadata": {},
   "outputs": [
    {
     "data": {
      "text/html": [
       "<div>\n",
       "<style scoped>\n",
       "    .dataframe tbody tr th:only-of-type {\n",
       "        vertical-align: middle;\n",
       "    }\n",
       "\n",
       "    .dataframe tbody tr th {\n",
       "        vertical-align: top;\n",
       "    }\n",
       "\n",
       "    .dataframe thead th {\n",
       "        text-align: right;\n",
       "    }\n",
       "</style>\n",
       "<table border=\"1\" class=\"dataframe\">\n",
       "  <thead>\n",
       "    <tr style=\"text-align: right;\">\n",
       "      <th></th>\n",
       "      <th>Fiscal sector orders</th>\n",
       "      <th>Target (Total orders)</th>\n",
       "    </tr>\n",
       "  </thead>\n",
       "  <tbody>\n",
       "    <tr>\n",
       "      <th>Fiscal sector orders</th>\n",
       "      <td>1.000000</td>\n",
       "      <td>-0.051618</td>\n",
       "    </tr>\n",
       "    <tr>\n",
       "      <th>Target (Total orders)</th>\n",
       "      <td>-0.051618</td>\n",
       "      <td>1.000000</td>\n",
       "    </tr>\n",
       "  </tbody>\n",
       "</table>\n",
       "</div>"
      ],
      "text/plain": [
       "                       Fiscal sector orders  Target (Total orders)\n",
       "Fiscal sector orders               1.000000              -0.051618\n",
       "Target (Total orders)             -0.051618               1.000000"
      ]
     },
     "execution_count": 31,
     "metadata": {},
     "output_type": "execute_result"
    }
   ],
   "source": [
    "df[['Fiscal sector orders','Target (Total orders)']].corr()"
   ]
  },
  {
   "cell_type": "markdown",
   "metadata": {},
   "source": [
    "### Week of the Month VS Total Order"
   ]
  },
  {
   "cell_type": "code",
   "execution_count": 32,
   "metadata": {},
   "outputs": [
    {
     "data": {
      "text/plain": [
       "<matplotlib.axes._subplots.AxesSubplot at 0x1a1e3eb9d0>"
      ]
     },
     "execution_count": 32,
     "metadata": {},
     "output_type": "execute_result"
    },
    {
     "data": {
      "image/png": "[encoded data removed]",
      "text/plain": [
       "<Figure size 432x288 with 1 Axes>"
      ]
     },
     "metadata": {
      "needs_background": "light"
     },
     "output_type": "display_data"
    }
   ],
   "source": [
    "# using boxplot, see the rationship between 'week of the month' and 'total order'\n",
    "sns.boxplot(x='Week of the month', y='Target (Total orders)', data=df)"
   ]
  },
  {
   "cell_type": "markdown",
   "metadata": {},
   "source": [
    "Here we can see that the distribution of the total order between each weeks have a significant overlap. Therefore, week of month would not be a good predictor of total order. "
   ]
  },
  {
   "cell_type": "markdown",
   "metadata": {},
   "source": [
    "### Day of the week VS Total Order"
   ]
  },
  {
   "cell_type": "code",
   "execution_count": 33,
   "metadata": {},
   "outputs": [
    {
     "data": {
      "text/plain": [
       "<matplotlib.axes._subplots.AxesSubplot at 0x11bc3b510>"
      ]
     },
     "execution_count": 33,
     "metadata": {},
     "output_type": "execute_result"
    },
    {
     "data": {
      "image/png": "[encoded data removed]",
      "text/plain": [
       "<Figure size 432x288 with 1 Axes>"
      ]
     },
     "metadata": {
      "needs_background": "light"
     },
     "output_type": "display_data"
    }
   ],
   "source": [
    "sns.boxplot(x='Day of the week', y='Target (Total orders)', data=df)"
   ]
  },
  {
   "cell_type": "markdown",
   "metadata": {},
   "source": [
    "Here we can see that the distributions of total order between Monday category and the other days of week are distinct enough to take 'day of the week' as a potential good predictor of total order. "
   ]
  },
  {
   "cell_type": "markdown",
   "metadata": {},
   "source": [
    "### Week of the month, Day of the week VS Total order"
   ]
  },
  {
   "cell_type": "code",
   "execution_count": 34,
   "metadata": {},
   "outputs": [],
   "source": [
    "# pick out the relevant columns.\n",
    "df_gr=df[['Week of the month','Day of the week','Target (Total orders)']]"
   ]
  },
  {
   "cell_type": "code",
   "execution_count": 35,
   "metadata": {},
   "outputs": [
    {
     "data": {
      "text/html": [
       "<div>\n",
       "<style scoped>\n",
       "    .dataframe tbody tr th:only-of-type {\n",
       "        vertical-align: middle;\n",
       "    }\n",
       "\n",
       "    .dataframe tbody tr th {\n",
       "        vertical-align: top;\n",
       "    }\n",
       "\n",
       "    .dataframe thead th {\n",
       "        text-align: right;\n",
       "    }\n",
       "</style>\n",
       "<table border=\"1\" class=\"dataframe\">\n",
       "  <thead>\n",
       "    <tr style=\"text-align: right;\">\n",
       "      <th></th>\n",
       "      <th>Week of the month</th>\n",
       "      <th>Day of the week</th>\n",
       "      <th>Target (Total orders)</th>\n",
       "    </tr>\n",
       "  </thead>\n",
       "  <tbody>\n",
       "    <tr>\n",
       "      <th>0</th>\n",
       "      <td>1st week</td>\n",
       "      <td>Fri</td>\n",
       "      <td>280.666667</td>\n",
       "    </tr>\n",
       "    <tr>\n",
       "      <th>1</th>\n",
       "      <td>1st week</td>\n",
       "      <td>Thu</td>\n",
       "      <td>230.000000</td>\n",
       "    </tr>\n",
       "    <tr>\n",
       "      <th>2</th>\n",
       "      <td>1st week</td>\n",
       "      <td>Tue</td>\n",
       "      <td>298.000000</td>\n",
       "    </tr>\n",
       "    <tr>\n",
       "      <th>3</th>\n",
       "      <td>1st week</td>\n",
       "      <td>Wed</td>\n",
       "      <td>384.000000</td>\n",
       "    </tr>\n",
       "    <tr>\n",
       "      <th>4</th>\n",
       "      <td>2nd week</td>\n",
       "      <td>Fri</td>\n",
       "      <td>240.000000</td>\n",
       "    </tr>\n",
       "    <tr>\n",
       "      <th>5</th>\n",
       "      <td>2nd week</td>\n",
       "      <td>Mon</td>\n",
       "      <td>380.333333</td>\n",
       "    </tr>\n",
       "    <tr>\n",
       "      <th>6</th>\n",
       "      <td>2nd week</td>\n",
       "      <td>Thu</td>\n",
       "      <td>244.000000</td>\n",
       "    </tr>\n",
       "    <tr>\n",
       "      <th>7</th>\n",
       "      <td>2nd week</td>\n",
       "      <td>Tue</td>\n",
       "      <td>236.333333</td>\n",
       "    </tr>\n",
       "    <tr>\n",
       "      <th>8</th>\n",
       "      <td>2nd week</td>\n",
       "      <td>Wed</td>\n",
       "      <td>226.333333</td>\n",
       "    </tr>\n",
       "    <tr>\n",
       "      <th>9</th>\n",
       "      <td>3rd week</td>\n",
       "      <td>Fri</td>\n",
       "      <td>281.500000</td>\n",
       "    </tr>\n",
       "    <tr>\n",
       "      <th>10</th>\n",
       "      <td>3rd week</td>\n",
       "      <td>Mon</td>\n",
       "      <td>397.000000</td>\n",
       "    </tr>\n",
       "    <tr>\n",
       "      <th>11</th>\n",
       "      <td>3rd week</td>\n",
       "      <td>Thu</td>\n",
       "      <td>322.666667</td>\n",
       "    </tr>\n",
       "    <tr>\n",
       "      <th>12</th>\n",
       "      <td>3rd week</td>\n",
       "      <td>Tue</td>\n",
       "      <td>265.333333</td>\n",
       "    </tr>\n",
       "    <tr>\n",
       "      <th>13</th>\n",
       "      <td>3rd week</td>\n",
       "      <td>Wed</td>\n",
       "      <td>274.333333</td>\n",
       "    </tr>\n",
       "    <tr>\n",
       "      <th>14</th>\n",
       "      <td>4th week</td>\n",
       "      <td>Fri</td>\n",
       "      <td>233.000000</td>\n",
       "    </tr>\n",
       "    <tr>\n",
       "      <th>15</th>\n",
       "      <td>4th week</td>\n",
       "      <td>Mon</td>\n",
       "      <td>352.500000</td>\n",
       "    </tr>\n",
       "    <tr>\n",
       "      <th>16</th>\n",
       "      <td>4th week</td>\n",
       "      <td>Thu</td>\n",
       "      <td>272.333333</td>\n",
       "    </tr>\n",
       "    <tr>\n",
       "      <th>17</th>\n",
       "      <td>4th week</td>\n",
       "      <td>Tue</td>\n",
       "      <td>406.666667</td>\n",
       "    </tr>\n",
       "    <tr>\n",
       "      <th>18</th>\n",
       "      <td>4th week</td>\n",
       "      <td>Wed</td>\n",
       "      <td>260.000000</td>\n",
       "    </tr>\n",
       "    <tr>\n",
       "      <th>19</th>\n",
       "      <td>5th week</td>\n",
       "      <td>Fri</td>\n",
       "      <td>331.000000</td>\n",
       "    </tr>\n",
       "    <tr>\n",
       "      <th>20</th>\n",
       "      <td>5th week</td>\n",
       "      <td>Mon</td>\n",
       "      <td>416.666667</td>\n",
       "    </tr>\n",
       "    <tr>\n",
       "      <th>21</th>\n",
       "      <td>5th week</td>\n",
       "      <td>Thu</td>\n",
       "      <td>304.000000</td>\n",
       "    </tr>\n",
       "    <tr>\n",
       "      <th>22</th>\n",
       "      <td>5th week</td>\n",
       "      <td>Tue</td>\n",
       "      <td>309.500000</td>\n",
       "    </tr>\n",
       "    <tr>\n",
       "      <th>23</th>\n",
       "      <td>5th week</td>\n",
       "      <td>Wed</td>\n",
       "      <td>304.500000</td>\n",
       "    </tr>\n",
       "  </tbody>\n",
       "</table>\n",
       "</div>"
      ],
      "text/plain": [
       "   Week of the month Day of the week  Target (Total orders)\n",
       "0           1st week             Fri             280.666667\n",
       "1           1st week             Thu             230.000000\n",
       "2           1st week             Tue             298.000000\n",
       "3           1st week             Wed             384.000000\n",
       "4           2nd week             Fri             240.000000\n",
       "5           2nd week             Mon             380.333333\n",
       "6           2nd week             Thu             244.000000\n",
       "7           2nd week             Tue             236.333333\n",
       "8           2nd week             Wed             226.333333\n",
       "9           3rd week             Fri             281.500000\n",
       "10          3rd week             Mon             397.000000\n",
       "11          3rd week             Thu             322.666667\n",
       "12          3rd week             Tue             265.333333\n",
       "13          3rd week             Wed             274.333333\n",
       "14          4th week             Fri             233.000000\n",
       "15          4th week             Mon             352.500000\n",
       "16          4th week             Thu             272.333333\n",
       "17          4th week             Tue             406.666667\n",
       "18          4th week             Wed             260.000000\n",
       "19          5th week             Fri             331.000000\n",
       "20          5th week             Mon             416.666667\n",
       "21          5th week             Thu             304.000000\n",
       "22          5th week             Tue             309.500000\n",
       "23          5th week             Wed             304.500000"
      ]
     },
     "execution_count": 35,
     "metadata": {},
     "output_type": "execute_result"
    }
   ],
   "source": [
    "# group the total order by two variables\n",
    "df_gr=df_gr.groupby(['Week of the month','Day of the week'], as_index=False).mean()\n",
    "df_gr"
   ]
  },
  {
   "cell_type": "code",
   "execution_count": 36,
   "metadata": {},
   "outputs": [
    {
     "data": {
      "text/html": [
       "<div>\n",
       "<style scoped>\n",
       "    .dataframe tbody tr th:only-of-type {\n",
       "        vertical-align: middle;\n",
       "    }\n",
       "\n",
       "    .dataframe tbody tr th {\n",
       "        vertical-align: top;\n",
       "    }\n",
       "\n",
       "    .dataframe thead tr th {\n",
       "        text-align: left;\n",
       "    }\n",
       "\n",
       "    .dataframe thead tr:last-of-type th {\n",
       "        text-align: right;\n",
       "    }\n",
       "</style>\n",
       "<table border=\"1\" class=\"dataframe\">\n",
       "  <thead>\n",
       "    <tr>\n",
       "      <th></th>\n",
       "      <th colspan=\"5\" halign=\"left\">Target (Total orders)</th>\n",
       "    </tr>\n",
       "    <tr>\n",
       "      <th>Day of the week</th>\n",
       "      <th>Fri</th>\n",
       "      <th>Mon</th>\n",
       "      <th>Thu</th>\n",
       "      <th>Tue</th>\n",
       "      <th>Wed</th>\n",
       "    </tr>\n",
       "    <tr>\n",
       "      <th>Week of the month</th>\n",
       "      <th></th>\n",
       "      <th></th>\n",
       "      <th></th>\n",
       "      <th></th>\n",
       "      <th></th>\n",
       "    </tr>\n",
       "  </thead>\n",
       "  <tbody>\n",
       "    <tr>\n",
       "      <th>1st week</th>\n",
       "      <td>280.666667</td>\n",
       "      <td>NaN</td>\n",
       "      <td>230.000000</td>\n",
       "      <td>298.000000</td>\n",
       "      <td>384.000000</td>\n",
       "    </tr>\n",
       "    <tr>\n",
       "      <th>2nd week</th>\n",
       "      <td>240.000000</td>\n",
       "      <td>380.333333</td>\n",
       "      <td>244.000000</td>\n",
       "      <td>236.333333</td>\n",
       "      <td>226.333333</td>\n",
       "    </tr>\n",
       "    <tr>\n",
       "      <th>3rd week</th>\n",
       "      <td>281.500000</td>\n",
       "      <td>397.000000</td>\n",
       "      <td>322.666667</td>\n",
       "      <td>265.333333</td>\n",
       "      <td>274.333333</td>\n",
       "    </tr>\n",
       "    <tr>\n",
       "      <th>4th week</th>\n",
       "      <td>233.000000</td>\n",
       "      <td>352.500000</td>\n",
       "      <td>272.333333</td>\n",
       "      <td>406.666667</td>\n",
       "      <td>260.000000</td>\n",
       "    </tr>\n",
       "    <tr>\n",
       "      <th>5th week</th>\n",
       "      <td>331.000000</td>\n",
       "      <td>416.666667</td>\n",
       "      <td>304.000000</td>\n",
       "      <td>309.500000</td>\n",
       "      <td>304.500000</td>\n",
       "    </tr>\n",
       "  </tbody>\n",
       "</table>\n",
       "</div>"
      ],
      "text/plain": [
       "                  Target (Total orders)                                      \\\n",
       "Day of the week                     Fri         Mon         Thu         Tue   \n",
       "Week of the month                                                             \n",
       "1st week                     280.666667         NaN  230.000000  298.000000   \n",
       "2nd week                     240.000000  380.333333  244.000000  236.333333   \n",
       "3rd week                     281.500000  397.000000  322.666667  265.333333   \n",
       "4th week                     233.000000  352.500000  272.333333  406.666667   \n",
       "5th week                     331.000000  416.666667  304.000000  309.500000   \n",
       "\n",
       "                               \n",
       "Day of the week           Wed  \n",
       "Week of the month              \n",
       "1st week           384.000000  \n",
       "2nd week           226.333333  \n",
       "3rd week           274.333333  \n",
       "4th week           260.000000  \n",
       "5th week           304.500000  "
      ]
     },
     "execution_count": 36,
     "metadata": {},
     "output_type": "execute_result"
    }
   ],
   "source": [
    "# convert table into pivot\n",
    "df_gr_pivot=df_gr.pivot(index='Week of the month', columns='Day of the week')\n",
    "df_gr_pivot"
   ]
  },
  {
   "cell_type": "code",
   "execution_count": 37,
   "metadata": {},
   "outputs": [
    {
     "data": {
      "text/html": [
       "<div>\n",
       "<style scoped>\n",
       "    .dataframe tbody tr th:only-of-type {\n",
       "        vertical-align: middle;\n",
       "    }\n",
       "\n",
       "    .dataframe tbody tr th {\n",
       "        vertical-align: top;\n",
       "    }\n",
       "\n",
       "    .dataframe thead tr th {\n",
       "        text-align: left;\n",
       "    }\n",
       "\n",
       "    .dataframe thead tr:last-of-type th {\n",
       "        text-align: right;\n",
       "    }\n",
       "</style>\n",
       "<table border=\"1\" class=\"dataframe\">\n",
       "  <thead>\n",
       "    <tr>\n",
       "      <th></th>\n",
       "      <th colspan=\"5\" halign=\"left\">Target (Total orders)</th>\n",
       "    </tr>\n",
       "    <tr>\n",
       "      <th>Day of the week</th>\n",
       "      <th>Fri</th>\n",
       "      <th>Mon</th>\n",
       "      <th>Thu</th>\n",
       "      <th>Tue</th>\n",
       "      <th>Wed</th>\n",
       "    </tr>\n",
       "    <tr>\n",
       "      <th>Week of the month</th>\n",
       "      <th></th>\n",
       "      <th></th>\n",
       "      <th></th>\n",
       "      <th></th>\n",
       "      <th></th>\n",
       "    </tr>\n",
       "  </thead>\n",
       "  <tbody>\n",
       "    <tr>\n",
       "      <th>1st week</th>\n",
       "      <td>280.666667</td>\n",
       "      <td>0.000000</td>\n",
       "      <td>230.000000</td>\n",
       "      <td>298.000000</td>\n",
       "      <td>384.000000</td>\n",
       "    </tr>\n",
       "    <tr>\n",
       "      <th>2nd week</th>\n",
       "      <td>240.000000</td>\n",
       "      <td>380.333333</td>\n",
       "      <td>244.000000</td>\n",
       "      <td>236.333333</td>\n",
       "      <td>226.333333</td>\n",
       "    </tr>\n",
       "    <tr>\n",
       "      <th>3rd week</th>\n",
       "      <td>281.500000</td>\n",
       "      <td>397.000000</td>\n",
       "      <td>322.666667</td>\n",
       "      <td>265.333333</td>\n",
       "      <td>274.333333</td>\n",
       "    </tr>\n",
       "    <tr>\n",
       "      <th>4th week</th>\n",
       "      <td>233.000000</td>\n",
       "      <td>352.500000</td>\n",
       "      <td>272.333333</td>\n",
       "      <td>406.666667</td>\n",
       "      <td>260.000000</td>\n",
       "    </tr>\n",
       "    <tr>\n",
       "      <th>5th week</th>\n",
       "      <td>331.000000</td>\n",
       "      <td>416.666667</td>\n",
       "      <td>304.000000</td>\n",
       "      <td>309.500000</td>\n",
       "      <td>304.500000</td>\n",
       "    </tr>\n",
       "  </tbody>\n",
       "</table>\n",
       "</div>"
      ],
      "text/plain": [
       "                  Target (Total orders)                                      \\\n",
       "Day of the week                     Fri         Mon         Thu         Tue   \n",
       "Week of the month                                                             \n",
       "1st week                     280.666667    0.000000  230.000000  298.000000   \n",
       "2nd week                     240.000000  380.333333  244.000000  236.333333   \n",
       "3rd week                     281.500000  397.000000  322.666667  265.333333   \n",
       "4th week                     233.000000  352.500000  272.333333  406.666667   \n",
       "5th week                     331.000000  416.666667  304.000000  309.500000   \n",
       "\n",
       "                               \n",
       "Day of the week           Wed  \n",
       "Week of the month              \n",
       "1st week           384.000000  \n",
       "2nd week           226.333333  \n",
       "3rd week           274.333333  \n",
       "4th week           260.000000  \n",
       "5th week           304.500000  "
      ]
     },
     "execution_count": 37,
     "metadata": {},
     "output_type": "execute_result"
    }
   ],
   "source": [
    "# fill the missing value with 0\n",
    "df_gr_pivot=df_gr_pivot.fillna(0)\n",
    "df_gr_pivot"
   ]
  },
  {
   "cell_type": "code",
   "execution_count": 38,
   "metadata": {},
   "outputs": [
    {
     "data": {
      "image/png": "[encoded data removed]",
      "text/plain": [
       "<Figure size 432x288 with 2 Axes>"
      ]
     },
     "metadata": {
      "needs_background": "light"
     },
     "output_type": "display_data"
    }
   ],
   "source": [
    "# visualize the pivot table using heatmap\n",
    "fig, ax = plt.subplots()\n",
    "im = ax.pcolor(df_gr_pivot, cmap='RdBu')\n",
    "\n",
    "#label names\n",
    "row_labels = df_gr_pivot.columns.levels[1]\n",
    "col_labels = df_gr_pivot.index\n",
    "\n",
    "#move ticks and labels to the center\n",
    "ax.set_xticks(np.arange(df_gr_pivot.shape[1]) + 0.5, minor=False)\n",
    "ax.set_yticks(np.arange(df_gr_pivot.shape[0]) + 0.5, minor=False)\n",
    "\n",
    "#insert labels\n",
    "ax.set_xticklabels(row_labels, minor=False)\n",
    "ax.set_yticklabels(col_labels, minor=False)\n",
    "\n",
    "fig.colorbar(im)\n",
    "plt.show()"
   ]
  },
  {
   "cell_type": "markdown",
   "metadata": {},
   "source": [
    "## 2. Correlation and its statistical siginificance\n",
    "\n",
    "Using pearson coefficient and p-value, we will see correlaitons between variables and total order and how much each correlations is statistically significant."
   ]
  },
  {
   "cell_type": "code",
   "execution_count": 39,
   "metadata": {},
   "outputs": [],
   "source": [
    "from scipy import stats"
   ]
  },
  {
   "cell_type": "code",
   "execution_count": 40,
   "metadata": {},
   "outputs": [
    {
     "data": {
      "text/html": [
       "<div>\n",
       "<style scoped>\n",
       "    .dataframe tbody tr th:only-of-type {\n",
       "        vertical-align: middle;\n",
       "    }\n",
       "\n",
       "    .dataframe tbody tr th {\n",
       "        vertical-align: top;\n",
       "    }\n",
       "\n",
       "    .dataframe thead th {\n",
       "        text-align: right;\n",
       "    }\n",
       "</style>\n",
       "<table border=\"1\" class=\"dataframe\">\n",
       "  <thead>\n",
       "    <tr style=\"text-align: right;\">\n",
       "      <th></th>\n",
       "      <th>Non-urgent order</th>\n",
       "      <th>Urgent order</th>\n",
       "      <th>Order type A</th>\n",
       "      <th>Order type B</th>\n",
       "      <th>Order type C</th>\n",
       "      <th>Fiscal sector orders</th>\n",
       "      <th>Orders from the traffic controller sector</th>\n",
       "      <th>Banking orders (1)</th>\n",
       "      <th>Banking orders (2)</th>\n",
       "      <th>Banking orders (3)</th>\n",
       "      <th>Target (Total orders)</th>\n",
       "    </tr>\n",
       "  </thead>\n",
       "  <tbody>\n",
       "    <tr>\n",
       "      <th>Non-urgent order</th>\n",
       "      <td>1.000000</td>\n",
       "      <td>0.566256</td>\n",
       "      <td>0.561583</td>\n",
       "      <td>0.827319</td>\n",
       "      <td>0.753066</td>\n",
       "      <td>-0.056234</td>\n",
       "      <td>0.246281</td>\n",
       "      <td>0.732638</td>\n",
       "      <td>0.788130</td>\n",
       "      <td>0.133319</td>\n",
       "      <td>0.934594</td>\n",
       "    </tr>\n",
       "    <tr>\n",
       "      <th>Urgent order</th>\n",
       "      <td>0.566256</td>\n",
       "      <td>1.000000</td>\n",
       "      <td>0.414365</td>\n",
       "      <td>0.509321</td>\n",
       "      <td>0.768196</td>\n",
       "      <td>-0.011328</td>\n",
       "      <td>0.242572</td>\n",
       "      <td>0.231462</td>\n",
       "      <td>0.662392</td>\n",
       "      <td>0.030692</td>\n",
       "      <td>0.730323</td>\n",
       "    </tr>\n",
       "    <tr>\n",
       "      <th>Order type A</th>\n",
       "      <td>0.561583</td>\n",
       "      <td>0.414365</td>\n",
       "      <td>1.000000</td>\n",
       "      <td>0.439342</td>\n",
       "      <td>0.217525</td>\n",
       "      <td>0.066033</td>\n",
       "      <td>-0.154998</td>\n",
       "      <td>0.675464</td>\n",
       "      <td>0.295863</td>\n",
       "      <td>0.231485</td>\n",
       "      <td>0.558167</td>\n",
       "    </tr>\n",
       "    <tr>\n",
       "      <th>Order type B</th>\n",
       "      <td>0.827319</td>\n",
       "      <td>0.509321</td>\n",
       "      <td>0.439342</td>\n",
       "      <td>1.000000</td>\n",
       "      <td>0.524800</td>\n",
       "      <td>-0.122272</td>\n",
       "      <td>0.127188</td>\n",
       "      <td>0.593079</td>\n",
       "      <td>0.714208</td>\n",
       "      <td>0.066405</td>\n",
       "      <td>0.900876</td>\n",
       "    </tr>\n",
       "    <tr>\n",
       "      <th>Order type C</th>\n",
       "      <td>0.753066</td>\n",
       "      <td>0.768196</td>\n",
       "      <td>0.217525</td>\n",
       "      <td>0.524800</td>\n",
       "      <td>1.000000</td>\n",
       "      <td>0.007425</td>\n",
       "      <td>0.441532</td>\n",
       "      <td>0.331272</td>\n",
       "      <td>0.718195</td>\n",
       "      <td>0.031789</td>\n",
       "      <td>0.806015</td>\n",
       "    </tr>\n",
       "    <tr>\n",
       "      <th>Fiscal sector orders</th>\n",
       "      <td>-0.056234</td>\n",
       "      <td>-0.011328</td>\n",
       "      <td>0.066033</td>\n",
       "      <td>-0.122272</td>\n",
       "      <td>0.007425</td>\n",
       "      <td>1.000000</td>\n",
       "      <td>0.197799</td>\n",
       "      <td>0.003814</td>\n",
       "      <td>-0.054635</td>\n",
       "      <td>0.294374</td>\n",
       "      <td>-0.051618</td>\n",
       "    </tr>\n",
       "    <tr>\n",
       "      <th>Orders from the traffic controller sector</th>\n",
       "      <td>0.246281</td>\n",
       "      <td>0.242572</td>\n",
       "      <td>-0.154998</td>\n",
       "      <td>0.127188</td>\n",
       "      <td>0.441532</td>\n",
       "      <td>0.197799</td>\n",
       "      <td>1.000000</td>\n",
       "      <td>-0.162309</td>\n",
       "      <td>0.240450</td>\n",
       "      <td>0.231614</td>\n",
       "      <td>0.244684</td>\n",
       "    </tr>\n",
       "    <tr>\n",
       "      <th>Banking orders (1)</th>\n",
       "      <td>0.732638</td>\n",
       "      <td>0.231462</td>\n",
       "      <td>0.675464</td>\n",
       "      <td>0.593079</td>\n",
       "      <td>0.331272</td>\n",
       "      <td>0.003814</td>\n",
       "      <td>-0.162309</td>\n",
       "      <td>1.000000</td>\n",
       "      <td>0.262905</td>\n",
       "      <td>0.221335</td>\n",
       "      <td>0.630360</td>\n",
       "    </tr>\n",
       "    <tr>\n",
       "      <th>Banking orders (2)</th>\n",
       "      <td>0.788130</td>\n",
       "      <td>0.662392</td>\n",
       "      <td>0.295863</td>\n",
       "      <td>0.714208</td>\n",
       "      <td>0.718195</td>\n",
       "      <td>-0.054635</td>\n",
       "      <td>0.240450</td>\n",
       "      <td>0.262905</td>\n",
       "      <td>1.000000</td>\n",
       "      <td>-0.108797</td>\n",
       "      <td>0.798443</td>\n",
       "    </tr>\n",
       "    <tr>\n",
       "      <th>Banking orders (3)</th>\n",
       "      <td>0.133319</td>\n",
       "      <td>0.030692</td>\n",
       "      <td>0.231485</td>\n",
       "      <td>0.066405</td>\n",
       "      <td>0.031789</td>\n",
       "      <td>0.294374</td>\n",
       "      <td>0.231614</td>\n",
       "      <td>0.221335</td>\n",
       "      <td>-0.108797</td>\n",
       "      <td>1.000000</td>\n",
       "      <td>0.100800</td>\n",
       "    </tr>\n",
       "    <tr>\n",
       "      <th>Target (Total orders)</th>\n",
       "      <td>0.934594</td>\n",
       "      <td>0.730323</td>\n",
       "      <td>0.558167</td>\n",
       "      <td>0.900876</td>\n",
       "      <td>0.806015</td>\n",
       "      <td>-0.051618</td>\n",
       "      <td>0.244684</td>\n",
       "      <td>0.630360</td>\n",
       "      <td>0.798443</td>\n",
       "      <td>0.100800</td>\n",
       "      <td>1.000000</td>\n",
       "    </tr>\n",
       "  </tbody>\n",
       "</table>\n",
       "</div>"
      ],
      "text/plain": [
       "                                           Non-urgent order  Urgent order  \\\n",
       "Non-urgent order                                   1.000000      0.566256   \n",
       "Urgent order                                       0.566256      1.000000   \n",
       "Order type A                                       0.561583      0.414365   \n",
       "Order type B                                       0.827319      0.509321   \n",
       "Order type C                                       0.753066      0.768196   \n",
       "Fiscal sector orders                              -0.056234     -0.011328   \n",
       "Orders from the traffic controller sector          0.246281      0.242572   \n",
       "Banking orders (1)                                 0.732638      0.231462   \n",
       "Banking orders (2)                                 0.788130      0.662392   \n",
       "Banking orders (3)                                 0.133319      0.030692   \n",
       "Target (Total orders)                              0.934594      0.730323   \n",
       "\n",
       "                                           Order type A  Order type B  \\\n",
       "Non-urgent order                               0.561583      0.827319   \n",
       "Urgent order                                   0.414365      0.509321   \n",
       "Order type A                                   1.000000      0.439342   \n",
       "Order type B                                   0.439342      1.000000   \n",
       "Order type C                                   0.217525      0.524800   \n",
       "Fiscal sector orders                           0.066033     -0.122272   \n",
       "Orders from the traffic controller sector     -0.154998      0.127188   \n",
       "Banking orders (1)                             0.675464      0.593079   \n",
       "Banking orders (2)                             0.295863      0.714208   \n",
       "Banking orders (3)                             0.231485      0.066405   \n",
       "Target (Total orders)                          0.558167      0.900876   \n",
       "\n",
       "                                           Order type C  Fiscal sector orders  \\\n",
       "Non-urgent order                               0.753066             -0.056234   \n",
       "Urgent order                                   0.768196             -0.011328   \n",
       "Order type A                                   0.217525              0.066033   \n",
       "Order type B                                   0.524800             -0.122272   \n",
       "Order type C                                   1.000000              0.007425   \n",
       "Fiscal sector orders                           0.007425              1.000000   \n",
       "Orders from the traffic controller sector      0.441532              0.197799   \n",
       "Banking orders (1)                             0.331272              0.003814   \n",
       "Banking orders (2)                             0.718195             -0.054635   \n",
       "Banking orders (3)                             0.031789              0.294374   \n",
       "Target (Total orders)                          0.806015             -0.051618   \n",
       "\n",
       "                                           Orders from the traffic controller sector  \\\n",
       "Non-urgent order                                                            0.246281   \n",
       "Urgent order                                                                0.242572   \n",
       "Order type A                                                               -0.154998   \n",
       "Order type B                                                                0.127188   \n",
       "Order type C                                                                0.441532   \n",
       "Fiscal sector orders                                                        0.197799   \n",
       "Orders from the traffic controller sector                                   1.000000   \n",
       "Banking orders (1)                                                         -0.162309   \n",
       "Banking orders (2)                                                          0.240450   \n",
       "Banking orders (3)                                                          0.231614   \n",
       "Target (Total orders)                                                       0.244684   \n",
       "\n",
       "                                           Banking orders (1)  \\\n",
       "Non-urgent order                                     0.732638   \n",
       "Urgent order                                         0.231462   \n",
       "Order type A                                         0.675464   \n",
       "Order type B                                         0.593079   \n",
       "Order type C                                         0.331272   \n",
       "Fiscal sector orders                                 0.003814   \n",
       "Orders from the traffic controller sector           -0.162309   \n",
       "Banking orders (1)                                   1.000000   \n",
       "Banking orders (2)                                   0.262905   \n",
       "Banking orders (3)                                   0.221335   \n",
       "Target (Total orders)                                0.630360   \n",
       "\n",
       "                                           Banking orders (2)  \\\n",
       "Non-urgent order                                     0.788130   \n",
       "Urgent order                                         0.662392   \n",
       "Order type A                                         0.295863   \n",
       "Order type B                                         0.714208   \n",
       "Order type C                                         0.718195   \n",
       "Fiscal sector orders                                -0.054635   \n",
       "Orders from the traffic controller sector            0.240450   \n",
       "Banking orders (1)                                   0.262905   \n",
       "Banking orders (2)                                   1.000000   \n",
       "Banking orders (3)                                  -0.108797   \n",
       "Target (Total orders)                                0.798443   \n",
       "\n",
       "                                           Banking orders (3)  \\\n",
       "Non-urgent order                                     0.133319   \n",
       "Urgent order                                         0.030692   \n",
       "Order type A                                         0.231485   \n",
       "Order type B                                         0.066405   \n",
       "Order type C                                         0.031789   \n",
       "Fiscal sector orders                                 0.294374   \n",
       "Orders from the traffic controller sector            0.231614   \n",
       "Banking orders (1)                                   0.221335   \n",
       "Banking orders (2)                                  -0.108797   \n",
       "Banking orders (3)                                   1.000000   \n",
       "Target (Total orders)                                0.100800   \n",
       "\n",
       "                                           Target (Total orders)  \n",
       "Non-urgent order                                        0.934594  \n",
       "Urgent order                                            0.730323  \n",
       "Order type A                                            0.558167  \n",
       "Order type B                                            0.900876  \n",
       "Order type C                                            0.806015  \n",
       "Fiscal sector orders                                   -0.051618  \n",
       "Orders from the traffic controller sector               0.244684  \n",
       "Banking orders (1)                                      0.630360  \n",
       "Banking orders (2)                                      0.798443  \n",
       "Banking orders (3)                                      0.100800  \n",
       "Target (Total orders)                                   1.000000  "
      ]
     },
     "execution_count": 40,
     "metadata": {},
     "output_type": "execute_result"
    }
   ],
   "source": [
    "df.corr()"
   ]
  },
  {
   "cell_type": "markdown",
   "metadata": {},
   "source": [
    "In the table above, the following features have the moderate to strong linear correlation with total order.\n",
    "- Non-urgent order\n",
    "- Urgent order\n",
    "- Order type A\n",
    "- Order type B\n",
    "- Order type C\n",
    "- Banking orders (1)\n",
    "- Banking orders (2)"
   ]
  },
  {
   "cell_type": "code",
   "execution_count": 41,
   "metadata": {},
   "outputs": [],
   "source": [
    "list=['Non-urgent order', 'Urgent order', 'Order type A','Order type B', 'Order type C','Banking orders (1)','Banking orders (2)']"
   ]
  },
  {
   "cell_type": "code",
   "execution_count": 42,
   "metadata": {},
   "outputs": [],
   "source": [
    "class color:\n",
    "   BOLD = '\\033[1m'\n",
    "   END = '\\033[0m'"
   ]
  },
  {
   "cell_type": "code",
   "execution_count": 43,
   "metadata": {},
   "outputs": [
    {
     "name": "stdout",
     "output_type": "stream",
     "text": [
      "\u001b[1mNon-urgent order VS Total Order\u001b[0m\n",
      "\n",
      "Pearson Correlation Coefficient: 0.9345941964298121 P-value: 1.0248667433179892e-27\n",
      "\n",
      "-The correlation between  Non-urgent order and total order is statistically significant.\n",
      "\n",
      "The linear relationship is very strong.\n",
      "\n",
      "\n",
      "\u001b[1mUrgent order VS Total Order\u001b[0m\n",
      "\n",
      "Pearson Correlation Coefficient: 0.7303228270752169 P-value: 3.539024106818203e-11\n",
      "\n",
      "-The correlation between  Urgent order and total order is statistically significant.\n",
      "\n",
      "The linear relationship is moderately strong.\n",
      "\n",
      "\n",
      "\u001b[1mOrder type A VS Total Order\u001b[0m\n",
      "\n",
      "Pearson Correlation Coefficient: 0.5581665480892053 P-value: 3.5901929664453573e-06\n",
      "\n",
      "-The correlation between  Order type A and total order is statistically significant.\n",
      "\n",
      "The linear relationship is only maderate.\n",
      "\n",
      "\n",
      "\u001b[1mOrder type B VS Total Order\u001b[0m\n",
      "\n",
      "Pearson Correlation Coefficient: 0.9008764088584853 P-value: 1.098550955880378e-22\n",
      "\n",
      "-The correlation between  Order type B and total order is statistically significant.\n",
      "\n",
      "The linear relationship is very strong.\n",
      "\n",
      "\n",
      "\u001b[1mOrder type C VS Total Order\u001b[0m\n",
      "\n",
      "Pearson Correlation Coefficient: 0.8060152137505819 P-value: 7.913558577682134e-15\n",
      "\n",
      "-The correlation between  Order type C and total order is statistically significant.\n",
      "\n",
      "The linear relationship is quite strong.\n",
      "\n",
      "\n",
      "\u001b[1mBanking orders (1) VS Total Order\u001b[0m\n",
      "\n",
      "Pearson Correlation Coefficient: 0.6303595789804504 P-value: 6.764111673330467e-08\n",
      "\n",
      "-The correlation between  Banking orders (1) and total order is statistically significant.\n",
      "\n",
      "The linear relationship is only maderate.\n",
      "\n",
      "\n",
      "\u001b[1mBanking orders (2) VS Total Order\u001b[0m\n",
      "\n",
      "Pearson Correlation Coefficient: 0.7984429703136038 P-value: 2.1459940077847983e-14\n",
      "\n",
      "-The correlation between  Banking orders (2) and total order is statistically significant.\n",
      "\n",
      "The linear relationship is quite strong.\n",
      "\n",
      "\n"
     ]
    }
   ],
   "source": [
    "for a in list:\n",
    "    pearson_coef, p_value=stats.pearsonr(df[a],df['Target (Total orders)'])\n",
    "    print(color.BOLD + a,'VS Total Order' +color.END)\n",
    "    print('')\n",
    "    print('Pearson Correlation Coefficient:', pearson_coef, 'P-value:', p_value)\n",
    "    print('')\n",
    "    if p_value <0.001:\n",
    "        print('-The correlation between ', a, 'and total order is statistically significant.\\n')\n",
    "    elif p_value <0.05:\n",
    "        print('-The correlation between ', a, 'and total order is moderately significant.\\n')\n",
    "    elif p_value <0.1:\n",
    "        print('-The correlation between ', a, 'and total order is weak.\\n')\n",
    "    elif p_value >0.1:\n",
    "        print('-The correlation between ', a, 'and total order is not significant.\\n')\n",
    "    if pearson_coef > 0.85:\n",
    "        print('The linear relationship is very strong.')\n",
    "    elif pearson_coef > 0.75:\n",
    "        print('The linear relationship is quite strong.')\n",
    "    elif pearson_coef > 0.65:\n",
    "        print('The linear relationship is moderately strong.')\n",
    "    elif pearson_coef > 0.55:\n",
    "        print('The linear relationship is only maderate.')\n",
    "    print('')\n",
    "    print('')"
   ]
  },
  {
   "cell_type": "markdown",
   "metadata": {},
   "source": [
    "## 3. ANOVA (Analysis of Variance)\n",
    "\n",
    "Through ANOVA statistical method, I will test whether there are significant differences between the means of total orders between each weeks of month and means of total order beteween each days of the week.  "
   ]
  },
  {
   "cell_type": "markdown",
   "metadata": {},
   "source": [
    "### Week of the month\n",
    "Let's see if different weeks of the month impact total order."
   ]
  },
  {
   "cell_type": "code",
   "execution_count": 44,
   "metadata": {},
   "outputs": [
    {
     "data": {
      "text/html": [
       "<div>\n",
       "<style scoped>\n",
       "    .dataframe tbody tr th:only-of-type {\n",
       "        vertical-align: middle;\n",
       "    }\n",
       "\n",
       "    .dataframe tbody tr th {\n",
       "        vertical-align: top;\n",
       "    }\n",
       "\n",
       "    .dataframe thead th {\n",
       "        text-align: right;\n",
       "    }\n",
       "</style>\n",
       "<table border=\"1\" class=\"dataframe\">\n",
       "  <thead>\n",
       "    <tr style=\"text-align: right;\">\n",
       "      <th></th>\n",
       "      <th>Week of the month</th>\n",
       "      <th>Target (Total orders)</th>\n",
       "    </tr>\n",
       "  </thead>\n",
       "  <tbody>\n",
       "    <tr>\n",
       "      <th>0</th>\n",
       "      <td>1st week</td>\n",
       "      <td>539</td>\n",
       "    </tr>\n",
       "    <tr>\n",
       "      <th>1</th>\n",
       "      <td>1st week</td>\n",
       "      <td>224</td>\n",
       "    </tr>\n",
       "    <tr>\n",
       "      <th>3</th>\n",
       "      <td>2nd week</td>\n",
       "      <td>317</td>\n",
       "    </tr>\n",
       "    <tr>\n",
       "      <th>4</th>\n",
       "      <td>2nd week</td>\n",
       "      <td>210</td>\n",
       "    </tr>\n",
       "    <tr>\n",
       "      <th>8</th>\n",
       "      <td>3rd week</td>\n",
       "      <td>344</td>\n",
       "    </tr>\n",
       "    <tr>\n",
       "      <th>9</th>\n",
       "      <td>3rd week</td>\n",
       "      <td>248</td>\n",
       "    </tr>\n",
       "    <tr>\n",
       "      <th>13</th>\n",
       "      <td>4th week</td>\n",
       "      <td>363</td>\n",
       "    </tr>\n",
       "    <tr>\n",
       "      <th>14</th>\n",
       "      <td>4th week</td>\n",
       "      <td>336</td>\n",
       "    </tr>\n",
       "    <tr>\n",
       "      <th>18</th>\n",
       "      <td>5th week</td>\n",
       "      <td>404</td>\n",
       "    </tr>\n",
       "    <tr>\n",
       "      <th>36</th>\n",
       "      <td>5th week</td>\n",
       "      <td>530</td>\n",
       "    </tr>\n",
       "  </tbody>\n",
       "</table>\n",
       "</div>"
      ],
      "text/plain": [
       "   Week of the month  Target (Total orders)\n",
       "0           1st week                    539\n",
       "1           1st week                    224\n",
       "3           2nd week                    317\n",
       "4           2nd week                    210\n",
       "8           3rd week                    344\n",
       "9           3rd week                    248\n",
       "13          4th week                    363\n",
       "14          4th week                    336\n",
       "18          5th week                    404\n",
       "36          5th week                    530"
      ]
     },
     "execution_count": 44,
     "metadata": {},
     "output_type": "execute_result"
    }
   ],
   "source": [
    "# group the total order by week of the month\n",
    "df_gr2=df[['Week of the month','Target (Total orders)']].groupby(['Week of the month'])\n",
    "df_gr2.head(2)"
   ]
  },
  {
   "cell_type": "code",
   "execution_count": 45,
   "metadata": {},
   "outputs": [
    {
     "name": "stdout",
     "output_type": "stream",
     "text": [
      "ANOVA results F= 1.2173887697871841 P= 0.31399030361075575\n"
     ]
    }
   ],
   "source": [
    "# ANOVA\n",
    "f_val, p_val = stats.f_oneway(df_gr2.get_group('1st week')['Target (Total orders)'],\n",
    "                             df_gr2.get_group('2nd week')['Target (Total orders)'],\n",
    "                             df_gr2.get_group('3rd week')['Target (Total orders)'],\n",
    "                             df_gr2.get_group('4th week')['Target (Total orders)'],\n",
    "                             df_gr2.get_group('5th week')['Target (Total orders)'],)\n",
    "print('ANOVA results F=', f_val, 'P=', p_val)"
   ]
  },
  {
   "cell_type": "markdown",
   "metadata": {},
   "source": [
    "It is not very good result with a small F test score showing a weak correlation and P value of over 0.1 implying no statistical significance."
   ]
  },
  {
   "cell_type": "markdown",
   "metadata": {},
   "source": [
    "### Day of the week\n",
    "\n",
    "Let's see if different days of the week impact total order."
   ]
  },
  {
   "cell_type": "code",
   "execution_count": 46,
   "metadata": {},
   "outputs": [
    {
     "data": {
      "text/html": [
       "<div>\n",
       "<style scoped>\n",
       "    .dataframe tbody tr th:only-of-type {\n",
       "        vertical-align: middle;\n",
       "    }\n",
       "\n",
       "    .dataframe tbody tr th {\n",
       "        vertical-align: top;\n",
       "    }\n",
       "\n",
       "    .dataframe thead th {\n",
       "        text-align: right;\n",
       "    }\n",
       "</style>\n",
       "<table border=\"1\" class=\"dataframe\">\n",
       "  <thead>\n",
       "    <tr style=\"text-align: right;\">\n",
       "      <th></th>\n",
       "      <th>Day of the week</th>\n",
       "      <th>Target (Total orders)</th>\n",
       "    </tr>\n",
       "  </thead>\n",
       "  <tbody>\n",
       "    <tr>\n",
       "      <th>0</th>\n",
       "      <td>Wed</td>\n",
       "      <td>539</td>\n",
       "    </tr>\n",
       "    <tr>\n",
       "      <th>1</th>\n",
       "      <td>Thu</td>\n",
       "      <td>224</td>\n",
       "    </tr>\n",
       "    <tr>\n",
       "      <th>2</th>\n",
       "      <td>Fri</td>\n",
       "      <td>129</td>\n",
       "    </tr>\n",
       "    <tr>\n",
       "      <th>3</th>\n",
       "      <td>Mon</td>\n",
       "      <td>317</td>\n",
       "    </tr>\n",
       "    <tr>\n",
       "      <th>4</th>\n",
       "      <td>Tue</td>\n",
       "      <td>210</td>\n",
       "    </tr>\n",
       "    <tr>\n",
       "      <th>5</th>\n",
       "      <td>Wed</td>\n",
       "      <td>207</td>\n",
       "    </tr>\n",
       "    <tr>\n",
       "      <th>6</th>\n",
       "      <td>Thu</td>\n",
       "      <td>263</td>\n",
       "    </tr>\n",
       "    <tr>\n",
       "      <th>7</th>\n",
       "      <td>Fri</td>\n",
       "      <td>248</td>\n",
       "    </tr>\n",
       "    <tr>\n",
       "      <th>8</th>\n",
       "      <td>Mon</td>\n",
       "      <td>344</td>\n",
       "    </tr>\n",
       "    <tr>\n",
       "      <th>9</th>\n",
       "      <td>Tue</td>\n",
       "      <td>248</td>\n",
       "    </tr>\n",
       "  </tbody>\n",
       "</table>\n",
       "</div>"
      ],
      "text/plain": [
       "  Day of the week  Target (Total orders)\n",
       "0             Wed                    539\n",
       "1             Thu                    224\n",
       "2             Fri                    129\n",
       "3             Mon                    317\n",
       "4             Tue                    210\n",
       "5             Wed                    207\n",
       "6             Thu                    263\n",
       "7             Fri                    248\n",
       "8             Mon                    344\n",
       "9             Tue                    248"
      ]
     },
     "execution_count": 46,
     "metadata": {},
     "output_type": "execute_result"
    }
   ],
   "source": [
    "# group the total order by day of the week\n",
    "df_gr3=df[['Day of the week','Target (Total orders)']].groupby(['Day of the week'])\n",
    "df_gr3.head(2)"
   ]
  },
  {
   "cell_type": "code",
   "execution_count": 47,
   "metadata": {},
   "outputs": [
    {
     "name": "stdout",
     "output_type": "stream",
     "text": [
      "ANOVA results F= 4.576879713532475 P= 0.0029123226062454746\n"
     ]
    }
   ],
   "source": [
    "# ANOVA\n",
    "f_val, p_val = stats.f_oneway(df_gr3.get_group('Mon')['Target (Total orders)'],\n",
    "                             df_gr3.get_group('Tue')['Target (Total orders)'],\n",
    "                             df_gr3.get_group('Wed')['Target (Total orders)'],\n",
    "                             df_gr3.get_group('Thu')['Target (Total orders)'],\n",
    "                             df_gr3.get_group('Fri')['Target (Total orders)'],)\n",
    "print('ANOVA results F=', f_val, 'P=', p_val)"
   ]
  },
  {
   "cell_type": "markdown",
   "metadata": {},
   "source": [
    "It is not very good result neither with a small F test score showing a weak correlation and P value implying moderate statistical significance. However, considering the previous boxplot showing distinct difference in distribution of total order between Monday and the rest day, we will test whether the mean of Monday's total order deviates from the mean of the other days' total order."
   ]
  },
  {
   "cell_type": "markdown",
   "metadata": {},
   "source": [
    "### Monday VS Tuesday"
   ]
  },
  {
   "cell_type": "code",
   "execution_count": 48,
   "metadata": {},
   "outputs": [
    {
     "name": "stdout",
     "output_type": "stream",
     "text": [
      "ANOVA results F= 5.285669168965373 P= 0.03186505052791845\n"
     ]
    }
   ],
   "source": [
    "# ANOVA\n",
    "f_val, p_val = stats.f_oneway(df_gr3.get_group('Mon')['Target (Total orders)'],\n",
    "                             df_gr3.get_group('Tue')['Target (Total orders)'],)\n",
    "print('ANOVA results F=', f_val, 'P=', p_val)"
   ]
  },
  {
   "cell_type": "markdown",
   "metadata": {},
   "source": [
    "### Monday VS Wednesday"
   ]
  },
  {
   "cell_type": "code",
   "execution_count": 49,
   "metadata": {},
   "outputs": [
    {
     "name": "stdout",
     "output_type": "stream",
     "text": [
      "ANOVA results F= 10.708032242269026 P= 0.0034833037555314535\n"
     ]
    }
   ],
   "source": [
    "# ANOVA\n",
    "f_val, p_val = stats.f_oneway(df_gr3.get_group('Mon')['Target (Total orders)'],\n",
    "                             df_gr3.get_group('Wed')['Target (Total orders)'],)\n",
    "print('ANOVA results F=', f_val, 'P=', p_val)"
   ]
  },
  {
   "cell_type": "markdown",
   "metadata": {},
   "source": [
    "### Monday VS Thursday"
   ]
  },
  {
   "cell_type": "code",
   "execution_count": 50,
   "metadata": {},
   "outputs": [
    {
     "name": "stdout",
     "output_type": "stream",
     "text": [
      "ANOVA results F= 19.624644455947426 P= 0.00023241299502083773\n"
     ]
    }
   ],
   "source": [
    "# ANOVA\n",
    "f_val, p_val = stats.f_oneway(df_gr3.get_group('Mon')['Target (Total orders)'],\n",
    "                             df_gr3.get_group('Thu')['Target (Total orders)'],)\n",
    "print('ANOVA results F=', f_val, 'P=', p_val)"
   ]
  },
  {
   "cell_type": "markdown",
   "metadata": {},
   "source": [
    "### Monday VS Friday"
   ]
  },
  {
   "cell_type": "code",
   "execution_count": 51,
   "metadata": {},
   "outputs": [
    {
     "name": "stdout",
     "output_type": "stream",
     "text": [
      "ANOVA results F= 18.94284950970739 P= 0.00027979395525757435\n"
     ]
    }
   ],
   "source": [
    "# ANOVA\n",
    "f_val, p_val = stats.f_oneway(df_gr3.get_group('Mon')['Target (Total orders)'],\n",
    "                             df_gr3.get_group('Fri')['Target (Total orders)'],)\n",
    "print('ANOVA results F=', f_val, 'P=', p_val)"
   ]
  },
  {
   "cell_type": "markdown",
   "metadata": {},
   "source": [
    "According to ANOVA, there is no significant difference between the means of Monday's total order and that of the other days'. "
   ]
  },
  {
   "cell_type": "markdown",
   "metadata": {},
   "source": [
    "## Conclusion: Important Variables"
   ]
  },
  {
   "cell_type": "markdown",
   "metadata": {},
   "source": [
    "The following variables are important to take into account when predicting total order:\n",
    "\n",
    "Continuous numerical variables:\n",
    "- Non-urgent order\n",
    "- Urgent order\n",
    "- Order type A\n",
    "- Order type B\n",
    "- Order type C\n",
    "- Banking orders (1)\n",
    "- Banking orders (2)"
   ]
  }
 ],
 "metadata": {
  "kernelspec": {
   "display_name": "Python 3",
   "language": "python",
   "name": "python3"
  },
  "language_info": {
   "codemirror_mode": {
    "name": "ipython",
    "version": 3
   },
   "file_extension": ".py",
   "mimetype": "text/x-python",
   "name": "python",
   "nbconvert_exporter": "python",
   "pygments_lexer": "ipython3",
   "version": "3.7.6"
  }
 },
 "nbformat": 4,
 "nbformat_minor": 4
}

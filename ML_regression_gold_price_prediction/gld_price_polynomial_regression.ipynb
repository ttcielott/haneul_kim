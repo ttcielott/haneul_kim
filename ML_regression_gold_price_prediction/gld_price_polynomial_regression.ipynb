{
 "cells": [
  {
   "cell_type": "markdown",
   "metadata": {},
   "source": [
    "<h1> Machine Learning: Regression Model</h1>\n",
    "<h2>\"Gold Price Prediction Model\"</h2>"
   ]
  },
  {
   "cell_type": "markdown",
   "metadata": {},
   "source": [
    "<p>\n",
    "    <font size='3'> Gold is perceived as one of the safest investment, so the price of gold mostly increases during economic crisis. Since the latest economic crisis, Covid 19 pandemic, without doubt, the price of gold has also been rising. Considering this circumstance and relationship, I will explore the data to find relevant feature among indicators reflecting Covid trend, and build a regression prediction model that you can predict next day's gold price based on today's number of new cases and new deaths of Covid 19.\n",
    "        <ul>\n",
    "            <li><b>Dataset:</b> the past Gold ETF(<a href src=\"https://en.wikipedia.org/wiki/SPDR_Gold_Shares\">GLD</a>) prices, COVID 19 dataset </li>\n",
    "            <li><b>Prediction Target:</b> the next-day price of gold </li>\n",
    "        </ul>\n",
    "    </font>\n",
    "    <font size='2'>\n",
    "        Gold ETF price data source: <a href scr='https://finance.yahoo.com/quote/GLD/'>Yahoo Finance, SPDR Gold Shares</a>\n",
    "        <br>\n",
    "        COVID 19 data source: <a href scr='https://ourworldindata.org/coronavirus-source-data'>Our World in Data, Coronavirus Source Data</a>\n",
    "    </font>\n",
    "</p>"
   ]
  },
  {
   "cell_type": "code",
   "execution_count": 1,
   "metadata": {},
   "outputs": [],
   "source": [
    "import wget\n",
    "import yfinance as yf\n",
    "import pandas as pd\n",
    "import numpy as np\n",
    "import matplotlib.pyplot as plt\n",
    "%matplotlib inline\n",
    "from sklearn.model_selection import train_test_split\n",
    "from sklearn.linear_model import LinearRegression"
   ]
  },
  {
   "cell_type": "code",
   "execution_count": 2,
   "metadata": {},
   "outputs": [],
   "source": [
    "# load data: covid 19 data\n",
    "covid_df=pd.read_csv('https://raw.githubusercontent.com/owid/covid-19-data/master/public/data/owid-covid-data.csv')"
   ]
  },
  {
   "cell_type": "markdown",
   "metadata": {},
   "source": [
    "## About Dataset\n",
    "\n",
    "This COVID-19 dataset is a collection of the COVID-19 data maintained by [Our World in Data](https://ourworldindata.org/coronavirus-source-data). It is updated daily and includes data on confirmed cases, deaths, hospitalizations, testing, and vaccinations as well as other variables of potential interest.\n",
    "\n",
    "**Column details can be found [here](https://github.com/owid/covid-19-data/blob/master/public/data/owid-covid-codebook.csv)**"
   ]
  },
  {
   "cell_type": "markdown",
   "metadata": {},
   "source": [
    "## 1. Exploratory Data Analysis"
   ]
  },
  {
   "cell_type": "code",
   "execution_count": 3,
   "metadata": {},
   "outputs": [
    {
     "data": {
      "text/html": [
       "<div>\n",
       "<style scoped>\n",
       "    .dataframe tbody tr th:only-of-type {\n",
       "        vertical-align: middle;\n",
       "    }\n",
       "\n",
       "    .dataframe tbody tr th {\n",
       "        vertical-align: top;\n",
       "    }\n",
       "\n",
       "    .dataframe thead th {\n",
       "        text-align: right;\n",
       "    }\n",
       "</style>\n",
       "<table border=\"1\" class=\"dataframe\">\n",
       "  <thead>\n",
       "    <tr style=\"text-align: right;\">\n",
       "      <th></th>\n",
       "      <th>iso_code</th>\n",
       "      <th>continent</th>\n",
       "      <th>location</th>\n",
       "      <th>date</th>\n",
       "      <th>total_cases</th>\n",
       "      <th>new_cases</th>\n",
       "      <th>new_cases_smoothed</th>\n",
       "      <th>total_deaths</th>\n",
       "      <th>new_deaths</th>\n",
       "      <th>new_deaths_smoothed</th>\n",
       "      <th>...</th>\n",
       "      <th>gdp_per_capita</th>\n",
       "      <th>extreme_poverty</th>\n",
       "      <th>cardiovasc_death_rate</th>\n",
       "      <th>diabetes_prevalence</th>\n",
       "      <th>female_smokers</th>\n",
       "      <th>male_smokers</th>\n",
       "      <th>handwashing_facilities</th>\n",
       "      <th>hospital_beds_per_thousand</th>\n",
       "      <th>life_expectancy</th>\n",
       "      <th>human_development_index</th>\n",
       "    </tr>\n",
       "  </thead>\n",
       "  <tbody>\n",
       "    <tr>\n",
       "      <th>71045</th>\n",
       "      <td>ZWE</td>\n",
       "      <td>Africa</td>\n",
       "      <td>Zimbabwe</td>\n",
       "      <td>2021-02-20</td>\n",
       "      <td>35768.0</td>\n",
       "      <td>58.0</td>\n",
       "      <td>94.857</td>\n",
       "      <td>1432.0</td>\n",
       "      <td>2.0</td>\n",
       "      <td>4.857</td>\n",
       "      <td>...</td>\n",
       "      <td>1899.775</td>\n",
       "      <td>21.4</td>\n",
       "      <td>307.846</td>\n",
       "      <td>1.82</td>\n",
       "      <td>1.6</td>\n",
       "      <td>30.7</td>\n",
       "      <td>36.791</td>\n",
       "      <td>1.7</td>\n",
       "      <td>61.49</td>\n",
       "      <td>0.571</td>\n",
       "    </tr>\n",
       "    <tr>\n",
       "      <th>71046</th>\n",
       "      <td>ZWE</td>\n",
       "      <td>Africa</td>\n",
       "      <td>Zimbabwe</td>\n",
       "      <td>2021-02-21</td>\n",
       "      <td>35796.0</td>\n",
       "      <td>28.0</td>\n",
       "      <td>89.143</td>\n",
       "      <td>1436.0</td>\n",
       "      <td>4.0</td>\n",
       "      <td>5.143</td>\n",
       "      <td>...</td>\n",
       "      <td>1899.775</td>\n",
       "      <td>21.4</td>\n",
       "      <td>307.846</td>\n",
       "      <td>1.82</td>\n",
       "      <td>1.6</td>\n",
       "      <td>30.7</td>\n",
       "      <td>36.791</td>\n",
       "      <td>1.7</td>\n",
       "      <td>61.49</td>\n",
       "      <td>0.571</td>\n",
       "    </tr>\n",
       "    <tr>\n",
       "      <th>71047</th>\n",
       "      <td>ZWE</td>\n",
       "      <td>Africa</td>\n",
       "      <td>Zimbabwe</td>\n",
       "      <td>2021-02-22</td>\n",
       "      <td>35862.0</td>\n",
       "      <td>66.0</td>\n",
       "      <td>91.429</td>\n",
       "      <td>1441.0</td>\n",
       "      <td>5.0</td>\n",
       "      <td>4.429</td>\n",
       "      <td>...</td>\n",
       "      <td>1899.775</td>\n",
       "      <td>21.4</td>\n",
       "      <td>307.846</td>\n",
       "      <td>1.82</td>\n",
       "      <td>1.6</td>\n",
       "      <td>30.7</td>\n",
       "      <td>36.791</td>\n",
       "      <td>1.7</td>\n",
       "      <td>61.49</td>\n",
       "      <td>0.571</td>\n",
       "    </tr>\n",
       "    <tr>\n",
       "      <th>71048</th>\n",
       "      <td>ZWE</td>\n",
       "      <td>Africa</td>\n",
       "      <td>Zimbabwe</td>\n",
       "      <td>2021-02-23</td>\n",
       "      <td>35910.0</td>\n",
       "      <td>48.0</td>\n",
       "      <td>85.000</td>\n",
       "      <td>1448.0</td>\n",
       "      <td>7.0</td>\n",
       "      <td>4.857</td>\n",
       "      <td>...</td>\n",
       "      <td>1899.775</td>\n",
       "      <td>21.4</td>\n",
       "      <td>307.846</td>\n",
       "      <td>1.82</td>\n",
       "      <td>1.6</td>\n",
       "      <td>30.7</td>\n",
       "      <td>36.791</td>\n",
       "      <td>1.7</td>\n",
       "      <td>61.49</td>\n",
       "      <td>0.571</td>\n",
       "    </tr>\n",
       "    <tr>\n",
       "      <th>71049</th>\n",
       "      <td>ZWE</td>\n",
       "      <td>Africa</td>\n",
       "      <td>Zimbabwe</td>\n",
       "      <td>2021-02-24</td>\n",
       "      <td>35960.0</td>\n",
       "      <td>50.0</td>\n",
       "      <td>76.714</td>\n",
       "      <td>1456.0</td>\n",
       "      <td>8.0</td>\n",
       "      <td>5.429</td>\n",
       "      <td>...</td>\n",
       "      <td>1899.775</td>\n",
       "      <td>21.4</td>\n",
       "      <td>307.846</td>\n",
       "      <td>1.82</td>\n",
       "      <td>1.6</td>\n",
       "      <td>30.7</td>\n",
       "      <td>36.791</td>\n",
       "      <td>1.7</td>\n",
       "      <td>61.49</td>\n",
       "      <td>0.571</td>\n",
       "    </tr>\n",
       "  </tbody>\n",
       "</table>\n",
       "<p>5 rows × 59 columns</p>\n",
       "</div>"
      ],
      "text/plain": [
       "      iso_code continent  location        date  total_cases  new_cases  \\\n",
       "71045      ZWE    Africa  Zimbabwe  2021-02-20      35768.0       58.0   \n",
       "71046      ZWE    Africa  Zimbabwe  2021-02-21      35796.0       28.0   \n",
       "71047      ZWE    Africa  Zimbabwe  2021-02-22      35862.0       66.0   \n",
       "71048      ZWE    Africa  Zimbabwe  2021-02-23      35910.0       48.0   \n",
       "71049      ZWE    Africa  Zimbabwe  2021-02-24      35960.0       50.0   \n",
       "\n",
       "       new_cases_smoothed  total_deaths  new_deaths  new_deaths_smoothed  ...  \\\n",
       "71045              94.857        1432.0         2.0                4.857  ...   \n",
       "71046              89.143        1436.0         4.0                5.143  ...   \n",
       "71047              91.429        1441.0         5.0                4.429  ...   \n",
       "71048              85.000        1448.0         7.0                4.857  ...   \n",
       "71049              76.714        1456.0         8.0                5.429  ...   \n",
       "\n",
       "       gdp_per_capita  extreme_poverty  cardiovasc_death_rate  \\\n",
       "71045        1899.775             21.4                307.846   \n",
       "71046        1899.775             21.4                307.846   \n",
       "71047        1899.775             21.4                307.846   \n",
       "71048        1899.775             21.4                307.846   \n",
       "71049        1899.775             21.4                307.846   \n",
       "\n",
       "       diabetes_prevalence  female_smokers  male_smokers  \\\n",
       "71045                 1.82             1.6          30.7   \n",
       "71046                 1.82             1.6          30.7   \n",
       "71047                 1.82             1.6          30.7   \n",
       "71048                 1.82             1.6          30.7   \n",
       "71049                 1.82             1.6          30.7   \n",
       "\n",
       "       handwashing_facilities  hospital_beds_per_thousand  life_expectancy  \\\n",
       "71045                  36.791                         1.7            61.49   \n",
       "71046                  36.791                         1.7            61.49   \n",
       "71047                  36.791                         1.7            61.49   \n",
       "71048                  36.791                         1.7            61.49   \n",
       "71049                  36.791                         1.7            61.49   \n",
       "\n",
       "       human_development_index  \n",
       "71045                    0.571  \n",
       "71046                    0.571  \n",
       "71047                    0.571  \n",
       "71048                    0.571  \n",
       "71049                    0.571  \n",
       "\n",
       "[5 rows x 59 columns]"
      ]
     },
     "execution_count": 3,
     "metadata": {},
     "output_type": "execute_result"
    }
   ],
   "source": [
    "covid_df.tail()"
   ]
  },
  {
   "cell_type": "code",
   "execution_count": 4,
   "metadata": {},
   "outputs": [
    {
     "name": "stdout",
     "output_type": "stream",
     "text": [
      "[*********************100%***********************]  1 of 1 completed\n"
     ]
    },
    {
     "data": {
      "text/html": [
       "<div>\n",
       "<style scoped>\n",
       "    .dataframe tbody tr th:only-of-type {\n",
       "        vertical-align: middle;\n",
       "    }\n",
       "\n",
       "    .dataframe tbody tr th {\n",
       "        vertical-align: top;\n",
       "    }\n",
       "\n",
       "    .dataframe thead th {\n",
       "        text-align: right;\n",
       "    }\n",
       "</style>\n",
       "<table border=\"1\" class=\"dataframe\">\n",
       "  <thead>\n",
       "    <tr style=\"text-align: right;\">\n",
       "      <th></th>\n",
       "      <th>Open</th>\n",
       "      <th>High</th>\n",
       "      <th>Low</th>\n",
       "      <th>Close</th>\n",
       "      <th>Volume</th>\n",
       "    </tr>\n",
       "    <tr>\n",
       "      <th>Date</th>\n",
       "      <th></th>\n",
       "      <th></th>\n",
       "      <th></th>\n",
       "      <th></th>\n",
       "      <th></th>\n",
       "    </tr>\n",
       "  </thead>\n",
       "  <tbody>\n",
       "    <tr>\n",
       "      <th>2020-01-02</th>\n",
       "      <td>143.860001</td>\n",
       "      <td>144.210007</td>\n",
       "      <td>143.399994</td>\n",
       "      <td>143.949997</td>\n",
       "      <td>7733800</td>\n",
       "    </tr>\n",
       "    <tr>\n",
       "      <th>2020-01-03</th>\n",
       "      <td>145.750000</td>\n",
       "      <td>146.320007</td>\n",
       "      <td>145.399994</td>\n",
       "      <td>145.860001</td>\n",
       "      <td>12272800</td>\n",
       "    </tr>\n",
       "    <tr>\n",
       "      <th>2020-01-06</th>\n",
       "      <td>148.440002</td>\n",
       "      <td>148.479996</td>\n",
       "      <td>146.949997</td>\n",
       "      <td>147.389999</td>\n",
       "      <td>14403300</td>\n",
       "    </tr>\n",
       "    <tr>\n",
       "      <th>2020-01-07</th>\n",
       "      <td>147.570007</td>\n",
       "      <td>148.139999</td>\n",
       "      <td>147.429993</td>\n",
       "      <td>147.970001</td>\n",
       "      <td>7978500</td>\n",
       "    </tr>\n",
       "    <tr>\n",
       "      <th>2020-01-08</th>\n",
       "      <td>148.490005</td>\n",
       "      <td>148.610001</td>\n",
       "      <td>146.139999</td>\n",
       "      <td>146.860001</td>\n",
       "      <td>22248500</td>\n",
       "    </tr>\n",
       "  </tbody>\n",
       "</table>\n",
       "</div>"
      ],
      "text/plain": [
       "                  Open        High         Low       Close    Volume\n",
       "Date                                                                \n",
       "2020-01-02  143.860001  144.210007  143.399994  143.949997   7733800\n",
       "2020-01-03  145.750000  146.320007  145.399994  145.860001  12272800\n",
       "2020-01-06  148.440002  148.479996  146.949997  147.389999  14403300\n",
       "2020-01-07  147.570007  148.139999  147.429993  147.970001   7978500\n",
       "2020-01-08  148.490005  148.610001  146.139999  146.860001  22248500"
      ]
     },
     "execution_count": 4,
     "metadata": {},
     "output_type": "execute_result"
    }
   ],
   "source": [
    "# load data: gold ETF, 'GLD' price\n",
    "# period: form the start date of covid dataset to today\n",
    "\n",
    "covid_sdate=covid_df['date'].min()\n",
    "today=pd.to_datetime('today')\n",
    "gld_df=yf.download('GLD', covid_sdate, today, auto_adjust=True)\n",
    "gld_df.head()"
   ]
  },
  {
   "cell_type": "code",
   "execution_count": 5,
   "metadata": {},
   "outputs": [
    {
     "data": {
      "text/html": [
       "<div>\n",
       "<style scoped>\n",
       "    .dataframe tbody tr th:only-of-type {\n",
       "        vertical-align: middle;\n",
       "    }\n",
       "\n",
       "    .dataframe tbody tr th {\n",
       "        vertical-align: top;\n",
       "    }\n",
       "\n",
       "    .dataframe thead th {\n",
       "        text-align: right;\n",
       "    }\n",
       "</style>\n",
       "<table border=\"1\" class=\"dataframe\">\n",
       "  <thead>\n",
       "    <tr style=\"text-align: right;\">\n",
       "      <th></th>\n",
       "      <th>Date</th>\n",
       "      <th>Open</th>\n",
       "      <th>High</th>\n",
       "      <th>Low</th>\n",
       "      <th>Close</th>\n",
       "      <th>Volume</th>\n",
       "    </tr>\n",
       "  </thead>\n",
       "  <tbody>\n",
       "    <tr>\n",
       "      <th>284</th>\n",
       "      <td>2021-02-18</td>\n",
       "      <td>166.979996</td>\n",
       "      <td>167.300003</td>\n",
       "      <td>165.729996</td>\n",
       "      <td>166.320007</td>\n",
       "      <td>7474400</td>\n",
       "    </tr>\n",
       "    <tr>\n",
       "      <th>285</th>\n",
       "      <td>2021-02-19</td>\n",
       "      <td>166.759995</td>\n",
       "      <td>167.940002</td>\n",
       "      <td>166.600006</td>\n",
       "      <td>167.009995</td>\n",
       "      <td>8268900</td>\n",
       "    </tr>\n",
       "    <tr>\n",
       "      <th>286</th>\n",
       "      <td>2021-02-22</td>\n",
       "      <td>168.539993</td>\n",
       "      <td>169.889999</td>\n",
       "      <td>168.300003</td>\n",
       "      <td>169.509995</td>\n",
       "      <td>10072000</td>\n",
       "    </tr>\n",
       "    <tr>\n",
       "      <th>287</th>\n",
       "      <td>2021-02-23</td>\n",
       "      <td>169.479996</td>\n",
       "      <td>169.740005</td>\n",
       "      <td>168.279999</td>\n",
       "      <td>169.119995</td>\n",
       "      <td>8612100</td>\n",
       "    </tr>\n",
       "    <tr>\n",
       "      <th>288</th>\n",
       "      <td>2021-02-24</td>\n",
       "      <td>167.649994</td>\n",
       "      <td>169.139999</td>\n",
       "      <td>167.149994</td>\n",
       "      <td>169.000000</td>\n",
       "      <td>8885100</td>\n",
       "    </tr>\n",
       "  </tbody>\n",
       "</table>\n",
       "</div>"
      ],
      "text/plain": [
       "          Date        Open        High         Low       Close    Volume\n",
       "284 2021-02-18  166.979996  167.300003  165.729996  166.320007   7474400\n",
       "285 2021-02-19  166.759995  167.940002  166.600006  167.009995   8268900\n",
       "286 2021-02-22  168.539993  169.889999  168.300003  169.509995  10072000\n",
       "287 2021-02-23  169.479996  169.740005  168.279999  169.119995   8612100\n",
       "288 2021-02-24  167.649994  169.139999  167.149994  169.000000   8885100"
      ]
     },
     "execution_count": 5,
     "metadata": {},
     "output_type": "execute_result"
    }
   ],
   "source": [
    "# reset index\n",
    "gld_df.reset_index(inplace=True)\n",
    "gld_df.tail()"
   ]
  },
  {
   "cell_type": "code",
   "execution_count": 6,
   "metadata": {},
   "outputs": [
    {
     "name": "stdout",
     "output_type": "stream",
     "text": [
      "<class 'pandas.core.frame.DataFrame'>\n",
      "RangeIndex: 289 entries, 0 to 288\n",
      "Data columns (total 6 columns):\n",
      " #   Column  Non-Null Count  Dtype         \n",
      "---  ------  --------------  -----         \n",
      " 0   Date    289 non-null    datetime64[ns]\n",
      " 1   Open    289 non-null    float64       \n",
      " 2   High    289 non-null    float64       \n",
      " 3   Low     289 non-null    float64       \n",
      " 4   Close   289 non-null    float64       \n",
      " 5   Volume  289 non-null    int64         \n",
      "dtypes: datetime64[ns](1), float64(4), int64(1)\n",
      "memory usage: 13.7 KB\n"
     ]
    }
   ],
   "source": [
    "gld_df.info()"
   ]
  },
  {
   "cell_type": "code",
   "execution_count": 7,
   "metadata": {},
   "outputs": [
    {
     "name": "stdout",
     "output_type": "stream",
     "text": [
      "<class 'pandas.core.frame.DataFrame'>\n",
      "RangeIndex: 71050 entries, 0 to 71049\n",
      "Data columns (total 59 columns):\n",
      " #   Column                                 Non-Null Count  Dtype  \n",
      "---  ------                                 --------------  -----  \n",
      " 0   iso_code                               71050 non-null  object \n",
      " 1   continent                              67515 non-null  object \n",
      " 2   location                               71050 non-null  object \n",
      " 3   date                                   71050 non-null  object \n",
      " 4   total_cases                            70137 non-null  float64\n",
      " 5   new_cases                              70135 non-null  float64\n",
      " 6   new_cases_smoothed                     69134 non-null  float64\n",
      " 7   total_deaths                           61102 non-null  float64\n",
      " 8   new_deaths                             61260 non-null  float64\n",
      " 9   new_deaths_smoothed                    69134 non-null  float64\n",
      " 10  total_cases_per_million                69753 non-null  float64\n",
      " 11  new_cases_per_million                  69751 non-null  float64\n",
      " 12  new_cases_smoothed_per_million         68755 non-null  float64\n",
      " 13  total_deaths_per_million               60731 non-null  float64\n",
      " 14  new_deaths_per_million                 60889 non-null  float64\n",
      " 15  new_deaths_smoothed_per_million        68755 non-null  float64\n",
      " 16  reproduction_rate                      56919 non-null  float64\n",
      " 17  icu_patients                           7473 non-null   float64\n",
      " 18  icu_patients_per_million               7473 non-null   float64\n",
      " 19  hosp_patients                          8882 non-null   float64\n",
      " 20  hosp_patients_per_million              8882 non-null   float64\n",
      " 21  weekly_icu_admissions                  702 non-null    float64\n",
      " 22  weekly_icu_admissions_per_million      702 non-null    float64\n",
      " 23  weekly_hosp_admissions                 1155 non-null   float64\n",
      " 24  weekly_hosp_admissions_per_million     1155 non-null   float64\n",
      " 25  new_tests                              32012 non-null  float64\n",
      " 26  total_tests                            31878 non-null  float64\n",
      " 27  total_tests_per_thousand               31878 non-null  float64\n",
      " 28  new_tests_per_thousand                 32012 non-null  float64\n",
      " 29  new_tests_smoothed                     36506 non-null  float64\n",
      " 30  new_tests_smoothed_per_thousand        36506 non-null  float64\n",
      " 31  positive_rate                          35076 non-null  float64\n",
      " 32  tests_per_case                         34557 non-null  float64\n",
      " 33  tests_units                            37791 non-null  object \n",
      " 34  total_vaccinations                     2585 non-null   float64\n",
      " 35  people_vaccinated                      2175 non-null   float64\n",
      " 36  people_fully_vaccinated                1400 non-null   float64\n",
      " 37  new_vaccinations                       2192 non-null   float64\n",
      " 38  new_vaccinations_smoothed              3742 non-null   float64\n",
      " 39  total_vaccinations_per_hundred         2585 non-null   float64\n",
      " 40  people_vaccinated_per_hundred          2175 non-null   float64\n",
      " 41  people_fully_vaccinated_per_hundred    1400 non-null   float64\n",
      " 42  new_vaccinations_smoothed_per_million  3742 non-null   float64\n",
      " 43  stringency_index                       61143 non-null  float64\n",
      " 44  population                             70657 non-null  float64\n",
      " 45  population_density                     66422 non-null  float64\n",
      " 46  median_age                             64673 non-null  float64\n",
      " 47  aged_65_older                          63927 non-null  float64\n",
      " 48  aged_70_older                          64308 non-null  float64\n",
      " 49  gdp_per_capita                         64837 non-null  float64\n",
      " 50  extreme_poverty                        44299 non-null  float64\n",
      " 51  cardiovasc_death_rate                  65446 non-null  float64\n",
      " 52  diabetes_prevalence                    66255 non-null  float64\n",
      " 53  female_smokers                         51524 non-null  float64\n",
      " 54  male_smokers                           50817 non-null  float64\n",
      " 55  handwashing_facilities                 32832 non-null  float64\n",
      " 56  hospital_beds_per_thousand             59983 non-null  float64\n",
      " 57  life_expectancy                        67523 non-null  float64\n",
      " 58  human_development_index                65425 non-null  float64\n",
      "dtypes: float64(54), object(5)\n",
      "memory usage: 32.0+ MB\n"
     ]
    }
   ],
   "source": [
    "covid_df.info()"
   ]
  },
  {
   "cell_type": "code",
   "execution_count": 8,
   "metadata": {},
   "outputs": [
    {
     "data": {
      "text/plain": [
       "array(['Afghanistan', 'Africa', 'Albania', 'Algeria', 'Andorra', 'Angola',\n",
       "       'Anguilla', 'Antigua and Barbuda', 'Argentina', 'Armenia', 'Asia',\n",
       "       'Australia', 'Austria', 'Azerbaijan', 'Bahamas', 'Bahrain',\n",
       "       'Bangladesh', 'Barbados', 'Belarus', 'Belgium', 'Belize', 'Benin',\n",
       "       'Bermuda', 'Bhutan', 'Bolivia', 'Bosnia and Herzegovina',\n",
       "       'Botswana', 'Brazil', 'Brunei', 'Bulgaria', 'Burkina Faso',\n",
       "       'Burundi', 'Cambodia', 'Cameroon', 'Canada', 'Cape Verde',\n",
       "       'Cayman Islands', 'Central African Republic', 'Chad', 'Chile',\n",
       "       'China', 'Colombia', 'Comoros', 'Congo', 'Costa Rica',\n",
       "       \"Cote d'Ivoire\", 'Croatia', 'Cuba', 'Cyprus', 'Czechia',\n",
       "       'Democratic Republic of Congo', 'Denmark', 'Djibouti', 'Dominica',\n",
       "       'Dominican Republic', 'Ecuador', 'Egypt', 'El Salvador',\n",
       "       'Equatorial Guinea', 'Eritrea', 'Estonia', 'Eswatini', 'Ethiopia',\n",
       "       'Europe', 'European Union', 'Faeroe Islands', 'Falkland Islands',\n",
       "       'Fiji', 'Finland', 'France', 'Gabon', 'Gambia', 'Georgia',\n",
       "       'Germany', 'Ghana', 'Gibraltar', 'Greece', 'Greenland', 'Grenada',\n",
       "       'Guatemala', 'Guernsey', 'Guinea', 'Guinea-Bissau', 'Guyana',\n",
       "       'Haiti', 'Honduras', 'Hong Kong', 'Hungary', 'Iceland', 'India',\n",
       "       'Indonesia', 'International', 'Iran', 'Iraq', 'Ireland',\n",
       "       'Isle of Man', 'Israel', 'Italy', 'Jamaica', 'Japan', 'Jersey',\n",
       "       'Jordan', 'Kazakhstan', 'Kenya', 'Kosovo', 'Kuwait', 'Kyrgyzstan',\n",
       "       'Laos', 'Latvia', 'Lebanon', 'Lesotho', 'Liberia', 'Libya',\n",
       "       'Liechtenstein', 'Lithuania', 'Luxembourg', 'Macao', 'Madagascar',\n",
       "       'Malawi', 'Malaysia', 'Maldives', 'Mali', 'Malta',\n",
       "       'Marshall Islands', 'Mauritania', 'Mauritius', 'Mexico',\n",
       "       'Micronesia (country)', 'Moldova', 'Monaco', 'Mongolia',\n",
       "       'Montenegro', 'Morocco', 'Mozambique', 'Myanmar', 'Namibia',\n",
       "       'Nepal', 'Netherlands', 'New Zealand', 'Nicaragua', 'Niger',\n",
       "       'Nigeria', 'North America', 'North Macedonia', 'Northern Cyprus',\n",
       "       'Norway', 'Oceania', 'Oman', 'Pakistan', 'Palestine', 'Panama',\n",
       "       'Papua New Guinea', 'Paraguay', 'Peru', 'Philippines', 'Poland',\n",
       "       'Portugal', 'Qatar', 'Romania', 'Russia', 'Rwanda', 'Saint Helena',\n",
       "       'Saint Kitts and Nevis', 'Saint Lucia',\n",
       "       'Saint Vincent and the Grenadines', 'Samoa', 'San Marino',\n",
       "       'Sao Tome and Principe', 'Saudi Arabia', 'Senegal', 'Serbia',\n",
       "       'Seychelles', 'Sierra Leone', 'Singapore', 'Slovakia', 'Slovenia',\n",
       "       'Solomon Islands', 'Somalia', 'South Africa', 'South America',\n",
       "       'South Korea', 'South Sudan', 'Spain', 'Sri Lanka', 'Sudan',\n",
       "       'Suriname', 'Sweden', 'Switzerland', 'Syria', 'Taiwan',\n",
       "       'Tajikistan', 'Tanzania', 'Thailand', 'Timor', 'Togo',\n",
       "       'Trinidad and Tobago', 'Tunisia', 'Turkey',\n",
       "       'Turks and Caicos Islands', 'Uganda', 'Ukraine',\n",
       "       'United Arab Emirates', 'United Kingdom', 'United States',\n",
       "       'Uruguay', 'Uzbekistan', 'Vanuatu', 'Vatican', 'Venezuela',\n",
       "       'Vietnam', 'World', 'Yemen', 'Zambia', 'Zimbabwe'], dtype=object)"
      ]
     },
     "execution_count": 8,
     "metadata": {},
     "output_type": "execute_result"
    }
   ],
   "source": [
    "covid_df['location'].unique()"
   ]
  },
  {
   "cell_type": "markdown",
   "metadata": {},
   "source": [
    "<br>\n",
    "<p>\n",
    "    <font size='3'>This data contains the observations by each country such as 'United Kingdom' as well as by area such as 'North Americas'. Luckily, there is a location category, 'world.' For convenience, I'll select the data with the value, 'world' in the location column.\n",
    "    </font>\n",
    "</p>\n",
    "<br>"
   ]
  },
  {
   "cell_type": "code",
   "execution_count": 9,
   "metadata": {},
   "outputs": [
    {
     "name": "stdout",
     "output_type": "stream",
     "text": [
      "<class 'pandas.core.frame.DataFrame'>\n",
      "Int64Index: 400 entries, 69643 to 70042\n",
      "Data columns (total 59 columns):\n",
      " #   Column                                 Non-Null Count  Dtype  \n",
      "---  ------                                 --------------  -----  \n",
      " 0   iso_code                               400 non-null    object \n",
      " 1   continent                              0 non-null      object \n",
      " 2   location                               400 non-null    object \n",
      " 3   date                                   400 non-null    object \n",
      " 4   total_cases                            400 non-null    float64\n",
      " 5   new_cases                              400 non-null    float64\n",
      " 6   new_cases_smoothed                     394 non-null    float64\n",
      " 7   total_deaths                           400 non-null    float64\n",
      " 8   new_deaths                             400 non-null    float64\n",
      " 9   new_deaths_smoothed                    394 non-null    float64\n",
      " 10  total_cases_per_million                400 non-null    float64\n",
      " 11  new_cases_per_million                  400 non-null    float64\n",
      " 12  new_cases_smoothed_per_million         394 non-null    float64\n",
      " 13  total_deaths_per_million               400 non-null    float64\n",
      " 14  new_deaths_per_million                 400 non-null    float64\n",
      " 15  new_deaths_smoothed_per_million        394 non-null    float64\n",
      " 16  reproduction_rate                      397 non-null    float64\n",
      " 17  icu_patients                           0 non-null      float64\n",
      " 18  icu_patients_per_million               0 non-null      float64\n",
      " 19  hosp_patients                          0 non-null      float64\n",
      " 20  hosp_patients_per_million              0 non-null      float64\n",
      " 21  weekly_icu_admissions                  0 non-null      float64\n",
      " 22  weekly_icu_admissions_per_million      0 non-null      float64\n",
      " 23  weekly_hosp_admissions                 0 non-null      float64\n",
      " 24  weekly_hosp_admissions_per_million     0 non-null      float64\n",
      " 25  new_tests                              0 non-null      float64\n",
      " 26  total_tests                            0 non-null      float64\n",
      " 27  total_tests_per_thousand               0 non-null      float64\n",
      " 28  new_tests_per_thousand                 0 non-null      float64\n",
      " 29  new_tests_smoothed                     0 non-null      float64\n",
      " 30  new_tests_smoothed_per_thousand        0 non-null      float64\n",
      " 31  positive_rate                          0 non-null      float64\n",
      " 32  tests_per_case                         0 non-null      float64\n",
      " 33  tests_units                            0 non-null      object \n",
      " 34  total_vaccinations                     69 non-null     float64\n",
      " 35  people_vaccinated                      69 non-null     float64\n",
      " 36  people_fully_vaccinated                52 non-null     float64\n",
      " 37  new_vaccinations                       66 non-null     float64\n",
      " 38  new_vaccinations_smoothed              72 non-null     float64\n",
      " 39  total_vaccinations_per_hundred         69 non-null     float64\n",
      " 40  people_vaccinated_per_hundred          69 non-null     float64\n",
      " 41  people_fully_vaccinated_per_hundred    52 non-null     float64\n",
      " 42  new_vaccinations_smoothed_per_million  72 non-null     float64\n",
      " 43  stringency_index                       0 non-null      float64\n",
      " 44  population                             400 non-null    float64\n",
      " 45  population_density                     400 non-null    float64\n",
      " 46  median_age                             400 non-null    float64\n",
      " 47  aged_65_older                          400 non-null    float64\n",
      " 48  aged_70_older                          400 non-null    float64\n",
      " 49  gdp_per_capita                         400 non-null    float64\n",
      " 50  extreme_poverty                        400 non-null    float64\n",
      " 51  cardiovasc_death_rate                  400 non-null    float64\n",
      " 52  diabetes_prevalence                    400 non-null    float64\n",
      " 53  female_smokers                         400 non-null    float64\n",
      " 54  male_smokers                           400 non-null    float64\n",
      " 55  handwashing_facilities                 400 non-null    float64\n",
      " 56  hospital_beds_per_thousand             400 non-null    float64\n",
      " 57  life_expectancy                        400 non-null    float64\n",
      " 58  human_development_index                400 non-null    float64\n",
      "dtypes: float64(54), object(5)\n",
      "memory usage: 187.5+ KB\n"
     ]
    }
   ],
   "source": [
    "# pick rows related to worldwide data.\n",
    "fea_df=covid_df[covid_df['location']=='World']\n",
    "fea_df.info()"
   ]
  },
  {
   "cell_type": "markdown",
   "metadata": {},
   "source": [
    "<br>\n",
    "<p>\n",
    "    <font size='3'> I picked 'date', 'new_cases', and 'new_deaths' as they seem like the most relevant data demonstrating the daily rise and fall of covid numbers while the rest columns are accumulated values or demographic informaton.\n",
    "        'New vaccination' could be a potentially good predictor, but the number of data is still very low (62 as the date of Feburary 24th, 2021), so I excluded it from further analysis. \n",
    "    </font>\n",
    "</p>\n",
    "<br>"
   ]
  },
  {
   "cell_type": "code",
   "execution_count": 10,
   "metadata": {},
   "outputs": [
    {
     "data": {
      "text/html": [
       "<div>\n",
       "<style scoped>\n",
       "    .dataframe tbody tr th:only-of-type {\n",
       "        vertical-align: middle;\n",
       "    }\n",
       "\n",
       "    .dataframe tbody tr th {\n",
       "        vertical-align: top;\n",
       "    }\n",
       "\n",
       "    .dataframe thead th {\n",
       "        text-align: right;\n",
       "    }\n",
       "</style>\n",
       "<table border=\"1\" class=\"dataframe\">\n",
       "  <thead>\n",
       "    <tr style=\"text-align: right;\">\n",
       "      <th></th>\n",
       "      <th>date</th>\n",
       "      <th>new_cases</th>\n",
       "      <th>new_deaths</th>\n",
       "    </tr>\n",
       "  </thead>\n",
       "  <tbody>\n",
       "    <tr>\n",
       "      <th>395</th>\n",
       "      <td>2021-02-20</td>\n",
       "      <td>370265.0</td>\n",
       "      <td>8515.0</td>\n",
       "    </tr>\n",
       "    <tr>\n",
       "      <th>396</th>\n",
       "      <td>2021-02-21</td>\n",
       "      <td>313693.0</td>\n",
       "      <td>5880.0</td>\n",
       "    </tr>\n",
       "    <tr>\n",
       "      <th>397</th>\n",
       "      <td>2021-02-22</td>\n",
       "      <td>288787.0</td>\n",
       "      <td>7039.0</td>\n",
       "    </tr>\n",
       "    <tr>\n",
       "      <th>398</th>\n",
       "      <td>2021-02-23</td>\n",
       "      <td>387864.0</td>\n",
       "      <td>11256.0</td>\n",
       "    </tr>\n",
       "    <tr>\n",
       "      <th>399</th>\n",
       "      <td>2021-02-24</td>\n",
       "      <td>444543.0</td>\n",
       "      <td>12053.0</td>\n",
       "    </tr>\n",
       "  </tbody>\n",
       "</table>\n",
       "</div>"
      ],
      "text/plain": [
       "           date  new_cases  new_deaths\n",
       "395  2021-02-20   370265.0      8515.0\n",
       "396  2021-02-21   313693.0      5880.0\n",
       "397  2021-02-22   288787.0      7039.0\n",
       "398  2021-02-23   387864.0     11256.0\n",
       "399  2021-02-24   444543.0     12053.0"
      ]
     },
     "execution_count": 10,
     "metadata": {},
     "output_type": "execute_result"
    }
   ],
   "source": [
    "# pick relevant columns\n",
    "fea_df=fea_df[['date','new_cases','new_deaths']]\n",
    "\n",
    "# reset index\n",
    "fea_df.reset_index(drop=True, inplace=True)\n",
    "\n",
    "# view a dataframe\n",
    "fea_df.tail()"
   ]
  },
  {
   "cell_type": "code",
   "execution_count": 11,
   "metadata": {},
   "outputs": [
    {
     "name": "stdout",
     "output_type": "stream",
     "text": [
      "<class 'pandas.core.frame.DataFrame'>\n",
      "RangeIndex: 400 entries, 0 to 399\n",
      "Data columns (total 3 columns):\n",
      " #   Column      Non-Null Count  Dtype  \n",
      "---  ------      --------------  -----  \n",
      " 0   date        400 non-null    object \n",
      " 1   new_cases   400 non-null    float64\n",
      " 2   new_deaths  400 non-null    float64\n",
      "dtypes: float64(2), object(1)\n",
      "memory usage: 9.5+ KB\n"
     ]
    }
   ],
   "source": [
    "fea_df.info()"
   ]
  },
  {
   "cell_type": "code",
   "execution_count": 12,
   "metadata": {},
   "outputs": [
    {
     "data": {
      "text/html": [
       "<div>\n",
       "<style scoped>\n",
       "    .dataframe tbody tr th:only-of-type {\n",
       "        vertical-align: middle;\n",
       "    }\n",
       "\n",
       "    .dataframe tbody tr th {\n",
       "        vertical-align: top;\n",
       "    }\n",
       "\n",
       "    .dataframe thead th {\n",
       "        text-align: right;\n",
       "    }\n",
       "</style>\n",
       "<table border=\"1\" class=\"dataframe\">\n",
       "  <thead>\n",
       "    <tr style=\"text-align: right;\">\n",
       "      <th></th>\n",
       "      <th>date</th>\n",
       "      <th>new_cases</th>\n",
       "      <th>new_deaths</th>\n",
       "      <th>Close</th>\n",
       "    </tr>\n",
       "  </thead>\n",
       "  <tbody>\n",
       "    <tr>\n",
       "      <th>271</th>\n",
       "      <td>2021-02-18</td>\n",
       "      <td>403209.0</td>\n",
       "      <td>11164.0</td>\n",
       "      <td>166.320007</td>\n",
       "    </tr>\n",
       "    <tr>\n",
       "      <th>272</th>\n",
       "      <td>2021-02-19</td>\n",
       "      <td>439395.0</td>\n",
       "      <td>11106.0</td>\n",
       "      <td>167.009995</td>\n",
       "    </tr>\n",
       "    <tr>\n",
       "      <th>273</th>\n",
       "      <td>2021-02-22</td>\n",
       "      <td>288787.0</td>\n",
       "      <td>7039.0</td>\n",
       "      <td>169.509995</td>\n",
       "    </tr>\n",
       "    <tr>\n",
       "      <th>274</th>\n",
       "      <td>2021-02-23</td>\n",
       "      <td>387864.0</td>\n",
       "      <td>11256.0</td>\n",
       "      <td>169.119995</td>\n",
       "    </tr>\n",
       "    <tr>\n",
       "      <th>275</th>\n",
       "      <td>2021-02-24</td>\n",
       "      <td>444543.0</td>\n",
       "      <td>12053.0</td>\n",
       "      <td>169.000000</td>\n",
       "    </tr>\n",
       "  </tbody>\n",
       "</table>\n",
       "</div>"
      ],
      "text/plain": [
       "          date  new_cases  new_deaths       Close\n",
       "271 2021-02-18   403209.0     11164.0  166.320007\n",
       "272 2021-02-19   439395.0     11106.0  167.009995\n",
       "273 2021-02-22   288787.0      7039.0  169.509995\n",
       "274 2021-02-23   387864.0     11256.0  169.119995\n",
       "275 2021-02-24   444543.0     12053.0  169.000000"
      ]
     },
     "execution_count": 12,
     "metadata": {},
     "output_type": "execute_result"
    }
   ],
   "source": [
    "# merge the gold price dataframe and covid dataframe\n",
    "\n",
    "# rename the column name of date to match with the other dataframe.\n",
    "gld_df.rename(columns={'Date':'date'},inplace=True)\n",
    "gld=gld_df[['date','Close']]\n",
    "\n",
    "# covert data type to match with the other dataframe.\n",
    "fea_df['date']=pd.to_datetime(fea_df['date'])\n",
    "\n",
    "# merge\n",
    "gc_df=fea_df.merge(gld, how='inner', on='date')\n",
    "gc_df.tail()"
   ]
  },
  {
   "cell_type": "code",
   "execution_count": 13,
   "metadata": {},
   "outputs": [
    {
     "data": {
      "text/plain": [
       "(276, 4)"
      ]
     },
     "execution_count": 13,
     "metadata": {},
     "output_type": "execute_result"
    }
   ],
   "source": [
    "gc_df.shape"
   ]
  },
  {
   "cell_type": "code",
   "execution_count": 14,
   "metadata": {},
   "outputs": [
    {
     "data": {
      "image/png": "[encoded data removed]",
      "text/plain": [
       "<Figure size 432x288 with 1 Axes>"
      ]
     },
     "metadata": {
      "needs_background": "light"
     },
     "output_type": "display_data"
    }
   ],
   "source": [
    "# plot the number of Covid new dases and GLD price\n",
    "gc_df.plot(x='new_cases', y='Close', kind='scatter')\n",
    "plt.xticks(rotation=45)\n",
    "plt.xlabel('Covid New Cases')\n",
    "plt.ylabel('GLD price')\n",
    "plt.xlim(gc_df.new_cases.min(), gc_df.new_cases.max())\n",
    "plt.ylim(gc_df.Close.min()-5, gc_df.Close.max()+5)\n",
    "plt.show()"
   ]
  },
  {
   "cell_type": "markdown",
   "metadata": {},
   "source": [
    "<br>\n",
    "<p>\n",
    "    <font size='3'> The plot shows that GLD price grew very steeply from 140 to 170 USD in the section of Covid new cases, 0 to 100,000 ns  a spike over 190 USD came in the section, 200,000 to 300,000.\n",
    "        After 300,000 cases, the price moved between 170 USD 180 USD. It appears that the number of daily covid new cases could be a good predictor for GLD price.\n",
    "    </font>\n",
    "</p>\n",
    "<br>"
   ]
  },
  {
   "cell_type": "code",
   "execution_count": 15,
   "metadata": {},
   "outputs": [
    {
     "data": {
      "image/png": "[encoded data removed]",
      "text/plain": [
       "<Figure size 432x288 with 1 Axes>"
      ]
     },
     "metadata": {
      "needs_background": "light"
     },
     "output_type": "display_data"
    }
   ],
   "source": [
    "# plot the number of Covid new cases and GLD price\n",
    "gc_df.plot(x='new_deaths', y='Close', kind='scatter')\n",
    "plt.xlabel('Covid New Deaths')\n",
    "plt.ylabel('GLD price')\n",
    "plt.show()"
   ]
  },
  {
   "cell_type": "code",
   "execution_count": 16,
   "metadata": {},
   "outputs": [
    {
     "data": {
      "image/png": "[encoded data removed]",
      "text/plain": [
       "<Figure size 432x288 with 1 Axes>"
      ]
     },
     "metadata": {
      "needs_background": "light"
     },
     "output_type": "display_data"
    }
   ],
   "source": [
    "# plot the number of Covid new cases and GLD price\n",
    "gc_df.plot(x='new_cases', y='new_deaths', kind='scatter')\n",
    "plt.xlabel('Covid New Cases')\n",
    "plt.ylabel('Covid New Deaths')\n",
    "plt.show()"
   ]
  },
  {
   "cell_type": "markdown",
   "metadata": {},
   "source": [
    "<br>\n",
    "<p>\n",
    "    <font size='3'> The plot shows that GLD prices along x-axis are too disperse and can't see the general trend of datapoints. The number of daily covid new death may not be a good predictor for GLD price. However, I'll check if there is any distinguishable trend when both features are plotted in 3D graph.\n",
    "    </font>\n",
    "</p>\n",
    "<br>"
   ]
  },
  {
   "cell_type": "code",
   "execution_count": 17,
   "metadata": {},
   "outputs": [],
   "source": [
    "gc_df=gc_df.sort_values('new_cases')\n",
    "gc_df=gc_df.reset_index(drop=True)"
   ]
  },
  {
   "cell_type": "code",
   "execution_count": 18,
   "metadata": {},
   "outputs": [
    {
     "data": {
      "image/png": "[encoded data removed]",
      "text/plain": [
       "<Figure size 432x288 with 1 Axes>"
      ]
     },
     "metadata": {
      "needs_background": "light"
     },
     "output_type": "display_data"
    }
   ],
   "source": [
    "# plotting 3D\n",
    "from mpl_toolkits import mplot3d\n",
    "fig = plt.figure()\n",
    "ax = plt.axes(projection='3d')\n",
    "\n",
    "\n",
    "# Data for a three-dimensional scattered points\n",
    "zdata = gc_df.Close\n",
    "xdata = gc_df.new_cases\n",
    "ydata = gc_df.new_deaths\n",
    "\n",
    "ax.scatter3D(xdata, ydata, zdata, c=zdata, cmap='Greens')\n",
    "ax.set_xlabel('new casess')\n",
    "ax.set_ylabel('new deaths')\n",
    "ax.set_zlabel('Price')\n",
    "ax.invert_xaxis()\n",
    "ax.view_init(30, 300)"
   ]
  },
  {
   "cell_type": "markdown",
   "metadata": {},
   "source": [
    "<br>\n",
    "<p>\n",
    "    <font size='3'>\n",
    "        3D plot doesn't demonstrate a particular shape and I can't see any impact by the number of new death in changing the shape.  \n",
    "        <br>\n",
    "        Therefore, I will exclude 'new death' from feature set. \n",
    "    </font>\n",
    "</p>\n",
    "<br>"
   ]
  },
  {
   "cell_type": "code",
   "execution_count": 19,
   "metadata": {},
   "outputs": [],
   "source": [
    "# move the position of row upward to make 'Close' columns as next day's price\n",
    "gc_df['Close']=gc_df['Close'].shift(-1)\n",
    "\n",
    "# drop the last row\n",
    "gc_df=gc_df.drop(index=gc_df.shape[0]-1)\n",
    "\n",
    "# rename the price column\n",
    "gc_df=gc_df.rename(columns={'Close':'next_day_price'})"
   ]
  },
  {
   "cell_type": "markdown",
   "metadata": {},
   "source": [
    "## 2. Modeling"
   ]
  },
  {
   "cell_type": "code",
   "execution_count": 20,
   "metadata": {},
   "outputs": [],
   "source": [
    "# import preprocessing\n",
    "from sklearn.preprocessing import PolynomialFeatures\n",
    "from sklearn.preprocessing import StandardScaler\n",
    "\n",
    "# import the library pipeline\n",
    "from sklearn.pipeline import Pipeline\n",
    "\n",
    "# pipeline constructor #create a list of turples\n",
    "xtrain, xtest, ytrain, ytest=train_test_split(gc_df[['new_cases']], gc_df['next_day_price'], test_size=0.3, random_state=0)\n",
    "Input=[('Scale', StandardScaler()),('polynomial', PolynomialFeatures(degree=3)), ('model', LinearRegression()) ] \n",
    "pipe=Pipeline(Input)  #input the list in the pipeline constructor.\n",
    "\n",
    "# train the pipeline object\n",
    "pipe.fit(xtrain, ytrain)\n",
    "\n",
    "# produce prediction\n",
    "yhat=pipe.predict(xtest)"
   ]
  },
  {
   "cell_type": "markdown",
   "metadata": {},
   "source": [
    "## 3. Model Evaluation"
   ]
  },
  {
   "cell_type": "code",
   "execution_count": 22,
   "metadata": {},
   "outputs": [
    {
     "name": "stdout",
     "output_type": "stream",
     "text": [
      "Evaluation Score: 72.99 %\n"
     ]
    }
   ],
   "source": [
    "# evaluate the model\n",
    "print('Evaluation Score: {0:.2f} %'.format(pipe.score(xtest, ytest)*100))"
   ]
  },
  {
   "cell_type": "markdown",
   "metadata": {},
   "source": [
    "## 4. Model Visualization"
   ]
  },
  {
   "cell_type": "code",
   "execution_count": 23,
   "metadata": {},
   "outputs": [],
   "source": [
    "# create a dataframe with actual GLD price and predicted price.\n",
    "test=xtest\n",
    "test['actual_price']=ytest\n",
    "test['predicted_price']=yhat\n",
    "\n",
    "# sort values by the number of new cases in ascending order\n",
    "test=test.sort_values('new_cases')\n",
    "test.reset_index(drop=True, inplace=True)"
   ]
  },
  {
   "cell_type": "code",
   "execution_count": 24,
   "metadata": {},
   "outputs": [
    {
     "data": {
      "image/png": "[encoded data removed]",
      "text/plain": [
       "<Figure size 432x288 with 1 Axes>"
      ]
     },
     "metadata": {
      "needs_background": "light"
     },
     "output_type": "display_data"
    }
   ],
   "source": [
    "# plot predition line and actual observations\n",
    "\n",
    "# plot actual price data points\n",
    "plt.scatter(test.new_cases,test.actual_price, color='red')\n",
    "\n",
    "# plot prediction model (polynomial regression model)\n",
    "plt.plot(test.new_cases, test.predicted_price, color='blue')\n",
    "plt.title('Next-Day GLD Price Prediction Model')\n",
    "plt.xlabel('Number of Covid New Cases')\n",
    "plt.ylabel('GLD price(USD)')\n",
    "plt.legend()\n",
    "plt.show()"
   ]
  },
  {
   "cell_type": "markdown",
   "metadata": {},
   "source": [
    "## Additional Theory Testing: GLD price prediction model with Russell 2000 index\n",
    "<br>\n",
    "<p>\n",
    "    <font size='3'>\n",
    "         Russell 2000 Index is a small-cap stock index consisting of the smallest 2,000 stocks in the Russell 3000 Index, often regarded as risky investment, and hence sensatively respond to the economic situation. In the light of such characteristics, I will explore the index's relationship with GLD price and generate a prediction model to see if the index can also be a good predictor. \n",
    "    </font>\n",
    "</p>\n",
    "<br>\n"
   ]
  },
  {
   "cell_type": "code",
   "execution_count": 55,
   "metadata": {},
   "outputs": [
    {
     "name": "stdout",
     "output_type": "stream",
     "text": [
      "[*********************100%***********************]  1 of 1 completed\n",
      "Russell 2000 Index:  289\n"
     ]
    }
   ],
   "source": [
    "# load 'Russell 2000 index' data\n",
    "rs=yf.download('^RUT', covid_sdate, today, auto_adjust=True)\n",
    "print('Russell 2000 Index: ',rs.shape[0])"
   ]
  },
  {
   "cell_type": "code",
   "execution_count": 56,
   "metadata": {},
   "outputs": [
    {
     "name": "stdout",
     "output_type": "stream",
     "text": [
      "<class 'pandas.core.frame.DataFrame'>\n",
      "DatetimeIndex: 289 entries, 2020-01-02 to 2021-02-24\n",
      "Data columns (total 5 columns):\n",
      " #   Column  Non-Null Count  Dtype  \n",
      "---  ------  --------------  -----  \n",
      " 0   Open    289 non-null    float64\n",
      " 1   High    289 non-null    float64\n",
      " 2   Low     289 non-null    float64\n",
      " 3   Close   289 non-null    float64\n",
      " 4   Volume  289 non-null    int64  \n",
      "dtypes: float64(4), int64(1)\n",
      "memory usage: 13.5 KB\n"
     ]
    }
   ],
   "source": [
    "rs.info()"
   ]
  },
  {
   "cell_type": "code",
   "execution_count": 57,
   "metadata": {},
   "outputs": [
    {
     "data": {
      "text/html": [
       "<div>\n",
       "<style scoped>\n",
       "    .dataframe tbody tr th:only-of-type {\n",
       "        vertical-align: middle;\n",
       "    }\n",
       "\n",
       "    .dataframe tbody tr th {\n",
       "        vertical-align: top;\n",
       "    }\n",
       "\n",
       "    .dataframe thead th {\n",
       "        text-align: right;\n",
       "    }\n",
       "</style>\n",
       "<table border=\"1\" class=\"dataframe\">\n",
       "  <thead>\n",
       "    <tr style=\"text-align: right;\">\n",
       "      <th></th>\n",
       "      <th>Date</th>\n",
       "      <th>Open</th>\n",
       "      <th>High</th>\n",
       "      <th>Low</th>\n",
       "      <th>Close</th>\n",
       "      <th>Volume</th>\n",
       "    </tr>\n",
       "  </thead>\n",
       "  <tbody>\n",
       "    <tr>\n",
       "      <th>0</th>\n",
       "      <td>2020-01-02</td>\n",
       "      <td>1675.900024</td>\n",
       "      <td>1678.140015</td>\n",
       "      <td>1653.520020</td>\n",
       "      <td>1666.770020</td>\n",
       "      <td>3458250000</td>\n",
       "    </tr>\n",
       "    <tr>\n",
       "      <th>1</th>\n",
       "      <td>2020-01-03</td>\n",
       "      <td>1655.020020</td>\n",
       "      <td>1664.040039</td>\n",
       "      <td>1648.540039</td>\n",
       "      <td>1660.869995</td>\n",
       "      <td>3461290000</td>\n",
       "    </tr>\n",
       "    <tr>\n",
       "      <th>2</th>\n",
       "      <td>2020-01-06</td>\n",
       "      <td>1650.660034</td>\n",
       "      <td>1664.849976</td>\n",
       "      <td>1645.510010</td>\n",
       "      <td>1663.260010</td>\n",
       "      <td>3674070000</td>\n",
       "    </tr>\n",
       "    <tr>\n",
       "      <th>3</th>\n",
       "      <td>2020-01-07</td>\n",
       "      <td>1659.729980</td>\n",
       "      <td>1662.099976</td>\n",
       "      <td>1653.329956</td>\n",
       "      <td>1658.310059</td>\n",
       "      <td>3420380000</td>\n",
       "    </tr>\n",
       "    <tr>\n",
       "      <th>4</th>\n",
       "      <td>2020-01-08</td>\n",
       "      <td>1658.469971</td>\n",
       "      <td>1669.290039</td>\n",
       "      <td>1658.229980</td>\n",
       "      <td>1663.589966</td>\n",
       "      <td>3720890000</td>\n",
       "    </tr>\n",
       "  </tbody>\n",
       "</table>\n",
       "</div>"
      ],
      "text/plain": [
       "        Date         Open         High          Low        Close      Volume\n",
       "0 2020-01-02  1675.900024  1678.140015  1653.520020  1666.770020  3458250000\n",
       "1 2020-01-03  1655.020020  1664.040039  1648.540039  1660.869995  3461290000\n",
       "2 2020-01-06  1650.660034  1664.849976  1645.510010  1663.260010  3674070000\n",
       "3 2020-01-07  1659.729980  1662.099976  1653.329956  1658.310059  3420380000\n",
       "4 2020-01-08  1658.469971  1669.290039  1658.229980  1663.589966  3720890000"
      ]
     },
     "execution_count": 57,
     "metadata": {},
     "output_type": "execute_result"
    }
   ],
   "source": [
    "rs=rs.reset_index()\n",
    "rs.head()"
   ]
  },
  {
   "cell_type": "code",
   "execution_count": 58,
   "metadata": {},
   "outputs": [
    {
     "data": {
      "text/html": [
       "<div>\n",
       "<style scoped>\n",
       "    .dataframe tbody tr th:only-of-type {\n",
       "        vertical-align: middle;\n",
       "    }\n",
       "\n",
       "    .dataframe tbody tr th {\n",
       "        vertical-align: top;\n",
       "    }\n",
       "\n",
       "    .dataframe thead th {\n",
       "        text-align: right;\n",
       "    }\n",
       "</style>\n",
       "<table border=\"1\" class=\"dataframe\">\n",
       "  <thead>\n",
       "    <tr style=\"text-align: right;\">\n",
       "      <th></th>\n",
       "      <th>date</th>\n",
       "      <th>Close</th>\n",
       "    </tr>\n",
       "  </thead>\n",
       "  <tbody>\n",
       "    <tr>\n",
       "      <th>0</th>\n",
       "      <td>2020-01-02</td>\n",
       "      <td>143.949997</td>\n",
       "    </tr>\n",
       "    <tr>\n",
       "      <th>1</th>\n",
       "      <td>2020-01-03</td>\n",
       "      <td>145.860001</td>\n",
       "    </tr>\n",
       "    <tr>\n",
       "      <th>2</th>\n",
       "      <td>2020-01-06</td>\n",
       "      <td>147.389999</td>\n",
       "    </tr>\n",
       "    <tr>\n",
       "      <th>3</th>\n",
       "      <td>2020-01-07</td>\n",
       "      <td>147.970001</td>\n",
       "    </tr>\n",
       "    <tr>\n",
       "      <th>4</th>\n",
       "      <td>2020-01-08</td>\n",
       "      <td>146.860001</td>\n",
       "    </tr>\n",
       "  </tbody>\n",
       "</table>\n",
       "</div>"
      ],
      "text/plain": [
       "        date       Close\n",
       "0 2020-01-02  143.949997\n",
       "1 2020-01-03  145.860001\n",
       "2 2020-01-06  147.389999\n",
       "3 2020-01-07  147.970001\n",
       "4 2020-01-08  146.860001"
      ]
     },
     "execution_count": 58,
     "metadata": {},
     "output_type": "execute_result"
    }
   ],
   "source": [
    "gld.head()"
   ]
  },
  {
   "cell_type": "code",
   "execution_count": 59,
   "metadata": {},
   "outputs": [
    {
     "data": {
      "text/html": [
       "<div>\n",
       "<style scoped>\n",
       "    .dataframe tbody tr th:only-of-type {\n",
       "        vertical-align: middle;\n",
       "    }\n",
       "\n",
       "    .dataframe tbody tr th {\n",
       "        vertical-align: top;\n",
       "    }\n",
       "\n",
       "    .dataframe thead th {\n",
       "        text-align: right;\n",
       "    }\n",
       "</style>\n",
       "<table border=\"1\" class=\"dataframe\">\n",
       "  <thead>\n",
       "    <tr style=\"text-align: right;\">\n",
       "      <th></th>\n",
       "      <th>date</th>\n",
       "      <th>Russell_2000_Index</th>\n",
       "    </tr>\n",
       "  </thead>\n",
       "  <tbody>\n",
       "    <tr>\n",
       "      <th>0</th>\n",
       "      <td>2020-01-02</td>\n",
       "      <td>1666.770020</td>\n",
       "    </tr>\n",
       "    <tr>\n",
       "      <th>1</th>\n",
       "      <td>2020-01-03</td>\n",
       "      <td>1660.869995</td>\n",
       "    </tr>\n",
       "    <tr>\n",
       "      <th>2</th>\n",
       "      <td>2020-01-06</td>\n",
       "      <td>1663.260010</td>\n",
       "    </tr>\n",
       "    <tr>\n",
       "      <th>3</th>\n",
       "      <td>2020-01-07</td>\n",
       "      <td>1658.310059</td>\n",
       "    </tr>\n",
       "    <tr>\n",
       "      <th>4</th>\n",
       "      <td>2020-01-08</td>\n",
       "      <td>1663.589966</td>\n",
       "    </tr>\n",
       "  </tbody>\n",
       "</table>\n",
       "</div>"
      ],
      "text/plain": [
       "        date  Russell_2000_Index\n",
       "0 2020-01-02         1666.770020\n",
       "1 2020-01-03         1660.869995\n",
       "2 2020-01-06         1663.260010\n",
       "3 2020-01-07         1658.310059\n",
       "4 2020-01-08         1663.589966"
      ]
     },
     "execution_count": 59,
     "metadata": {},
     "output_type": "execute_result"
    }
   ],
   "source": [
    "# rearrange a dataframe\n",
    "fea_df2=rs[['Date','Close']]\n",
    "fea_df2=fea_df2.rename(columns={'Date':'date','Close':'Russell_2000_Index'})\n",
    "pd.to_datetime(fea_df2.date)\n",
    "fea_df2.head()"
   ]
  },
  {
   "cell_type": "code",
   "execution_count": 60,
   "metadata": {},
   "outputs": [
    {
     "data": {
      "text/html": [
       "<div>\n",
       "<style scoped>\n",
       "    .dataframe tbody tr th:only-of-type {\n",
       "        vertical-align: middle;\n",
       "    }\n",
       "\n",
       "    .dataframe tbody tr th {\n",
       "        vertical-align: top;\n",
       "    }\n",
       "\n",
       "    .dataframe thead th {\n",
       "        text-align: right;\n",
       "    }\n",
       "</style>\n",
       "<table border=\"1\" class=\"dataframe\">\n",
       "  <thead>\n",
       "    <tr style=\"text-align: right;\">\n",
       "      <th></th>\n",
       "      <th>date</th>\n",
       "      <th>Russell_2000_Index</th>\n",
       "      <th>Close</th>\n",
       "    </tr>\n",
       "  </thead>\n",
       "  <tbody>\n",
       "    <tr>\n",
       "      <th>0</th>\n",
       "      <td>2020-01-02</td>\n",
       "      <td>1666.770020</td>\n",
       "      <td>143.949997</td>\n",
       "    </tr>\n",
       "    <tr>\n",
       "      <th>1</th>\n",
       "      <td>2020-01-03</td>\n",
       "      <td>1660.869995</td>\n",
       "      <td>145.860001</td>\n",
       "    </tr>\n",
       "    <tr>\n",
       "      <th>2</th>\n",
       "      <td>2020-01-06</td>\n",
       "      <td>1663.260010</td>\n",
       "      <td>147.389999</td>\n",
       "    </tr>\n",
       "    <tr>\n",
       "      <th>3</th>\n",
       "      <td>2020-01-07</td>\n",
       "      <td>1658.310059</td>\n",
       "      <td>147.970001</td>\n",
       "    </tr>\n",
       "    <tr>\n",
       "      <th>4</th>\n",
       "      <td>2020-01-08</td>\n",
       "      <td>1663.589966</td>\n",
       "      <td>146.860001</td>\n",
       "    </tr>\n",
       "  </tbody>\n",
       "</table>\n",
       "</div>"
      ],
      "text/plain": [
       "        date  Russell_2000_Index       Close\n",
       "0 2020-01-02         1666.770020  143.949997\n",
       "1 2020-01-03         1660.869995  145.860001\n",
       "2 2020-01-06         1663.260010  147.389999\n",
       "3 2020-01-07         1658.310059  147.970001\n",
       "4 2020-01-08         1663.589966  146.860001"
      ]
     },
     "execution_count": 60,
     "metadata": {},
     "output_type": "execute_result"
    }
   ],
   "source": [
    "# add the column, next-day gld price\n",
    "gr_df=fea_df2.merge(gld, how='inner', on='date')\n",
    "gr_df.head()"
   ]
  },
  {
   "cell_type": "code",
   "execution_count": 61,
   "metadata": {},
   "outputs": [
    {
     "name": "stdout",
     "output_type": "stream",
     "text": [
      "<class 'pandas.core.frame.DataFrame'>\n",
      "Int64Index: 289 entries, 0 to 288\n",
      "Data columns (total 3 columns):\n",
      " #   Column              Non-Null Count  Dtype         \n",
      "---  ------              --------------  -----         \n",
      " 0   date                289 non-null    datetime64[ns]\n",
      " 1   Russell_2000_Index  289 non-null    float64       \n",
      " 2   Close               289 non-null    float64       \n",
      "dtypes: datetime64[ns](1), float64(2)\n",
      "memory usage: 9.0 KB\n"
     ]
    }
   ],
   "source": [
    "gr_df.info()"
   ]
  },
  {
   "cell_type": "code",
   "execution_count": 62,
   "metadata": {},
   "outputs": [],
   "source": [
    "# make GLD price column as next day price\n",
    "gr_df.Close=gr_df.Close.shift(-1)\n",
    "\n",
    "gr_df=gr_df.dropna(axis=0)\n",
    "gr_df.reset_index(drop=True, inplace=True)"
   ]
  },
  {
   "cell_type": "code",
   "execution_count": 64,
   "metadata": {},
   "outputs": [
    {
     "data": {
      "image/png": "[encoded data removed]",
      "text/plain": [
       "<Figure size 432x288 with 1 Axes>"
      ]
     },
     "metadata": {
      "needs_background": "light"
     },
     "output_type": "display_data"
    }
   ],
   "source": [
    "gr_df.rename(columns={'Close':'next_day_price'}, inplace=True)\n",
    "gr_df.plot(x='Russell_2000_Index', y='next_day_price', kind='scatter')\n",
    "plt.show()"
   ]
  },
  {
   "cell_type": "code",
   "execution_count": 65,
   "metadata": {},
   "outputs": [],
   "source": [
    "# pipeline constructor #create a list of turples\n",
    "xtrain2, xtest2, ytrain2, ytest2=train_test_split(gr_df[['Russell_2000_Index']], gr_df['next_day_price'], test_size=0.2, random_state=0)\n",
    "\n",
    "degrees=[]\n",
    "models=[]\n",
    "yhats=[]\n",
    "accuracies=[]\n",
    "for d in range(2,20):\n",
    "    degrees.append(d)\n",
    "    Input2=[('Scale', StandardScaler()),('polynomial', PolynomialFeatures(degree=d)), ('model', LinearRegression()) ] \n",
    "    pipe2=Pipeline(Input2)  #input the list in the pipeline constructor.\n",
    "\n",
    "    # train the pipeline object\n",
    "    pipe2.fit(xtrain2, ytrain2)\n",
    "    models.append(pipe2)\n",
    "    \n",
    "    # produce prediction\n",
    "    yhat2=pipe2.predict(xtest2)\n",
    "    yhats.append(yhat2)\n",
    "\n",
    "    # evaluate the model\n",
    "    accuracies.append(round((pipe2.score(xtest2, ytest2)*100),2))"
   ]
  },
  {
   "cell_type": "code",
   "execution_count": 66,
   "metadata": {},
   "outputs": [
    {
     "data": {
      "image/png": "[encoded data removed]",
      "text/plain": [
       "<Figure size 432x288 with 1 Axes>"
      ]
     },
     "metadata": {
      "needs_background": "light"
     },
     "output_type": "display_data"
    }
   ],
   "source": [
    "pd.DataFrame(accuracies, index=degrees).plot()\n",
    "plt.xticks(degrees)\n",
    "plt.yticks(np.arange(0,101, 10))\n",
    "plt.legend('')\n",
    "plt.xlabel('Polynomial Degree')\n",
    "plt.ylabel('Model Accuracy')\n",
    "plt.text(x=13.5, y=max(accuracies)+5, s=str(max(accuracies))+'%')\n",
    "plt.show()"
   ]
  },
  {
   "cell_type": "code",
   "execution_count": 67,
   "metadata": {},
   "outputs": [
    {
     "data": {
      "image/png": "[encoded data removed]",
      "text/plain": [
       "<Figure size 432x288 with 1 Axes>"
      ]
     },
     "metadata": {
      "needs_background": "light"
     },
     "output_type": "display_data"
    }
   ],
   "source": [
    "i=accuracies.index(max(accuracies))\n",
    "\n",
    "# create a dataframe with actual GLD price and predicted price.\n",
    "test2=xtest2\n",
    "test2['actual_price']=ytest2\n",
    "test2['predicted_price']=yhats[i]\n",
    "\n",
    "# sort values by the number of new cases in ascending order\n",
    "test2=test2.sort_values('Russell_2000_Index')\n",
    "test2.reset_index(drop=True, inplace=True)\n",
    "\n",
    "# plot predition line and actual observations\n",
    "\n",
    "# plot actual price data points\n",
    "plt.scatter(test2.Russell_2000_Index,test2.actual_price, color='red')\n",
    "\n",
    "# plot prediction model (polynomial regression model)\n",
    "plt.plot(test2.Russell_2000_Index, test2.predicted_price, color='blue')\n",
    "plt.title('Next-Day GLD Price Prediction Model (degree: %s)' %(degrees[i]))\n",
    "plt.xlabel('Russell_2000_Index')\n",
    "plt.ylabel('GLD price(USD)')\n",
    "plt.legend()\n",
    "plt.show()"
   ]
  },
  {
   "cell_type": "markdown",
   "metadata": {},
   "source": [
    "<br>\n",
    "<p>\n",
    "    <font size='3'>\n",
    "          I found out the highest model accuracy was 46.37 % at polynomial degree, 14 when I generated multiple polynomial regression models of degree range 2 to 20. The maximum accuracy is only 46.37%, so Russell 2000 index alone doesn't seem like a good predictor for GLD price. \n",
    "    </font>\n",
    "</p>\n",
    "<br>"
   ]
  }
 ],
 "metadata": {
  "kernelspec": {
   "display_name": "Python 3",
   "language": "python",
   "name": "python3"
  },
  "language_info": {
   "codemirror_mode": {
    "name": "ipython",
    "version": 3
   },
   "file_extension": ".py",
   "mimetype": "text/x-python",
   "name": "python",
   "nbconvert_exporter": "python",
   "pygments_lexer": "ipython3",
   "version": "3.7.6"
  }
 },
 "nbformat": 4,
 "nbformat_minor": 4
}

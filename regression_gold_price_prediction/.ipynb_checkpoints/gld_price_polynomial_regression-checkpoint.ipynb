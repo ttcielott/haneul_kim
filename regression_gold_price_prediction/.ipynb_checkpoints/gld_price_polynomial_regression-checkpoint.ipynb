{
 "cells": [
  {
   "cell_type": "markdown",
   "metadata": {},
   "source": [
    "<h1> Machine Learning: Regression Model</h1>\n",
    "<h2>\"Gold Price Prediction Model\"</h2>"
   ]
  },
  {
   "cell_type": "markdown",
   "metadata": {},
   "source": [
    "<p>\n",
    "    <font size='3'> Gold is perceived as one of the safest investment, so the price of gold mostly increases during economic crisis. Since the latest economic crisis, Covid 19 pandemic, without doubt, the price of gold has also been rising. Considering this circumstance and relationship, I will explore the data to find relevant feature among indicators reflecting Covid trend, and build a regression prediction model that you can predict next day's gold price based on today's number of new cases and new deaths of Covid 19.\n",
    "        <ul>\n",
    "            <li><b>Dataset:</b> the past Gold ETF(<a href src=\"https://en.wikipedia.org/wiki/SPDR_Gold_Shares\">GLD</a>) prices, COVID 19 dataset </li>\n",
    "            <li><b>Prediction Target:</b> the next-day price of gold </li>\n",
    "        </ul>\n",
    "    </font>\n",
    "    <font size='2'>\n",
    "        Gold ETF price data source: <a href scr='https://finance.yahoo.com/quote/GLD/'>Yahoo Finance, SPDR Gold Shares</a>\n",
    "        <br>\n",
    "        COVID 19 data source: <a href scr='https://ourworldindata.org/coronavirus-source-data'>Our World in Data, Coronavirus Source Data</a>\n",
    "    </font>\n",
    "</p>"
   ]
  },
  {
   "cell_type": "code",
   "execution_count": null,
   "metadata": {},
   "outputs": [],
   "source": [
    "import wget\n",
    "import yfinance as yf\n",
    "import pandas as pd\n",
    "import numpy as np\n",
    "import matplotlib.pyplot as plt\n",
    "%matplotlib inline\n",
    "from sklearn.model_selection import train_test_split\n",
    "from sklearn.linear_model import LinearRegression"
   ]
  },
  {
   "cell_type": "code",
   "execution_count": null,
   "metadata": {},
   "outputs": [],
   "source": [
    "# load data: covid 19 data\n",
    "covid_df=pd.read_csv('https://raw.githubusercontent.com/owid/covid-19-data/master/public/data/owid-covid-data.csv')"
   ]
  },
  {
   "cell_type": "markdown",
   "metadata": {},
   "source": [
    "## About Dataset\n",
    "\n",
    "This COVID-19 dataset is a collection of the COVID-19 data maintained by [Our World in Data](https://ourworldindata.org/coronavirus-source-data). It is updated daily and includes data on confirmed cases, deaths, hospitalizations, testing, and vaccinations as well as other variables of potential interest.\n",
    "\n",
    "**Column details can be found [here](https://github.com/owid/covid-19-data/blob/master/public/data/owid-covid-codebook.csv)**"
   ]
  },
  {
   "cell_type": "markdown",
   "metadata": {},
   "source": [
    "## 1. Exploratory Data Analysis"
   ]
  },
  {
   "cell_type": "code",
   "execution_count": null,
   "metadata": {},
   "outputs": [],
   "source": [
    "covid_df.tail()"
   ]
  },
  {
   "cell_type": "code",
   "execution_count": null,
   "metadata": {},
   "outputs": [],
   "source": [
    "# load data: gold ETF, 'GLD' price\n",
    "# period: form the start date of covid dataset to today\n",
    "\n",
    "covid_sdate=covid_df['date'].min()\n",
    "today=pd.to_datetime('today')\n",
    "gld_df=yf.download('GLD', covid_sdate, today, auto_adjust=True)\n",
    "gld_df.head()"
   ]
  },
  {
   "cell_type": "code",
   "execution_count": null,
   "metadata": {},
   "outputs": [],
   "source": [
    "# reset index\n",
    "gld_df.reset_index(inplace=True)\n",
    "gld_df.tail()"
   ]
  },
  {
   "cell_type": "code",
   "execution_count": null,
   "metadata": {},
   "outputs": [],
   "source": [
    "gld_df.info()"
   ]
  },
  {
   "cell_type": "code",
   "execution_count": null,
   "metadata": {},
   "outputs": [],
   "source": [
    "covid_df.info()"
   ]
  },
  {
   "cell_type": "code",
   "execution_count": null,
   "metadata": {},
   "outputs": [],
   "source": [
    "covid_df['location'].unique()"
   ]
  },
  {
   "cell_type": "markdown",
   "metadata": {},
   "source": [
    "<br>\n",
    "<p>\n",
    "    <font size='3'>This data contains the observations by each country such as 'United Kingdom' as well as by area such as 'North Americas'. Luckily, there is a location category, 'world.' For convenience, I'll select the data with the value, 'world' in the location column.\n",
    "    </font>\n",
    "</p>\n",
    "<br>"
   ]
  },
  {
   "cell_type": "code",
   "execution_count": null,
   "metadata": {},
   "outputs": [],
   "source": [
    "# pick rows related to worldwide data.\n",
    "fea_df=covid_df[covid_df['location']=='World']\n",
    "fea_df.info()"
   ]
  },
  {
   "cell_type": "markdown",
   "metadata": {},
   "source": [
    "<br>\n",
    "<p>\n",
    "    <font size='3'> I picked 'date', 'new_cases', and 'new_deaths' as they seem like the most relevant data demonstrating the daily rise and fall of covid numbers while the rest columns are accumulated values or demographic informaton.\n",
    "        'New vaccination' could be a potentially good predictor, but the number of data is still very low (62 as the date of Feburary 24th, 2021), so I excluded it from further analysis. \n",
    "    </font>\n",
    "</p>\n",
    "<br>"
   ]
  },
  {
   "cell_type": "code",
   "execution_count": null,
   "metadata": {},
   "outputs": [],
   "source": [
    "# pick relevant columns\n",
    "fea_df=fea_df[['date','new_cases','new_deaths']]\n",
    "\n",
    "# reset index\n",
    "fea_df.reset_index(drop=True, inplace=True)\n",
    "\n",
    "# view a dataframe\n",
    "fea_df.tail()"
   ]
  },
  {
   "cell_type": "code",
   "execution_count": null,
   "metadata": {},
   "outputs": [],
   "source": [
    "fea_df.info()"
   ]
  },
  {
   "cell_type": "code",
   "execution_count": null,
   "metadata": {},
   "outputs": [],
   "source": [
    "# merge the gold price dataframe and covid dataframe\n",
    "\n",
    "# rename the column name of date to match with the other dataframe.\n",
    "gld_df.rename(columns={'Date':'date'},inplace=True)\n",
    "gld=gld_df[['date','Close']]\n",
    "\n",
    "# covert data type to match with the other dataframe.\n",
    "fea_df['date']=pd.to_datetime(fea_df['date'])\n",
    "\n",
    "# merge\n",
    "gc_df=fea_df.merge(gld, how='inner', on='date')\n",
    "gc_df.tail()"
   ]
  },
  {
   "cell_type": "code",
   "execution_count": null,
   "metadata": {},
   "outputs": [],
   "source": [
    "gc_df.shape"
   ]
  },
  {
   "cell_type": "code",
   "execution_count": null,
   "metadata": {},
   "outputs": [],
   "source": [
    "# plot the number of Covid new dases and GLD price\n",
    "gc_df.plot(x='new_cases', y='Close', kind='scatter')\n",
    "plt.xticks(rotation=45)\n",
    "plt.xlabel('Covid New Cases')\n",
    "plt.ylabel('GLD price')\n",
    "plt.xlim(gc_df.new_cases.min(), gc_df.new_cases.max())\n",
    "plt.ylim(gc_df.Close.min()-5, gc_df.Close.max()+5)\n",
    "plt.show()"
   ]
  },
  {
   "cell_type": "markdown",
   "metadata": {},
   "source": [
    "<br>\n",
    "<p>\n",
    "    <font size='3'> The plot shows that GLD price grew very steeply from 140 to 170 USD in the section of Covid new cases, 0 to 100,000 ns  a spike over 190 USD came in the section, 200,000 to 300,000.\n",
    "        After 300,000 cases, the price moved between 170 USD 180 USD. It appears that the number of daily covid new cases could be a good predictor for GLD price.\n",
    "    </font>\n",
    "</p>\n",
    "<br>"
   ]
  },
  {
   "cell_type": "code",
   "execution_count": null,
   "metadata": {},
   "outputs": [],
   "source": [
    "# plot the number of Covid new cases and GLD price\n",
    "gc_df.plot(x='new_deaths', y='Close', kind='scatter')\n",
    "plt.xlabel('Covid New Deaths')\n",
    "plt.ylabel('GLD price')\n",
    "plt.show()"
   ]
  },
  {
   "cell_type": "code",
   "execution_count": null,
   "metadata": {},
   "outputs": [],
   "source": [
    "# plot the number of Covid new cases and GLD price\n",
    "gc_df.plot(x='new_cases', y='new_deaths', kind='scatter')\n",
    "plt.xlabel('Covid New Cases')\n",
    "plt.ylabel('Covid New Deaths')\n",
    "plt.show()"
   ]
  },
  {
   "cell_type": "markdown",
   "metadata": {},
   "source": [
    "<br>\n",
    "<p>\n",
    "    <font size='3'> The plot shows that GLD prices along x-axis are too disperse and can't see the general trend of datapoints. The number of daily covid new death may not be a good predictor for GLD price. However, I'll check if there is any distinguishable trend when both features are plotted in 3D graph.\n",
    "    </font>\n",
    "</p>\n",
    "<br>"
   ]
  },
  {
   "cell_type": "code",
   "execution_count": null,
   "metadata": {},
   "outputs": [],
   "source": [
    "gc_df=gc_df.sort_values('new_cases')\n",
    "gc_df=gc_df.reset_index(drop=True)"
   ]
  },
  {
   "cell_type": "code",
   "execution_count": null,
   "metadata": {},
   "outputs": [],
   "source": [
    "# plotting 3D\n",
    "from mpl_toolkits import mplot3d\n",
    "fig = plt.figure()\n",
    "ax = plt.axes(projection='3d')\n",
    "\n",
    "\n",
    "# Data for a three-dimensional scattered points\n",
    "zdata = gc_df.Close\n",
    "xdata = gc_df.new_cases\n",
    "ydata = gc_df.new_deaths\n",
    "\n",
    "ax.scatter3D(xdata, ydata, zdata, c=zdata, cmap='Greens')\n",
    "ax.set_xlabel('new casess')\n",
    "ax.set_ylabel('new deaths')\n",
    "ax.set_zlabel('Price')\n",
    "ax.invert_xaxis()\n",
    "ax.view_init(30, 300)"
   ]
  },
  {
   "cell_type": "markdown",
   "metadata": {},
   "source": [
    "<br>\n",
    "<p>\n",
    "    <font size='3'>\n",
    "        3D plot doesn't demonstrate a particular shape and I can't see any impact by the number of new death in changing the shape.  \n",
    "        <br>\n",
    "        Therefore, I will exclude 'new death' from feature set. \n",
    "    </font>\n",
    "</p>\n",
    "<br>"
   ]
  },
  {
   "cell_type": "code",
   "execution_count": null,
   "metadata": {},
   "outputs": [],
   "source": [
    "# move the position of row upward to make 'Close' columns as next day's price\n",
    "gc_df['Close']=gc_df['Close'].shift(-1)\n",
    "\n",
    "# drop the last row\n",
    "gc_df=gc_df.drop(index=gc_df.shape[0]-1)\n",
    "\n",
    "# rename the price column\n",
    "gc_df=gc_df.rename(columns={'Close':'next_day_price'})"
   ]
  },
  {
   "cell_type": "markdown",
   "metadata": {},
   "source": [
    "## 2. Modeling"
   ]
  },
  {
   "cell_type": "code",
   "execution_count": null,
   "metadata": {},
   "outputs": [],
   "source": [
    "# import preprocessing\n",
    "from sklearn.preprocessing import PolynomialFeatures\n",
    "from sklearn.preprocessing import StandardScaler\n",
    "\n",
    "# import the library pipeline\n",
    "from sklearn.pipeline import Pipeline\n",
    "\n",
    "# pipeline constructor #create a list of turples\n",
    "xtrain, xtest, ytrain, ytest=train_test_split(gc_df[['new_cases']], gc_df['next_day_price'], test_size=0.3, random_state=0)\n",
    "Input=[('Scale', StandardScaler()),('polynomial', PolynomialFeatures(degree=3)), ('model', LinearRegression()) ] \n",
    "pipe=Pipeline(Input)  #input the list in the pipeline constructor.\n",
    "\n",
    "# train the pipeline object\n",
    "pipe.fit(xtrain, ytrain)\n",
    "\n",
    "# produce prediction\n",
    "yhat=pipe.predict(xtest)"
   ]
  },
  {
   "cell_type": "markdown",
   "metadata": {},
   "source": [
    "## 3. Model Evaluation"
   ]
  },
  {
   "cell_type": "code",
   "execution_count": null,
   "metadata": {},
   "outputs": [],
   "source": [
    "# evaluate the model\n",
    "print('Evaluation Score: {0:.2f}'.format(pipe.score(xtest, ytest)*100))"
   ]
  },
  {
   "cell_type": "markdown",
   "metadata": {},
   "source": [
    "## 4. Model Visualization"
   ]
  },
  {
   "cell_type": "code",
   "execution_count": null,
   "metadata": {},
   "outputs": [],
   "source": [
    "# create a dataframe with actual GLD price and predicted price.\n",
    "test=xtest\n",
    "test['actual_price']=ytest\n",
    "test['predicted_price']=yhat\n",
    "\n",
    "# sort values by the number of new cases in ascending order\n",
    "test=test.sort_values('new_cases')\n",
    "test.reset_index(drop=True, inplace=True)"
   ]
  },
  {
   "cell_type": "code",
   "execution_count": null,
   "metadata": {},
   "outputs": [],
   "source": [
    "# plot predition line and actual observations\n",
    "\n",
    "# plot actual price data points\n",
    "plt.scatter(test.new_cases,test.actual_price, color='red')\n",
    "\n",
    "# plot prediction model (polynomial regression model)\n",
    "plt.plot(test.new_cases, test.predicted_price, color='blue')\n",
    "plt.title('Next-Day GLD Price Prediction Model')\n",
    "plt.xlabel('Number of Covid New Cases')\n",
    "plt.ylabel('GLD price(USD)')\n",
    "plt.legend()\n",
    "plt.show()"
   ]
  },
  {
   "cell_type": "markdown",
   "metadata": {},
   "source": [
    "## Additional Theory Testing: GLD price prediction model with Russell 2000 index\n",
    "<br>\n",
    "<p>\n",
    "    <font size='3'>\n",
    "         Russell 2000 Index is a small-cap stock index consisting of the smallest 2,000 stocks in the Russell 3000 Index, often regarded as risky investment, and hence sensatively respond to the economic situation. In the light of such characteristics, I will explore the index's relationship with GLD price and generate a prediction model to see if the index can also be a good predictor. \n",
    "    </font>\n",
    "</p>\n",
    "<br>\n"
   ]
  },
  {
   "cell_type": "code",
   "execution_count": null,
   "metadata": {},
   "outputs": [],
   "source": [
    "# load 'Russell 2000 index' data\n",
    "rs=yf.download('^RUT', covid_sdat, today, auto_adjust=True)\n",
    "print('Russell 2000 Index: ',rs.shape[0])"
   ]
  },
  {
   "cell_type": "code",
   "execution_count": null,
   "metadata": {},
   "outputs": [],
   "source": [
    "rs.info()"
   ]
  },
  {
   "cell_type": "code",
   "execution_count": null,
   "metadata": {},
   "outputs": [],
   "source": [
    "# rearrange a dataframe\n",
    "rs.reset_index(inplace=True)\n",
    "fea_df2=rs[['Date','Close']]\n",
    "fea_df2=fea_df2.rename(columns={'Date':'date','Close':'Russell_2000_Index'})\n",
    "pd.to_datetime(fea_df2.Date)\n",
    "fea_df2.head()"
   ]
  },
  {
   "cell_type": "code",
   "execution_count": null,
   "metadata": {},
   "outputs": [],
   "source": []
  },
  {
   "cell_type": "code",
   "execution_count": null,
   "metadata": {},
   "outputs": [],
   "source": [
    "# move the position of row upward to make 'Close' columns as next day's price\n",
    "\n",
    "gld2['Close']=gld2['Close'].shift(-1)\n",
    "\n",
    "# drop the last row\n",
    "gld2=gld2.drop(index=gld2[gld2.Close.isnull()].index)\n",
    "\n",
    "# rename the price column\n",
    "gld2=gld2.rename(columns={'Close':'next_day_price'})\n",
    "\n",
    "# merge\n",
    "gr_df=fea_df2.merge(gld2, how='inner', on='Date')"
   ]
  },
  {
   "cell_type": "code",
   "execution_count": null,
   "metadata": {},
   "outputs": [],
   "source": [
    "gr_df.info()"
   ]
  },
  {
   "cell_type": "code",
   "execution_count": null,
   "metadata": {},
   "outputs": [],
   "source": [
    "gr_df.plot(x='Russell_2000_Index', y='next_day_price', kind='scatter')\n",
    "plt.show()"
   ]
  },
  {
   "cell_type": "code",
   "execution_count": null,
   "metadata": {},
   "outputs": [],
   "source": [
    "# pipeline constructor #create a list of turples\n",
    "xtrain2, xtest2, ytrain2, ytest2=train_test_split(gr_df[['Russell_2000_Index']], gr_df['next_day_price'], test_size=0.2, random_state=0)\n",
    "\n",
    "degrees=[]\n",
    "models=[]\n",
    "yhats=[]\n",
    "accuracies=[]\n",
    "for d in range(2,20):\n",
    "    degrees.append(d)\n",
    "    Input2=[('Scale', StandardScaler()),('polynomial', PolynomialFeatures(degree=d)), ('model', LinearRegression()) ] \n",
    "    pipe2=Pipeline(Input2)  #input the list in the pipeline constructor.\n",
    "\n",
    "    # train the pipeline object\n",
    "    pipe2.fit(xtrain2, ytrain2)\n",
    "    models.append(pipe2)\n",
    "    \n",
    "    # produce prediction\n",
    "    yhat2=pipe2.predict(xtest2)\n",
    "    yhats.append(yhat2)\n",
    "\n",
    "    # evaluate the model\n",
    "    accuracies.append(round((pipe2.score(xtest2, ytest2)*100),2))"
   ]
  },
  {
   "cell_type": "code",
   "execution_count": null,
   "metadata": {},
   "outputs": [],
   "source": [
    "pd.DataFrame(accuracies, index=degrees).plot()\n",
    "plt.xticks(degrees)\n",
    "plt.yticks(np.arange(0,101, 10))\n",
    "plt.legend('')\n",
    "plt.xlabel('Polynomial Degree')\n",
    "plt.ylabel('Model Accuracy')\n",
    "plt.text(x=13.5, y=max(accuracies)+5, s=str(max(accuracies))+'%')\n",
    "plt.show()"
   ]
  },
  {
   "cell_type": "code",
   "execution_count": null,
   "metadata": {},
   "outputs": [],
   "source": [
    "i=accuracies.index(max(accuracies))\n",
    "\n",
    "# create a dataframe with actual GLD price and predicted price.\n",
    "test2=xtest2\n",
    "test2['actual_price']=ytest2\n",
    "test2['predicted_price']=yhats[i]\n",
    "\n",
    "# sort values by the number of new cases in ascending order\n",
    "test2=test2.sort_values('Russell_2000_Index')\n",
    "test2.reset_index(drop=True, inplace=True)\n",
    "\n",
    "# plot predition line and actual observations\n",
    "\n",
    "# plot actual price data points\n",
    "plt.scatter(test2.Russell_2000_Index,test2.actual_price, color='red')\n",
    "\n",
    "# plot prediction model (polynomial regression model)\n",
    "plt.plot(test2.Russell_2000_Index, test2.predicted_price, color='blue')\n",
    "plt.title('Next-Day GLD Price Prediction Model (degree: %s)' %(degrees[i]))\n",
    "plt.xlabel('Russell_2000_Index')\n",
    "plt.ylabel('GLD price(USD)')\n",
    "plt.legend()\n",
    "plt.show()"
   ]
  },
  {
   "cell_type": "markdown",
   "metadata": {},
   "source": [
    "## Additional Theory Testing: GLD price prediction model with Russell 2000 index\n",
    "<br>\n",
    "<p>\n",
    "    <font size='3'>\n",
    "          degree of polynomial The model accuracy was 46%\n",
    "    </font>\n",
    "</p>\n",
    "<br>"
   ]
  }
 ],
 "metadata": {
  "kernelspec": {
   "display_name": "Python 3",
   "language": "python",
   "name": "python3"
  },
  "language_info": {
   "codemirror_mode": {
    "name": "ipython",
    "version": 3
   },
   "file_extension": ".py",
   "mimetype": "text/x-python",
   "name": "python",
   "nbconvert_exporter": "python",
   "pygments_lexer": "ipython3",
   "version": "3.7.6"
  }
 },
 "nbformat": 4,
 "nbformat_minor": 4
}

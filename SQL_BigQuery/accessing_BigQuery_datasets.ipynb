{
 "cells": [
  {
   "cell_type": "markdown",
   "metadata": {},
   "source": [
    "# Basics of accessing and examing BigQuery datasets"
   ]
  },
  {
   "cell_type": "code",
   "execution_count": 1,
   "metadata": {},
   "outputs": [],
   "source": [
    "# import package\n",
    "from google.cloud import bigquery"
   ]
  },
  {
   "cell_type": "markdown",
   "metadata": {},
   "source": [
    "## 1. Create Client Object\n",
    "\n",
    "The client object plays a central role in retrieving information from BigQuery datasets."
   ]
  },
  {
   "cell_type": "code",
   "execution_count": 2,
   "metadata": {},
   "outputs": [],
   "source": [
    "# create a client object\n",
    "client = bigquery.Client()"
   ]
  },
  {
   "cell_type": "markdown",
   "metadata": {},
   "source": [
    "## 2. Access the Dataset in BigQuery\n",
    "\n",
    "In BigQuery, each dataset is contained in a corresponding project. I'll access the project called \"bigquery-public-data\" and obtain the dataset, \"hacker_new\" which is a dataset of posts on [Hacker News](https://news.ycombinator.com/), a website focusing on computer science and cybersecurity news.\n",
    "\n",
    "- <code>dataset()</code> for constructing a reference to dataset\n",
    "- <code>get_dataset()</code> for fetching the dataset (by including the reference inside the parentheses) "
   ]
  },
  {
   "cell_type": "code",
   "execution_count": 3,
   "metadata": {},
   "outputs": [],
   "source": [
    "# construct a reference to the \"hacker_news\" dataset\n",
    "dataset_ref = client.dataset(\"hacker_news\", project = \"bigquery-public-data\")\n",
    "\n",
    "# API request - fetch the dataset\n",
    "dataset = client.get_dataset(dataset_ref)"
   ]
  },
  {
   "cell_type": "markdown",
   "metadata": {},
   "source": [
    "<br>\n",
    "The dataset comprises of multiple tables composed of rows and columns.<br>\n",
    "<code>list_tables()</code> for listing the tables in the dataset."
   ]
  },
  {
   "cell_type": "code",
   "execution_count": 4,
   "metadata": {},
   "outputs": [
    {
     "name": "stdout",
     "output_type": "stream",
     "text": [
      "comments\n",
      "full\n",
      "full_201510\n",
      "stories\n"
     ]
    }
   ],
   "source": [
    "# list all the tables in the \"hacker_news\" dataset\n",
    "tables = list(client.list_tables(dataset))\n",
    "\n",
    "# print names of all tables in the dataset\n",
    "for table in tables:\n",
    "    print(table.table_id)"
   ]
  },
  {
   "cell_type": "markdown",
   "metadata": {},
   "source": [
    "<br>\n",
    "As the output above says, the dataset, \"hacker_news\" is a collection of <font color=\"green\"><b> four tables: comments, full, full_201510, stories.</b> </font>"
   ]
  },
  {
   "cell_type": "markdown",
   "metadata": {},
   "source": [
    "<br>\n",
    "Now, I'll fetch one table by constructing a reference to the table name and using <code>get_table()</code> method."
   ]
  },
  {
   "cell_type": "code",
   "execution_count": 5,
   "metadata": {},
   "outputs": [],
   "source": [
    "# construct a reference to the \"full\" table\n",
    "table_ref = dataset_ref.table(\"full\")\n",
    "\n",
    "# API request - fetch the table\n",
    "table = client.get_table(table_ref)"
   ]
  },
  {
   "cell_type": "markdown",
   "metadata": {},
   "source": [
    "## Summary\n",
    "\n",
    "- **Client** holds Projects & Connection.\n",
    "- **Project** holds a collection of datasets.\n",
    "- **Dataset** holds a collection of tables.\n",
    "<br>\n",
    "\n",
    "!['BigQuery Overview'](https://i.imgur.com/biYqbUB.png)\n",
    "[image source: Kaggle]"
   ]
  },
  {
   "cell_type": "markdown",
   "metadata": {},
   "source": [
    "## 3. Checking Table Schema\n",
    "\n",
    "Table Schema means the structure of a table. To effectively pull out the data, I'll check the table schema of the <code>full</code> table."
   ]
  },
  {
   "cell_type": "code",
   "execution_count": 6,
   "metadata": {},
   "outputs": [
    {
     "data": {
      "text/plain": [
       "[SchemaField('title', 'STRING', 'NULLABLE', 'Story title', (), None),\n",
       " SchemaField('url', 'STRING', 'NULLABLE', 'Story url', (), None),\n",
       " SchemaField('text', 'STRING', 'NULLABLE', 'Story or comment text', (), None),\n",
       " SchemaField('dead', 'BOOLEAN', 'NULLABLE', 'Is dead?', (), None),\n",
       " SchemaField('by', 'STRING', 'NULLABLE', \"The username of the item's author.\", (), None),\n",
       " SchemaField('score', 'INTEGER', 'NULLABLE', 'Story score', (), None),\n",
       " SchemaField('time', 'INTEGER', 'NULLABLE', 'Unix time', (), None),\n",
       " SchemaField('timestamp', 'TIMESTAMP', 'NULLABLE', 'Timestamp for the unix time', (), None),\n",
       " SchemaField('type', 'STRING', 'NULLABLE', 'Type of details (comment, comment_ranking, poll, story, job, pollopt)', (), None),\n",
       " SchemaField('id', 'INTEGER', 'NULLABLE', \"The item's unique id.\", (), None),\n",
       " SchemaField('parent', 'INTEGER', 'NULLABLE', 'Parent comment ID', (), None),\n",
       " SchemaField('descendants', 'INTEGER', 'NULLABLE', 'Number of story or poll descendants', (), None),\n",
       " SchemaField('ranking', 'INTEGER', 'NULLABLE', 'Comment ranking', (), None),\n",
       " SchemaField('deleted', 'BOOLEAN', 'NULLABLE', 'Is deleted?', (), None)]"
      ]
     },
     "execution_count": 6,
     "metadata": {},
     "output_type": "execute_result"
    }
   ],
   "source": [
    "# first, print information on all the columns in the \"full\" table in the \"hacker_news\" dataset\n",
    "table.schema"
   ]
  },
  {
   "cell_type": "markdown",
   "metadata": {},
   "source": [
    "**SchemaField** tells us about column(also often called \"field\") information.\n",
    "In order, the information is:\n",
    "\n",
    "- the name of the column\n",
    "- the field type (or datatype) in the column\n",
    "- the mode of the column ('NULLABLE' means that a column allows NULL values and is the default)\n",
    "- a description of the data in that column\n",
    "\n",
    "The first field has the SchemaField:\n",
    "\n",
    "<code>SchemaField('title', 'STRING', 'NULLABLE', 'Story title', (), None)</code>\n",
    "\n",
    "This tells us:\n",
    "\n",
    "- the field(column) name: <code>title</code>\n",
    "- the datatype: <code>string</code>\n",
    "- the mode: NULL value are allowed.\n",
    "- the description: Story title\n",
    "\n",
    "Now, using <code>list_rows()</code>, let's check the first five rows of the <code>full</code> table in the <code>hacker_news</code> dataset. "
   ]
  },
  {
   "cell_type": "code",
   "execution_count": 14,
   "metadata": {},
   "outputs": [
    {
     "data": {
      "text/html": [
       "<div>\n",
       "<style scoped>\n",
       "    .dataframe tbody tr th:only-of-type {\n",
       "        vertical-align: middle;\n",
       "    }\n",
       "\n",
       "    .dataframe tbody tr th {\n",
       "        vertical-align: top;\n",
       "    }\n",
       "\n",
       "    .dataframe thead th {\n",
       "        text-align: right;\n",
       "    }\n",
       "</style>\n",
       "<table border=\"1\" class=\"dataframe\">\n",
       "  <thead>\n",
       "    <tr style=\"text-align: right;\">\n",
       "      <th></th>\n",
       "      <th>title</th>\n",
       "      <th>url</th>\n",
       "      <th>text</th>\n",
       "      <th>dead</th>\n",
       "      <th>by</th>\n",
       "      <th>score</th>\n",
       "      <th>time</th>\n",
       "      <th>timestamp</th>\n",
       "      <th>type</th>\n",
       "      <th>id</th>\n",
       "      <th>parent</th>\n",
       "      <th>descendants</th>\n",
       "      <th>ranking</th>\n",
       "      <th>deleted</th>\n",
       "    </tr>\n",
       "  </thead>\n",
       "  <tbody>\n",
       "    <tr>\n",
       "      <th>0</th>\n",
       "      <td>None</td>\n",
       "      <td>None</td>\n",
       "      <td>Yeah, but $750-800 is way different than $1500...</td>\n",
       "      <td>None</td>\n",
       "      <td>abalashov</td>\n",
       "      <td>NaN</td>\n",
       "      <td>1299653985</td>\n",
       "      <td>2011-03-09 06:59:45+00:00</td>\n",
       "      <td>comment</td>\n",
       "      <td>2304165</td>\n",
       "      <td>2303720</td>\n",
       "      <td>NaN</td>\n",
       "      <td>NaN</td>\n",
       "      <td>None</td>\n",
       "    </tr>\n",
       "    <tr>\n",
       "      <th>1</th>\n",
       "      <td>None</td>\n",
       "      <td>None</td>\n",
       "      <td>Agreed.  We had a summer intern who is a CS ma...</td>\n",
       "      <td>None</td>\n",
       "      <td>mooreds</td>\n",
       "      <td>NaN</td>\n",
       "      <td>1377637633</td>\n",
       "      <td>2013-08-27 21:07:13+00:00</td>\n",
       "      <td>comment</td>\n",
       "      <td>6286286</td>\n",
       "      <td>6285068</td>\n",
       "      <td>NaN</td>\n",
       "      <td>NaN</td>\n",
       "      <td>None</td>\n",
       "    </tr>\n",
       "    <tr>\n",
       "      <th>2</th>\n",
       "      <td>None</td>\n",
       "      <td>None</td>\n",
       "      <td>Oh I&amp;#x27;m not referring to which one is easi...</td>\n",
       "      <td>None</td>\n",
       "      <td>edwinnathaniel</td>\n",
       "      <td>NaN</td>\n",
       "      <td>1377637599</td>\n",
       "      <td>2013-08-27 21:06:39+00:00</td>\n",
       "      <td>comment</td>\n",
       "      <td>6286281</td>\n",
       "      <td>6286194</td>\n",
       "      <td>NaN</td>\n",
       "      <td>NaN</td>\n",
       "      <td>None</td>\n",
       "    </tr>\n",
       "    <tr>\n",
       "      <th>3</th>\n",
       "      <td>None</td>\n",
       "      <td>None</td>\n",
       "      <td>I'm from NY.  I plan on networking as soon as ...</td>\n",
       "      <td>None</td>\n",
       "      <td>Jcasc</td>\n",
       "      <td>NaN</td>\n",
       "      <td>1299653909</td>\n",
       "      <td>2011-03-09 06:58:29+00:00</td>\n",
       "      <td>comment</td>\n",
       "      <td>2304163</td>\n",
       "      <td>2304143</td>\n",
       "      <td>NaN</td>\n",
       "      <td>NaN</td>\n",
       "      <td>None</td>\n",
       "    </tr>\n",
       "    <tr>\n",
       "      <th>4</th>\n",
       "      <td>None</td>\n",
       "      <td>None</td>\n",
       "      <td>In this context, it&amp;#x27;s interesting to look...</td>\n",
       "      <td>None</td>\n",
       "      <td>thebear</td>\n",
       "      <td>NaN</td>\n",
       "      <td>1409084821</td>\n",
       "      <td>2014-08-26 20:27:01+00:00</td>\n",
       "      <td>comment</td>\n",
       "      <td>8229336</td>\n",
       "      <td>8227937</td>\n",
       "      <td>NaN</td>\n",
       "      <td>NaN</td>\n",
       "      <td>None</td>\n",
       "    </tr>\n",
       "  </tbody>\n",
       "</table>\n",
       "</div>"
      ],
      "text/plain": [
       "  title   url                                               text  dead  \\\n",
       "0  None  None  Yeah, but $750-800 is way different than $1500...  None   \n",
       "1  None  None  Agreed.  We had a summer intern who is a CS ma...  None   \n",
       "2  None  None  Oh I&#x27;m not referring to which one is easi...  None   \n",
       "3  None  None  I'm from NY.  I plan on networking as soon as ...  None   \n",
       "4  None  None  In this context, it&#x27;s interesting to look...  None   \n",
       "\n",
       "               by  score        time                 timestamp     type  \\\n",
       "0       abalashov    NaN  1299653985 2011-03-09 06:59:45+00:00  comment   \n",
       "1         mooreds    NaN  1377637633 2013-08-27 21:07:13+00:00  comment   \n",
       "2  edwinnathaniel    NaN  1377637599 2013-08-27 21:06:39+00:00  comment   \n",
       "3           Jcasc    NaN  1299653909 2011-03-09 06:58:29+00:00  comment   \n",
       "4         thebear    NaN  1409084821 2014-08-26 20:27:01+00:00  comment   \n",
       "\n",
       "        id   parent  descendants  ranking deleted  \n",
       "0  2304165  2303720          NaN      NaN    None  \n",
       "1  6286286  6285068          NaN      NaN    None  \n",
       "2  6286281  6286194          NaN      NaN    None  \n",
       "3  2304163  2304143          NaN      NaN    None  \n",
       "4  8229336  8227937          NaN      NaN    None  "
      ]
     },
     "execution_count": 14,
     "metadata": {},
     "output_type": "execute_result"
    }
   ],
   "source": [
    "# preview the first five rows of the \"full\" table\n",
    "client.list_rows(table, max_results=5).to_dataframe()"
   ]
  },
  {
   "cell_type": "code",
   "execution_count": 18,
   "metadata": {},
   "outputs": [
    {
     "name": "stderr",
     "output_type": "stream",
     "text": [
      "/Users/haneul/opt/anaconda3/lib/python3.7/site-packages/google/cloud/bigquery/table.py:1763: UserWarning: Cannot use bqstorage_client if max_results is set, reverting to fetching data with the REST endpoint.\n",
      "  if not self._validate_bqstorage(bqstorage_client, create_bqstorage_client):\n"
     ]
    },
    {
     "data": {
      "text/html": [
       "<div>\n",
       "<style scoped>\n",
       "    .dataframe tbody tr th:only-of-type {\n",
       "        vertical-align: middle;\n",
       "    }\n",
       "\n",
       "    .dataframe tbody tr th {\n",
       "        vertical-align: top;\n",
       "    }\n",
       "\n",
       "    .dataframe thead th {\n",
       "        text-align: right;\n",
       "    }\n",
       "</style>\n",
       "<table border=\"1\" class=\"dataframe\">\n",
       "  <thead>\n",
       "    <tr style=\"text-align: right;\">\n",
       "      <th></th>\n",
       "      <th>title</th>\n",
       "    </tr>\n",
       "  </thead>\n",
       "  <tbody>\n",
       "    <tr>\n",
       "      <th>0</th>\n",
       "      <td>None</td>\n",
       "    </tr>\n",
       "    <tr>\n",
       "      <th>1</th>\n",
       "      <td>None</td>\n",
       "    </tr>\n",
       "    <tr>\n",
       "      <th>2</th>\n",
       "      <td>None</td>\n",
       "    </tr>\n",
       "    <tr>\n",
       "      <th>3</th>\n",
       "      <td>None</td>\n",
       "    </tr>\n",
       "    <tr>\n",
       "      <th>4</th>\n",
       "      <td>None</td>\n",
       "    </tr>\n",
       "  </tbody>\n",
       "</table>\n",
       "</div>"
      ],
      "text/plain": [
       "  title\n",
       "0  None\n",
       "1  None\n",
       "2  None\n",
       "3  None\n",
       "4  None"
      ]
     },
     "execution_count": 18,
     "metadata": {},
     "output_type": "execute_result"
    }
   ],
   "source": [
    "# view the column, 'title' only\n",
    "client.list_rows(table, selected_fields=table.schema[:1], max_results=5).to_dataframe()"
   ]
  },
  {
   "cell_type": "code",
   "execution_count": null,
   "metadata": {},
   "outputs": [],
   "source": []
  }
 ],
 "metadata": {
  "kernelspec": {
   "display_name": "Python 3",
   "language": "python",
   "name": "python3"
  },
  "language_info": {
   "codemirror_mode": {
    "name": "ipython",
    "version": 3
   },
   "file_extension": ".py",
   "mimetype": "text/x-python",
   "name": "python",
   "nbconvert_exporter": "python",
   "pygments_lexer": "ipython3",
   "version": "3.7.6"
  }
 },
 "nbformat": 4,
 "nbformat_minor": 4
}

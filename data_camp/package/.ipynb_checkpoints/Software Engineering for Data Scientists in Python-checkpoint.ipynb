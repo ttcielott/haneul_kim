{
 "cells": [
  {
   "cell_type": "markdown",
   "metadata": {},
   "source": [
    "# Software Engineering & Data Science\n",
    "- modularity:  code divided into short functional units (modular code)\n",
    "> improve readability <br>\n",
    "> improve maintainability <br>\n",
    "> easier to take along with you to your next project (save time of resolving the same problem) <br>\n",
    "- documentation\n",
    "> show users how to use your project <br>\n",
    "> prevent confusion from your collaborators <br>\n",
    "> prevent frustration from future you <br>\n",
    "- testing\n",
    "> save time over manual testing <br>\n",
    "> find & fix more bugs <br>\n",
    "> run tests anytime/anywhere <br>\n",
    "- version control & git (learn from different course)"
   ]
  },
  {
   "cell_type": "markdown",
   "metadata": {},
   "source": [
    "## python modularity in the wild\n",
    "- package\n",
    "- class\n",
    "- method"
   ]
  },
  {
   "cell_type": "code",
   "execution_count": null,
   "metadata": {},
   "outputs": [],
   "source": [
    "# three way of writing modular code\n",
    "\n",
    "# example: numpy's use of modularity -> solve the exercise  using consice & readable code\n",
    "\n",
    "# packages, numpy\n",
    "import numpy as np\n",
    "\n",
    "# class, array\n",
    "arr = np.array([2,1,4,3,4])\n",
    "\n",
    "# method, sort\n",
    "arr.sort()\n",
    "\n",
    "arr"
   ]
  },
  {
   "cell_type": "markdown",
   "metadata": {},
   "source": [
    "## leveraging documentation"
   ]
  },
  {
   "cell_type": "code",
   "execution_count": null,
   "metadata": {},
   "outputs": [],
   "source": [
    "# view function's documentation (usage manual)\n",
    "from collections import Counter\n",
    "\n",
    "# view documentation of Counter's method\n",
    "help(Counter.most_common)"
   ]
  },
  {
   "cell_type": "code",
   "execution_count": null,
   "metadata": {},
   "outputs": [],
   "source": [
    "string1 = 'Because you worth it'\n",
    "Counter(string1).most_common(5)"
   ]
  },
  {
   "cell_type": "markdown",
   "metadata": {},
   "source": [
    "## Using pycodestyle\n",
    "- Python Enhancement Protocol 8 (PEP8): the defacto Style Guide for Python code\n",
    "- it lets us know how to format our code to be as readable as possible.\n",
    "- pycodestyle is one of tools to help you check if your code meets PEP8\n",
    "- how to interpret the ouput of pycodestyle\n",
    "![alt text](pycodestyle_output.png)"
   ]
  },
  {
   "cell_type": "code",
   "execution_count": null,
   "metadata": {},
   "outputs": [],
   "source": [
    "# pip install pycodestyle"
   ]
  },
  {
   "cell_type": "code",
   "execution_count": null,
   "metadata": {},
   "outputs": [],
   "source": [
    "import pycodestyle\n",
    "\n",
    "# create a StyleGuide instance\n",
    "style_checker = pycodestyle.StyleGuide()\n",
    "\n",
    "# Run PEP 8 check on multiple files\n",
    "result = style_checker.check_files(['Toolbox (Part 1).ipynb', 'Toolbox (Part 2).ipynb'])\n",
    "\n",
    "# print the result of PEP 8 style check\n",
    "print(result.messages)"
   ]
  },
  {
   "cell_type": "markdown",
   "metadata": {},
   "source": [
    "## Conforming to PEP 8\n",
    "\n",
    "- space between operand\n",
    "- space after ','\n",
    "> x=[1,2,4] (X)  <br>\n",
    "> x = [1,2,4] (O) <br>\n",
    "- at least two spaces before inline comment\n",
    "> if polite:#comment (X) <br>\n",
    "> if polite:&nbsp;&nbsp;# comment (O)"
   ]
  },
  {
   "cell_type": "markdown",
   "metadata": {},
   "source": [
    "# Writing a Python Module\n",
    "- package name: short, lower case name are recommended & underscore is discouraged (PEP 8)\n",
    "> only use underscores when it improves readability.\n",
    ">>text_analyzer (good), textAnalyzer(bad), TextAnalyzer(bad), and \\_\\_text\\_analyzer\\_\\_(bad)\n",
    "\n",
    "- inside th package folder: file name should be <b>\\_\\_init\\_\\_.py</b>  (this file lets pytho know it is a package)\n",
    "- <b>\\_\\_init\\_\\_.py</b> is the minimumn requirement to make an import-able python package.\n",
    "- in order to avoid errors, it is recomended to place the package folder in the same working directory where your working script file is located.\n",
    "<img src= 'package_directory.png' width = 500></img>"
   ]
  },
  {
   "cell_type": "markdown",
   "metadata": {},
   "source": [
    "## writing your first package"
   ]
  },
  {
   "cell_type": "code",
   "execution_count": 4,
   "metadata": {},
   "outputs": [
    {
     "ename": "ModuleNotFoundError",
     "evalue": "No module named 'text_analyzer'",
     "output_type": "error",
     "traceback": [
      "\u001b[0;31m---------------------------------------------------------------------------\u001b[0m",
      "\u001b[0;31mModuleNotFoundError\u001b[0m                       Traceback (most recent call last)",
      "\u001b[0;32m<ipython-input-4-e8f3a39ac4d7>\u001b[0m in \u001b[0;36m<module>\u001b[0;34m\u001b[0m\n\u001b[1;32m      1\u001b[0m \u001b[0;31m# import my package\u001b[0m\u001b[0;34m\u001b[0m\u001b[0;34m\u001b[0m\u001b[0;34m\u001b[0m\u001b[0m\n\u001b[0;32m----> 2\u001b[0;31m \u001b[0;32mimport\u001b[0m \u001b[0mtext_analyzer\u001b[0m\u001b[0;34m\u001b[0m\u001b[0;34m\u001b[0m\u001b[0m\n\u001b[0m\u001b[1;32m      3\u001b[0m \u001b[0mhelp\u001b[0m\u001b[0;34m(\u001b[0m\u001b[0mtext_analyzer\u001b[0m\u001b[0;34m)\u001b[0m  \u001b[0;31m# it shows it is a package and location of __init__.py file.\u001b[0m\u001b[0;34m\u001b[0m\u001b[0;34m\u001b[0m\u001b[0m\n",
      "\u001b[0;31mModuleNotFoundError\u001b[0m: No module named 'text_analyzer'"
     ]
    }
   ],
   "source": [
    "# import my package\n",
    "import text_analyzer\n",
    "help(text_analyzer)  # it shows it is a package and location of __init__.py file. "
   ]
  },
  {
   "cell_type": "markdown",
   "metadata": {},
   "source": [
    "## adding functionality to packages\n",
    "- file structure\n",
    "- file name can be decided by you, but it should follow PEP 8 (lower case, avoiding underscore).\n",
    "<img src= 'package_func_dir.png' width =500></img>\n",
    "- utils file known as 'submodule'\n",
    "> importing submodule\n",
    ">> import my_package<b>.utils</b> <br>\n",
    ">> \\# call a function in submoduel, utils <br>\n",
    ">> my_package.utils.function_name\n"
   ]
  },
  {
   "cell_type": "code",
   "execution_count": null,
   "metadata": {},
   "outputs": [],
   "source": [
    "import bluetiger.utils\n",
    "\n",
    "# see if the tiger growl\n",
    "bluetiger.utils.growling(threat = True)"
   ]
  },
  {
   "cell_type": "markdown",
   "metadata": {},
   "source": [
    "## import function of submodule in __init__.file\n",
    "\n",
    "- make submodule's function more easily accessible by the user\n",
    "- write the following code on <b>\\_\\_init\\_\\_.py </b>: from .(submodule file name) import (function_name)\n",
    "> e.g. from .utils import growling"
   ]
  },
  {
   "cell_type": "code",
   "execution_count": 1,
   "metadata": {},
   "outputs": [
    {
     "ename": "ModuleNotFoundError",
     "evalue": "No module named 'text_analyzer'",
     "output_type": "error",
     "traceback": [
      "\u001b[0;31m---------------------------------------------------------------------------\u001b[0m",
      "\u001b[0;31mModuleNotFoundError\u001b[0m                       Traceback (most recent call last)",
      "\u001b[0;32m<ipython-input-1-90c2e9e92830>\u001b[0m in \u001b[0;36m<module>\u001b[0;34m\u001b[0m\n\u001b[1;32m      1\u001b[0m \u001b[0;31m# after import submodule's function in init file\u001b[0m\u001b[0;34m\u001b[0m\u001b[0;34m\u001b[0m\u001b[0;34m\u001b[0m\u001b[0m\n\u001b[1;32m      2\u001b[0m \u001b[0;34m\u001b[0m\u001b[0m\n\u001b[0;32m----> 3\u001b[0;31m \u001b[0;32mimport\u001b[0m \u001b[0mtext_analyzer\u001b[0m \u001b[0;32mas\u001b[0m \u001b[0mta\u001b[0m\u001b[0;34m\u001b[0m\u001b[0;34m\u001b[0m\u001b[0m\n\u001b[0m\u001b[1;32m      4\u001b[0m \u001b[0;34m\u001b[0m\u001b[0m\n\u001b[1;32m      5\u001b[0m \u001b[0mta\u001b[0m\u001b[0;34m.\u001b[0m\u001b[0mDocument\u001b[0m\u001b[0;34m(\u001b[0m\u001b[0;34m'Hello. My name is Dana.'\u001b[0m\u001b[0;34m)\u001b[0m\u001b[0;34m\u001b[0m\u001b[0;34m\u001b[0m\u001b[0m\n",
      "\u001b[0;31mModuleNotFoundError\u001b[0m: No module named 'text_analyzer'"
     ]
    }
   ],
   "source": [
    "# after import submodule's function in init file\n",
    "\n",
    "import text_analyzer as ta\n",
    "\n",
    "ta.Document('Hello. My name is Dana.')"
   ]
  },
  {
   "cell_type": "code",
   "execution_count": null,
   "metadata": {},
   "outputs": [],
   "source": [
    "from bluetiger import growling\n",
    "\n",
    "growling(threat = True)"
   ]
  },
  {
   "cell_type": "markdown",
   "metadata": {},
   "source": [
    "## extending package structure\n",
    "- you can create submodules indefinitely, but be mindful about organization.\n",
    "- import all submodules in init? Only key functionalities considering your user's convenience. \n",
    "- you can also build out packages inside your package! **Subpackages**\n",
    "> subpackage also need init file <br>\n",
    "<img src = 'subpackage_dir.png' width = 800></img>"
   ]
  },
  {
   "cell_type": "markdown",
   "metadata": {},
   "source": [
    "## making your package portable\n",
    "1. create **setup.py** & **requirements.txt**\n",
    "> these two pieces provide information on how to install your package and recreate its required environment.\n",
    "> - used dependencies\n",
    "> - description of your package with additional \n",
    "> - location of the two files: where package folder is located (located at the same level as our package directory)\n",
    "<img src = 'setup_requirement_dir.png' width = 800></img>"
   ]
  },
  {
   "cell_type": "markdown",
   "metadata": {},
   "source": [
    "2. make requirement.txt <br>\n",
    "- if you don't have a reason to specify a version, you can just list the package name.\n",
    "> \\# Needed packages/versions <br>\n",
    "> matplotlib <br>\n",
    "- if the version is important, you can mark a specific version by using a double equals, or mark a minimum version by using greather than or equal\n",
    "> \\# Needed packages/versions <br>\n",
    "> numpy==1.15.4 <br>\n",
    "pycodestyle>=2.4.0 <br>\n",
    "\n",
    "- leverage our requirements file, we can use this pip install command: Note that this doesn't actually install your package, just recreate its environment.\n"
   ]
  },
  {
   "cell_type": "code",
   "execution_count": 2,
   "metadata": {},
   "outputs": [
    {
     "name": "stdout",
     "output_type": "stream",
     "text": [
      "\u001b[31mERROR: Could not open requirements file: [Errno 2] No such file or directory: 'requirements.txt'\u001b[0m\n",
      "Note: you may need to restart the kernel to use updated packages.\n"
     ]
    }
   ],
   "source": [
    "pip install -r requirements.txt"
   ]
  },
  {
   "cell_type": "markdown",
   "metadata": {},
   "source": [
    "3. make setup.py (actually tells pip how to install your package)\n",
    "<blockquote>\n",
    "    from setuptools import setup <br>\n",
    "    <br>\n",
    "    setup(name = 'bluetiger', <br>\n",
    "    version = '0.0.1', <br>\n",
    "    description = 'practice of creating package', <br>\n",
    "    author = 'Dana Kim', <br>\n",
    "    author_email = 'ttcielott@gmail.com', <br>\n",
    "    <b>packages</b> = ['bluetiger'],   #<b>packages : list the location of all the init files in your package (subpackage too!)</b><br>\n",
    "    <b>install_requires</b> = ['pandas >= 1.3.5', 'numpy >= 1.21.5']) </blockquote>\n",
    "- install_requires vs requirements.txt\n",
    "> - in requirements.txt, you can specify from where you should source the dependencies.\n",
    ">> \\-\\-index \\-url https://pypi.python.org/simple/"
   ]
  },
  {
   "cell_type": "code",
   "execution_count": 3,
   "metadata": {},
   "outputs": [
    {
     "name": "stdout",
     "output_type": "stream",
     "text": [
      "\u001b[31mERROR: Directory '.' is not installable. Neither 'setup.py' nor 'pyproject.toml' found.\u001b[0m\n",
      "Note: you may need to restart the kernel to use updated packages.\n"
     ]
    }
   ],
   "source": [
    "pip install ."
   ]
  },
  {
   "cell_type": "code",
   "execution_count": null,
   "metadata": {},
   "outputs": [],
   "source": [
    "# now it can be used into any python script using the same environment"
   ]
  },
  {
   "cell_type": "markdown",
   "metadata": {},
   "source": [
    "# Utilizing Classes"
   ]
  },
  {
   "cell_type": "markdown",
   "metadata": {},
   "source": [
    "## adding classes to a package\n",
    "\n",
    "- use classes to strengthen your package's functionality.\n",
    "- **OOP (object-oriented programming)** can be utilized by writing classes.\n",
    "- **OOP**, a great way to write modular(=separate part's) code\n",
    "> benefit: easily understood, extensible code \n",
    "\n",
    "- how to create\n",
    "> 1. create python file inside the package folder\n",
    "> 2. define class within the file\n",
    ">> **PEP 8 for class name**\n",
    ">> - class name should start with a capital letter and every word in the name should be capital letter as well. e.g. DataFrame\n",
    ">> - class name should never contain underscore unlike function and package name.\n",
    "> 3. write documentation in class\n",
    "> 4. write init function, which create a new instance of the class\n",
    "> 5. add the class to init file of package to make the class easily accessible.\n",
    ">> from .(class file name) import (class name)"
   ]
  },
  {
   "cell_type": "code",
   "execution_count": null,
   "metadata": {},
   "outputs": [],
   "source": [
    "# after creating class file\n",
    "\n",
    "import bluetiger\n",
    "\n",
    "# create an instance of MyClass\n",
    "student1 = bluetiger.MyClass('Timothee Chalamet')\n",
    "\n",
    "# view name of student1\n",
    "student1.name"
   ]
  },
  {
   "cell_type": "markdown",
   "metadata": {},
   "source": [
    "## adding functionality to classes"
   ]
  },
  {
   "cell_type": "markdown",
   "metadata": {},
   "source": [
    "- as soon as class object is created, let a function applied\n",
    "\n",
    "> from .(function_file) import function\n",
    "> class Document:\n",
    ">> def \\_\\_init_\\_(self, text):\n",
    ">>> self.text = text <br>\n",
    ">>> self.tokens = self._function()  # function applied <br>\n",
    "\n",
    ">> def _tokenize(self):  #'self' represent an instance of the class object <br>  \n",
    ">>> return tokenize(self.text)\n",
    "\n",
    "- why did we use a leading underscore when naming _tokenize? (PEP 8) <br>\n",
    "<b> Non-public method </b> : making a function applied as soon as a class object is created even without user's calling underscore function()\n",
    "> the risks of using a non-public method ins your own wokflow include\n",
    ">> 1. Lack of documentation\n",
    ">> 2. Unpredictability (the code change without warning)"
   ]
  },
  {
   "cell_type": "markdown",
   "metadata": {},
   "source": [
    "## writing a non-public method"
   ]
  },
  {
   "cell_type": "markdown",
   "metadata": {},
   "source": [
    "## Code in class file\n",
    "from .token_utils import tokenize\n",
    "from collections import Counter\n",
    "\n",
    "class Document: <br>\n",
    "    \"\"\"Tokenize the document by delimiter and count the number of words\"\"\"\n",
    "    \n",
    "    def __init__(self, text):\n",
    "        self.text = text\n",
    "        # tokenize the document with non-public tokenize method\n",
    "        self.tokens = self._tokenize()\n",
    "        \n",
    "        # perform word count with non-public count-words method\n",
    "        self.word_counts = self._count_words()\n",
    "        \n",
    "    def _tokenize(self):\n",
    "        return tokenize(self.text)\n",
    "    \n",
    "    def _count_words(self):\n",
    "        return Counter(self.tokens)"
   ]
  },
  {
   "cell_type": "code",
   "execution_count": null,
   "metadata": {},
   "outputs": [],
   "source": [
    "import text_analyzer as ta"
   ]
  },
  {
   "cell_type": "code",
   "execution_count": null,
   "metadata": {},
   "outputs": [],
   "source": [
    "with open('../dataset/alice.txt', 'r') as file:\n",
    "    textfile = file.read()"
   ]
  },
  {
   "cell_type": "code",
   "execution_count": null,
   "metadata": {},
   "outputs": [],
   "source": [
    "alice_analysis = ta.Document(textfile)\n",
    "\n",
    "alice_analysis.word_counts.most_common(10)"
   ]
  },
  {
   "cell_type": "markdown",
   "metadata": {},
   "source": [
    "## Classes and the DRY principle\n",
    "- creating another class sharing existing class features.\n",
    "- copy and paste? It's against DRY principle (don't repeat yourself).\n",
    "- inheritance: create another class with all functionalities from existing class and additional functionality without affecting existing class.\n",
    "- Parent class -> Child class"
   ]
  },
  {
   "cell_type": "markdown",
   "metadata": {},
   "source": [
    "## Using you child class\n",
    "\n",
    "1. add child class file in the same level with parent class file. \n",
    "2. code in child class file <br>\n",
    "   from .parent_class_file import ParentClass <br>\n",
    "   class ChildClass(ParentClass):  # let python knows this is child class.\n",
    "         def __init__(self, parameter):\n",
    "             ParentClass.__init__(self, parameter)\n",
    "             self.child_class_attribute = child_class_attribute\n",
    "         def child_class_function(self):\n",
    "             [code for fucntion]"
   ]
  },
  {
   "cell_type": "code",
   "execution_count": null,
   "metadata": {},
   "outputs": [],
   "source": [
    "# after creating child class, SocialMedia \n",
    "# inherited all attributes of parent class, Document\n",
    "\n",
    "random_media = ta.SocialMedia('#dana #mattia @LG hello this is random media.')\n",
    "random_media.hashtag_counts"
   ]
  },
  {
   "cell_type": "markdown",
   "metadata": {},
   "source": [
    "## multilevel inheritance\n",
    "- multilevel inheritance <br>\n",
    "<img src = 'multilevel_inheritance.png' width = 400></img>\n",
    "\n",
    "- multiple inheritance: one child class can inherit from multiple parents (OOP concept) <br>\n",
    "<img src = 'multiple_inheritance.png' width = 400></img>\n",
    "\n",
    "- About Super's usage\n",
    "how to use it as multiple inheritance <br>\n",
    "https://www.i2tutorials.com/python-super-with-__init__-methods/\n",
    "\n",
    "- super().\\_\\_init\\_\\_(arg) What arguments should I write in super init <br>\n",
    "<img src = 'super_init.png' width = 400></img>\n"
   ]
  },
  {
   "cell_type": "markdown",
   "metadata": {},
   "source": [
    "## creating a grandchild class"
   ]
  },
  {
   "cell_type": "code",
   "execution_count": null,
   "metadata": {},
   "outputs": [],
   "source": [
    "# after creating a grandchild class\n",
    "import text_analyzer as ta\n",
    "tweets1 = ta.Tweets('#dana #mattia @LG hello this is random media RTcoffee')"
   ]
  },
  {
   "cell_type": "code",
   "execution_count": null,
   "metadata": {},
   "outputs": [],
   "source": [
    "# see the functionality of Tweets1\n",
    "dir(tweets1)"
   ]
  },
  {
   "cell_type": "markdown",
   "metadata": {},
   "source": [
    "# Maintainability"
   ]
  },
  {
   "cell_type": "markdown",
   "metadata": {},
   "source": [
    "## Documentation\n",
    "\n",
    "two forms of documentation\n",
    "- comment : they can sprinkle in information about your code for future collaborator\n",
    "> comments should explain **why** a lie of code is doing something\n",
    "- docstring : docstrings are invoked by the used of triple quotation marks.\n",
    "> what python outputs whenever a user calls help on **your functions and classes**"
   ]
  },
  {
   "cell_type": "code",
   "execution_count": null,
   "metadata": {},
   "outputs": [],
   "source": [
    "# comment documents what a particular line of code is doing and why\n",
    "\n",
    "# commenting 'why'\n",
    "# there will be 5 people attending party\n",
    "people = 5"
   ]
  },
  {
   "cell_type": "code",
   "execution_count": null,
   "metadata": {},
   "outputs": [],
   "source": [
    "# the best practice of a docstring should have decription of functionality, parameter, return value, and example. \n",
    "def multiply(value1, value2):\n",
    "    \"\"\"Multiply value1 by value2\n",
    "    \n",
    "    :param value1: value to be multiplied\n",
    "    :param value2: value to multiply value1 by\n",
    "    :return: single value\n",
    "    \n",
    "    >>> multiply(2,4)\n",
    "    return 8\n",
    "    \"\"\"\n",
    "    return value1 * value2"
   ]
  },
  {
   "cell_type": "code",
   "execution_count": null,
   "metadata": {},
   "outputs": [],
   "source": [
    "import math\n",
    "# Refactoring longer functions into smaller units can help with both readability and modularity.\n",
    "# long function\n",
    "def polygon_area(n_sides, side_len):\n",
    "    \"\"\"Find the area of a regular polygon\n",
    "\n",
    "    :param n_sides: number of sides\n",
    "    :param side_len: length of polygon sides\n",
    "    :return: area of polygon\n",
    "\n",
    "    >>> round(polygon_area(4, 5))\n",
    "    25\n",
    "    \"\"\"\n",
    "    perimeter = n_sides * side_len\n",
    "\n",
    "    apothem_denominator = 2 * math.tan(math.pi / n_sides)\n",
    "    apothem = side_len / apothem_denominator\n",
    "\n",
    "    return perimeter * apothem / 2"
   ]
  },
  {
   "cell_type": "code",
   "execution_count": null,
   "metadata": {},
   "outputs": [],
   "source": [
    "# refactoring longer functions into smaller units\n",
    "def polygon_perimeter(n_sides, side_len):\n",
    "    return n_sides * side_len\n",
    "\n",
    "def polygon_apothem(n_sides, side_len):\n",
    "    apothem_denominator = 2 * math.tan(math.pi / n_sides)\n",
    "    return side_len / apothem_denominator\n",
    "\n",
    "def polygon_area(n_sides, side_len):\n",
    "    perimeter = polygon_perimeter(n_sides, side_len)\n",
    "    apothem = polygon_apothem(n_sides, side_len)\n",
    "    return perimeter * apothem / 2"
   ]
  },
  {
   "cell_type": "code",
   "execution_count": null,
   "metadata": {},
   "outputs": [],
   "source": [
    "# print the area of heptagon with legs of sie 4\n",
    "print(polygon_area(7, 4))"
   ]
  },
  {
   "cell_type": "markdown",
   "metadata": {},
   "source": [
    "## Unit testing\n",
    "- confirm your code is working as intended.\n",
    "- a written test can be re-run after you make changes to check if there were any unexpected effects\n",
    "- 2 easy way to use: **doctest** & **pytest**\n",
    "> doctest: test the example in docstring <br>\n",
    "> pytest: for larger cases(like large package like pandas), it is convenient to us pytest. Test every case within your package <br>\n",
    "\n",
    ">> **it is recommended to place a test directory at on the same level as package;s directory.** <br>\n",
    ">> <img src = 'pytest_structure.png' width = 500></img>\n",
    ">> <img src = 'subpackage_test_structure.png' width = 500></img>"
   ]
  },
  {
   "cell_type": "code",
   "execution_count": null,
   "metadata": {},
   "outputs": [],
   "source": [
    "def multiply(value1, value2):\n",
    "    \"\"\"Multiply value1 by value2\n",
    "    \n",
    "    :param value1: value to be multiplied\n",
    "    :param value2: value to multiply value1 by\n",
    "    :return: single value\n",
    "    \n",
    "    >>> multiply(haha,4)\n",
    "    8\n",
    "    \"\"\"\n",
    "    return value1 * value2\n",
    "\n",
    "import doctest\n",
    "doctest.testmod()"
   ]
  },
  {
   "cell_type": "code",
   "execution_count": null,
   "metadata": {},
   "outputs": [],
   "source": [
    "def multiply(value1, value2):\n",
    "    \"\"\"Multiply value1 by value2\n",
    "    \n",
    "    :param value1: value to be multiplied\n",
    "    :param value2: value to multiply value1 by\n",
    "    :return: single value\n",
    "    \n",
    "    >>> multiply(2, 4)\n",
    "    8\n",
    "    \"\"\"\n",
    "    return value1 * value2\n",
    "\n",
    "import doctest\n",
    "doctest.testmod()"
   ]
  },
  {
   "cell_type": "code",
   "execution_count": null,
   "metadata": {},
   "outputs": [],
   "source": []
  }
 ],
 "metadata": {
  "kernelspec": {
   "display_name": "Python 3",
   "language": "python",
   "name": "python3"
  },
  "language_info": {
   "codemirror_mode": {
    "name": "ipython",
    "version": 3
   },
   "file_extension": ".py",
   "mimetype": "text/x-python",
   "name": "python",
   "nbconvert_exporter": "python",
   "pygments_lexer": "ipython3",
   "version": "3.7.6"
  }
 },
 "nbformat": 4,
 "nbformat_minor": 4
}

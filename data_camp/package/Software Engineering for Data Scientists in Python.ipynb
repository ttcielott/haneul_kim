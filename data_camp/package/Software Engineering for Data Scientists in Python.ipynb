{
 "cells": [
  {
   "cell_type": "markdown",
   "metadata": {},
   "source": [
    "# Software Engineering & Data Science\n",
    "- modularity:  code divided into short functional units (modular code)\n",
    "> improve readability <br>\n",
    "> improve maintainability <br>\n",
    "> easier to take along with you to your next project (save time of resolving the same problem) <br>\n",
    "- documentation\n",
    "> show users how to use your project <br>\n",
    "> prevent confusion from your collaborators <br>\n",
    "> prevent frustration from future you <br>\n",
    "- testing\n",
    "> save time over manual testing <br>\n",
    "> find & fix more bugs <br>\n",
    "> run tests anytime/anywhere <br>\n",
    "- version control & git (learn from different course)"
   ]
  },
  {
   "cell_type": "markdown",
   "metadata": {},
   "source": [
    "## python modularity in the wild\n",
    "- package\n",
    "- class\n",
    "- method"
   ]
  },
  {
   "cell_type": "code",
   "execution_count": 1,
   "metadata": {},
   "outputs": [
    {
     "data": {
      "text/plain": [
       "array([1, 2, 3, 4, 4])"
      ]
     },
     "execution_count": 1,
     "metadata": {},
     "output_type": "execute_result"
    }
   ],
   "source": [
    "# three way of writing modular code\n",
    "\n",
    "# example: numpy's use of modularity -> solve the exercise  using consice & readable code\n",
    "\n",
    "# packages, numpy\n",
    "import numpy as np\n",
    "\n",
    "# class, array\n",
    "arr = np.array([2,1,4,3,4])\n",
    "\n",
    "# method, sort\n",
    "arr.sort()\n",
    "\n",
    "arr"
   ]
  },
  {
   "cell_type": "markdown",
   "metadata": {},
   "source": [
    "## leveraging documentation"
   ]
  },
  {
   "cell_type": "code",
   "execution_count": 1,
   "metadata": {},
   "outputs": [
    {
     "name": "stdout",
     "output_type": "stream",
     "text": [
      "Help on function most_common in module collections:\n",
      "\n",
      "most_common(self, n=None)\n",
      "    List the n most common elements and their counts from the most\n",
      "    common to the least.  If n is None, then list all element counts.\n",
      "    \n",
      "    >>> Counter('abcdeabcdabcaba').most_common(3)\n",
      "    [('a', 5), ('b', 4), ('c', 3)]\n",
      "\n"
     ]
    }
   ],
   "source": [
    "# view function's documentation (usage manual)\n",
    "from collections import Counter\n",
    "\n",
    "# view documentation of Counter's method\n",
    "help(Counter.most_common)"
   ]
  },
  {
   "cell_type": "code",
   "execution_count": 3,
   "metadata": {},
   "outputs": [
    {
     "name": "stdout",
     "output_type": "stream",
     "text": [
      "List the n most common elements and their counts from the most\n",
      "        common to the least.  If n is None, then list all element counts.\n",
      "\n",
      "        >>> Counter('abcdeabcdabcaba').most_common(3)\n",
      "        [('a', 5), ('b', 4), ('c', 3)]\n",
      "\n",
      "        \n"
     ]
    }
   ],
   "source": [
    "print(Counter.most_common.__doc__)"
   ]
  },
  {
   "cell_type": "code",
   "execution_count": 3,
   "metadata": {},
   "outputs": [
    {
     "data": {
      "text/plain": [
       "[(' ', 3), ('e', 2), ('u', 2), ('o', 2), ('t', 2)]"
      ]
     },
     "execution_count": 3,
     "metadata": {},
     "output_type": "execute_result"
    }
   ],
   "source": [
    "string1 = 'Because you worth it'\n",
    "Counter(string1).most_common(5)"
   ]
  },
  {
   "cell_type": "markdown",
   "metadata": {},
   "source": [
    "## Using pycodestyle\n",
    "- Python Enhancement Protocol 8 (PEP8): the defacto Style Guide for Python code\n",
    "- it lets us know how to format our code to be as readable as possible.\n",
    "- pycodestyle is one of tools to help you check if your code meets PEP8\n",
    "- how to interpret the ouput of pycodestyle <br>\n",
    "<img src = '../pycodestyle_output.png' width = 800></img>"
   ]
  },
  {
   "cell_type": "code",
   "execution_count": 4,
   "metadata": {},
   "outputs": [],
   "source": [
    "# pip install pycodestyle"
   ]
  },
  {
   "cell_type": "code",
   "execution_count": 4,
   "metadata": {},
   "outputs": [
    {
     "name": "stdout",
     "output_type": "stream",
     "text": [
      "../Toolbox (Part 1).ipynb:403:80: E501 line too long (245 > 79 characters)\n",
      "../Toolbox (Part 1).ipynb:419:80: E501 line too long (94 > 79 characters)\n",
      "../Toolbox (Part 1).ipynb:446:80: E501 line too long (131 > 79 characters)\n",
      "../Toolbox (Part 1).ipynb:507:80: E501 line too long (82 > 79 characters)\n",
      "../Toolbox (Part 1).ipynb:834:80: E501 line too long (131 > 79 characters)\n",
      "../Toolbox (Part 1).ipynb:932:80: E501 line too long (82 > 79 characters)\n",
      "../Toolbox (Part 1).ipynb:995:80: E501 line too long (82 > 79 characters)\n",
      "../Toolbox (Part 1).ipynb:998:80: E501 line too long (97 > 79 characters)\n",
      "../Toolbox (Part 1).ipynb:1019:80: E501 line too long (97 > 79 characters)\n",
      "../Toolbox (Part 1).ipynb:1029:80: E501 line too long (93 > 79 characters)\n",
      "../Toolbox (Part 1).ipynb:1132:80: E501 line too long (100 > 79 characters)\n",
      "../Toolbox (Part 1).ipynb:1143:80: E501 line too long (93 > 79 characters)\n",
      "../Toolbox (Part 1).ipynb:1200:80: E501 line too long (123 > 79 characters)\n",
      "../Toolbox (Part 1).ipynb:1270:80: E501 line too long (129 > 79 characters)\n",
      "../Toolbox (Part 1).ipynb:1273:80: E501 line too long (89 > 79 characters)\n",
      "../Toolbox (Part 1).ipynb:1274:80: E501 line too long (186 > 79 characters)\n",
      "../Toolbox (Part 1).ipynb:1345:80: E501 line too long (115 > 79 characters)\n",
      "../Toolbox (Part 1).ipynb:1426:80: E501 line too long (165 > 79 characters)\n",
      "../Toolbox (Part 1).ipynb:1429:80: E501 line too long (201 > 79 characters)\n",
      "../Toolbox (Part 1).ipynb:1431:80: E501 line too long (237 > 79 characters)\n",
      "../Toolbox (Part 1).ipynb:1449:80: E501 line too long (111 > 79 characters)\n",
      "../Toolbox (Part 1).ipynb:1513:80: E501 line too long (111 > 79 characters)\n",
      "../Toolbox (Part 1).ipynb:1542:80: E501 line too long (105 > 79 characters)\n",
      "../Toolbox (Part 1).ipynb:1543:80: E501 line too long (105 > 79 characters)\n",
      "../Toolbox (Part 1).ipynb:1544:80: E501 line too long (371 > 79 characters)\n",
      "../Toolbox (Part 1).ipynb:1545:80: E501 line too long (972 > 79 characters)\n",
      "../Toolbox (Part 1).ipynb:1546:80: E501 line too long (80 > 79 characters)\n",
      "../Toolbox (Part 1).ipynb:1602:80: E501 line too long (82 > 79 characters)\n",
      "../Toolbox (Part 1).ipynb:1609:80: E501 line too long (101 > 79 characters)\n",
      "../Toolbox (Part 1).ipynb:1652:80: E501 line too long (82 > 79 characters)\n",
      "../Toolbox (Part 1).ipynb:1654:80: E501 line too long (80 > 79 characters)\n",
      "../Toolbox (Part 1).ipynb:1656:80: E501 line too long (106 > 79 characters)\n",
      "../Toolbox (Part 1).ipynb:1660:80: E501 line too long (97 > 79 characters)\n",
      "../Toolbox (Part 1).ipynb:1674:80: E501 line too long (87 > 79 characters)\n",
      "../Toolbox (Part 1).ipynb:1677:80: E501 line too long (105 > 79 characters)\n",
      "../Toolbox (Part 1).ipynb:1678:80: E501 line too long (105 > 79 characters)\n",
      "../Toolbox (Part 1).ipynb:1679:80: E501 line too long (407 > 79 characters)\n",
      "../Toolbox (Part 1).ipynb:1680:80: E501 line too long (1163 > 79 characters)\n",
      "../Toolbox (Part 1).ipynb:1681:80: E501 line too long (110 > 79 characters)\n",
      "../Toolbox (Part 2).ipynb:16:80: E501 line too long (92 > 79 characters)\n",
      "../Toolbox (Part 2).ipynb:140:80: E501 line too long (100 > 79 characters)\n",
      "../Toolbox (Part 2).ipynb:171:80: E501 line too long (90 > 79 characters)\n",
      "../Toolbox (Part 2).ipynb:193:80: E501 line too long (129 > 79 characters)\n",
      "../Toolbox (Part 2).ipynb:205:80: E501 line too long (116 > 79 characters)\n",
      "../Toolbox (Part 2).ipynb:265:80: E501 line too long (117 > 79 characters)\n",
      "../Toolbox (Part 2).ipynb:305:80: E501 line too long (161 > 79 characters)\n",
      "../Toolbox (Part 2).ipynb:338:80: E501 line too long (155 > 79 characters)\n",
      "../Toolbox (Part 2).ipynb:359:80: E501 line too long (92 > 79 characters)\n",
      "../Toolbox (Part 2).ipynb:381:80: E501 line too long (104 > 79 characters)\n",
      "../Toolbox (Part 2).ipynb:382:80: E501 line too long (100 > 79 characters)\n",
      "../Toolbox (Part 2).ipynb:403:80: E501 line too long (6663 > 79 characters)\n",
      "../Toolbox (Part 2).ipynb:412:80: E501 line too long (94 > 79 characters)\n",
      "../Toolbox (Part 2).ipynb:484:80: E501 line too long (99 > 79 characters)\n",
      "../Toolbox (Part 2).ipynb:494:80: E501 line too long (124 > 79 characters)\n",
      "../Toolbox (Part 2).ipynb:497:80: E501 line too long (102 > 79 characters)\n",
      "../Toolbox (Part 2).ipynb:558:80: E501 line too long (84 > 79 characters)\n",
      "../Toolbox (Part 2).ipynb:613:80: E501 line too long (89 > 79 characters)\n",
      "../Toolbox (Part 2).ipynb:683:80: E501 line too long (93 > 79 characters)\n",
      "../Toolbox (Part 2).ipynb:943:80: E501 line too long (103 > 79 characters)\n",
      "../Toolbox (Part 2).ipynb:1090:80: E501 line too long (84 > 79 characters)\n",
      "../Toolbox (Part 2).ipynb:1091:80: E501 line too long (83 > 79 characters)\n",
      "../Toolbox (Part 2).ipynb:1106:80: E501 line too long (114 > 79 characters)\n",
      "../Toolbox (Part 2).ipynb:1107:80: E501 line too long (120 > 79 characters)\n",
      "../Toolbox (Part 2).ipynb:1113:80: E501 line too long (89 > 79 characters)\n",
      "../Toolbox (Part 2).ipynb:1270:80: E501 line too long (86 > 79 characters)\n",
      "../Toolbox (Part 2).ipynb:1271:80: E501 line too long (132 > 79 characters)\n",
      "../Toolbox (Part 2).ipynb:1436:80: E501 line too long (125 > 79 characters)\n",
      "../Toolbox (Part 2).ipynb:1437:80: E501 line too long (81 > 79 characters)\n",
      "../Toolbox (Part 2).ipynb:1457:80: E501 line too long (86 > 79 characters)\n",
      "../Toolbox (Part 2).ipynb:1458:80: E501 line too long (85 > 79 characters)\n",
      "../Toolbox (Part 2).ipynb:1459:80: E501 line too long (85 > 79 characters)\n",
      "../Toolbox (Part 2).ipynb:1460:80: E501 line too long (85 > 79 characters)\n",
      "../Toolbox (Part 2).ipynb:1461:80: E501 line too long (85 > 79 characters)\n",
      "../Toolbox (Part 2).ipynb:1462:80: E501 line too long (85 > 79 characters)\n",
      "../Toolbox (Part 2).ipynb:1464:80: E501 line too long (81 > 79 characters)\n",
      "../Toolbox (Part 2).ipynb:1465:80: E501 line too long (80 > 79 characters)\n",
      "../Toolbox (Part 2).ipynb:1466:80: E501 line too long (80 > 79 characters)\n",
      "../Toolbox (Part 2).ipynb:1467:80: E501 line too long (80 > 79 characters)\n",
      "../Toolbox (Part 2).ipynb:1468:80: E501 line too long (80 > 79 characters)\n",
      "../Toolbox (Part 2).ipynb:1469:80: E501 line too long (80 > 79 characters)\n",
      "../Toolbox (Part 2).ipynb:1484:80: E501 line too long (86 > 79 characters)\n",
      "../Toolbox (Part 2).ipynb:1485:80: E501 line too long (85 > 79 characters)\n",
      "../Toolbox (Part 2).ipynb:1486:80: E501 line too long (85 > 79 characters)\n",
      "../Toolbox (Part 2).ipynb:1487:80: E501 line too long (85 > 79 characters)\n",
      "../Toolbox (Part 2).ipynb:1488:80: E501 line too long (85 > 79 characters)\n",
      "../Toolbox (Part 2).ipynb:1489:80: E501 line too long (85 > 79 characters)\n",
      "../Toolbox (Part 2).ipynb:1491:80: E501 line too long (86 > 79 characters)\n",
      "../Toolbox (Part 2).ipynb:1492:80: E501 line too long (85 > 79 characters)\n",
      "../Toolbox (Part 2).ipynb:1493:80: E501 line too long (85 > 79 characters)\n",
      "../Toolbox (Part 2).ipynb:1494:80: E501 line too long (85 > 79 characters)\n",
      "../Toolbox (Part 2).ipynb:1495:80: E501 line too long (85 > 79 characters)\n",
      "../Toolbox (Part 2).ipynb:1496:80: E501 line too long (85 > 79 characters)\n",
      "../Toolbox (Part 2).ipynb:1523:80: E501 line too long (93 > 79 characters)\n",
      "../Toolbox (Part 2).ipynb:1574:80: E501 line too long (98 > 79 characters)\n",
      "../Toolbox (Part 2).ipynb:1582:80: E501 line too long (119 > 79 characters)\n",
      "../Toolbox (Part 2).ipynb:1618:80: E501 line too long (116 > 79 characters)\n",
      "../Toolbox (Part 2).ipynb:1622:80: E501 line too long (149 > 79 characters)\n",
      "../Toolbox (Part 2).ipynb:1628:80: E501 line too long (35948 > 79 characters)\n",
      "../Toolbox (Part 2).ipynb:1640:80: E501 line too long (86 > 79 characters)\n",
      "../Toolbox (Part 2).ipynb:1641:80: E501 line too long (94 > 79 characters)\n",
      "../Toolbox (Part 2).ipynb:1665:80: E501 line too long (117 > 79 characters)\n",
      "../Toolbox (Part 2).ipynb:1669:80: E501 line too long (148 > 79 characters)\n",
      "../Toolbox (Part 2).ipynb:1674:80: E501 line too long (98 > 79 characters)\n",
      "../Toolbox (Part 2).ipynb:1676:80: E501 line too long (98 > 79 characters)\n",
      "../Toolbox (Part 2).ipynb:1682:80: E501 line too long (82 > 79 characters)\n",
      "../Toolbox (Part 2).ipynb:1685:80: E501 line too long (123 > 79 characters)\n",
      "../Toolbox (Part 2).ipynb:1691:80: E501 line too long (90 > 79 characters)\n",
      "../Toolbox (Part 2).ipynb:1692:80: E501 line too long (98 > 79 characters)\n",
      "../Toolbox (Part 2).ipynb:1704:80: E501 line too long (14172 > 79 characters)\n",
      "../Toolbox (Part 2).ipynb:1717:80: E501 line too long (82 > 79 characters)\n",
      "../Toolbox (Part 2).ipynb:1720:80: E501 line too long (85 > 79 characters)\n",
      "../Toolbox (Part 2).ipynb:1738:80: E501 line too long (106 > 79 characters)\n",
      "../Toolbox (Part 2).ipynb:1740:80: E501 line too long (108 > 79 characters)\n",
      "../Toolbox (Part 2).ipynb:1742:80: E501 line too long (94 > 79 characters)\n",
      "../Toolbox (Part 2).ipynb:1757:80: E501 line too long (86 > 79 characters)\n",
      "../Toolbox (Part 2).ipynb:1760:80: E501 line too long (89 > 79 characters)\n",
      "../Toolbox (Part 2).ipynb:1773:80: E501 line too long (19396 > 79 characters)\n",
      "../Toolbox (Part 2).ipynb:1786:80: E501 line too long (82 > 79 characters)\n",
      "{'E501': 'line too long (245 > 79 characters)'}\n"
     ]
    }
   ],
   "source": [
    "import pycodestyle\n",
    "\n",
    "# create a StyleGuide instance\n",
    "style_checker = pycodestyle.StyleGuide()\n",
    "\n",
    "# Run PEP 8 check on multiple files\n",
    "result = style_checker.check_files(['../Toolbox (Part 1).ipynb', '../Toolbox (Part 2).ipynb'])\n",
    "\n",
    "# print the result of PEP 8 style check\n",
    "print(result.messages)"
   ]
  },
  {
   "cell_type": "markdown",
   "metadata": {},
   "source": [
    "## Conforming to PEP 8\n",
    "\n",
    "- space between operand\n",
    "- space after ','\n",
    "> x=[1,2,4] (X)  <br>\n",
    "> x = [1,2,4] (O) <br>\n",
    "- at least two spaces before inline comment\n",
    "> if polite:#comment (X) <br>\n",
    "> if polite:&nbsp;&nbsp;# comment (O)"
   ]
  },
  {
   "cell_type": "markdown",
   "metadata": {},
   "source": [
    "# Writing a Python Module\n",
    "- package name: short, lower case name are recommended & underscore is discouraged (PEP 8)\n",
    "> only use underscores when it improves readability.\n",
    ">>text_analyzer (good), textAnalyzer(bad), TextAnalyzer(bad), and \\_\\_text\\_analyzer\\_\\_(bad)\n",
    "\n",
    "- inside th package folder: file name should be <b>\\_\\_init\\_\\_.py</b>  (this file lets pytho know it is a package)\n",
    "- <b>\\_\\_init\\_\\_.py</b> is the minimumn requirement to make an import-able python package.\n",
    "- in order to avoid errors, it is recomended to place the package folder in the same working directory where your working script file is located. <br>\n",
    "<img src= '../package_directory.png' width = 500></img>"
   ]
  },
  {
   "cell_type": "markdown",
   "metadata": {},
   "source": [
    "## writing your first package"
   ]
  },
  {
   "cell_type": "code",
   "execution_count": 6,
   "metadata": {},
   "outputs": [
    {
     "name": "stdout",
     "output_type": "stream",
     "text": [
      "Help on package text_analyzer:\n",
      "\n",
      "NAME\n",
      "    text_analyzer\n",
      "\n",
      "PACKAGE CONTENTS\n",
      "    filter_lines_utils\n",
      "    filter_word_utils\n",
      "    my_document\n",
      "    my_socialmedia\n",
      "    my_tweets\n",
      "    token_utils\n",
      "\n",
      "FILE\n",
      "    /Users/haneul/Documents/python/[learning] data camp/package/text_analyzer/__init__.py\n",
      "\n",
      "\n"
     ]
    }
   ],
   "source": [
    "# import my package\n",
    "import text_analyzer\n",
    "help(text_analyzer)  # it shows it is a package and location of __init__.py file. "
   ]
  },
  {
   "cell_type": "markdown",
   "metadata": {},
   "source": [
    "## adding functionality to packages\n",
    "- file structure\n",
    "- file name can be decided by you, but it should follow PEP 8 (lower case, avoiding underscore).<br>\n",
    "<img src= '../package_func_dir.png' width =500></img>\n",
    "- utils file known as 'submodule'\n",
    "> importing submodule\n",
    ">> import my_package<b>.utils</b> <br>\n",
    ">> \\# call a function in a submodule, utils <br>\n",
    ">> my_package.utils.function_name\n"
   ]
  },
  {
   "cell_type": "code",
   "execution_count": 7,
   "metadata": {},
   "outputs": [
    {
     "data": {
      "text/plain": [
       "['Hello.', 'My', 'name', 'is', 'Dana']"
      ]
     },
     "execution_count": 7,
     "metadata": {},
     "output_type": "execute_result"
    }
   ],
   "source": [
    "import text_analyzer.token_utils\n",
    "\n",
    "# see if the tiger growl\n",
    "text_analyzer.token_utils.tokenize('Hello. My name is Dana')"
   ]
  },
  {
   "cell_type": "markdown",
   "metadata": {},
   "source": [
    "## import function of submodule in __init__.file\n",
    "\n",
    "- make submodule's function more easily accessible by the user\n",
    "- write the following code on <b>\\_\\_init\\_\\_.py </b>: from .(submodule file name) import (function_name)"
   ]
  },
  {
   "cell_type": "code",
   "execution_count": 8,
   "metadata": {},
   "outputs": [
    {
     "data": {
      "text/plain": [
       "['Hello.', 'My', 'name', 'is', 'Dana.']"
      ]
     },
     "execution_count": 8,
     "metadata": {},
     "output_type": "execute_result"
    }
   ],
   "source": [
    "# after import submodule's function in init file\n",
    "\n",
    "from text_analyzer import tokenize\n",
    "\n",
    "tokenize('Hello. My name is Dana.')"
   ]
  },
  {
   "cell_type": "markdown",
   "metadata": {},
   "source": [
    "## extending package structure\n",
    "- you can create submodules indefinitely, but be mindful about organization.\n",
    "- import all submodules in init? Only key functionalities considering your user's convenience. \n",
    "- you can also build out packages inside your package! **Subpackages**\n",
    "> subpackage also need init file <br>\n",
    "<img src = '../subpackage_dir.png' width = 800></img>"
   ]
  },
  {
   "cell_type": "markdown",
   "metadata": {},
   "source": [
    "## making your package portable\n",
    "1. create **setup.py** & **requirements.txt**\n",
    "> these two pieces provide information on how to install your package and recreate its required environment.\n",
    "> - used dependencies\n",
    "> - description of your package with additional \n",
    "**location of the two files**\n",
    ": where package folder is located (located at the same level as our package directory) <br>\n",
    "<img src = '../setup_requirement_dir.png' width = 800></img>"
   ]
  },
  {
   "cell_type": "markdown",
   "metadata": {},
   "source": [
    "2. make requirement.txt <br>\n",
    "- if you don't have a reason to specify a version, you can just list the package name.\n",
    "> \\# Needed packages/versions <br>\n",
    "> matplotlib <br>\n",
    "- if the version is important, you can mark a specific version by using a double equals, or mark a minimum version by using greather than or equal\n",
    "> \\# Needed packages/versions <br>\n",
    "> numpy==1.15.4 <br>\n",
    "pycodestyle>=2.4.0 <br>\n",
    "\n",
    "- leverage our requirements file, we can use this pip install command: Note that this doesn't actually install your package, just recreate its environment.\n"
   ]
  },
  {
   "cell_type": "code",
   "execution_count": 9,
   "metadata": {},
   "outputs": [
    {
     "name": "stdout",
     "output_type": "stream",
     "text": [
      "Looking in indexes: -url\n",
      "Requirement already satisfied: pandas in /Users/haneul/opt/anaconda3/lib/python3.7/site-packages (from -r requirements.txt (line 5)) (1.3.5)\n",
      "Requirement already satisfied: numpy in /Users/haneul/opt/anaconda3/lib/python3.7/site-packages (from -r requirements.txt (line 6)) (1.21.5)\n",
      "Requirement already satisfied: pytz>=2017.3 in /Users/haneul/opt/anaconda3/lib/python3.7/site-packages (from pandas->-r requirements.txt (line 5)) (2019.3)\n",
      "Requirement already satisfied: python-dateutil>=2.7.3 in /Users/haneul/opt/anaconda3/lib/python3.7/site-packages (from pandas->-r requirements.txt (line 5)) (2.8.1)\n",
      "Requirement already satisfied: six>=1.5 in /Users/haneul/opt/anaconda3/lib/python3.7/site-packages (from python-dateutil>=2.7.3->pandas->-r requirements.txt (line 5)) (1.14.0)\n",
      "Note: you may need to restart the kernel to use updated packages.\n"
     ]
    }
   ],
   "source": [
    "pip install -r requirements.txt"
   ]
  },
  {
   "cell_type": "markdown",
   "metadata": {},
   "source": [
    "3. make setup.py (actually tells pip how to install your package)\n",
    "<blockquote>\n",
    "    from setuptools import setup <br>\n",
    "    <br>\n",
    "    setup(name = 'bluetiger', <br>\n",
    "    version = '0.0.1', <br>\n",
    "    description = 'practice of creating package', <br>\n",
    "    author = 'Dana Kim', <br>\n",
    "    author_email = 'ttcielott@gmail.com', <br>\n",
    "    <b>packages</b> = ['bluetiger'],   #<b>packages : list the location of all the init files in your package (subpackage too!)</b><br>\n",
    "    <b>install_requires</b> = ['pandas >= 1.3.5', 'numpy >= 1.21.5']) </blockquote>\n",
    "- install_requires vs requirements.txt\n",
    "> - in requirements.txt, you can specify from where you should source the dependencies.\n",
    ">> \\-\\-index \\-url https://pypi.python.org/simple/"
   ]
  },
  {
   "cell_type": "code",
   "execution_count": 10,
   "metadata": {},
   "outputs": [
    {
     "name": "stdout",
     "output_type": "stream",
     "text": [
      "Processing /Users/haneul/Documents/python/[learning] data camp/package\n",
      "Requirement already satisfied: pandas in /Users/haneul/opt/anaconda3/lib/python3.7/site-packages (from text-analyzer==0.0.1) (1.3.5)\n",
      "Requirement already satisfied: numpy in /Users/haneul/opt/anaconda3/lib/python3.7/site-packages (from text-analyzer==0.0.1) (1.21.5)\n",
      "Requirement already satisfied: python-dateutil>=2.7.3 in /Users/haneul/opt/anaconda3/lib/python3.7/site-packages (from pandas->text-analyzer==0.0.1) (2.8.1)\n",
      "Requirement already satisfied: pytz>=2017.3 in /Users/haneul/opt/anaconda3/lib/python3.7/site-packages (from pandas->text-analyzer==0.0.1) (2019.3)\n",
      "Requirement already satisfied: six>=1.5 in /Users/haneul/opt/anaconda3/lib/python3.7/site-packages (from python-dateutil>=2.7.3->pandas->text-analyzer==0.0.1) (1.14.0)\n",
      "Building wheels for collected packages: text-analyzer\n",
      "  Building wheel for text-analyzer (setup.py) ... \u001b[?25ldone\n",
      "\u001b[?25h  Created wheel for text-analyzer: filename=text_analyzer-0.0.1-py3-none-any.whl size=3800 sha256=1066a2d5a1f4f139496b510dab9d80e67fecd11ed6a9af780b500838c66eeac9\n",
      "  Stored in directory: /private/var/folders/ws/mmkgj52112lfht4m2fg79zm00000gn/T/pip-ephem-wheel-cache-3nd312ap/wheels/d3/18/ab/48e3743e2c4256db60881a8ad8ef9ade31121312c370d72da6\n",
      "Successfully built text-analyzer\n",
      "Installing collected packages: text-analyzer\n",
      "  Attempting uninstall: text-analyzer\n",
      "    Found existing installation: text-analyzer 0.0.1\n",
      "    Uninstalling text-analyzer-0.0.1:\n",
      "      Successfully uninstalled text-analyzer-0.0.1\n",
      "Successfully installed text-analyzer-0.0.1\n",
      "Note: you may need to restart the kernel to use updated packages.\n"
     ]
    }
   ],
   "source": [
    "pip install ."
   ]
  },
  {
   "cell_type": "code",
   "execution_count": 11,
   "metadata": {},
   "outputs": [],
   "source": [
    "# now it can be used into any python script using the same environment"
   ]
  },
  {
   "cell_type": "markdown",
   "metadata": {},
   "source": [
    "# Utilizing Classes"
   ]
  },
  {
   "cell_type": "markdown",
   "metadata": {},
   "source": [
    "## adding classes to a package\n",
    "\n",
    "- use classes to strengthen your package's functionality.\n",
    "- **OOP (object-oriented programming)** can be utilized by writing classes.\n",
    "- **OOP**, a great way to write modular(=separate part's) code\n",
    "> benefit: easily understood, extensible code \n",
    "\n",
    "- how to create\n",
    "> 1. create python file inside the package folder\n",
    "> 2. define class within the file\n",
    ">> **PEP 8 for class name**\n",
    ">> - class name should start with a capital letter and every word in the name should be capital letter as well. e.g. DataFrame\n",
    ">> - class name should never contain underscore unlike function and package name.\n",
    "> 3. write documentation in class\n",
    "> 4. write init function, which create a new instance of the class\n",
    "> 5. add the class to init file of package to make the class easily accessible.\n",
    ">> from .(class file name) import (class name)"
   ]
  },
  {
   "cell_type": "code",
   "execution_count": 5,
   "metadata": {},
   "outputs": [
    {
     "data": {
      "text/plain": [
       "['Timothee', 'Chalamet']"
      ]
     },
     "execution_count": 5,
     "metadata": {},
     "output_type": "execute_result"
    }
   ],
   "source": [
    "# after creating class file\n",
    "\n",
    "import text_analyzer as ta\n",
    "\n",
    "# create an instance of MyClass\n",
    "student1 = ta.Document('Timothee Chalamet')\n",
    "\n",
    "# view name of student1\n",
    "student1.tokens"
   ]
  },
  {
   "cell_type": "markdown",
   "metadata": {},
   "source": [
    "## adding functionality to classes"
   ]
  },
  {
   "cell_type": "markdown",
   "metadata": {},
   "source": [
    "- as soon as class object is created, let a function applied\n",
    "\n",
    "> from .(function_file) import function\n",
    "> class Document:\n",
    ">> def \\_\\_init_\\_(self, text):\n",
    ">>> self.text = text <br>\n",
    ">>> self.tokens = self._function()  # function applied <br>\n",
    "\n",
    ">> def _tokenize(self):  #'self' represent an instance of the class object <br>  \n",
    ">>> return tokenize(self.text)\n",
    "\n",
    "- why did we use a leading underscore when naming _tokenize? (PEP 8) <br>\n",
    "<b> Non-public method </b> : making a function applied as soon as a class object is created even without user's calling underscore function()\n",
    "> the risks of using a non-public method ins your own wokflow include\n",
    ">> 1. Lack of documentation\n",
    ">> 2. Unpredictability (the code change without warning)"
   ]
  },
  {
   "cell_type": "markdown",
   "metadata": {},
   "source": [
    "## writing a non-public method"
   ]
  },
  {
   "cell_type": "markdown",
   "metadata": {},
   "source": [
    "## Code in class file\n",
    "from .token_utils import tokenize <br>\n",
    "from collections import Counter\n",
    "\n",
    "class Document: <br>\n",
    "    \"\"\"Tokenize the document by delimiter and count the number of words\"\"\"\n",
    "    \n",
    "    def __init__(self, text):\n",
    "        self.text = text\n",
    "        # tokenize the document with non-public tokenize method\n",
    "        self.tokens = self._tokenize()\n",
    "        \n",
    "        # perform word count with non-public count-words method\n",
    "        self.word_counts = self._count_words()\n",
    "        \n",
    "    def _tokenize(self):\n",
    "        return tokenize(self.text)\n",
    "    \n",
    "    def _count_words(self):\n",
    "        return Counter(self.tokens)"
   ]
  },
  {
   "cell_type": "code",
   "execution_count": 13,
   "metadata": {},
   "outputs": [],
   "source": [
    "with open('../../dataset/alice.txt', 'r') as file:\n",
    "    textfile = file.read()"
   ]
  },
  {
   "cell_type": "code",
   "execution_count": 14,
   "metadata": {},
   "outputs": [
    {
     "data": {
      "text/plain": [
       "[('', 791),\n",
       " ('the', 642),\n",
       " ('and', 317),\n",
       " ('a', 287),\n",
       " ('to', 277),\n",
       " ('of', 275),\n",
       " ('in', 195),\n",
       " ('she', 174),\n",
       " ('was', 136),\n",
       " ('said', 125)]"
      ]
     },
     "execution_count": 14,
     "metadata": {},
     "output_type": "execute_result"
    }
   ],
   "source": [
    "alice_analysis = ta.Document(textfile)\n",
    "\n",
    "alice_analysis.word_counts.most_common(10)"
   ]
  },
  {
   "cell_type": "markdown",
   "metadata": {},
   "source": [
    "## Classes and the DRY principle\n",
    "- creating another class sharing existing class features.\n",
    "- copy and paste? It's against DRY principle **(don't repeat yourself)**.\n",
    "- inheritance: create another class with all functionalities from existing class and additional functionality without affecting existing class.\n",
    "- Parent class -> Child class"
   ]
  },
  {
   "cell_type": "markdown",
   "metadata": {},
   "source": [
    "## Using you child class\n",
    "add child class file in the same level with parent class file. \n",
    "\n",
    "**code in child class file**\n",
    "    \n",
    "    from .parent_class_file import ParentClass\n",
    "\n",
    "    class ChildClass(ParentClass):  # let python knows this is child class.\n",
    "        def __init__(self, parameter):\n",
    "            ParentClass.__init__(self, parameter)\n",
    "            self.child_class_attribute = child_class_attribute \n",
    "            def child_class_function(self):\n",
    "                 [code for fucntion]\n",
    "https://www.w3schools.com/python/python_inheritance.asp"
   ]
  },
  {
   "cell_type": "code",
   "execution_count": 7,
   "metadata": {},
   "outputs": [
    {
     "name": "stdout",
     "output_type": "stream",
     "text": [
      "['#dana', '#mattia', '@LG', 'hello', 'this', 'is', 'random', 'media.']\n"
     ]
    },
    {
     "data": {
      "text/plain": [
       "{'#dana': 1, '#mattia': 1}"
      ]
     },
     "execution_count": 7,
     "metadata": {},
     "output_type": "execute_result"
    }
   ],
   "source": [
    "# after creating child class, SocialMedia \n",
    "# inherited all attributes of parent class, Document\n",
    "\n",
    "random_media = ta.SocialMedia('#dana #mattia @LG hello this is random media.')\n",
    "print(random_media.tokens)\n",
    "random_media.hashtag_counts"
   ]
  },
  {
   "cell_type": "markdown",
   "metadata": {},
   "source": [
    "## multilevel inheritance\n",
    "- multilevel inheritance <br>\n",
    "<img src = '../multilevel_inheritance.png' width = 400></img>\n",
    "\n",
    "- multiple inheritance: one child class can inherit from multiple parents (OOP concept) <br>\n",
    "<img src = '../multiple_inheritance.png' width = 400></img>\n",
    "\n",
    "- About Super's usage\n",
    "how to use it as multiple inheritance <br>\n",
    "https://www.i2tutorials.com/python-super-with-__init__-methods/\n",
    "\n",
    "- super().\\_\\_init\\_\\_(arg) What arguments should I write in super init <br>\n",
    "<img src = '../super_init.png' width = 400></img>\n"
   ]
  },
  {
   "cell_type": "markdown",
   "metadata": {},
   "source": [
    "## creating a grandchild class"
   ]
  },
  {
   "cell_type": "code",
   "execution_count": 16,
   "metadata": {},
   "outputs": [],
   "source": [
    "# after creating a grandchild class\n",
    "import text_analyzer as ta\n",
    "tweets1 = ta.Tweets('#dana #mattia @LG hello this is random media RTcoffee')"
   ]
  },
  {
   "cell_type": "code",
   "execution_count": 17,
   "metadata": {},
   "outputs": [
    {
     "data": {
      "text/plain": [
       "['__class__',\n",
       " '__delattr__',\n",
       " '__dict__',\n",
       " '__dir__',\n",
       " '__doc__',\n",
       " '__eq__',\n",
       " '__format__',\n",
       " '__ge__',\n",
       " '__getattribute__',\n",
       " '__gt__',\n",
       " '__hash__',\n",
       " '__init__',\n",
       " '__init_subclass__',\n",
       " '__le__',\n",
       " '__lt__',\n",
       " '__module__',\n",
       " '__ne__',\n",
       " '__new__',\n",
       " '__reduce__',\n",
       " '__reduce_ex__',\n",
       " '__repr__',\n",
       " '__setattr__',\n",
       " '__sizeof__',\n",
       " '__str__',\n",
       " '__subclasshook__',\n",
       " '__weakref__',\n",
       " '_count_hashtags',\n",
       " '_count_mentions',\n",
       " '_count_words',\n",
       " '_process_retweets',\n",
       " '_tokenize',\n",
       " 'hashtag_counts',\n",
       " 'mention_counts',\n",
       " 'retweets',\n",
       " 'text',\n",
       " 'tokens',\n",
       " 'word_counts']"
      ]
     },
     "execution_count": 17,
     "metadata": {},
     "output_type": "execute_result"
    }
   ],
   "source": [
    "# see the functionality of Tweets1\n",
    "dir(tweets1)"
   ]
  },
  {
   "cell_type": "markdown",
   "metadata": {},
   "source": [
    "# Maintainability"
   ]
  },
  {
   "cell_type": "markdown",
   "metadata": {},
   "source": [
    "## Documentation\n",
    "\n",
    "two forms of documentation\n",
    "- comment : they can sprinkle in information about your code for future collaborator\n",
    "> comments should explain **why** a line of code is doing something.\n",
    "- docstring : docstrings are invoked by the used of triple quotation marks.\n",
    "> what python outputs whenever a user calls help on **your functions and classes**"
   ]
  },
  {
   "cell_type": "code",
   "execution_count": 18,
   "metadata": {},
   "outputs": [],
   "source": [
    "# commenting 'why'\n",
    "# there will be 5 people attending party\n",
    "people = 5"
   ]
  },
  {
   "cell_type": "code",
   "execution_count": 19,
   "metadata": {},
   "outputs": [],
   "source": [
    "# the best practice of a docstring should have decription of functionality, parameter, return value, and example. \n",
    "def multiply(value1, value2):\n",
    "    \"\"\"Multiply value1 by value2\n",
    "    \n",
    "    :param value1: value to be multiplied\n",
    "    :param value2: value to multiply value1 by\n",
    "    :return: single value\n",
    "    \n",
    "    >>> multiply(2,4)\n",
    "    return 8\n",
    "    \"\"\"\n",
    "    return value1 * value2"
   ]
  },
  {
   "cell_type": "code",
   "execution_count": 8,
   "metadata": {},
   "outputs": [
    {
     "data": {
      "text/plain": [
       "TestResults(failed=0, attempted=1)"
      ]
     },
     "execution_count": 8,
     "metadata": {},
     "output_type": "execute_result"
    }
   ],
   "source": [
    "import math\n",
    "# Refactoring longer functions into smaller units can help with both readability and modularity.\n",
    "# long function\n",
    "def polygon_area(n_sides, side_len):\n",
    "    \"\"\"Find the area of a regular polygon\n",
    "\n",
    "    :param n_sides: number of sides\n",
    "    :param side_len: length of polygon sides\n",
    "    :return: area of polygon\n",
    "\n",
    "    >>> round(polygon_area(4, 5))\n",
    "    25\n",
    "    \"\"\"\n",
    "    perimeter = n_sides * side_len\n",
    "\n",
    "    apothem_denominator = 2 * math.tan(math.pi / n_sides)\n",
    "    apothem = side_len / apothem_denominator\n",
    "\n",
    "    return perimeter * apothem / 2\n"
   ]
  },
  {
   "cell_type": "code",
   "execution_count": 24,
   "metadata": {},
   "outputs": [
    {
     "data": {
      "text/plain": [
       "TestResults(failed=0, attempted=3)"
      ]
     },
     "execution_count": 24,
     "metadata": {},
     "output_type": "execute_result"
    }
   ],
   "source": [
    "# refactoring longer functions into smaller units\n",
    "def polygon_perimeter(n_sides, side_len):\n",
    "    \"\"\"return the perimeter of a regular polygon.\n",
    "    \n",
    "    :param n_sides: the number of sides\n",
    "    :param side_len: the length of sides\n",
    "    :return perimeter of polygon\n",
    "    \n",
    "    >>> polygon_perimeter(2, 4)\n",
    "    8\n",
    "    \"\"\"\n",
    "    return n_sides * side_len\n",
    "\n",
    "def polygon_apothem(n_sides, side_len):\n",
    "    \"\"\"return the apothem of a regular polygon.\n",
    "    :param n_sides: the number of sides\n",
    "    :param side_len: the length of a polygon sides\n",
    "    :return apothem of polygon\n",
    "    \n",
    "    >>> round(polygon_apothem(10, 4))\n",
    "    6\n",
    "    \"\"\"\n",
    "    apothem_denominator = 2 * math.tan(math.pi / n_sides)\n",
    "    return side_len / apothem_denominator\n",
    "\n",
    "def polygon_area(n_sides, side_len):\n",
    "    \"\"\"return the area of a regular polygon.\n",
    "    \n",
    "    :param n_sides: the number of sides\n",
    "    :param side_len: the length of sides\n",
    "    :return area of polygon\n",
    "    \n",
    "    >>> round(polygon_area(3,4))\n",
    "    7\n",
    "    \"\"\"\n",
    "    perimeter = polygon_perimeter(n_sides, side_len)\n",
    "    apothem = polygon_apothem(n_sides, side_len)\n",
    "    return perimeter * apothem / 2\n",
    "\n",
    "import doctest\n",
    "doctest.testmod()"
   ]
  },
  {
   "cell_type": "markdown",
   "metadata": {},
   "source": [
    "## Unit testing\n",
    "- confirm your code is working as intended.\n",
    "- a written test can be re-run after you make changes to check if there were any unexpected effects\n",
    "- 2 easy way to use: **doctest** & **pytest**\n",
    "> doctest: test the example in docstring <br>\n",
    "> pytest: for larger cases(like large package like pandas), it is convenient to use pytest. Test every case within your package <br>\n",
    "\n",
    ">> **it is recommended to place a test directory at on the same level as package;s directory.** <br>\n",
    ">> <img src = '../pytest_structure.png' width = 500></img>\n",
    ">> <img src = '../subpackage_test_structure.png' width = 500></img>"
   ]
  },
  {
   "cell_type": "code",
   "execution_count": 23,
   "metadata": {},
   "outputs": [
    {
     "name": "stdout",
     "output_type": "stream",
     "text": [
      "**********************************************************************\n",
      "File \"__main__\", line 8, in __main__.multiply\n",
      "Failed example:\n",
      "    multiply(haha,4)\n",
      "Exception raised:\n",
      "    Traceback (most recent call last):\n",
      "      File \"/Users/haneul/opt/anaconda3/lib/python3.7/doctest.py\", line 1329, in __run\n",
      "        compileflags, 1), test.globs)\n",
      "      File \"<doctest __main__.multiply[0]>\", line 1, in <module>\n",
      "        multiply(haha,4)\n",
      "    NameError: name 'haha' is not defined\n",
      "**********************************************************************\n",
      "1 items had failures:\n",
      "   1 of   1 in __main__.multiply\n",
      "***Test Failed*** 1 failures.\n"
     ]
    },
    {
     "data": {
      "text/plain": [
       "TestResults(failed=1, attempted=1)"
      ]
     },
     "execution_count": 23,
     "metadata": {},
     "output_type": "execute_result"
    }
   ],
   "source": [
    "def multiply(value1, value2):\n",
    "    \"\"\"Multiply value1 by value2\n",
    "    \n",
    "    :param value1: value to be multiplied\n",
    "    :param value2: value to multiply value1 by\n",
    "    :return: single value\n",
    "    \n",
    "    >>> multiply(haha,4)\n",
    "    8\n",
    "    \"\"\"\n",
    "    return value1 * value2\n",
    "\n",
    "import doctest\n",
    "doctest.testmod()"
   ]
  },
  {
   "cell_type": "code",
   "execution_count": 24,
   "metadata": {},
   "outputs": [
    {
     "data": {
      "text/plain": [
       "TestResults(failed=0, attempted=1)"
      ]
     },
     "execution_count": 24,
     "metadata": {},
     "output_type": "execute_result"
    }
   ],
   "source": [
    "def multiply(value1, value2):\n",
    "    \"\"\"Multiply value1 by value2\n",
    "    \n",
    "    :param value1: value to be multiplied\n",
    "    :param value2: value to multiply value1 by\n",
    "    :return: single value\n",
    "    \n",
    "    >>> multiply(2, 4)\n",
    "    8\n",
    "    \"\"\"\n",
    "    return value1 * value2\n",
    "\n",
    "import doctest\n",
    "doctest.testmod()"
   ]
  },
  {
   "cell_type": "markdown",
   "metadata": {},
   "source": [
    "## runing pytest\n",
    "\n",
    "1. make tests folder at the same level as package folder\n",
    "2. create test python file\n",
    "3. run pytest in **termial** or **jupyterlab** <br><br>\n",
    "<img src = '../pytest_terminal.png'></img>\n",
    "\n",
    "**check my practice in the test folder**"
   ]
  },
  {
   "cell_type": "markdown",
   "metadata": {},
   "source": [
    "## Documentation & testing in practice\n",
    "- Sphinx: a tool that transforms docstrings into beautiful documentation\n",
    "> formating docstring for HTML documentation transformation <br>\n",
    ">> - param (parameter) <br>\n",
    ">> - ivar (attribute)   # 'ivar' stands for 'instance variable.'<br>\n",
    "<img src = '../sphinx_format.png' width = 400></img>\n",
    "- Travis CI: when adding a new code, Travis can automatically run your test for you and alert you if your changes broke something. (alterative and more convenient than pytest)\n",
    "- GitHub & GitLab: host your projects with git (storing open source projects.)/ they are based on the tool, Git.\n",
    "- Codecov: Discover where to improve your projects tests\n",
    "- Code Climate: Analyze your code for improvements in readability"
   ]
  },
  {
   "cell_type": "code",
   "execution_count": null,
   "metadata": {},
   "outputs": [],
   "source": [
    "  "
   ]
  }
 ],
 "metadata": {
  "kernelspec": {
   "display_name": "Python 3",
   "language": "python",
   "name": "python3"
  },
  "language_info": {
   "codemirror_mode": {
    "name": "ipython",
    "version": 3
   },
   "file_extension": ".py",
   "mimetype": "text/x-python",
   "name": "python",
   "nbconvert_exporter": "python",
   "pygments_lexer": "ipython3",
   "version": "3.7.6"
  }
 },
 "nbformat": 4,
 "nbformat_minor": 4
}

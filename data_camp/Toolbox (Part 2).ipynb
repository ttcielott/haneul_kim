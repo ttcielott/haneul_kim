{
 "cells": [
  {
   "cell_type": "markdown",
   "metadata": {},
   "source": [
    "# Using iterators in PythonLand"
   ]
  },
  {
   "cell_type": "markdown",
   "metadata": {},
   "source": [
    "## Iterators vs. Iterables\n",
    "- Iterable: an object that can return an iterator\n",
    "- Iterator: an object that keeps state and produce the next value when you call next()"
   ]
  },
  {
   "cell_type": "markdown",
   "metadata": {},
   "source": [
    "## Iterating over iterables(1)"
   ]
  },
  {
   "cell_type": "code",
   "execution_count": 1,
   "metadata": {},
   "outputs": [
    {
     "name": "stdout",
     "output_type": "stream",
     "text": [
      "jay garrick\n",
      "barry allen\n",
      "wally west\n",
      "bart allen\n"
     ]
    }
   ],
   "source": [
    "# create a list of strings: flash\n",
    "flash = ['jay garrick', 'barry allen', 'wally west', 'bart allen']\n",
    "\n",
    "# print each list item in flash using a for loop\n",
    "for value in flash:\n",
    "    print(value)"
   ]
  },
  {
   "cell_type": "code",
   "execution_count": 2,
   "metadata": {},
   "outputs": [
    {
     "name": "stdout",
     "output_type": "stream",
     "text": [
      "jay garrick\n",
      "barry allen\n",
      "wally west\n",
      "bart allen\n"
     ]
    }
   ],
   "source": [
    "# create an iterator for flash: superhero\n",
    "superhero = iter(flash)\n",
    "\n",
    "# print each item from the iterator\n",
    "print(next(superhero))\n",
    "print(next(superhero))\n",
    "print(next(superhero))\n",
    "print(next(superhero))"
   ]
  },
  {
   "cell_type": "code",
   "execution_count": 3,
   "metadata": {},
   "outputs": [
    {
     "name": "stdout",
     "output_type": "stream",
     "text": [
      "0\n",
      "1\n",
      "2\n"
     ]
    }
   ],
   "source": [
    "# create an iterator for range(3): small value\n",
    "small_value = iter(range(3))\n",
    "\n",
    "# print the values in small values\n",
    "print(next(small_value))\n",
    "print(next(small_value))\n",
    "print(next(small_value))"
   ]
  },
  {
   "cell_type": "code",
   "execution_count": 4,
   "metadata": {},
   "outputs": [
    {
     "name": "stdout",
     "output_type": "stream",
     "text": [
      "0\n",
      "1\n",
      "2\n"
     ]
    }
   ],
   "source": [
    "# loop over range(3)\n",
    "for value in range(3):\n",
    "    print(value)"
   ]
  },
  {
   "cell_type": "code",
   "execution_count": 5,
   "metadata": {},
   "outputs": [
    {
     "name": "stdout",
     "output_type": "stream",
     "text": [
      "0\n",
      "1\n",
      "2\n"
     ]
    }
   ],
   "source": [
    "# create an iterator for range(10**100), which you can't create as list due to memory limit\n",
    "googol = iter(range(10**100))\n",
    "\n",
    "# print the first 5 values from googol\n",
    "print(next(googol))\n",
    "print(next(googol))\n",
    "print(next(googol))"
   ]
  },
  {
   "cell_type": "markdown",
   "metadata": {},
   "source": [
    "## Iterator as function arguments"
   ]
  },
  {
   "cell_type": "code",
   "execution_count": 6,
   "metadata": {},
   "outputs": [
    {
     "name": "stdout",
     "output_type": "stream",
     "text": [
      "[10, 11, 12, 13, 14, 15, 16, 17, 18, 19, 20]\n",
      "165\n"
     ]
    }
   ],
   "source": [
    "# create a range object that would produce the values from 10 to 20 using range()\n",
    "values = range(10, 21)\n",
    "\n",
    "# create a list of values from the range object values\n",
    "values_list = list(values)\n",
    "\n",
    "# print values_list\n",
    "print(values_list)\n",
    "\n",
    "# get thes sum of values\n",
    "values_sum = sum(values_list)\n",
    "\n",
    "# print values_sum\n",
    "print(values_sum)"
   ]
  },
  {
   "cell_type": "markdown",
   "metadata": {},
   "source": [
    "## Using enumerate\n",
    "\n",
    "- enumerate(): returns an enumerate object that produces a sequence of tuples and each of the tuple is an index-value pair."
   ]
  },
  {
   "cell_type": "code",
   "execution_count": 7,
   "metadata": {},
   "outputs": [
    {
     "name": "stdout",
     "output_type": "stream",
     "text": [
      "[(0, 'charles xavier'), (1, 'bobby drake'), (2, 'kurt wagner'), (3, 'max eisenhardt'), (4, 'kitty pryde')]\n"
     ]
    }
   ],
   "source": [
    "# create a list of strings: mutants\n",
    "mutants = ['charles xavier', \n",
    "            'bobby drake', \n",
    "            'kurt wagner', \n",
    "            'max eisenhardt', \n",
    "            'kitty pryde']\n",
    "\n",
    "# create a list of tuples: mutant_list\n",
    "mutant_list = list(enumerate(mutants))\n",
    "\n",
    "# print the list of tuples\n",
    "print(mutant_list)"
   ]
  },
  {
   "cell_type": "code",
   "execution_count": 8,
   "metadata": {},
   "outputs": [
    {
     "name": "stdout",
     "output_type": "stream",
     "text": [
      "0 charles xavier\n",
      "1 bobby drake\n",
      "2 kurt wagner\n",
      "3 max eisenhardt\n",
      "4 kitty pryde\n",
      "\n",
      "\n",
      "1 charles xavier\n",
      "2 bobby drake\n",
      "3 kurt wagner\n",
      "4 max eisenhardt\n",
      "5 kitty pryde\n"
     ]
    }
   ],
   "source": [
    "# unpack and print the tuple pairs\n",
    "for i, values in enumerate(mutants):\n",
    "    print(i, values)\n",
    "\n",
    "print('\\n')\n",
    "# change the start index\n",
    "for i, values in enumerate(mutants, start = 1):\n",
    "    print(i, values)"
   ]
  },
  {
   "cell_type": "markdown",
   "metadata": {},
   "source": [
    "## Using zip\n",
    "\n",
    "- zip(): zip object is an iterator tuples. If you want to print the values, you can convert it into a list. \n",
    "- zip object will not return the values unless you unpack it first. "
   ]
  },
  {
   "cell_type": "code",
   "execution_count": 9,
   "metadata": {},
   "outputs": [
    {
     "data": {
      "text/plain": [
       "zip"
      ]
     },
     "execution_count": 9,
     "metadata": {},
     "output_type": "execute_result"
    }
   ],
   "source": [
    "aliases = ['prof x', 'iceman', 'nightcrawler', 'magneto', 'shadowcat']\n",
    "\n",
    "# create a list of tuples: mutants \n",
    "mutants_zip = zip(mutants, aliases)\n",
    "\n",
    "# view thet type\n",
    "type(mutants_zip)"
   ]
  },
  {
   "cell_type": "code",
   "execution_count": 10,
   "metadata": {},
   "outputs": [
    {
     "name": "stdout",
     "output_type": "stream",
     "text": [
      "<zip object at 0x7fc6a9b78320>\n",
      "[('charles xavier', 'prof x'), ('bobby drake', 'iceman'), ('kurt wagner', 'nightcrawler'), ('max eisenhardt', 'magneto'), ('kitty pryde', 'shadowcat')]\n"
     ]
    }
   ],
   "source": [
    "# print the zip object\n",
    "print(mutants_zip)\n",
    "\n",
    "# unpack the zip object using \n",
    "mutants_zip_list = list(mutants_zip)\n",
    "\n",
    "# print mutant_zip\n",
    "print(mutants_zip_list)"
   ]
  },
  {
   "cell_type": "markdown",
   "metadata": {},
   "source": [
    "## Using * and zip to 'unzip'\n",
    "\n",
    "- use * in a call to zip() to unpack the tuples produced by zip()"
   ]
  },
  {
   "cell_type": "code",
   "execution_count": 11,
   "metadata": {},
   "outputs": [
    {
     "name": "stdout",
     "output_type": "stream",
     "text": [
      "('charles xavier', 'prof x') ('bobby drake', 'iceman') ('kurt wagner', 'nightcrawler') ('max eisenhardt', 'magneto') ('kitty pryde', 'shadowcat')\n"
     ]
    }
   ],
   "source": [
    "# create a zip object from mutants and aliases: z1\n",
    "z1 = zip(mutants, aliases)\n",
    "\n",
    "#print the tuples in z1 by unpacking with *\n",
    "print(*z1)"
   ]
  },
  {
   "cell_type": "code",
   "execution_count": 12,
   "metadata": {},
   "outputs": [
    {
     "name": "stdout",
     "output_type": "stream",
     "text": [
      "('charles xavier', 'bobby drake', 'kurt wagner', 'max eisenhardt', 'kitty pryde')\n",
      "('prof x', 'iceman', 'nightcrawler', 'magneto', 'shadowcat')\n"
     ]
    }
   ],
   "source": [
    "# re-crate a zip object from mutants and aliases: z1\n",
    "z1 = zip(mutants, aliases)\n",
    "\n",
    "# 'unzip' the tuples in z1 by unpacking with * and zip()\n",
    "result1, result2 = zip(*z1)\n",
    "\n",
    "print(result1)\n",
    "print(result2)"
   ]
  },
  {
   "cell_type": "markdown",
   "metadata": {},
   "source": [
    "## Processing large amounts of data\n",
    "\n",
    "- the data we have to process reaches a size that is too much for a computer's memory to handle\n",
    "- chuncksize : process an entire data source chunk by chunk instead of a single go all at once"
   ]
  },
  {
   "cell_type": "code",
   "execution_count": 13,
   "metadata": {},
   "outputs": [],
   "source": [
    "import pandas as pd"
   ]
  },
  {
   "cell_type": "code",
   "execution_count": 14,
   "metadata": {},
   "outputs": [
    {
     "name": "stdout",
     "output_type": "stream",
     "text": [
      "{'MMM': 3038, 'AOS': 3038, 'ABT': 3038, 'ABBV': 3038, 'ABMD': 3038, 'ACN': 3038, 'ATVI': 3038, 'ADBE': 3038, 'AAP': 3038, 'AES': 3038, 'AFL': 3038, 'A': 3038, 'AIG': 3038, 'APD': 3038, 'AKAM': 3038, 'ALK': 3038, 'ALB': 3038, 'ARE': 3038, 'ALGN': 3038, 'ALLE': 3038, 'LNT': 3038, 'ALL': 3038, 'GOOGL': 3038, 'GOOG': 3038, 'MO': 3038, 'AMZN': 3038, 'AMCR': 3038, 'AMD': 3038, 'AEE': 3038, 'AAL': 3038, 'AEP': 3038, 'AXP': 3038, 'AMT': 3038, 'AWK': 3038, 'AMP': 3038, 'ABC': 3038, 'AME': 3038, 'AMGN': 3038, 'APH': 3038, 'ADI': 3038, 'ANSS': 3038, 'ANTM': 3038, 'AON': 3038, 'APA': 3038, 'AAPL': 3038, 'AMAT': 3038, 'APTV': 3038, 'ADM': 3038, 'ANET': 3038, 'AJG': 3038, 'AIZ': 3038, 'T': 3038, 'ATO': 3038, 'ADSK': 3038, 'ADP': 3038, 'AZO': 3038, 'AVB': 3038, 'AVY': 3038, 'BKR': 3038, 'BLL': 3038, 'BAC': 3038, 'BBWI': 3038, 'BAX': 3038, 'BDX': 3038, 'BRK-B': 3038, 'BBY': 3038, 'BIO': 3038, 'TECH': 3038, 'BIIB': 3038, 'BLK': 3038, 'BK': 3038, 'BA': 3038, 'BKNG': 3038, 'BWA': 3038, 'BXP': 3038, 'BSX': 3038, 'BMY': 3038, 'AVGO': 3038, 'BR': 3038, 'BRO': 3038, 'BF-B': 3038, 'CHRW': 3038, 'CDNS': 3038, 'CZR': 3038, 'CPB': 3038, 'COF': 3038, 'CAH': 3038, 'KMX': 3038, 'CCL': 3038, 'CARR': 3038, 'CTLT': 3038, 'CAT': 3038, 'CBOE': 3038, 'CBRE': 3038, 'CDW': 3038, 'CE': 3038, 'CNC': 3038, 'CNP': 3038, 'CDAY': 3038, 'CERN': 3038, 'CF': 3038, 'CRL': 3038, 'SCHW': 3038, 'CHTR': 3038, 'CVX': 3038, 'CMG': 3038, 'CB': 3038, 'CHD': 3038, 'CI': 3038, 'CINF': 3038, 'CTAS': 3038, 'CSCO': 3038, 'C': 3038, 'CFG': 3038, 'CTXS': 3038, 'CLX': 3038, 'CME': 3038, 'CMS': 3038, 'KO': 3038, 'CTSH': 3038, 'CL': 3038, 'CMCSA': 3038, 'CMA': 3038, 'CAG': 3038, 'COP': 3038, 'ED': 3038, 'STZ': 3038, 'COO': 3038, 'CPRT': 3038, 'GLW': 3038, 'CTVA': 3038, 'COST': 3038, 'CTRA': 3038, 'CCI': 3038, 'CSX': 3038, 'CMI': 3038, 'CVS': 3038, 'DHI': 3038, 'DHR': 3038, 'DRI': 3038, 'DVA': 3038, 'DE': 3038, 'DAL': 3038, 'XRAY': 3038, 'DVN': 3038, 'DXCM': 3038, 'FANG': 3038, 'DLR': 3038, 'DFS': 3038, 'DISCA': 3038, 'DISCK': 3038, 'DISH': 3038, 'DG': 3038, 'DLTR': 3038, 'D': 3038, 'DPZ': 3038, 'DOV': 3038, 'DOW': 3038, 'DTE': 3038, 'DUK': 3038, 'DRE': 3038, 'DD': 3038, 'DXC': 3038, 'EMN': 3038, 'ETN': 3038, 'EBAY': 3038, 'ECL': 3038, 'EIX': 3038, 'EW': 3038, 'EA': 3038, 'EMR': 3038, 'ENPH': 3038, 'ETR': 3038, 'EOG': 3038, 'EPAM': 3038, 'EFX': 3038, 'EQIX': 3038, 'EQR': 3038, 'ESS': 3038, 'EL': 3038, 'ETSY': 3038, 'EVRG': 3038, 'ES': 3038, 'RE': 3038, 'EXC': 3038, 'EXPE': 3038, 'EXPD': 3038, 'EXR': 3038, 'XOM': 3038, 'FFIV': 3038, 'FDS': 3038, 'FAST': 3038, 'FRT': 3038, 'FDX': 3038, 'FIS': 3038, 'FITB': 3038, 'FE': 3038, 'FRC': 3038, 'FISV': 3038, 'FLT': 3038, 'FMC': 3038, 'F': 3038, 'FTNT': 3038, 'FTV': 3038, 'FBHS': 3038, 'FOXA': 3038, 'FOX': 3038, 'BEN': 3038, 'FCX': 3038, 'GPS': 3038, 'GRMN': 3038, 'IT': 3038, 'GNRC': 3038, 'GD': 3038, 'GE': 3038, 'GIS': 3038, 'GM': 3038, 'GPC': 3038, 'GILD': 3038, 'GL': 3038, 'GPN': 3038, 'GS': 3038, 'GWW': 3038, 'HAL': 3038, 'HIG': 3038, 'HAS': 3038, 'HCA': 3038, 'PEAK': 3038, 'HSIC': 3038, 'HSY': 3038, 'HES': 3038, 'HPE': 3038, 'HLT': 3038, 'HOLX': 3038, 'HD': 3038, 'HON': 3038, 'HRL': 3038, 'HST': 3038, 'HWM': 3038, 'HPQ': 3038, 'HUM': 3038, 'HBAN': 3038, 'HII': 3038, 'IEX': 3038, 'IDXX': 3038, 'INFO': 3038, 'ITW': 3038, 'ILMN': 3038, 'INCY': 3038, 'IR': 3038, 'INTC': 3038, 'ICE': 3038, 'IBM': 3038, 'IP': 3038, 'IPG': 3038, 'IFF': 3038, 'INTU': 3038, 'ISRG': 3038, 'IVZ': 3038, 'IPGP': 3038, 'IQV': 3038, 'IRM': 3038, 'JKHY': 3038, 'J': 3038, 'JBHT': 3038, 'SJM': 3038, 'JNJ': 3038, 'JCI': 3038, 'JPM': 3038, 'JNPR': 3038, 'K': 3038, 'KEY': 3038, 'KEYS': 3038, 'KMB': 3038, 'KIM': 3038, 'KMI': 3038, 'KLAC': 3038, 'KHC': 3038, 'KR': 3038, 'LHX': 3038, 'LH': 3038, 'LRCX': 3038, 'LW': 3038, 'LVS': 3038, 'LDOS': 3038, 'LEN': 3038, 'LLY': 3038, 'LNC': 3038, 'LIN': 3038, 'LYV': 3038, 'LKQ': 3038, 'LMT': 3038, 'L': 3038, 'LOW': 3038, 'LUMN': 3038, 'LYB': 3038, 'MTB': 3038, 'MRO': 3038, 'MPC': 3038, 'MKTX': 3038, 'MAR': 3038, 'MMC': 3038, 'MLM': 3038, 'MAS': 3038, 'MA': 3038, 'MTCH': 3038, 'MKC': 3038, 'MCD': 3038, 'MCK': 3038, 'MDT': 3038, 'MRK': 3038, 'FB': 3038, 'MET': 3038, 'MTD': 3038, 'MGM': 3038, 'MCHP': 3038, 'MU': 3038, 'MSFT': 3038, 'MAA': 3038, 'MRNA': 3038, 'MHK': 3038, 'TAP': 3038, 'MDLZ': 3038, 'MPWR': 3038, 'MNST': 3038, 'MCO': 3038, 'MS': 3038, 'MOS': 3038, 'MSI': 3038, 'MSCI': 3038, 'NDAQ': 3038, 'NTAP': 3038, 'NFLX': 3038, 'NWL': 3038, 'NEM': 3038, 'NWSA': 3038, 'NWS': 3038, 'NEE': 3038, 'NLSN': 3038, 'NKE': 3038, 'NI': 3038, 'NSC': 3038, 'NTRS': 3038, 'NOC': 3038, 'NLOK': 3038, 'NCLH': 3038, 'NRG': 3038, 'NUE': 3038, 'NVDA': 3038, 'NVR': 3038, 'NXPI': 3038, 'ORLY': 3038, 'OXY': 3038, 'ODFL': 3038, 'OMC': 3038, 'OKE': 3038, 'ORCL': 3038, 'OGN': 3038, 'OTIS': 3038, 'PCAR': 3038, 'PKG': 3038, 'PH': 3038, 'PAYX': 3038, 'PAYC': 3038, 'PYPL': 3038, 'PENN': 3038, 'PNR': 3038, 'PBCT': 3038, 'PEP': 3038, 'PKI': 3038, 'PFE': 3038, 'PM': 3038, 'PSX': 3038, 'PNW': 3038, 'PXD': 3038, 'PNC': 3038, 'POOL': 3038, 'PPG': 3038, 'PPL': 3038, 'PFG': 3038, 'PG': 3038, 'PGR': 3038, 'PLD': 3038, 'PRU': 3038, 'PEG': 3038, 'PTC': 3038, 'PSA': 3038, 'PHM': 3038, 'PVH': 3038, 'QRVO': 3038, 'PWR': 3038, 'QCOM': 3038, 'DGX': 3038, 'RL': 3038, 'RJF': 3038, 'RTX': 3038, 'O': 3038, 'REG': 3038, 'REGN': 3038, 'RF': 3038, 'RSG': 3038, 'RMD': 3038, 'RHI': 3038, 'ROK': 3038, 'ROL': 3038, 'ROP': 3038, 'ROST': 3038, 'RCL': 3038, 'SPGI': 3038, 'CRM': 3038, 'SBAC': 3038, 'SLB': 3038, 'STX': 3038, 'SEE': 3038, 'SRE': 3038, 'NOW': 3038, 'SHW': 3038, 'SBNY': 3038, 'SPG': 3038, 'SWKS': 3038, 'SNA': 3038, 'SEDG': 3038, 'SO': 3038, 'LUV': 3038, 'SWK': 3038, 'SBUX': 3038, 'STT': 3038, 'STE': 3038, 'SYK': 3038, 'SIVB': 3038, 'SYF': 3038, 'SNPS': 3038, 'SYY': 3038, 'TMUS': 3038, 'TROW': 3038, 'TTWO': 3038, 'TPR': 3038, 'TGT': 3038, 'TEL': 3038, 'TDY': 3038, 'TFX': 3038, 'TER': 3038, 'TSLA': 3038, 'TXN': 3038, 'TXT': 3038, 'TMO': 3038, 'TJX': 3038, 'TSCO': 3038, 'TT': 3038, 'TDG': 3038, 'TRV': 3038, 'TRMB': 3038, 'TFC': 3038, 'TWTR': 3038, 'TYL': 3038, 'TSN': 3038, 'UDR': 3038, 'ULTA': 3038, 'USB': 3038, 'UAA': 3038, 'UA': 3038, 'UNP': 3038, 'UAL': 3038, 'UNH': 3038, 'UPS': 3038, 'URI': 3038, 'UHS': 3038, 'VLO': 3038, 'VTR': 3038, 'VRSN': 3038, 'VRSK': 3038, 'VZ': 3038, 'VRTX': 3038, 'VFC': 3038, 'VIAC': 3038, 'VTRS': 3038, 'V': 3038, 'VNO': 3038, 'VMC': 3038, 'WRB': 3038, 'WAB': 3038, 'WMT': 3038, 'WBA': 3038, 'DIS': 3038, 'WM': 3038, 'WAT': 3038, 'WEC': 3038, 'WFC': 3038, 'WELL': 3038, 'WST': 3038, 'WDC': 3038, 'WRK': 3038, 'WY': 3038, 'WHR': 3038, 'WMB': 3038, 'WTW': 3038, 'WYNN': 3038, 'XEL': 3038, 'XLNX': 3038, 'XYL': 3038, 'YUM': 3038, 'ZBRA': 3038, 'ZBH': 3038, 'ZION': 3038, 'ZTS': 3038}\n"
     ]
    }
   ],
   "source": [
    "# initialize an empty dictionary: count_dict\n",
    "counts_dict = {}\n",
    "\n",
    "# iterate over the file chunk by chunk\n",
    "for chunk in pd.read_csv('../dataset/sp500_Stock/sp500_stocks.csv', chunksize = 100):\n",
    "    \n",
    "    # iterate over the column in dataframe\n",
    "    for entry in chunk['Symbol']:\n",
    "        if entry in counts_dict.keys():\n",
    "            counts_dict[entry] += 1\n",
    "        else:\n",
    "            counts_dict[entry] = 1\n",
    "            \n",
    "# print the count_dict\n",
    "print(counts_dict)"
   ]
  },
  {
   "cell_type": "markdown",
   "metadata": {},
   "source": [
    "## Extracting information for large amounts of data"
   ]
  },
  {
   "cell_type": "code",
   "execution_count": 15,
   "metadata": {},
   "outputs": [],
   "source": [
    "# define a function for code above\n",
    "def count_entries(file_path, c_size, colname):\n",
    "    # initialize an empty dictionary: count_dict\n",
    "    counts_dict = {}\n",
    "\n",
    "    # iterate over the file chunk by chunk\n",
    "    for chunk in pd.read_csv(file_path, chunksize = c_size):\n",
    "\n",
    "        # iterate over the column in dataframe\n",
    "        for entry in chunk[colname]:\n",
    "            if entry in counts_dict.keys():\n",
    "                counts_dict[entry] += 1\n",
    "            else:\n",
    "                counts_dict[entry] = 1\n",
    "    \n",
    "    # return counts_dict\n",
    "    return counts_dict"
   ]
  },
  {
   "cell_type": "code",
   "execution_count": 16,
   "metadata": {},
   "outputs": [
    {
     "data": {
      "text/plain": [
       "{'Technology': 73,\n",
       " 'Communication Services': 27,\n",
       " 'Consumer Cyclical': 63,\n",
       " 'Financial Services': 68,\n",
       " 'Healthcare': 65,\n",
       " 'Consumer Defensive': 35,\n",
       " 'Energy': 21,\n",
       " 'Industrials': 72,\n",
       " 'Basic Materials': 21,\n",
       " 'Utilities': 28,\n",
       " 'Real Estate': 29}"
      ]
     },
     "execution_count": 16,
     "metadata": {},
     "output_type": "execute_result"
    }
   ],
   "source": [
    "result_counts = count_entries('../dataset/sp500_Stock/sp500_companies.csv', 100, 'Sector')\n",
    "result_counts"
   ]
  },
  {
   "cell_type": "markdown",
   "metadata": {},
   "source": [
    "# List comprehensions and generators\n",
    "\n",
    "- instead of for loops (time and space consuming), by using list comprehensions, you can write more efficient code.\n",
    "\n",
    "- collapse for loops for building lists into a single line\n",
    ">- components: Iterable, Iterator variable (represent members of iterable), Output expression\n",
    ">- tradeoffs: readibility"
   ]
  },
  {
   "cell_type": "markdown",
   "metadata": {},
   "source": [
    "## Writing list comprehensions"
   ]
  },
  {
   "cell_type": "code",
   "execution_count": 17,
   "metadata": {},
   "outputs": [
    {
     "data": {
      "text/plain": [
       "[0, 1, 4, 9, 16]"
      ]
     },
     "execution_count": 17,
     "metadata": {},
     "output_type": "execute_result"
    }
   ],
   "source": [
    "# create list comprehension : sqaures\n",
    "squares = [n**2 for n in range(5)]\n",
    "squares"
   ]
  },
  {
   "cell_type": "markdown",
   "metadata": {},
   "source": [
    "## Nested list comprephension\n",
    "\n",
    "- create a list comprehension within another list comprehension."
   ]
  },
  {
   "cell_type": "code",
   "execution_count": 18,
   "metadata": {},
   "outputs": [
    {
     "name": "stdout",
     "output_type": "stream",
     "text": [
      "[0, 1, 2, 3, 4]\n",
      "[0, 1, 2, 3, 4]\n",
      "[0, 1, 2, 3, 4]\n"
     ]
    }
   ],
   "source": [
    "# create a 3 X 5 matrics using a list of list: matrix\n",
    "\n",
    "matrix = [[col for col in range(5)] for row in range(3)]  \n",
    "# outer expression of nested list comprephension : inner list comprehension\n",
    "# iterator: for row in range(3)\n",
    "\n",
    "for row in matrix:\n",
    "    print(row)"
   ]
  },
  {
   "cell_type": "markdown",
   "metadata": {},
   "source": [
    "## Using conditionals in comprehensions (1)"
   ]
  },
  {
   "cell_type": "code",
   "execution_count": 19,
   "metadata": {},
   "outputs": [
    {
     "name": "stdout",
     "output_type": "stream",
     "text": [
      "['charles xavier', 'max eisenhardt']\n"
     ]
    }
   ],
   "source": [
    "# creat list comprephension\n",
    "new_mutants = [member for member in mutants if len(member) >= 13]\n",
    "print(new_mutants)"
   ]
  },
  {
   "cell_type": "markdown",
   "metadata": {},
   "source": [
    "## Using conditionals in comprehensions (2)"
   ]
  },
  {
   "cell_type": "code",
   "execution_count": 20,
   "metadata": {},
   "outputs": [
    {
     "name": "stdout",
     "output_type": "stream",
     "text": [
      "['charles xavier', 'fallout', 'fallout', 'max eisenhardt', 'fallout']\n"
     ]
    }
   ],
   "source": [
    "# if conditional statement evaluate an iterable variable\n",
    "new_mutants = [member if len(member) >= 13 else 'fallout' for member in mutants]\n",
    "print(new_mutants)"
   ]
  },
  {
   "cell_type": "markdown",
   "metadata": {},
   "source": [
    "## Dict comprehensions"
   ]
  },
  {
   "cell_type": "code",
   "execution_count": 21,
   "metadata": {},
   "outputs": [
    {
     "data": {
      "text/plain": [
       "{'charles xavier': 14,\n",
       " 'bobby drake': 11,\n",
       " 'kurt wagner': 11,\n",
       " 'max eisenhardt': 14,\n",
       " 'kitty pryde': 11}"
      ]
     },
     "execution_count": 21,
     "metadata": {},
     "output_type": "execute_result"
    }
   ],
   "source": [
    "# create dict comprehension\n",
    "new_mutants = {mutant: len(mutant) for mutant in mutants}\n",
    "new_mutants"
   ]
  },
  {
   "cell_type": "markdown",
   "metadata": {},
   "source": [
    "## List comprehensions vs. generators"
   ]
  },
  {
   "cell_type": "code",
   "execution_count": 22,
   "metadata": {},
   "outputs": [
    {
     "name": "stdout",
     "output_type": "stream",
     "text": [
      "['samwise', 'aragorn', 'legolas', 'boromir']\n",
      "<generator object <genexpr> at 0x7fc6ab607950>\n"
     ]
    },
    {
     "data": {
      "text/plain": [
       "'samwise'"
      ]
     },
     "execution_count": 22,
     "metadata": {},
     "output_type": "execute_result"
    }
   ],
   "source": [
    "# List of strings\n",
    "fellowship = ['frodo', 'samwise', 'merry', 'aragorn', 'legolas', 'boromir', 'gimli']\n",
    "\n",
    "# List comprehension\n",
    "fellow1 = [member for member in fellowship if len(member) >= 7]\n",
    "\n",
    "# Generator expression\n",
    "fellow2 = (member for member in fellowship if len(member) >= 7)\n",
    "\n",
    "print(fellow1)\n",
    "print(fellow2)\n",
    "next(fellow2)"
   ]
  },
  {
   "cell_type": "markdown",
   "metadata": {},
   "source": [
    "## Write your own generator expressions"
   ]
  },
  {
   "cell_type": "code",
   "execution_count": 23,
   "metadata": {},
   "outputs": [
    {
     "name": "stdout",
     "output_type": "stream",
     "text": [
      "0\n",
      "1\n",
      "2\n",
      "3\n",
      "4\n",
      "5\n",
      "6\n",
      "7\n",
      "8\n",
      "9\n"
     ]
    }
   ],
   "source": [
    "# create generator object\n",
    "result = (num for num in range(10))\n",
    "\n",
    "# print the first 5 values\n",
    "print(next(result))\n",
    "print(next(result))\n",
    "print(next(result))\n",
    "print(next(result))\n",
    "print(next(result))\n",
    "\n",
    "# print the rest\n",
    "for r in result:\n",
    "    print(r)"
   ]
  },
  {
   "cell_type": "markdown",
   "metadata": {},
   "source": [
    "## Changing the out in generator expressions"
   ]
  },
  {
   "cell_type": "code",
   "execution_count": 24,
   "metadata": {},
   "outputs": [
    {
     "name": "stdout",
     "output_type": "stream",
     "text": [
      "8\n",
      "27\n",
      "64\n",
      "125\n",
      "216\n"
     ]
    }
   ],
   "source": [
    "# create a list of numbers\n",
    "num = [2,3,4,5,6]\n",
    "\n",
    "# creat a generator object\n",
    "cal = (n**3 for n in num)  # change the output expression\n",
    "\n",
    "# iterate over and print the values\n",
    "for c in cal:\n",
    "    print(c)"
   ]
  },
  {
   "cell_type": "markdown",
   "metadata": {},
   "source": [
    "## Build a generator: yield \n",
    "- yield returns a generator object."
   ]
  },
  {
   "cell_type": "code",
   "execution_count": 25,
   "metadata": {},
   "outputs": [],
   "source": [
    "# define generator function\n",
    "def get_power_three(*args):\n",
    "    \n",
    "    # yield n to the power of 3\n",
    "    for value in args:\n",
    "        yield (value ** 3)"
   ]
  },
  {
   "cell_type": "code",
   "execution_count": 26,
   "metadata": {},
   "outputs": [
    {
     "name": "stdout",
     "output_type": "stream",
     "text": [
      "<generator object get_power_three at 0x7fc6a9b93650>\n"
     ]
    }
   ],
   "source": [
    "# yield makes a generator, so the output doesn't show with print\n",
    "print(get_power_three(3,4))"
   ]
  },
  {
   "cell_type": "code",
   "execution_count": 27,
   "metadata": {},
   "outputs": [
    {
     "data": {
      "text/plain": [
       "8"
      ]
     },
     "execution_count": 27,
     "metadata": {},
     "output_type": "execute_result"
    }
   ],
   "source": [
    "# print the value from a generator\n",
    "next(get_power_three(2,3))"
   ]
  },
  {
   "cell_type": "code",
   "execution_count": 28,
   "metadata": {},
   "outputs": [
    {
     "name": "stdout",
     "output_type": "stream",
     "text": [
      "27\n",
      "64\n",
      "125\n",
      "216\n"
     ]
    }
   ],
   "source": [
    "# print the value from a generator\n",
    "for value in get_power_three(3,4,5,6):\n",
    "    print(value)"
   ]
  },
  {
   "cell_type": "markdown",
   "metadata": {},
   "source": [
    "## List comprehensions for time-stamped data"
   ]
  },
  {
   "cell_type": "code",
   "execution_count": 29,
   "metadata": {},
   "outputs": [
    {
     "name": "stdout",
     "output_type": "stream",
     "text": [
      "['31', '04', '05', '06', '07']\n"
     ]
    }
   ],
   "source": [
    "# extract the date column from df\n",
    "date = pd.read_csv('../dataset/sp500_Stock/sp500_stocks.csv')['Date']\n",
    "\n",
    "# extract the day\n",
    "day = [entry[8:10] for entry in date[:5]]\n",
    "\n",
    "# print\n",
    "print(day)"
   ]
  },
  {
   "cell_type": "markdown",
   "metadata": {},
   "source": [
    "## Conditional list comprehensions for time-stamped data"
   ]
  },
  {
   "cell_type": "code",
   "execution_count": 30,
   "metadata": {},
   "outputs": [
    {
     "name": "stdout",
     "output_type": "stream",
     "text": [
      "['04', '05', '06', '07']\n"
     ]
    }
   ],
   "source": [
    "# extract the day\n",
    "# add condition\n",
    "day = [entry[8:10] for entry in date[:5] if entry[5:7] == '01']\n",
    "\n",
    "# print\n",
    "print(day)"
   ]
  },
  {
   "cell_type": "markdown",
   "metadata": {},
   "source": [
    "# Bringing it all together!"
   ]
  },
  {
   "cell_type": "markdown",
   "metadata": {},
   "source": [
    "## Dictinaries for data science"
   ]
  },
  {
   "cell_type": "code",
   "execution_count": 31,
   "metadata": {},
   "outputs": [
    {
     "name": "stdout",
     "output_type": "stream",
     "text": [
      "{'baby boy name': ['Michael', 'Bill', 'Leo'], 'baby girl name': ['Renee', 'Rachel', 'Robin']}\n"
     ]
    }
   ],
   "source": [
    "# create list 1\n",
    "list1 = ['baby boy name', 'baby girl name']\n",
    "list2 = [['Michael', 'Bill', 'Leo'], ['Renee', 'Rachel', 'Robin']]\n",
    "\n",
    "# zip lists\n",
    "zip_list = zip(list1, list2)\n",
    "\n",
    "# create a dictionary\n",
    "b_name = dict(zip_list)\n",
    "\n",
    "# print\n",
    "print(b_name)"
   ]
  },
  {
   "cell_type": "code",
   "execution_count": 32,
   "metadata": {},
   "outputs": [
    {
     "data": {
      "text/html": [
       "<div>\n",
       "<style scoped>\n",
       "    .dataframe tbody tr th:only-of-type {\n",
       "        vertical-align: middle;\n",
       "    }\n",
       "\n",
       "    .dataframe tbody tr th {\n",
       "        vertical-align: top;\n",
       "    }\n",
       "\n",
       "    .dataframe thead th {\n",
       "        text-align: right;\n",
       "    }\n",
       "</style>\n",
       "<table border=\"1\" class=\"dataframe\">\n",
       "  <thead>\n",
       "    <tr style=\"text-align: right;\">\n",
       "      <th></th>\n",
       "      <th>baby boy name</th>\n",
       "      <th>baby girl name</th>\n",
       "    </tr>\n",
       "  </thead>\n",
       "  <tbody>\n",
       "    <tr>\n",
       "      <th>0</th>\n",
       "      <td>Michael</td>\n",
       "      <td>Renee</td>\n",
       "    </tr>\n",
       "    <tr>\n",
       "      <th>1</th>\n",
       "      <td>Bill</td>\n",
       "      <td>Rachel</td>\n",
       "    </tr>\n",
       "    <tr>\n",
       "      <th>2</th>\n",
       "      <td>Leo</td>\n",
       "      <td>Robin</td>\n",
       "    </tr>\n",
       "  </tbody>\n",
       "</table>\n",
       "</div>"
      ],
      "text/plain": [
       "  baby boy name baby girl name\n",
       "0       Michael          Renee\n",
       "1          Bill         Rachel\n",
       "2           Leo          Robin"
      ]
     },
     "execution_count": 32,
     "metadata": {},
     "output_type": "execute_result"
    }
   ],
   "source": [
    "pd.DataFrame(b_name)"
   ]
  },
  {
   "cell_type": "markdown",
   "metadata": {},
   "source": [
    "## Writing a function to help you"
   ]
  },
  {
   "cell_type": "code",
   "execution_count": 33,
   "metadata": {},
   "outputs": [],
   "source": [
    "# define a functionn\n",
    "def lists2function(list_1, list_2):\n",
    "    # zip lists\n",
    "    zip_list = zip(list_1, list_2)\n",
    "    \n",
    "    # create a dictionary\n",
    "    result = dict(zip_list)\n",
    "    \n",
    "    return result"
   ]
  },
  {
   "cell_type": "code",
   "execution_count": 34,
   "metadata": {},
   "outputs": [
    {
     "data": {
      "text/plain": [
       "{'a': 'A', 'b': 'B'}"
      ]
     },
     "execution_count": 34,
     "metadata": {},
     "output_type": "execute_result"
    }
   ],
   "source": [
    "lists2function(['a', 'b'], ['A', 'B'])"
   ]
  },
  {
   "cell_type": "markdown",
   "metadata": {},
   "source": [
    "## Using a list comprehesion"
   ]
  },
  {
   "cell_type": "code",
   "execution_count": 35,
   "metadata": {},
   "outputs": [],
   "source": [
    "# create the list of feature_name\n",
    "feature_name = ['move_title', 'release_data', 'box_office']\n",
    "\n",
    "# create the list of movie\n",
    "movie1 = ['Avengers: Endgame', '25 April 2019', '2.798 billion USD']\n",
    "movie2 = ['Avengers: Infinity War', ' 26 April 2018 ', '2.048 billion USD']\n",
    "movie3 = ['Avengers: Age of Ultron', '23 April 2015', '1.403 billion USD']\n",
    "\n",
    "# list of moveis\n",
    "movies_list = [movie1, movie2, movie3]"
   ]
  },
  {
   "cell_type": "code",
   "execution_count": 36,
   "metadata": {},
   "outputs": [
    {
     "name": "stdout",
     "output_type": "stream",
     "text": [
      "{'move_title': 'Avengers: Endgame', 'release_data': '25 April 2019', 'box_office': '2.798 billion USD'}\n",
      "{'move_title': 'Avengers: Infinity War', 'release_data': ' 26 April 2018 ', 'box_office': '2.048 billion USD'}\n"
     ]
    }
   ],
   "source": [
    "# create a list comprephension\n",
    "list_of_dicts = [lists2function(feature_name, m_list) for m_list in movies_list]\n",
    "\n",
    "# print the first two dictionaries in list of dicts\n",
    "print(list_of_dicts[0])\n",
    "print(list_of_dicts[1])"
   ]
  },
  {
   "cell_type": "markdown",
   "metadata": {},
   "source": [
    "## Turning this all into a Dataframe"
   ]
  },
  {
   "cell_type": "code",
   "execution_count": 37,
   "metadata": {},
   "outputs": [
    {
     "data": {
      "text/html": [
       "<div>\n",
       "<style scoped>\n",
       "    .dataframe tbody tr th:only-of-type {\n",
       "        vertical-align: middle;\n",
       "    }\n",
       "\n",
       "    .dataframe tbody tr th {\n",
       "        vertical-align: top;\n",
       "    }\n",
       "\n",
       "    .dataframe thead th {\n",
       "        text-align: right;\n",
       "    }\n",
       "</style>\n",
       "<table border=\"1\" class=\"dataframe\">\n",
       "  <thead>\n",
       "    <tr style=\"text-align: right;\">\n",
       "      <th></th>\n",
       "      <th>move_title</th>\n",
       "      <th>release_data</th>\n",
       "      <th>box_office</th>\n",
       "    </tr>\n",
       "  </thead>\n",
       "  <tbody>\n",
       "    <tr>\n",
       "      <th>0</th>\n",
       "      <td>Avengers: Endgame</td>\n",
       "      <td>25 April 2019</td>\n",
       "      <td>2.798 billion USD</td>\n",
       "    </tr>\n",
       "    <tr>\n",
       "      <th>1</th>\n",
       "      <td>Avengers: Infinity War</td>\n",
       "      <td>26 April 2018</td>\n",
       "      <td>2.048 billion USD</td>\n",
       "    </tr>\n",
       "    <tr>\n",
       "      <th>2</th>\n",
       "      <td>Avengers: Age of Ultron</td>\n",
       "      <td>23 April 2015</td>\n",
       "      <td>1.403 billion USD</td>\n",
       "    </tr>\n",
       "  </tbody>\n",
       "</table>\n",
       "</div>"
      ],
      "text/plain": [
       "                move_title     release_data         box_office\n",
       "0        Avengers: Endgame    25 April 2019  2.798 billion USD\n",
       "1   Avengers: Infinity War   26 April 2018   2.048 billion USD\n",
       "2  Avengers: Age of Ultron    23 April 2015  1.403 billion USD"
      ]
     },
     "execution_count": 37,
     "metadata": {},
     "output_type": "execute_result"
    }
   ],
   "source": [
    "df_avengers = pd.DataFrame(list_of_dicts)\n",
    "df_avengers"
   ]
  },
  {
   "cell_type": "markdown",
   "metadata": {},
   "source": [
    "## Processing data in chuncks (1)"
   ]
  },
  {
   "cell_type": "code",
   "execution_count": 38,
   "metadata": {},
   "outputs": [],
   "source": [
    "# open a connection to the file\n",
    "with open('../dataset/sp500_Stock/sp500_companies.csv') as file:\n",
    "    \n",
    "    # skip the column names\n",
    "    file.readline()\n",
    "    \n",
    "    # initialize an empty dicitonary\n",
    "    counts_dict = {}\n",
    "    \n",
    "    # process only the first 30 rows:\n",
    "    for j in range(0, 30):\n",
    "        \n",
    "        # split the current line into a list\n",
    "        line = file.readline().split(',')\n",
    "        \n",
    "        \n",
    "        # get the value for the company type\n",
    "        type = line[3].split(' ')[-1]\n",
    "        \n",
    "        # if the type is in the dict, increment its value\n",
    "        if type in counts_dict.keys():\n",
    "            counts_dict[type] += 1\n",
    "        else:\n",
    "            counts_dict[type] = 1"
   ]
  },
  {
   "cell_type": "code",
   "execution_count": 39,
   "metadata": {},
   "outputs": [
    {
     "data": {
      "text/plain": [
       "{'Inc.': 9,\n",
       " 'Corporation': 6,\n",
       " 'Inc.\"': 7,\n",
       " 'Co.': 1,\n",
       " 'Johnson': 1,\n",
       " 'Incorporated': 2,\n",
       " '(The)\"': 1,\n",
       " 'Company': 3}"
      ]
     },
     "execution_count": 39,
     "metadata": {},
     "output_type": "execute_result"
    }
   ],
   "source": [
    "counts_dict"
   ]
  },
  {
   "cell_type": "markdown",
   "metadata": {},
   "source": [
    "## Writing a generator to load data in chunks (2)\n",
    "\n",
    "- evaluate a entire large file line by line. -> a generator would be useful. \n",
    "- Why? the file is large and a generator will let you yield only chunks of data at a time instead of the whole thing at once. "
   ]
  },
  {
   "cell_type": "code",
   "execution_count": 40,
   "metadata": {},
   "outputs": [],
   "source": [
    "# define a function\n",
    "\n",
    "def read_large_file(file_object):\n",
    "    \"\"\"A generator function to read a large file lazily.\"\"\"\n",
    "    \n",
    "    # loop indefinitely until the end of the file\n",
    "    while True:\n",
    "        \n",
    "        # read a line from the file: data\n",
    "        data = file_object.readline()\n",
    "        \n",
    "        # break if this is the end of the file\n",
    "        if not data:\n",
    "            break\n",
    "        \n",
    "        # yield the line of data\n",
    "        yield data\n",
    "   "
   ]
  },
  {
   "cell_type": "code",
   "execution_count": 41,
   "metadata": {},
   "outputs": [],
   "source": [
    "# open a connection to the file\n",
    "with open('../dataset/sp500_Stock/sp500_companies.csv') as file:\n",
    "    \n",
    "    # create a generator object for the file: gen_file\n",
    "    gen_file = read_large_file(file)\n",
    "    \n",
    "    # print the first line of the file\n",
    "    next(gen_file)\n"
   ]
  },
  {
   "cell_type": "markdown",
   "metadata": {},
   "source": [
    "## Writing a generator to load data in chuncks (3)"
   ]
  },
  {
   "cell_type": "code",
   "execution_count": 42,
   "metadata": {},
   "outputs": [],
   "source": [
    "# open a connection to the file\n",
    "with open('../dataset/sp500_Stock/sp500_companies.csv') as file:\n",
    "    \n",
    "    # initialize an empty dicitonary\n",
    "    counts_dict = {}\n",
    "    \n",
    "    # iterate over the generator from read_large_file()\n",
    "    for l in read_large_file(file):\n",
    "        \n",
    "        # split the current line into a list\n",
    "        row = l.split(',')\n",
    "        \n",
    "        # get the value for the company type\n",
    "        col = row[3]\n",
    "        type = col.split(' ')[-1]\n",
    "        \n",
    "        # if the type is in the dict, increment its value\n",
    "        if type in counts_dict.keys():\n",
    "            counts_dict[type] += 1\n",
    "        else:\n",
    "            counts_dict[type] = 1"
   ]
  },
  {
   "cell_type": "code",
   "execution_count": 43,
   "metadata": {},
   "outputs": [
    {
     "data": {
      "text/plain": [
       "{'Longname': 1,\n",
       " 'Inc.': 59,\n",
       " 'Corporation': 114,\n",
       " 'Inc.\"': 167,\n",
       " 'Co.': 6,\n",
       " 'Johnson': 1,\n",
       " 'Incorporated': 17,\n",
       " '(The)\"': 5,\n",
       " 'Company': 40,\n",
       " '\"salesforce.com': 1,\n",
       " 'Laboratories': 1,\n",
       " 'plc': 13,\n",
       " 'Stanley': 1,\n",
       " '(T\"': 1,\n",
       " 'ConocoPhillips': 1,\n",
       " 'I\"': 6,\n",
       " 'Bancorp': 2,\n",
       " 'Limited': 2,\n",
       " 'Inc\"': 3,\n",
       " 'Corp.': 4,\n",
       " 'Company\"': 1,\n",
       " 'Services': 2,\n",
       " 'Exchange': 1,\n",
       " 'PLC\"': 1,\n",
       " 'Storage': 1,\n",
       " 'N.V.': 2,\n",
       " 'International': 4,\n",
       " 'Ltd.': 6,\n",
       " 'Sempra': 1,\n",
       " 'Group': 4,\n",
       " 'PLC': 1,\n",
       " '66': 1,\n",
       " 'Bank': 2,\n",
       " 'Technologies': 1,\n",
       " 'Residential': 1,\n",
       " 'Equities': 1,\n",
       " 'Inc': 1,\n",
       " 'Energy': 1,\n",
       " 'Financial': 2,\n",
       " 'Holdings': 1,\n",
       " 'Incorporat\"': 1,\n",
       " 'KeyCorp': 1,\n",
       " 'Communities': 1,\n",
       " 'Comm\"': 1,\n",
       " 'Washington': 1,\n",
       " '\"': 5,\n",
       " '\"CarMax': 1,\n",
       " '(Holdin\"': 1,\n",
       " 'Pizza': 1,\n",
       " 'C\"': 1,\n",
       " 'A\"': 1,\n",
       " 'Parts': 1,\n",
       " 'America': 1,\n",
       " 'Resorts': 1,\n",
       " 'Ltd.\"': 1,\n",
       " 'Bancorporation': 1,\n",
       " 'Limited\"': 1,\n",
       " 'Trust': 2}"
      ]
     },
     "execution_count": 43,
     "metadata": {},
     "output_type": "execute_result"
    }
   ],
   "source": [
    "# view\n",
    "counts_dict"
   ]
  },
  {
   "cell_type": "markdown",
   "metadata": {},
   "source": [
    "## Writing an iterator to load data in chunks (1)\n",
    "\n",
    "- reading file in as DataFrames of a certain length: another way to read data too large to store in memory in chunks\n",
    "- **pd.read_csv(file_path, chunksize = 100)  => iterable reader object**\n",
    "- see value using **next()**"
   ]
  },
  {
   "cell_type": "code",
   "execution_count": 44,
   "metadata": {},
   "outputs": [
    {
     "name": "stdout",
     "output_type": "stream",
     "text": [
      "  Exchange Symbol              Shortname               Longname  \\\n",
      "0      NMS   AAPL             Apple Inc.             Apple Inc.   \n",
      "1      NMS   MSFT  Microsoft Corporation  Microsoft Corporation   \n",
      "2      NMS   GOOG          Alphabet Inc.          Alphabet Inc.   \n",
      "3      NMS  GOOGL          Alphabet Inc.          Alphabet Inc.   \n",
      "4      NMS   AMZN       Amazon.com, Inc.       Amazon.com, Inc.   \n",
      "\n",
      "                   Sector                        Industry  Currentprice  \\\n",
      "0              Technology            Consumer Electronics        173.07   \n",
      "1              Technology         Software—Infrastructure        310.20   \n",
      "2  Communication Services  Internet Content & Information       2795.73   \n",
      "3  Communication Services  Internet Content & Information       2789.61   \n",
      "4       Consumer Cyclical                 Internet Retail       3242.76   \n",
      "\n",
      "       Marketcap        Ebitda  Revenuegrowth           City State  \\\n",
      "0  2826994712576  120233000960          0.288      Cupertino    CA   \n",
      "1  2328975376384   85745000448          0.220        Redmond    WA   \n",
      "2  1853588504576   85196996608          0.410  Mountain View    CA   \n",
      "3  1853587062784   85196996608          0.410  Mountain View    CA   \n",
      "4  1644559204352   60403998720          0.153        Seattle    WA   \n",
      "\n",
      "         Country  Fulltimeemployees  \\\n",
      "0  United States             154000   \n",
      "1  United States             181000   \n",
      "2  United States             150028   \n",
      "3  United States             150028   \n",
      "4  United States            1468000   \n",
      "\n",
      "                                 Longbusinesssummary    Weight  \n",
      "0  Apple Inc. designs, manufactures, and markets ...  0.065253  \n",
      "1  Microsoft Corporation develops, licenses, and ...  0.053758  \n",
      "2  Larry Page and Sergey Brin founded Google in S...  0.042785  \n",
      "3  Larry Page and Sergey Brin founded Google in S...  0.042785  \n",
      "4  Amazon.com, Inc. engages in the retail sale of...  0.037960  \n",
      "  Exchange Symbol                    Shortname                 Longname  \\\n",
      "5      NMS   TSLA                  Tesla, Inc.              Tesla, Inc.   \n",
      "6      NMS     FB         Meta Platforms, Inc.     Meta Platforms, Inc.   \n",
      "7      NYQ  BRK-B  Berkshire Hathaway Inc. New  Berkshire Hathaway Inc.   \n",
      "8      NMS   NVDA           NVIDIA Corporation       NVIDIA Corporation   \n",
      "9      NYQ    JPM        JP Morgan Chase & Co.     JPMorgan Chase & Co.   \n",
      "\n",
      "                   Sector                        Industry  Currentprice  \\\n",
      "5       Consumer Cyclical              Auto Manufacturers       1049.61   \n",
      "6  Communication Services  Internet Content & Information        331.90   \n",
      "7      Financial Services           Insurance—Diversified        324.13   \n",
      "8              Technology                  Semiconductors        269.42   \n",
      "9      Financial Services               Banks—Diversified        157.89   \n",
      "\n",
      "       Marketcap        Ebitda  Revenuegrowth         City State  \\\n",
      "5  1054081286144  7.267000e+09          0.568       Austin    TX   \n",
      "6   923266121728  5.475900e+10          0.351   Menlo Park    CA   \n",
      "7   725814542336  1.221360e+11          0.120        Omaha    NE   \n",
      "8   671394693120  9.759000e+09          0.503  Santa Clara    CA   \n",
      "9   478144593920           NaN          0.088     New York    NY   \n",
      "\n",
      "         Country  Fulltimeemployees  \\\n",
      "5  United States              70757   \n",
      "6  United States              68177   \n",
      "7  United States             360000   \n",
      "8  United States              18975   \n",
      "9  United States             265790   \n",
      "\n",
      "                                 Longbusinesssummary    Weight  \n",
      "5  Tesla, Inc. designs, develops, manufactures, l...  0.024331  \n",
      "6  Meta Platforms, Inc. develops products that en...  0.021311  \n",
      "7  Berkshire Hathaway Inc., through its subsidiar...  0.016753  \n",
      "8  NVIDIA Corporation operates as a visual comput...  0.015497  \n",
      "9  JPMorgan Chase & Co. operates as a financial s...  0.011037  \n"
     ]
    }
   ],
   "source": [
    "# intialize reader object\n",
    "df_reader = pd.read_csv('../dataset/sp500_Stock/sp500_companies.csv', chunksize = 5)\n",
    "\n",
    "# print\n",
    "print(next(df_reader))\n",
    "print(next(df_reader))"
   ]
  },
  {
   "cell_type": "markdown",
   "metadata": {},
   "source": [
    "## Writing an iterator to load data in chunks (2)"
   ]
  },
  {
   "cell_type": "code",
   "execution_count": 56,
   "metadata": {},
   "outputs": [
    {
     "data": {
      "text/plain": [
       "[(2826994712576, 173.07),\n",
       " (2328975376384, 310.2),\n",
       " (671394693120, 269.42),\n",
       " (258792554496, 61.36),\n",
       " (247701471232, 520.6),\n",
       " (246225649664, 596.37),\n",
       " (234171760640, 87.69),\n",
       " (227761553408, 231.23),\n",
       " (226531901440, 55.7),\n",
       " (223503368192, 353.36),\n",
       " (211332808704, 188.69),\n",
       " (172708593664, 187.01),\n",
       " (165297668096, 136.88),\n",
       " (155965554688, 550.79),\n",
       " (148381679616, 167.0),\n",
       " (120295112704, 134.21),\n",
       " (109059751936, 97.36),\n",
       " (105672982528, 531.02),\n",
       " (102757933056, 729.82),\n",
       " (90356932608, 172.0)]"
      ]
     },
     "execution_count": 56,
     "metadata": {},
     "output_type": "execute_result"
    }
   ],
   "source": [
    "# read the file in chunks of size 100\n",
    "sp500_reader = pd.read_csv('../dataset/sp500_Stock/sp500_companies.csv', chunksize = 100)\n",
    "\n",
    "# get the first chunk and assign this to df_sp500\n",
    "df_sp500 = next(sp500_reader)\n",
    "\n",
    "# select only the rows of df_sp500 that have 'Sector' of 'Technology'\n",
    "df_tech = df_sp500[df_sp500['Sector'] == 'Technology']\n",
    "\n",
    "# zip together 'Marketcap' and 'Currentprice' of df_tech and assign the resulting zip object to tech_marketcap\n",
    "tech_marketcap = zip(df_tech.Marketcap, df_tech.Currentprice)\n",
    "\n",
    "# convert zip object into list\n",
    "tech_marketcap_list = list(tech_marketcap)\n",
    "\n",
    "# view\n",
    "tech_marketcap_list"
   ]
  },
  {
   "cell_type": "markdown",
   "metadata": {},
   "source": [
    "## Writing an iterator to load data in chunks (3)\n",
    "- use a list comprehension"
   ]
  },
  {
   "cell_type": "code",
   "execution_count": 48,
   "metadata": {},
   "outputs": [],
   "source": [
    "import matplotlib.pyplot as plt"
   ]
  },
  {
   "cell_type": "code",
   "execution_count": 57,
   "metadata": {},
   "outputs": [
    {
     "name": "stderr",
     "output_type": "stream",
     "text": [
      "/Users/haneul/opt/anaconda3/lib/python3.7/site-packages/ipykernel_launcher.py:2: SettingWithCopyWarning: \n",
      "A value is trying to be set on a copy of a slice from a DataFrame.\n",
      "Try using .loc[row_indexer,col_indexer] = value instead\n",
      "\n",
      "See the caveats in the documentation: https://pandas.pydata.org/pandas-docs/stable/user_guide/indexing.html#returning-a-view-versus-a-copy\n",
      "  \n"
     ]
    },
    {
     "data": {
      "image/png": "[encoded data removed]",
      "text/plain": [
       "<Figure size 432x288 with 1 Axes>"
      ]
     },
     "metadata": {
      "needs_background": "light"
     },
     "output_type": "display_data"
    }
   ],
   "source": [
    "# use list comprehension to create a new DataFrame column 'Outstanding Share'\n",
    "df_tech['Outstanding_share'] = [int(cap/price) for cap, price in tech_marketcap_list]\n",
    "\n",
    "# plot the outstandings share\n",
    "df_tech.plot(kind = 'bar', x = 'Shortname', y = 'Outstanding_share')\n",
    "\n",
    "plt.show()"
   ]
  },
  {
   "cell_type": "markdown",
   "metadata": {},
   "source": [
    "## Writing an iterator to load data in chunks (4)"
   ]
  },
  {
   "cell_type": "code",
   "execution_count": 72,
   "metadata": {},
   "outputs": [
    {
     "name": "stderr",
     "output_type": "stream",
     "text": [
      "/Users/haneul/opt/anaconda3/lib/python3.7/site-packages/ipykernel_launcher.py:19: SettingWithCopyWarning: \n",
      "A value is trying to be set on a copy of a slice from a DataFrame.\n",
      "Try using .loc[row_indexer,col_indexer] = value instead\n",
      "\n",
      "See the caveats in the documentation: https://pandas.pydata.org/pandas-docs/stable/user_guide/indexing.html#returning-a-view-versus-a-copy\n"
     ]
    }
   ],
   "source": [
    "# iterate over sp500_reader to be able to process all the DataFrame chunks in the dataset\n",
    "# using append() \n",
    "sp500_reader = pd.read_csv('../dataset/sp500_Stock/sp500_companies.csv', chunksize = 100)\n",
    "\n",
    "data = pd.DataFrame()\n",
    "\n",
    "for df_chunk in sp500_reader:\n",
    "\n",
    "    # select only the rows of df_sp500 that have 'Sector' of 'Technology'\n",
    "    df_tech = df_chunk[df_chunk['Sector'] == 'Technology']\n",
    "\n",
    "    # zip together 'Marketcap' and 'Currentprice' of df_tech and assign the resulting zip object to tech_marketcap\n",
    "    tech_marketcap = zip(df_tech.Marketcap, df_tech.Currentprice)\n",
    "\n",
    "    # convert zip object into list\n",
    "    tech_marketcap_list = list(tech_marketcap)\n",
    "    \n",
    "    # use list comprehension to create a new DataFrame column 'Outstanding Share'\n",
    "    df_tech['Outstanding_share'] = [int(cap/price) for cap, price in tech_marketcap_list]\n",
    "    \n",
    "    data = data.append(df_tech)"
   ]
  },
  {
   "cell_type": "code",
   "execution_count": 82,
   "metadata": {},
   "outputs": [
    {
     "data": {
      "image/png": "[encoded data removed]",
      "text/plain": [
       "<Figure size 432x288 with 1 Axes>"
      ]
     },
     "metadata": {
      "needs_background": "light"
     },
     "output_type": "display_data"
    }
   ],
   "source": [
    "data_by_state = data.groupby('City').sum()\n",
    "data_by_state.sort_values('Marketcap', ascending = False, inplace = True)\n",
    "data_by_state10 = data_by_state[:11]\n",
    "\n",
    "# plot total market capital of tech companies by city where they are located\n",
    "data_by_state10.plot(kind = 'bar', y = 'Marketcap')\n",
    "plt.show()"
   ]
  },
  {
   "cell_type": "markdown",
   "metadata": {},
   "source": [
    "## Writing an iterator to load data in chunks (5)"
   ]
  },
  {
   "cell_type": "code",
   "execution_count": 94,
   "metadata": {},
   "outputs": [],
   "source": [
    "# defind function: creating plot of the total market capital by city in a certain business sector\n",
    "def plot_cap(filename, bz_sector):\n",
    "    \"\"\"create a bar plot of the total market capital by city in a specific business sector\"\"\"\n",
    "    \n",
    "    # iterate over file to be able to process all the DataFrame chunks in the dataset\n",
    "    # using append() \n",
    "    file_reader = pd.read_csv(filename, chunksize = 100)\n",
    "\n",
    "    data = pd.DataFrame()\n",
    "\n",
    "    for df_chunk in file_reader:\n",
    "\n",
    "        # select only the rows of df_chunk that have bz_sector\n",
    "        df_sector = df_chunk[df_chunk['Sector'] == bz_sector]\n",
    "        \n",
    "        data = data.append(df_sector)\n",
    "\n",
    "    data_by_state = data.groupby('City').sum()\n",
    "\n",
    "    data_by_state.sort_values('Marketcap', ascending = False, inplace = True)\n",
    "    data_by_state10 = data_by_state[:11]\n",
    "\n",
    "    # plot total market capital of tech companies by city where they are located\n",
    "    data_by_state10.plot(kind = 'bar', y = 'Marketcap')\n",
    "    plt.title('Total Market Capital by City in ' + bz_sector)\n",
    "    plt.show()"
   ]
  },
  {
   "cell_type": "code",
   "execution_count": 95,
   "metadata": {},
   "outputs": [
    {
     "data": {
      "image/png": "[encoded data removed]",
      "text/plain": [
       "<Figure size 432x288 with 1 Axes>"
      ]
     },
     "metadata": {
      "needs_background": "light"
     },
     "output_type": "display_data"
    }
   ],
   "source": [
    "# plot the total market capital by city in 'Fincancial Services'\n",
    "plot_cap('../dataset/sp500_Stock/sp500_companies.csv', 'Financial Services')"
   ]
  },
  {
   "cell_type": "code",
   "execution_count": null,
   "metadata": {},
   "outputs": [],
   "source": []
  }
 ],
 "metadata": {
  "kernelspec": {
   "display_name": "Python 3",
   "language": "python",
   "name": "python3"
  },
  "language_info": {
   "codemirror_mode": {
    "name": "ipython",
    "version": 3
   },
   "file_extension": ".py",
   "mimetype": "text/x-python",
   "name": "python",
   "nbconvert_exporter": "python",
   "pygments_lexer": "ipython3",
   "version": "3.7.6"
  }
 },
 "nbformat": 4,
 "nbformat_minor": 4
}

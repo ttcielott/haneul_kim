{
 "cells": [
  {
   "cell_type": "markdown",
   "metadata": {},
   "source": [
    "# Efficiently combining, counting, and iterating"
   ]
  },
  {
   "cell_type": "code",
   "execution_count": 1,
   "metadata": {},
   "outputs": [],
   "source": [
    "# data\n",
    "names = ['Bulbasaur', 'Charmander', 'Squirtle']\n",
    "hps = [45, 39, 44]"
   ]
  },
  {
   "cell_type": "code",
   "execution_count": 2,
   "metadata": {},
   "outputs": [
    {
     "name": "stdout",
     "output_type": "stream",
     "text": [
      "<class 'zip'>\n"
     ]
    },
    {
     "data": {
      "text/plain": [
       "[('Bulbasaur', 45), ('Charmander', 39), ('Squirtle', 44)]"
      ]
     },
     "execution_count": 2,
     "metadata": {},
     "output_type": "execute_result"
    }
   ],
   "source": [
    "# combining objects\n",
    "\n",
    "combined_zip = zip(names, hps)\n",
    "print(type(combined_zip))\n",
    "\n",
    "# zip type needs unpacking\n",
    "[*combined_zip]"
   ]
  },
  {
   "cell_type": "code",
   "execution_count": 3,
   "metadata": {},
   "outputs": [
    {
     "data": {
      "text/plain": [
       "{'Bulbasaur': 1, 'Charmander': 1, 'Squirtle': 1}"
      ]
     },
     "execution_count": 3,
     "metadata": {},
     "output_type": "execute_result"
    }
   ],
   "source": [
    "# counting with loops\n",
    "type_counts = {}\n",
    "for poke_type in names:\n",
    "    if poke_type not in type_counts:\n",
    "        type_counts[poke_type] = 1\n",
    "    else:\n",
    "        type_counts[poke_type] += 1\n",
    "\n",
    "type_counts"
   ]
  },
  {
   "cell_type": "code",
   "execution_count": 4,
   "metadata": {},
   "outputs": [
    {
     "name": "stdout",
     "output_type": "stream",
     "text": [
      "Counter({'Bulbasaur': 1, 'Charmander': 1, 'Squirtle': 1})\n"
     ]
    }
   ],
   "source": [
    "# using Counter from the collection module\n",
    "# more efficient approach\n",
    "\n",
    "from collections import Counter\n",
    "\n",
    "type_counts = Counter(names)\n",
    "print(type_counts)\n",
    "\n",
    "# order by highest to lowest counts"
   ]
  },
  {
   "cell_type": "code",
   "execution_count": 5,
   "metadata": {},
   "outputs": [],
   "source": [
    "names = ['a','a', 'a', 'b', 'b', 'c', 'd', 'd', 'f', 'f', 'z','z', 'w']"
   ]
  },
  {
   "cell_type": "code",
   "execution_count": 8,
   "metadata": {},
   "outputs": [
    {
     "name": "stdout",
     "output_type": "stream",
     "text": [
      "{'a': 3, 'b': 2, 'c': 1, 'd': 2, 'f': 2, 'z': 2, 'w': 1}\n",
      "{'a': 3, 'b': 2, 'c': 1, 'd': 2, 'f': 2, 'z': 2, 'w': 1}\n",
      "{'a': 3, 'b': 2, 'c': 1, 'd': 2, 'f': 2, 'z': 2, 'w': 1}\n",
      "{'a': 3, 'b': 2, 'c': 1, 'd': 2, 'f': 2, 'z': 2, 'w': 1}\n",
      "{'a': 3, 'b': 2, 'c': 1, 'd': 2, 'f': 2, 'z': 2, 'w': 1}\n",
      "{'a': 3, 'b': 2, 'c': 1, 'd': 2, 'f': 2, 'z': 2, 'w': 1}\n",
      "{'a': 3, 'b': 2, 'c': 1, 'd': 2, 'f': 2, 'z': 2, 'w': 1}\n",
      "{'a': 3, 'b': 2, 'c': 1, 'd': 2, 'f': 2, 'z': 2, 'w': 1}\n",
      "{'a': 3, 'b': 2, 'c': 1, 'd': 2, 'f': 2, 'z': 2, 'w': 1}\n",
      "{'a': 3, 'b': 2, 'c': 1, 'd': 2, 'f': 2, 'z': 2, 'w': 1}\n",
      "{'a': 3, 'b': 2, 'c': 1, 'd': 2, 'f': 2, 'z': 2, 'w': 1}\n",
      "{'a': 3, 'b': 2, 'c': 1, 'd': 2, 'f': 2, 'z': 2, 'w': 1}\n",
      "{'a': 3, 'b': 2, 'c': 1, 'd': 2, 'f': 2, 'z': 2, 'w': 1}\n",
      "{'a': 3, 'b': 2, 'c': 1, 'd': 2, 'f': 2, 'z': 2, 'w': 1}\n",
      "{'a': 3, 'b': 2, 'c': 1, 'd': 2, 'f': 2, 'z': 2, 'w': 1}\n",
      "{'a': 3, 'b': 2, 'c': 1, 'd': 2, 'f': 2, 'z': 2, 'w': 1}\n",
      "{'a': 3, 'b': 2, 'c': 1, 'd': 2, 'f': 2, 'z': 2, 'w': 1}\n",
      "{'a': 3, 'b': 2, 'c': 1, 'd': 2, 'f': 2, 'z': 2, 'w': 1}\n",
      "{'a': 3, 'b': 2, 'c': 1, 'd': 2, 'f': 2, 'z': 2, 'w': 1}\n",
      "{'a': 3, 'b': 2, 'c': 1, 'd': 2, 'f': 2, 'z': 2, 'w': 1}\n",
      "52.9 µs ± 26.4 µs per loop (mean ± std. dev. of 2 runs, 10 loops each)\n"
     ]
    }
   ],
   "source": [
    "%%timeit -r2 -n10\n",
    "type_counts = {}\n",
    "for poke_type in names:\n",
    "    if poke_type not in type_counts:\n",
    "        type_counts[poke_type] = 1\n",
    "    else:\n",
    "        type_counts[poke_type] += 1\n",
    "print(type_counts)"
   ]
  },
  {
   "cell_type": "code",
   "execution_count": 9,
   "metadata": {},
   "outputs": [
    {
     "name": "stdout",
     "output_type": "stream",
     "text": [
      "4.67 µs ± 966 ns per loop (mean ± std. dev. of 2 runs, 10 loops each)\n",
      "Counter({'a': 3, 'b': 2, 'd': 2, 'f': 2, 'z': 2, 'c': 1, 'w': 1})\n"
     ]
    }
   ],
   "source": [
    "%timeit -r2 -n10 Counter(names)\n",
    "print(Counter(names))"
   ]
  },
  {
   "cell_type": "markdown",
   "metadata": {},
   "source": [
    "# Combinations"
   ]
  },
  {
   "cell_type": "code",
   "execution_count": 10,
   "metadata": {},
   "outputs": [
    {
     "name": "stdout",
     "output_type": "stream",
     "text": [
      "[('Bug', 'Fire'), ('Bug', 'Ghost'), ('Bug', 'Grass'), ('Bug', 'Water'), ('Fire', 'Ghost'), ('Fire', 'Grass'), ('Fire', 'Water'), ('Ghost', 'Grass'), ('Ghost', 'Water'), ('Grass', 'Water')]\n"
     ]
    }
   ],
   "source": [
    "# with loop\n",
    "\n",
    "poke_types = ['Bug', 'Fire', 'Ghost', 'Grass', 'Water']\n",
    "combos = []\n",
    "\n",
    "for x in poke_types:\n",
    "    for y in poke_types:\n",
    "        if x == y:\n",
    "            continue # back to 'for y in poke_type'\n",
    "        if ((x, y) not in combos) & ((y, x) not in combos):\n",
    "            combos.append((x , y))\n",
    "            \n",
    "print(combos)"
   ]
  },
  {
   "cell_type": "code",
   "execution_count": 12,
   "metadata": {},
   "outputs": [
    {
     "name": "stdout",
     "output_type": "stream",
     "text": [
      "<class 'itertools.combinations'>\n",
      "[('Bug', 'Fire'), ('Bug', 'Ghost'), ('Bug', 'Grass'), ('Bug', 'Water'), ('Fire', 'Ghost'), ('Fire', 'Grass'), ('Fire', 'Water'), ('Ghost', 'Grass'), ('Ghost', 'Water'), ('Grass', 'Water')]\n"
     ]
    }
   ],
   "source": [
    "# itertools, combinations\n",
    "\n",
    "# import library\n",
    "from itertools import combinations\n",
    "combos_list = combinations(poke_types,2)\n",
    "\n",
    "# combinations type\n",
    "print(type(combos_list))\n",
    "\n",
    "# unzip combinations\n",
    "print([*combos_list])"
   ]
  },
  {
   "cell_type": "markdown",
   "metadata": {},
   "source": [
    "# Set theory"
   ]
  },
  {
   "cell_type": "code",
   "execution_count": 1,
   "metadata": {},
   "outputs": [],
   "source": [
    "# comparing objects\n",
    "\n",
    "# leverage the branch of Mathematics, 'sets'\n",
    "\n",
    "# python built-in set datatype\n"
   ]
  },
  {
   "cell_type": "code",
   "execution_count": 2,
   "metadata": {},
   "outputs": [],
   "source": [
    "# data\n",
    "list_a = ['Bulbsaur', 'Charmander', 'Squirtle']\n",
    "list_b = ['Caterpie', 'Pidgey', 'Squirtle']"
   ]
  },
  {
   "cell_type": "markdown",
   "metadata": {},
   "source": [
    "## Intersection method"
   ]
  },
  {
   "cell_type": "code",
   "execution_count": 3,
   "metadata": {},
   "outputs": [
    {
     "name": "stdout",
     "output_type": "stream",
     "text": [
      "['Squirtle']\n"
     ]
    }
   ],
   "source": [
    "# using for loop\n",
    "\n",
    "in_common = []\n",
    "\n",
    "for pokemon_a in list_a:\n",
    "    for pokemon_b in list_b:\n",
    "        if pokemon_a == pokemon_b:\n",
    "            in_common.append(pokemon_a)\n",
    "print(in_common)"
   ]
  },
  {
   "cell_type": "code",
   "execution_count": 6,
   "metadata": {},
   "outputs": [
    {
     "name": "stdout",
     "output_type": "stream",
     "text": [
      "{'Squirtle'}\n"
     ]
    }
   ],
   "source": [
    "# using set\n",
    "\n",
    "set_a = set(list_a)\n",
    "set_b = set(list_b)\n",
    "\n",
    "# intersection method\n",
    "print(set_a.intersection(set_b))"
   ]
  },
  {
   "cell_type": "code",
   "execution_count": 7,
   "metadata": {},
   "outputs": [
    {
     "name": "stdout",
     "output_type": "stream",
     "text": [
      "591 ns ± 25.5 ns per loop (mean ± std. dev. of 7 runs, 1000000 loops each)\n"
     ]
    }
   ],
   "source": [
    "%%timeit\n",
    "\n",
    "in_common = []\n",
    "\n",
    "for pokemon_a in list_a:\n",
    "    for pokemon_b in list_b:\n",
    "        if pokemon_a == pokemon_b:\n",
    "            in_common.append(pokemon_a)"
   ]
  },
  {
   "cell_type": "code",
   "execution_count": 8,
   "metadata": {},
   "outputs": [
    {
     "name": "stdout",
     "output_type": "stream",
     "text": [
      "155 ns ± 2.97 ns per loop (mean ± std. dev. of 7 runs, 1000000 loops each)\n"
     ]
    }
   ],
   "source": [
    "%timeit set_a.intersection(set_b)"
   ]
  },
  {
   "cell_type": "markdown",
   "metadata": {},
   "source": [
    "## Difference method (group - intersection)"
   ]
  },
  {
   "cell_type": "code",
   "execution_count": 9,
   "metadata": {},
   "outputs": [
    {
     "data": {
      "text/plain": [
       "{'Bulbsaur', 'Charmander'}"
      ]
     },
     "execution_count": 9,
     "metadata": {},
     "output_type": "execute_result"
    }
   ],
   "source": [
    "# only exist in one set but not in another\n",
    "\n",
    "set_a.difference(set_b)"
   ]
  },
  {
   "cell_type": "markdown",
   "metadata": {},
   "source": [
    "## Symmetric difference (union - intersection)"
   ]
  },
  {
   "cell_type": "code",
   "execution_count": 10,
   "metadata": {},
   "outputs": [
    {
     "data": {
      "text/plain": [
       "{'Bulbsaur', 'Caterpie', 'Charmander', 'Pidgey'}"
      ]
     },
     "execution_count": 10,
     "metadata": {},
     "output_type": "execute_result"
    }
   ],
   "source": [
    "# union - intersection\n",
    "\n",
    "set_a.symmetric_difference(set_b)"
   ]
  },
  {
   "cell_type": "markdown",
   "metadata": {},
   "source": [
    "## Union"
   ]
  },
  {
   "cell_type": "code",
   "execution_count": 12,
   "metadata": {},
   "outputs": [
    {
     "data": {
      "text/plain": [
       "{'Bulbsaur', 'Caterpie', 'Charmander', 'Pidgey', 'Squirtle'}"
      ]
     },
     "execution_count": 12,
     "metadata": {},
     "output_type": "execute_result"
    }
   ],
   "source": [
    "# union\n",
    "set_a.union(set_b)"
   ]
  },
  {
   "cell_type": "markdown",
   "metadata": {},
   "source": [
    "## Membership testing"
   ]
  },
  {
   "cell_type": "code",
   "execution_count": 13,
   "metadata": {},
   "outputs": [],
   "source": [
    "names_list = ['Abomasnow', 'Abra', 'Absol', 'Zubat']\n",
    "names_tuple = ('Abomasnow', 'Abra', 'Absol', 'Zubat')\n",
    "names_set = {'Abomasnow', 'Abra', 'Absol', 'Zubat'}"
   ]
  },
  {
   "cell_type": "code",
   "execution_count": 16,
   "metadata": {},
   "outputs": [
    {
     "name": "stdout",
     "output_type": "stream",
     "text": [
      "72.3 ns ± 3.07 ns per loop (mean ± std. dev. of 7 runs, 10000000 loops each)\n",
      "85.3 ns ± 8.84 ns per loop (mean ± std. dev. of 7 runs, 10000000 loops each)\n",
      "40.1 ns ± 1.22 ns per loop (mean ± std. dev. of 7 runs, 10000000 loops each)\n"
     ]
    }
   ],
   "source": [
    "# comparing runtime\n",
    "\n",
    "list_runtime = %timeit 'Zubat' in names_list\n",
    "tuple_runtime = %timeit 'Zubat' in names_tuple\n",
    "set_runtime = %timeit 'Zubat' in names_set\n",
    "\n",
    "# set runtime is the shortest."
   ]
  },
  {
   "cell_type": "code",
   "execution_count": 17,
   "metadata": {},
   "outputs": [
    {
     "name": "stdout",
     "output_type": "stream",
     "text": [
      "{'z', 'c', 'b', 'a'}\n"
     ]
    }
   ],
   "source": [
    "group = ['a', 'b', 'a', 'c', 'z', 'z']\n",
    "group_set = set(group)\n",
    "print(group_set)"
   ]
  },
  {
   "cell_type": "markdown",
   "metadata": {},
   "source": [
    "# Eliminating loops"
   ]
  },
  {
   "cell_type": "code",
   "execution_count": 1,
   "metadata": {},
   "outputs": [],
   "source": [
    "# looping is piece-by-piece operation, so often inefficient\n",
    "\n",
    "# List of HP, Attack, Defense, Speed\n",
    "poke_stats = [[90, 92, 75, 60], [25, 30, 15,90], [65, 130, 60, 74]]\n",
    "\n",
    "# sum of the each stats\n",
    "# For loop appoach\n",
    "total = []\n",
    "for row in poke_stats:\n",
    "    total.append(sum(row))"
   ]
  },
  {
   "cell_type": "code",
   "execution_count": 2,
   "metadata": {},
   "outputs": [],
   "source": [
    "# list comprehension\n",
    "total = [sum(row) for row in poke_stats]"
   ]
  },
  {
   "cell_type": "code",
   "execution_count": 3,
   "metadata": {},
   "outputs": [],
   "source": [
    "# map function\n",
    "total = [*map(sum, poke_stats)]"
   ]
  },
  {
   "cell_type": "code",
   "execution_count": 4,
   "metadata": {},
   "outputs": [],
   "source": [
    "# combinations\n",
    "\n",
    "poke_types = ['Bug', 'Fire', 'Ghost', 'Grass', 'Water']"
   ]
  },
  {
   "cell_type": "code",
   "execution_count": 5,
   "metadata": {},
   "outputs": [],
   "source": [
    "# Nested for loop approach\n",
    "combos = []\n",
    "for x in poke_types:\n",
    "    for y in poke_types:\n",
    "        if x == y:\n",
    "            continue\n",
    "        if ((x, y) not in combos) & ((y, x) not in combos):\n",
    "            combos.append((x, y))"
   ]
  },
  {
   "cell_type": "code",
   "execution_count": 6,
   "metadata": {},
   "outputs": [],
   "source": [
    "# built-in module approach\n",
    "from itertools import combinations\n",
    "combos2 = [*combinations(poke_types, 2)]"
   ]
  },
  {
   "cell_type": "code",
   "execution_count": 6,
   "metadata": {},
   "outputs": [
    {
     "name": "stdout",
     "output_type": "stream",
     "text": [
      "[79.25 40.   82.25]\n",
      "[60.         84.         50.         74.66666667]\n"
     ]
    }
   ],
   "source": [
    "# eliminate loops with NumPy\n",
    "\n",
    "import numpy as np\n",
    "\n",
    "# List of HP, Attack, Defense, Speed\n",
    "poke_stats = [[90, 92, 75, 60], [25, 30, 15,90], [65, 130, 60, 74]]\n",
    "\n",
    "poke_stats = np.array(poke_stats)\n",
    "\n",
    "# obtain mean value by rows\n",
    "print(poke_stats.mean(axis = 1))\n",
    "\n",
    "# obtain mean value by column\n",
    "print(poke_stats.mean(axis = 0))"
   ]
  },
  {
   "cell_type": "code",
   "execution_count": 14,
   "metadata": {},
   "outputs": [],
   "source": [
    "# writing better loops\n",
    "\n",
    "# when inevitably you've got to use loops, at least write them better\n",
    "\n",
    "# rules 1. move one-time calculations outside the loop\n",
    "\n",
    "# data\n",
    "names = ['Absol', 'Aron', 'Jynx', 'Natu', 'Onix']\n",
    "attacks = np.array([130, 70, 50, 50, 45])"
   ]
  },
  {
   "cell_type": "code",
   "execution_count": 18,
   "metadata": {},
   "outputs": [
    {
     "name": "stdout",
     "output_type": "stream",
     "text": [
      "Absol's attack: 130 >  average: 69.0!\n",
      "Aron's attack: 70 >  average: 69.0!\n"
     ]
    }
   ],
   "source": [
    "for pokemon, attack in zip(names, attacks):\n",
    "    total_attack_avg = attacks.mean()\n",
    "    \n",
    "    if attack > total_attack_avg:\n",
    "        print(\"{}'s attack: {} >  average: {}!\".format(pokemon, attack, total_attack_avg))\n",
    "    else:\n",
    "        pass"
   ]
  },
  {
   "cell_type": "code",
   "execution_count": 24,
   "metadata": {},
   "outputs": [
    {
     "name": "stdout",
     "output_type": "stream",
     "text": [
      "51.4 µs ± 1.87 µs per loop (mean ± std. dev. of 7 runs, 10000 loops each)\n"
     ]
    }
   ],
   "source": [
    "%%timeit\n",
    "for pokemon, attack in zip(names, attacks):\n",
    "    total_attack_avg = attacks.mean()  # calculating the same value every loop\n",
    "    \n",
    "    if attack > total_attack_avg:\n",
    "        \"{}'s attack: {} >  average: {}!\".format(pokemon, attack, total_attack_avg)\n",
    "    else:\n",
    "        pass"
   ]
  },
  {
   "cell_type": "code",
   "execution_count": 26,
   "metadata": {},
   "outputs": [
    {
     "name": "stdout",
     "output_type": "stream",
     "text": [
      "20.7 µs ± 286 ns per loop (mean ± std. dev. of 7 runs, 10000 loops each)\n"
     ]
    }
   ],
   "source": [
    "%%timeit\n",
    "total_attack_avg = attacks.mean()  # moving one-time calculation outside the loop\n",
    "\n",
    "for pokemon, attack in zip(names, attacks):\n",
    "   \n",
    "    if attack > total_attack_avg:\n",
    "        \"{}'s attack: {} >  average: {}!\".format(pokemon, attack, total_attack_avg)\n",
    "    else:\n",
    "        pass"
   ]
  },
  {
   "cell_type": "code",
   "execution_count": 28,
   "metadata": {},
   "outputs": [],
   "source": [
    "# rule 2. Use holistic conversions outside the loop\n",
    "\n",
    "# data\n",
    "names = ['Pikachu', 'Squirtile', 'Articuno']\n",
    "legend_status = [False, False, True]\n",
    "generations = [1, 1, 1]"
   ]
  },
  {
   "cell_type": "code",
   "execution_count": 36,
   "metadata": {},
   "outputs": [],
   "source": [
    "poke_data = []\n",
    "for poke_tuple in zip(names, legend_status, generations):\n",
    "    poke_list = list(poke_tuple)  # typecast every loop\n",
    "    poke_data.append(poke_list)"
   ]
  },
  {
   "cell_type": "code",
   "execution_count": 37,
   "metadata": {},
   "outputs": [],
   "source": [
    "poke_data_tuples = []\n",
    "for poke_tuple in zip(names, legend_status, generations):\n",
    "    poke_data_tuples.append(poke_tuple)\n",
    "\n",
    "# holistic conversion (all at once, not each loop)\n",
    "poke_data = [*map(list, poke_data_tuples)]"
   ]
  },
  {
   "cell_type": "code",
   "execution_count": null,
   "metadata": {},
   "outputs": [],
   "source": []
  }
 ],
 "metadata": {
  "kernelspec": {
   "display_name": "Python 3",
   "language": "python",
   "name": "python3"
  },
  "language_info": {
   "codemirror_mode": {
    "name": "ipython",
    "version": 3
   },
   "file_extension": ".py",
   "mimetype": "text/x-python",
   "name": "python",
   "nbconvert_exporter": "python",
   "pygments_lexer": "ipython3",
   "version": "3.7.6"
  }
 },
 "nbformat": 4,
 "nbformat_minor": 4
}

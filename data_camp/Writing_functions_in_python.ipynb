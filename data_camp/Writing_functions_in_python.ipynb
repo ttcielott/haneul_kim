{
 "cells": [
  {
   "cell_type": "markdown",
   "metadata": {},
   "source": [
    "# Best Practices"
   ]
  },
  {
   "cell_type": "markdown",
   "metadata": {},
   "source": [
    "## Crafting a docstring\n",
    "\n",
    "- writing what expected inputs and outputs should be\n",
    "- what the function does\n",
    "- comes the first line of the function\n",
    "- five key information to include\n",
    ">- description of what the function does\n",
    ">- description of arguments, if any\n",
    ">- description of the return value(s), if any\n",
    ">- description of error raised, if any\n",
    ">- optional extra notes or examples of usage\n",
    "\n",
    "- docstrings format\n",
    ">- Google Style (most popular)\n",
    ">- Numpydoc (most popular)\n",
    ">- reStructuredText\n",
    ">- EpyText"
   ]
  },
  {
   "cell_type": "code",
   "execution_count": null,
   "metadata": {},
   "outputs": [],
   "source": [
    "# add a docstring to count_letter()\n",
    "def count_letter(content, letter):\n",
    "    \"\"\"\n",
    "    Count the number of times 'letter' appears in 'content'\n",
    "    \n",
    "    # add a Google style section\n",
    "    Args:\n",
    "     content(str) : The string to search.\n",
    "     letter(str) : The letter to search for.\n",
    "     \n",
    "    Returns:\n",
    "     int\n",
    "     \n",
    "    Raises:\n",
    "     ValueError: If 'letter' is not a one-character string.\n",
    "    \"\"\"\n",
    "\n",
    "    if (not isinstance(letter, str)) or len(letter) != 1:\n",
    "        raise ValueError(\"'letter' must be a single character string\")\n",
    "    return len([char for char in content if char == letter])"
   ]
  },
  {
   "cell_type": "code",
   "execution_count": null,
   "metadata": {},
   "outputs": [],
   "source": [
    "# view the docstring\n",
    "docstring = count_letter.__doc__\n",
    "docstring"
   ]
  },
  {
   "cell_type": "code",
   "execution_count": null,
   "metadata": {},
   "outputs": [],
   "source": [
    "print(docstring)"
   ]
  },
  {
   "cell_type": "code",
   "execution_count": null,
   "metadata": {},
   "outputs": [],
   "source": [
    "# remove spaces or tab in docstring\n",
    "# inspect module, getdoc()\n",
    "import inspect\n",
    "docstring = inspect.getdoc(count_letter)\n",
    "docstring\n",
    "\n",
    "# to see effect, use print"
   ]
  },
  {
   "cell_type": "code",
   "execution_count": null,
   "metadata": {},
   "outputs": [],
   "source": [
    "border = '#' * 28\n",
    "print('{}\\n{}\\n{}\\n'.format(border, docstring, border))"
   ]
  },
  {
   "cell_type": "markdown",
   "metadata": {},
   "source": [
    "## Retrieving doctstrings"
   ]
  },
  {
   "cell_type": "code",
   "execution_count": null,
   "metadata": {},
   "outputs": [],
   "source": [
    "# make a function showing docstring in clean way\n",
    "def build_tooltip(function):\n",
    "    \"\"\"Create a tooltip for any function that shows the docstring\n",
    "    \n",
    "    Args:\n",
    "     function (callable) : The function we want a tooltip for.\n",
    "     \n",
    "    Returns:\n",
    "     str\n",
    "    \"\"\"\n",
    "    \n",
    "    docstring = inspect.getdoc(function)\n",
    "    border = '#' * 28\n",
    "    print('{}\\n{}\\n{}\\n'.format(border, docstring, border))"
   ]
  },
  {
   "cell_type": "code",
   "execution_count": null,
   "metadata": {},
   "outputs": [],
   "source": [
    "# call build_tooltip for range\n",
    "build_tooltip(range)"
   ]
  },
  {
   "cell_type": "markdown",
   "metadata": {},
   "source": [
    "## DRY and \"Do one thing\" (software engineering principle)\n",
    "\n",
    "- DRY : Don't repeat yourself.\n",
    "> the problems of having multiple repeating blocks of codes:\n",
    ">>- Error inviting: while updating by copy and paste <br>\n",
    ">>- cumbersome: to update multiple places when changing one part of the code\n",
    "\n",
    "- Do one thing : Every functions should have a single functionality.\n",
    "> the benefit of keep a function doing one thing: \n",
    ">>-  More flexible\n",
    ">>- More easily understood for others\n",
    ">>- Simpler to test\n",
    ">>- Simpler to debug \n"
   ]
  },
  {
   "cell_type": "markdown",
   "metadata": {},
   "source": [
    "## extract a function"
   ]
  },
  {
   "cell_type": "code",
   "execution_count": null,
   "metadata": {},
   "outputs": [],
   "source": [
    "# define a function\n",
    "def standardize(column):\n",
    "    \"\"\"Standardize the values in a column\n",
    "    \n",
    "    Args:\n",
    "     column (pandas Series): the data to standardize\n",
    "    \n",
    "    Returns:\n",
    "     pandas Series: the values as z-scores\n",
    "    \"\"\"\n",
    "    # finish the function so that it returns the z-scores\n",
    "    z_score = (column - column.mean()) / column.std()\n",
    "    \n",
    "    return z_score"
   ]
  },
  {
   "cell_type": "markdown",
   "metadata": {},
   "source": [
    "## pass by assignment\n",
    "- data type, Mutable or Immutable?"
   ]
  },
  {
   "cell_type": "code",
   "execution_count": null,
   "metadata": {},
   "outputs": [],
   "source": [
    "def foo(x):\n",
    "    x[0] = 99\n",
    "\n",
    "my_list = [1, 2, 3]\n",
    "foo(my_list)\n",
    "my_list\n",
    "\n",
    "# list is mutable object\n",
    "# my_list = x (mutable object)\n",
    "# change in x, change in my_list "
   ]
  },
  {
   "cell_type": "code",
   "execution_count": null,
   "metadata": {},
   "outputs": [],
   "source": [
    "def bar(x):\n",
    "    x = x + 30\n",
    "\n",
    "my_var = 5\n",
    "bar(my_var)\n",
    "my_var\n",
    "\n",
    "# integer is immutable object (can't be changed)\n",
    "# my_var = x (immutable object)\n",
    "# change in x doesn't affect my_var"
   ]
  },
  {
   "cell_type": "markdown",
   "metadata": {},
   "source": [
    "## Best practice for default arguments\n",
    "- **when setting multable object in argument, set default as 'None'**\n",
    "\n",
    "> def foo(var = []):<br>\n",
    ">> var.append(1)\n",
    ">> return var\n",
    "\n",
    "> foo() <br>\n",
    "> output: [1] <br>\n",
    "\n",
    "> foo() <br>\n",
    "> output: [1,1]   # list is mutable"
   ]
  },
  {
   "cell_type": "code",
   "execution_count": null,
   "metadata": {},
   "outputs": [],
   "source": [
    "# code needs improvement\n",
    "def add_column(values, df=pandas.DataFrame()):\n",
    "  \"\"\"Add a column of `values` to a DataFrame `df`.\n",
    "  The column will be named \"col_<n>\" where \"n\" is\n",
    "  the numerical index of the column.\n",
    "\n",
    "  Args:\n",
    "    values (iterable): The values of the new column\n",
    "    df (DataFrame, optional): The DataFrame to update.\n",
    "      If no DataFrame is passed, one is created by default.\n",
    "\n",
    "  Returns:\n",
    "    DataFrame\n",
    "  \"\"\"\n",
    "  df['col_{}'.format(len(df.columns))] = values\n",
    "  return df"
   ]
  },
  {
   "cell_type": "code",
   "execution_count": null,
   "metadata": {},
   "outputs": [],
   "source": [
    "# revised code\n",
    "def add_column(values, df = None):  # always use 'None' when you need to set a mutable variable as a default argument\n",
    "    \"\"\"Add a column of `values` to a DataFrame `df`.\n",
    "    The column will be named \"col_<n>\" where \"n\" is\n",
    "    the numerical index of the column.\n",
    "    \n",
    "    Args:\n",
    "     values (iterable): The values of the new column\n",
    "     df (Dataframe, option): The Dataframe to update. If no DataFrame is passed, one is created by default.\n",
    "    \n",
    "    Returns:\n",
    "     DataFrame\n",
    "    \"\"\"\n",
    "    if df is None:\n",
    "        df = pd.DataFrame()\n",
    "    else:\n",
    "        pass\n",
    "    df['col_{}'.format(len(df.columns))] = values\n",
    "    \n",
    "    return df"
   ]
  },
  {
   "cell_type": "markdown",
   "metadata": {},
   "source": [
    "# Context Manager\n",
    "\n",
    "- set a context -> run your code -> remove the context\n",
    "- example: open function \n",
    ">> with open(file_path) as file:\n",
    ">>> text = file.read() <br>\n",
    ">>> length = len(text) <br>\n",
    ">>> print('The file is {} characters long'.format(length))\n",
    "\n",
    "- context manager start with **'with'** \n",
    ">> with context-manager(args):\n",
    ">>> #the code here is runing inside the conext <br>"
   ]
  },
  {
   "cell_type": "code",
   "execution_count": null,
   "metadata": {},
   "outputs": [],
   "source": [
    "# example of context manager : open function\n",
    "alice_path = '../dataset/alice.txt'\n",
    "with open(alice_path) as file:\n",
    "    text = file.read()\n",
    "    length = len(text)\n",
    "\n",
    "# print is outside of the context, so by the time it runs the file is closed. \n",
    "print('The file is {} characters long'.format(length))"
   ]
  },
  {
   "cell_type": "code",
   "execution_count": null,
   "metadata": {},
   "outputs": [],
   "source": [
    "# find out how many times the word 'cat' or 'cats' appeared in the book, 'Alice in the wonderland'\n",
    "with open(alice_path) as file:\n",
    "    text = file.read()\n",
    "    \n",
    "n = 0\n",
    "for word in text.split():\n",
    "    if word.lower() in ['cat', 'cats']:\n",
    "        n += 1\n",
    "print('Lewis Carroll uses the word, \"cat\" {} times'.format(n))"
   ]
  },
  {
   "cell_type": "markdown",
   "metadata": {},
   "source": [
    "## Create a context manager\n",
    "\n",
    "- Class-based\n",
    "- Function-based: This class focuses on it.\n",
    "- 5 things to do\n",
    "> 1. Define a function\n",
    "> 2. (optional) Add any set up code your context needs\n",
    "> 3. Use the \"yield\" keword. (signaling to Python that this is a special kind of function.)\n",
    "> 4. (optional) Add any teardown code. (cleaning up the context)\n",
    "> 5. Add the decorator, @contextmanager (or @contextlib.contextmanager)\n",
    "\n",
    "- 'yield': going to return a value, but expect to finish the rest of the function at some point in the future. "
   ]
  },
  {
   "cell_type": "code",
   "execution_count": null,
   "metadata": {},
   "outputs": [],
   "source": [
    "# import contextmanager\n",
    "from contextlib import contextmanager\n",
    "import time"
   ]
  },
  {
   "cell_type": "code",
   "execution_count": null,
   "metadata": {},
   "outputs": [],
   "source": [
    "# assign value from yield\n",
    "@contextmanager\n",
    "def con1():\n",
    "    print('-'*30)\n",
    "    yield 20\n",
    "    print('-'*30)"
   ]
  },
  {
   "cell_type": "code",
   "execution_count": null,
   "metadata": {},
   "outputs": [],
   "source": [
    "with con1() as y:\n",
    "    print(y, ' was assigned to y.')"
   ]
  },
  {
   "cell_type": "code",
   "execution_count": null,
   "metadata": {},
   "outputs": [],
   "source": [
    "# add a decorator that will make timer() a conntext manager\n",
    "@contextmanager\n",
    "def timer():\n",
    "    \"\"\"Time the execution of a context block.\n",
    "    Yields:\n",
    "     None\n",
    "    \"\"\"\n",
    "    start = time.time()\n",
    "    # send control back to the context block\n",
    "    yield\n",
    "    end = time.time()\n",
    "    \n",
    "    print('Elapsed: {:.2f}s'.format(end - start))"
   ]
  },
  {
   "cell_type": "code",
   "execution_count": null,
   "metadata": {},
   "outputs": [],
   "source": [
    "# call context manager, timer\n",
    "with timer():\n",
    "    print('This should take approximately 0.25 seconds')\n",
    "    time.sleep(0.25)"
   ]
  },
  {
   "cell_type": "markdown",
   "metadata": {},
   "source": [
    "- You may have noticed there was no as <variable name> at the end of the with statement in timer() context manager. That is because timer() is a context manager that does not return a value, so the as <variable name> at the end of the with statement isn't necessary."
   ]
  },
  {
   "cell_type": "markdown",
   "metadata": {},
   "source": [
    "## Nested context & Handling errors"
   ]
  },
  {
   "cell_type": "code",
   "execution_count": null,
   "metadata": {},
   "outputs": [],
   "source": [
    "# nested context\n",
    "\n",
    "# open both files at once \n",
    "# read the source file line by line and write each line out to the destination as we go.\n",
    "# This would let us copy the file without worrying about how big it is.\n",
    "with open(alice_path) as read_file:\n",
    "    with open('../dataset/alice_copy.txt', 'w') as write_file:\n",
    "        for line in read_file:\n",
    "            write_file.write(line) "
   ]
  },
  {
   "cell_type": "code",
   "execution_count": null,
   "metadata": {},
   "outputs": [],
   "source": [
    "# no code handling error\n",
    "def get_printer(ip):\n",
    "    p = connect_to_printer(ip)\n",
    "    \n",
    "    yield\n",
    "    \n",
    "    # this must be called or no one else will be able to connect to the printer\n",
    "    p.disconnect()\n",
    "\n",
    "# mistake in input in argument can cause error -> code stops before disconnecting the printer"
   ]
  },
  {
   "cell_type": "code",
   "execution_count": null,
   "metadata": {},
   "outputs": [],
   "source": [
    "# with code handling error\n",
    "def get_printer(ip):\n",
    "    p = connect_to_printer(ip)\n",
    "    \n",
    "    # 'try' code might raise an error. ('except code does something about the error')\n",
    "    try:\n",
    "        yield\n",
    "    \n",
    "    # 'finally' code runs no matter what. (runs before an error is raised)\n",
    "    finally:\n",
    "        p.disconnect()"
   ]
  },
  {
   "cell_type": "markdown",
   "metadata": {},
   "source": [
    "# Decorators"
   ]
  },
  {
   "cell_type": "markdown",
   "metadata": {},
   "source": [
    "## functions are objects"
   ]
  },
  {
   "cell_type": "code",
   "execution_count": null,
   "metadata": {},
   "outputs": [],
   "source": [
    "# define function\n",
    "def my_function():\n",
    "    return 'Hi'"
   ]
  },
  {
   "cell_type": "code",
   "execution_count": null,
   "metadata": {},
   "outputs": [],
   "source": [
    "# type\n",
    "type(my_function)"
   ]
  },
  {
   "cell_type": "code",
   "execution_count": null,
   "metadata": {},
   "outputs": [],
   "source": [
    "# function in list\n",
    "list_of_functions = [print, sum, round]\n",
    "list_of_functions[1]([1,2,4])"
   ]
  },
  {
   "cell_type": "code",
   "execution_count": null,
   "metadata": {},
   "outputs": [],
   "source": [
    "# function in dictionary\n",
    "dicts_of_functions = {'f1': print, 'f2': sum, 'f3': round}\n",
    "dicts_of_functions['f3'](2.0143, 2)"
   ]
  },
  {
   "cell_type": "markdown",
   "metadata": {},
   "source": [
    "## referencing a function"
   ]
  },
  {
   "cell_type": "code",
   "execution_count": null,
   "metadata": {},
   "outputs": [],
   "source": [
    "# assign it to a variable\n",
    "# when doing it, you do not include the parentheses after the function name\n",
    "# referencing the funciton itself\n",
    "x1 = my_function  \n",
    "\n",
    "# in this case, you are calling the function.\n",
    "x2 = my_function()  \n",
    "\n",
    "print(x1)\n",
    "print(x1())\n",
    "print(x2)"
   ]
  },
  {
   "cell_type": "code",
   "execution_count": null,
   "metadata": {},
   "outputs": [],
   "source": [
    "# assign print function to a variable\n",
    "frint = print\n",
    "frint('does it work?')"
   ]
  },
  {
   "cell_type": "markdown",
   "metadata": {},
   "source": [
    "## functions as arguments"
   ]
  },
  {
   "cell_type": "code",
   "execution_count": null,
   "metadata": {},
   "outputs": [],
   "source": [
    "# you can pass function as an argument to another function\n",
    "\n",
    "def has_docstring(func):\n",
    "    \"\"\"check to see if the function has a docstring.\n",
    "    \n",
    "    Args:\n",
    "     func (callable): A function\n",
    "     \n",
    "    Returns:\n",
    "     bool\n",
    "    \"\"\"\n",
    "    \n",
    "    return func.__doc__ is not None"
   ]
  },
  {
   "cell_type": "code",
   "execution_count": null,
   "metadata": {},
   "outputs": [],
   "source": [
    "has_docstring(sum)"
   ]
  },
  {
   "cell_type": "markdown",
   "metadata": {},
   "source": [
    "## defining a function inside another function"
   ]
  },
  {
   "cell_type": "code",
   "execution_count": null,
   "metadata": {},
   "outputs": [],
   "source": [
    "def foo():\n",
    "    x = [1,3,5]\n",
    "    \n",
    "    def bar(y):\n",
    "        print(y + 1)\n",
    "    \n",
    "    for value in x:\n",
    "        bar(value)"
   ]
  },
  {
   "cell_type": "code",
   "execution_count": null,
   "metadata": {},
   "outputs": [],
   "source": [
    "foo()"
   ]
  },
  {
   "cell_type": "code",
   "execution_count": null,
   "metadata": {},
   "outputs": [],
   "source": [
    "def foo(x, y):\n",
    "    if x > 10 and x < 20 and y > 4 and y < 10:\n",
    "        print(x * y)\n",
    "        \n",
    "# defining a function inside another function sometimes makes code easier to read\n",
    "def foo(x, y):\n",
    "    def in_range_x(m):\n",
    "        return m > 10 and m < 20\n",
    "            \n",
    "    def in_range_y(n):\n",
    "        return y > 4 and n < 10\n",
    "    \n",
    "    if in_range_x(x) and in_range_y(y):\n",
    "        print(x * y)"
   ]
  },
  {
   "cell_type": "code",
   "execution_count": null,
   "metadata": {},
   "outputs": [],
   "source": [
    "foo(11,5)"
   ]
  },
  {
   "cell_type": "markdown",
   "metadata": {},
   "source": [
    "## functions as return values"
   ]
  },
  {
   "cell_type": "code",
   "execution_count": null,
   "metadata": {},
   "outputs": [],
   "source": [
    "def get_function():\n",
    "    def print_me(s):\n",
    "        print(s)\n",
    "    return print_me"
   ]
  },
  {
   "cell_type": "code",
   "execution_count": null,
   "metadata": {},
   "outputs": [],
   "source": [
    "new_function = get_function\n",
    "new_function('Hello')"
   ]
  },
  {
   "cell_type": "code",
   "execution_count": null,
   "metadata": {},
   "outputs": [],
   "source": [
    "new_function = get_function() # let the return print_me function\n",
    "new_fu  nction('Hello') # print_me = new_function"
   ]
  },
  {
   "cell_type": "markdown",
   "metadata": {},
   "source": [
    "## returning functions as a math game"
   ]
  },
  {
   "cell_type": "code",
   "execution_count": null,
   "metadata": {},
   "outputs": [],
   "source": [
    "# if use type 'add' or 'subtract', the function return add or subtract function.\n",
    "def create_math_function(func_name):\n",
    "    if func_name == 'add':\n",
    "        def add(a, b):\n",
    "            return a + b\n",
    "        return add\n",
    "    elif func_name == 'subtract':\n",
    "        def subtract(a, b):\n",
    "            return a - b\n",
    "        return subtract\n",
    "    else:\n",
    "        print(\"I don't know that one\")"
   ]
  },
  {
   "cell_type": "code",
   "execution_count": null,
   "metadata": {},
   "outputs": [],
   "source": [
    "add = create_math_function('add') # return add function\n",
    "print(add(2, 3))"
   ]
  },
  {
   "cell_type": "markdown",
   "metadata": {},
   "source": [
    "## Scope\n",
    "- Builtin > Global > Local \n",
    "- print(x), find x in local, if not, then global, if not, then built-in\n",
    "- in case of nested function, one more layer: Non local between local and global\n",
    "![alt text](scope.png)"
   ]
  },
  {
   "cell_type": "markdown",
   "metadata": {},
   "source": [
    "## Modifying variables outside local scope"
   ]
  },
  {
   "cell_type": "code",
   "execution_count": null,
   "metadata": {},
   "outputs": [],
   "source": [
    "from numpy import random\n",
    "\n",
    "def wait_until_done():\n",
    "    def check_is_done():\n",
    "        global done\n",
    "        if random.random() < 0.1:\n",
    "            done = True\n",
    "        \n",
    "    while not done:  # until done becomes True, keep runing 'check_is_done()'\n",
    "        check_is_done()"
   ]
  },
  {
   "cell_type": "code",
   "execution_count": null,
   "metadata": {},
   "outputs": [],
   "source": [
    "done = False\n",
    "wait_until_done()\n",
    "print(done)"
   ]
  },
  {
   "cell_type": "markdown",
   "metadata": {},
   "source": [
    "## checking for closure\n",
    "- variable defined within a function is stored in '__close__' attribute\n",
    "- and it can be accessed outside the scope of the function"
   ]
  },
  {
   "cell_type": "code",
   "execution_count": null,
   "metadata": {},
   "outputs": [],
   "source": [
    "# exercise 1\n",
    "def foo():\n",
    "    a = 5\n",
    "    def bar():\n",
    "        print(a)\n",
    "    return bar"
   ]
  },
  {
   "cell_type": "code",
   "execution_count": null,
   "metadata": {},
   "outputs": [],
   "source": [
    "func = foo()\n",
    "func()"
   ]
  },
  {
   "cell_type": "code",
   "execution_count": null,
   "metadata": {},
   "outputs": [],
   "source": [
    "# python attached any nonlocal variable that bar() was going to need to the function object\n",
    "print(type(func.__closure__))\n",
    "\n",
    "# check how many variables are stored\n",
    "print(len(func.__closure__))\n",
    "\n",
    "# access to the variable stored\n",
    "print(func.__closure__[0].cell_contents)"
   ]
  },
  {
   "cell_type": "code",
   "execution_count": null,
   "metadata": {},
   "outputs": [],
   "source": [
    "# exercise 2\n",
    "x = 35\n",
    "def foo(value):\n",
    "    def bar():\n",
    "        print(value)\n",
    "    return bar"
   ]
  },
  {
   "cell_type": "code",
   "execution_count": null,
   "metadata": {},
   "outputs": [],
   "source": [
    "my_func = foo(x) # returns bar()\n",
    "my_func()"
   ]
  },
  {
   "cell_type": "code",
   "execution_count": null,
   "metadata": {},
   "outputs": [],
   "source": [
    "del(35)\n",
    "print(x)"
   ]
  },
  {
   "cell_type": "code",
   "execution_count": null,
   "metadata": {},
   "outputs": [],
   "source": [
    "my_func()  # the reason why it still returns 35 when x was deleted\n",
    "print(my_func.__closure__[0].cell_contents)  # foo()'s \"value\" arugment gets added to the closure attached to the new \"my_func\" function"
   ]
  },
  {
   "cell_type": "markdown",
   "metadata": {},
   "source": [
    "![alt text](nonlocal_variable.png)"
   ]
  },
  {
   "cell_type": "markdown",
   "metadata": {},
   "source": [
    "## Nonlocal variables are saved in __closure__ object"
   ]
  },
  {
   "cell_type": "code",
   "execution_count": null,
   "metadata": {},
   "outputs": [],
   "source": [
    "# exercise 3\n",
    "def return_a_func(arg1, arg2):\n",
    "    def new_func():\n",
    "        print('arg1 was {}'.format(arg1))\n",
    "        print('arg2 was {}'.format(arg2))\n",
    "    return new_func\n",
    "\n",
    "my_func = return_a_func(3,4)\n",
    "\n",
    "# show that my_func()'s closure\n",
    "[cell.cell_contents   for cell in my_func.__closure__]"
   ]
  },
  {
   "cell_type": "markdown",
   "metadata": {},
   "source": [
    "## Decorators\n",
    "- a decordator is a wrapper that you can place around a function that changes that function's behavior."
   ]
  },
  {
   "cell_type": "code",
   "execution_count": null,
   "metadata": {},
   "outputs": [],
   "source": [
    "# example\n",
    "\n",
    "# define a function to decordate\n",
    "def multiply(a, b):\n",
    "    return a * b\n",
    "\n",
    "# define decorator\n",
    "def double_args(func):\n",
    "    def wrapper(a, b): # define a new function that we can modify\n",
    "        return func(a * 2, b * 2)\n",
    "    return wrapper\n"
   ]
  },
  {
   "cell_type": "code",
   "execution_count": null,
   "metadata": {},
   "outputs": [],
   "source": [
    "new_multiply = double_args(multiply) # nested function: parent -> double_args, child -> multiply\n",
    "new_multiply(2,4)"
   ]
  },
  {
   "cell_type": "code",
   "execution_count": null,
   "metadata": {},
   "outputs": [],
   "source": [
    "# define decorator\n",
    "def triple_args(func):\n",
    "    def wrapper(a, b):\n",
    "        return func(a * 3, b * 3)\n",
    "    return wrapper\n",
    "\n",
    "@triple_args\n",
    "def multiply(a, b):\n",
    "    return a * b"
   ]
  },
  {
   "cell_type": "code",
   "execution_count": null,
   "metadata": {},
   "outputs": [],
   "source": [
    "multiply(3,2)"
   ]
  },
  {
   "cell_type": "markdown",
   "metadata": {},
   "source": [
    "## using decorator syntax"
   ]
  },
  {
   "cell_type": "code",
   "execution_count": null,
   "metadata": {},
   "outputs": [],
   "source": [
    "# define a decorator\n",
    "def print_args(func):\n",
    "    def wrapper(a, b, c):\n",
    "        print('my_function was called with a=', a, ', b=', b, ', c=', c)\n",
    "        return func(a, b, c)\n",
    "    return wrapper\n",
    "\n",
    "@print_args\n",
    "def my_function(a, b, c):\n",
    "    print(a + b + c)\n",
    "\n",
    "my_function(2,4,5)"
   ]
  },
  {
   "cell_type": "code",
   "execution_count": null,
   "metadata": {},
   "outputs": [],
   "source": [
    "my_function(5,1,9)"
   ]
  },
  {
   "cell_type": "markdown",
   "metadata": {},
   "source": [
    "# More on decorators"
   ]
  },
  {
   "cell_type": "markdown",
   "metadata": {},
   "source": [
    "## print the return type"
   ]
  },
  {
   "cell_type": "code",
   "execution_count": null,
   "metadata": {},
   "outputs": [],
   "source": [
    "def print_return_type(func):\n",
    "    # define a wrapper\n",
    "    def wrapper(*args, **kwargs):\n",
    "        result = func(*args)\n",
    "        print('{}() type is {}'.format(func.__name__, type(result)))\n",
    "        return result\n",
    "    return wrapper    "
   ]
  },
  {
   "cell_type": "code",
   "execution_count": null,
   "metadata": {},
   "outputs": [],
   "source": [
    "@print_return_type\n",
    "def foo(value):\n",
    "    return value\n",
    "\n",
    "print(foo(42))\n",
    "print(foo([1,2,3]))\n",
    "print(foo({3,45}))"
   ]
  },
  {
   "cell_type": "markdown",
   "metadata": {},
   "source": [
    "## counter\n",
    "\n",
    "- see how many times function was called. -> help you clean up the less used code "
   ]
  },
  {
   "cell_type": "code",
   "execution_count": null,
   "metadata": {},
   "outputs": [],
   "source": [
    "def counter(func):\n",
    "    def wrapper(*args, **kwargs):\n",
    "        wrapper.count += 1\n",
    "        # call the function being decorated and return the result\n",
    "        return func(*args, **kwargs)\n",
    "    wrapper.count = 0  # this code runs before wrapper because wrapper runs in return.\n",
    "    # return the new decoarated function\n",
    "    return wrapper"
   ]
  },
  {
   "cell_type": "code",
   "execution_count": null,
   "metadata": {},
   "outputs": [],
   "source": [
    "@counter\n",
    "def foo():\n",
    "    print('calling for foo()')"
   ]
  },
  {
   "cell_type": "code",
   "execution_count": null,
   "metadata": {},
   "outputs": [],
   "source": [
    "foo()\n",
    "foo()\n",
    "print('foo() was called {} times'.format(foo.count))"
   ]
  },
  {
   "cell_type": "markdown",
   "metadata": {},
   "source": [
    "## Preserving docstrings when decorating functions\n",
    "- fix the problem of decorator's metadata overwriting function's decorated"
   ]
  },
  {
   "cell_type": "code",
   "execution_count": null,
   "metadata": {},
   "outputs": [],
   "source": [
    "def add_hello(func):\n",
    "    \"\"\"add hello\n",
    "    \n",
    "    Args:\n",
    "     func (function): function being decorated\n",
    "    \"\"\"\n",
    "    def wrapper(*args, **kwargs):\n",
    "        print('hello')\n",
    "        return func(*args, **kwargs)\n",
    "    return wrapper"
   ]
  },
  {
   "cell_type": "code",
   "execution_count": null,
   "metadata": {},
   "outputs": [],
   "source": [
    "@add_hello\n",
    "def print_sum(*args):\n",
    "    \"\"\"get sum of all arguments and print the sum\"\"\"\n",
    "    print(sum(args))\n",
    "\n",
    "# check the name of the function\n",
    "print(print_sum(20,40))\n",
    "print(print_sum.__doc__)  # decorator's docstring overwrites function's\n",
    "print(print_sum.__name__) "
   ]
  },
  {
   "cell_type": "code",
   "execution_count": 1,
   "metadata": {},
   "outputs": [],
   "source": [
    "# fix the problem with wraps function from functools module\n",
    "from functools import wraps\n",
    "def add_hello(func):\n",
    "    \"\"\"add hello\n",
    "    \n",
    "    Args:\n",
    "     func (function): function being decorated\n",
    "    \"\"\"\n",
    "    @wraps(func)\n",
    "    def wrapper(*args, **kwargs):\n",
    "        print('hello')\n",
    "        return func(*args, **kwargs)\n",
    "    return wrapper"
   ]
  },
  {
   "cell_type": "code",
   "execution_count": null,
   "metadata": {},
   "outputs": [],
   "source": [
    "@add_hello\n",
    "def print_sum(*args):\n",
    "    \"\"\"get sum of all arguments and print the sum\"\"\"\n",
    "    print(sum(args))\n",
    "\n",
    "# check the name of the function\n",
    "print(print_sum(20,40))\n",
    "print(print_sum.__doc__)  # decorator's docstring overwrites function's\n",
    "print(print_sum.__name__) "
   ]
  },
  {
   "cell_type": "markdown",
   "metadata": {},
   "source": [
    "## access to original undecorated function\n",
    "__wrapped__ attribute"
   ]
  },
  {
   "cell_type": "code",
   "execution_count": null,
   "metadata": {},
   "outputs": [],
   "source": [
    "import time\n",
    "# measuring decorator overhead\n",
    "\n",
    "# decorated fucntion\n",
    "s_time = time.time()\n",
    "print_sum(1,2,4,5,10)\n",
    "e_time = time.time()\n",
    "decorated_time = e_time - s_time\n",
    "\n",
    "# undecorated function\n",
    "s_time = time.time()\n",
    "print_sum.__wrapped__(1,2,4,5,10)\n",
    "e_time = time.time()\n",
    "undecorated_time = e_time - s_time\n",
    "\n",
    "print('Decorated time: {:.5f}s'.format(decorated_time))\n",
    "print('Undecorated time: {:.5f}s'.format(undecorated_time))"
   ]
  },
  {
   "cell_type": "markdown",
   "metadata": {},
   "source": [
    "## a decorator that takes an argument\n",
    "- you need to call the decorator by adding parentheses\n",
    "- ,but you don't add parenthesis for decoreators that don't take arguments"
   ]
  },
  {
   "cell_type": "code",
   "execution_count": null,
   "metadata": {},
   "outputs": [],
   "source": [
    "def run_n_times(n):\n",
    "    \"\"\"define and return a decorator\"\"\"\n",
    "    def decorator(func):\n",
    "        def wrapper(*args, **kwargs):\n",
    "            for i in range(n):\n",
    "                func(*args, **kwargs)\n",
    "        return wrapper\n",
    "    return decorator"
   ]
  },
  {
   "cell_type": "code",
   "execution_count": null,
   "metadata": {},
   "outputs": [],
   "source": [
    "@run_n_times(5)\n",
    "def print_sum(*args):\n",
    "    \"\"\"get sum of all arguments and print the sum\"\"\"\n",
    "    print(sum(args))"
   ]
  },
  {
   "cell_type": "code",
   "execution_count": null,
   "metadata": {},
   "outputs": [],
   "source": [
    "print_sum(10,23)"
   ]
  },
  {
   "cell_type": "code",
   "execution_count": null,
   "metadata": {},
   "outputs": [],
   "source": [
    "# use run_n_times() to create the run_five_times() decorator\n",
    "run_ten_times = run_n_times(10)\n",
    "\n",
    "@run_ten_times\n",
    "def print_sum(*args):\n",
    "    \"\"\"get sum of all arguments and print the sum\"\"\"\n",
    "    print(sum(args))\n",
    "\n",
    "print_sum(5,10,15)"
   ]
  },
  {
   "cell_type": "code",
   "execution_count": null,
   "metadata": {},
   "outputs": [],
   "source": [
    "# modify the built-in function, print\n",
    "print = run_n_times(4)(print)\n",
    "\n",
    "print('seriously?')"
   ]
  },
  {
   "cell_type": "markdown",
   "metadata": {},
   "source": [
    "## HTML Generator\n",
    "- practice for creating decorator that takes aguments"
   ]
  },
  {
   "cell_type": "code",
   "execution_count": null,
   "metadata": {},
   "outputs": [],
   "source": [
    "def html(open_tag, close_tag):\n",
    "    # define decorator\n",
    "    def decorator(func):  # decorate function, so arg is func\n",
    "        @wraps(func) # decorate function, so arg is func\n",
    "        def wrapper(*args, **kwargs):  # wrapper is equal to func\n",
    "            result = func(*args, **kwargs) # run function to get return value\n",
    "            return '{}{}{}'.format(open_tag, result, close_tag)\n",
    "        return wrapper\n",
    "    return decorator"
   ]
  },
  {
   "cell_type": "code",
   "execution_count": null,
   "metadata": {},
   "outputs": [],
   "source": [
    "@html('<b>', '</b>')\n",
    "def important(value):\n",
    "    return '{} is important.'.format(value)\n",
    "important('Hygience')"
   ]
  },
  {
   "cell_type": "code",
   "execution_count": null,
   "metadata": {},
   "outputs": [],
   "source": [
    "italic = html('<i>', '</i>')\n",
    "\n",
    "@italic\n",
    "def note(value):\n",
    "    return 'Please consider {}'.format(value)\n",
    "\n",
    "note('altitude')"
   ]
  },
  {
   "cell_type": "markdown",
   "metadata": {},
   "source": [
    "## tag your functions\n",
    "- label your function\n",
    "- usage of tags:\n",
    ">- adding information about who has worked on the function, so a user can look up who to ask if they run into trouble using it.\n",
    ">- labeling functions as \"experimental\" so that users know that the inputs and outputs might change in the future.\n",
    ">- marking any functions that you plan to remove in a future version of the code\n",
    ">- Etc."
   ]
  },
  {
   "cell_type": "code",
   "execution_count": null,
   "metadata": {},
   "outputs": [],
   "source": [
    "def tag(*tags):\n",
    "    def decorator(func):\n",
    "        # ensure the decorated function keeps its metadata\n",
    "        @wraps(func)\n",
    "        def wrapper(*args, **kwargs):\n",
    "            result = func(*args, **kwargs)\n",
    "            return result\n",
    "        \n",
    "        wrapper.tags = tags # called 2nd\n",
    "        return wrapper  # called 3rd\n",
    "    return decorator # called 1st"
   ]
  },
  {
   "cell_type": "code",
   "execution_count": null,
   "metadata": {},
   "outputs": [],
   "source": [
    "@tag('Dana', 'Test')\n",
    "def foo():\n",
    "    print('Tag testing')\n",
    "\n",
    "foo.tags"
   ]
  },
  {
   "cell_type": "markdown",
   "metadata": {},
   "source": [
    "## check the return type\n",
    "- prevent incorrect data types from going unnoticed\n",
    "- keyword, assert: assert condition (if this function is True, this function doesn't do anything, but if the condition is False, this function raise an error.)"
   ]
  },
  {
   "cell_type": "code",
   "execution_count": 2,
   "metadata": {},
   "outputs": [],
   "source": [
    "def returns_dict(func):\n",
    "    def wrapper(*args, **kwargs):\n",
    "        result = func(*args, **kwargs)\n",
    "        assert(type(result) == dict)\n",
    "        return result\n",
    "    return wrapper\n",
    "\n",
    "@returns_dict\n",
    "def foo1(value):\n",
    "    return value"
   ]
  },
  {
   "cell_type": "code",
   "execution_count": 3,
   "metadata": {},
   "outputs": [
    {
     "ename": "AssertionError",
     "evalue": "",
     "output_type": "error",
     "traceback": [
      "\u001b[0;31m---------------------------------------------------------------------------\u001b[0m",
      "\u001b[0;31mAssertionError\u001b[0m                            Traceback (most recent call last)",
      "\u001b[0;32m<ipython-input-3-96b48470eaa5>\u001b[0m in \u001b[0;36m<module>\u001b[0;34m\u001b[0m\n\u001b[0;32m----> 1\u001b[0;31m \u001b[0mfoo1\u001b[0m\u001b[0;34m(\u001b[0m\u001b[0;34m[\u001b[0m\u001b[0;36m1\u001b[0m\u001b[0;34m,\u001b[0m\u001b[0;36m2\u001b[0m\u001b[0;34m,\u001b[0m\u001b[0;36m3\u001b[0m\u001b[0;34m]\u001b[0m\u001b[0;34m)\u001b[0m\u001b[0;34m\u001b[0m\u001b[0;34m\u001b[0m\u001b[0m\n\u001b[0m",
      "\u001b[0;32m<ipython-input-2-e5e1571961a0>\u001b[0m in \u001b[0;36mwrapper\u001b[0;34m(*args, **kwargs)\u001b[0m\n\u001b[1;32m      2\u001b[0m     \u001b[0;32mdef\u001b[0m \u001b[0mwrapper\u001b[0m\u001b[0;34m(\u001b[0m\u001b[0;34m*\u001b[0m\u001b[0margs\u001b[0m\u001b[0;34m,\u001b[0m \u001b[0;34m**\u001b[0m\u001b[0mkwargs\u001b[0m\u001b[0;34m)\u001b[0m\u001b[0;34m:\u001b[0m\u001b[0;34m\u001b[0m\u001b[0;34m\u001b[0m\u001b[0m\n\u001b[1;32m      3\u001b[0m         \u001b[0mresult\u001b[0m \u001b[0;34m=\u001b[0m \u001b[0mfunc\u001b[0m\u001b[0;34m(\u001b[0m\u001b[0;34m*\u001b[0m\u001b[0margs\u001b[0m\u001b[0;34m,\u001b[0m \u001b[0;34m**\u001b[0m\u001b[0mkwargs\u001b[0m\u001b[0;34m)\u001b[0m\u001b[0;34m\u001b[0m\u001b[0;34m\u001b[0m\u001b[0m\n\u001b[0;32m----> 4\u001b[0;31m         \u001b[0;32massert\u001b[0m\u001b[0;34m(\u001b[0m\u001b[0mtype\u001b[0m\u001b[0;34m(\u001b[0m\u001b[0mresult\u001b[0m\u001b[0;34m)\u001b[0m \u001b[0;34m==\u001b[0m \u001b[0mdict\u001b[0m\u001b[0;34m)\u001b[0m\u001b[0;34m\u001b[0m\u001b[0;34m\u001b[0m\u001b[0m\n\u001b[0m\u001b[1;32m      5\u001b[0m         \u001b[0;32mreturn\u001b[0m \u001b[0mresult\u001b[0m\u001b[0;34m\u001b[0m\u001b[0;34m\u001b[0m\u001b[0m\n\u001b[1;32m      6\u001b[0m     \u001b[0;32mreturn\u001b[0m \u001b[0mwrapper\u001b[0m\u001b[0;34m\u001b[0m\u001b[0;34m\u001b[0m\u001b[0m\n",
      "\u001b[0;31mAssertionError\u001b[0m: "
     ]
    }
   ],
   "source": [
    "foo1([1,2,3])"
   ]
  },
  {
   "cell_type": "code",
   "execution_count": 4,
   "metadata": {},
   "outputs": [
    {
     "name": "stdout",
     "output_type": "stream",
     "text": [
      "foo1() did not return a dict!\n"
     ]
    }
   ],
   "source": [
    "try:\n",
    "    print(foo1([1,2,3]))\n",
    "except AssertionError:\n",
    "    print('foo1() did not return a dict!')"
   ]
  },
  {
   "cell_type": "code",
   "execution_count": 5,
   "metadata": {},
   "outputs": [],
   "source": [
    "# decorator which takes the expected return type as an argument\n",
    "def returns(return_type):\n",
    "    def decorator(func):\n",
    "        def wrapper(*args, **kwargs):\n",
    "            result = func(*args, **kwargs)\n",
    "            assert(type(result) == return_type)\n",
    "            return result\n",
    "        return wrapper\n",
    "    return decorator\n",
    "\n",
    "@returns(list)\n",
    "def foo(value):\n",
    "    return value"
   ]
  },
  {
   "cell_type": "code",
   "execution_count": 7,
   "metadata": {},
   "outputs": [
    {
     "name": "stdout",
     "output_type": "stream",
     "text": [
      "foo() is not a list\n"
     ]
    }
   ],
   "source": [
    "try:\n",
    "    foo((1,2,4))\n",
    "except AssertionError:\n",
    "    print('foo() is not a list')"
   ]
  },
  {
   "cell_type": "code",
   "execution_count": 8,
   "metadata": {},
   "outputs": [],
   "source": [
    "try:\n",
    "    foo([1,2,4])\n",
    "except AssertionError:\n",
    "    print('foo() is not a list')"
   ]
  },
  {
   "cell_type": "code",
   "execution_count": null,
   "metadata": {},
   "outputs": [],
   "source": []
  }
 ],
 "metadata": {
  "kernelspec": {
   "display_name": "Python 3",
   "language": "python",
   "name": "python3"
  },
  "language_info": {
   "codemirror_mode": {
    "name": "ipython",
    "version": 3
   },
   "file_extension": ".py",
   "mimetype": "text/x-python",
   "name": "python",
   "nbconvert_exporter": "python",
   "pygments_lexer": "ipython3",
   "version": "3.7.6"
  }
 },
 "nbformat": 4,
 "nbformat_minor": 4
}

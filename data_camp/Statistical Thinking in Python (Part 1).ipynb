{
 "cells": [
  {
   "cell_type": "markdown",
   "metadata": {},
   "source": [
    "# Graphical Exploratory Data Analysis"
   ]
  },
  {
   "cell_type": "markdown",
   "metadata": {},
   "source": [
    "## introduction to exploratory data analysis\n",
    "\n",
    "- EDA : the process of organizing, plotting, and summarizing a dataset."
   ]
  },
  {
   "cell_type": "markdown",
   "metadata": {},
   "source": [
    "## plotting a histogram\n",
    "\n",
    "- data: pandas and numpy array can be used interchangeably.\n",
    "- bins: bin edges or the number of bins/ **Squarer root Rule**: commonly-used rule of thumb for choosing number of bins \n",
    "- searborn: sns.set()\n",
    "- label: always write labels\n",
    "- \\_ = plt.hist : There is no real need to use the _. _ is used, by convention, when you want to do something but don't really care about the variable it is assigned to. "
   ]
  },
  {
   "cell_type": "code",
   "execution_count": 1,
   "metadata": {},
   "outputs": [
    {
     "data": {
      "text/html": [
       "<div>\n",
       "<style scoped>\n",
       "    .dataframe tbody tr th:only-of-type {\n",
       "        vertical-align: middle;\n",
       "    }\n",
       "\n",
       "    .dataframe tbody tr th {\n",
       "        vertical-align: top;\n",
       "    }\n",
       "\n",
       "    .dataframe thead th {\n",
       "        text-align: right;\n",
       "    }\n",
       "</style>\n",
       "<table border=\"1\" class=\"dataframe\">\n",
       "  <thead>\n",
       "    <tr style=\"text-align: right;\">\n",
       "      <th></th>\n",
       "      <th>sepal length (cm)</th>\n",
       "      <th>sepal width (cm)</th>\n",
       "      <th>petal length (cm)</th>\n",
       "      <th>petal width (cm)</th>\n",
       "      <th>target</th>\n",
       "    </tr>\n",
       "  </thead>\n",
       "  <tbody>\n",
       "    <tr>\n",
       "      <th>0</th>\n",
       "      <td>5.1</td>\n",
       "      <td>3.5</td>\n",
       "      <td>1.4</td>\n",
       "      <td>0.2</td>\n",
       "      <td>0</td>\n",
       "    </tr>\n",
       "    <tr>\n",
       "      <th>1</th>\n",
       "      <td>4.9</td>\n",
       "      <td>3.0</td>\n",
       "      <td>1.4</td>\n",
       "      <td>0.2</td>\n",
       "      <td>0</td>\n",
       "    </tr>\n",
       "    <tr>\n",
       "      <th>2</th>\n",
       "      <td>4.7</td>\n",
       "      <td>3.2</td>\n",
       "      <td>1.3</td>\n",
       "      <td>0.2</td>\n",
       "      <td>0</td>\n",
       "    </tr>\n",
       "    <tr>\n",
       "      <th>3</th>\n",
       "      <td>4.6</td>\n",
       "      <td>3.1</td>\n",
       "      <td>1.5</td>\n",
       "      <td>0.2</td>\n",
       "      <td>0</td>\n",
       "    </tr>\n",
       "    <tr>\n",
       "      <th>4</th>\n",
       "      <td>5.0</td>\n",
       "      <td>3.6</td>\n",
       "      <td>1.4</td>\n",
       "      <td>0.2</td>\n",
       "      <td>0</td>\n",
       "    </tr>\n",
       "  </tbody>\n",
       "</table>\n",
       "</div>"
      ],
      "text/plain": [
       "   sepal length (cm)  sepal width (cm)  petal length (cm)  petal width (cm)  \\\n",
       "0                5.1               3.5                1.4               0.2   \n",
       "1                4.9               3.0                1.4               0.2   \n",
       "2                4.7               3.2                1.3               0.2   \n",
       "3                4.6               3.1                1.5               0.2   \n",
       "4                5.0               3.6                1.4               0.2   \n",
       "\n",
       "   target  \n",
       "0       0  \n",
       "1       0  \n",
       "2       0  \n",
       "3       0  \n",
       "4       0  "
      ]
     },
     "execution_count": 1,
     "metadata": {},
     "output_type": "execute_result"
    }
   ],
   "source": [
    "# import libraries\n",
    "import pandas as pd\n",
    "import numpy as np\n",
    "from sklearn import datasets\n",
    "import matplotlib.pyplot as plt\n",
    "import seaborn as sns\n",
    "\n",
    "# load iris data from sklearn\n",
    "data = datasets.load_iris()\n",
    "\n",
    "# convert iris data into dataframe\n",
    "iris_df = pd.DataFrame(data = data.data, columns = data.feature_names )\n",
    "iris_df['target'] = data.target\n",
    "iris_df.head()"
   ]
  },
  {
   "cell_type": "code",
   "execution_count": 2,
   "metadata": {},
   "outputs": [
    {
     "data": {
      "text/plain": [
       "pandas.core.series.Series"
      ]
     },
     "execution_count": 2,
     "metadata": {},
     "output_type": "execute_result"
    }
   ],
   "source": [
    "# filter only versicolor's petal length\n",
    "versicolor_petal_length = iris_df.loc[(iris_df['target'] == 1), 'petal length (cm)']\n",
    "type(versicolor_petal_length)"
   ]
  },
  {
   "cell_type": "code",
   "execution_count": 3,
   "metadata": {},
   "outputs": [
    {
     "data": {
      "image/png": "[encoded data removed]",
      "text/plain": [
       "<Figure size 432x288 with 1 Axes>"
      ]
     },
     "metadata": {},
     "output_type": "display_data"
    }
   ],
   "source": [
    "# plot histogram\n",
    "\n",
    "# set default Seaborn style\n",
    "sns.set()\n",
    "\n",
    "# number of bins: the square root of number of data points\n",
    "n_bins = np.sqrt(len(versicolor_petal_length))\n",
    "\n",
    "# convert number of bins to integer\n",
    "n_bins = int(n_bins)\n",
    "\n",
    "# plot histogram of versicolor petal length\n",
    "_ = plt.hist(versicolor_petal_length, bins = n_bins)\n",
    "\n",
    "# label x axis, y axis\n",
    "_ = plt.xlabel('versicolor petal length (cm)')\n",
    "_ = plt.ylabel('count')\n",
    "\n",
    "# show histogram\n",
    "plt.show()"
   ]
  },
  {
   "cell_type": "markdown",
   "metadata": {},
   "source": [
    "## plot all of your data: Bee Swarm Plots\n",
    "\n",
    "drawbacks of histogram: \n",
    "1. **Binning Bias** a plot looks different depending on the number of bins.\n",
    "2. histogram doesn't allow to plot all of the data.\n",
    "\n",
    "to remedy this problem, we can make a **bee swarm plot** or **swarm plot**.\n",
    "- x axis : categorical data\n",
    "- y axis : numerical data\n",
    "> the data are spread in x to make them visible, but their precise location along the x axis is unimportant.\n",
    "**no binning bias, all data displayed**"
   ]
  },
  {
   "cell_type": "code",
   "execution_count": 4,
   "metadata": {},
   "outputs": [
    {
     "data": {
      "text/html": [
       "<div>\n",
       "<style scoped>\n",
       "    .dataframe tbody tr th:only-of-type {\n",
       "        vertical-align: middle;\n",
       "    }\n",
       "\n",
       "    .dataframe tbody tr th {\n",
       "        vertical-align: top;\n",
       "    }\n",
       "\n",
       "    .dataframe thead th {\n",
       "        text-align: right;\n",
       "    }\n",
       "</style>\n",
       "<table border=\"1\" class=\"dataframe\">\n",
       "  <thead>\n",
       "    <tr style=\"text-align: right;\">\n",
       "      <th></th>\n",
       "      <th>sepal length (cm)</th>\n",
       "      <th>sepal width (cm)</th>\n",
       "      <th>petal length (cm)</th>\n",
       "      <th>petal width (cm)</th>\n",
       "      <th>target</th>\n",
       "    </tr>\n",
       "  </thead>\n",
       "  <tbody>\n",
       "    <tr>\n",
       "      <th>0</th>\n",
       "      <td>5.1</td>\n",
       "      <td>3.5</td>\n",
       "      <td>1.4</td>\n",
       "      <td>0.2</td>\n",
       "      <td>0</td>\n",
       "    </tr>\n",
       "    <tr>\n",
       "      <th>1</th>\n",
       "      <td>4.9</td>\n",
       "      <td>3.0</td>\n",
       "      <td>1.4</td>\n",
       "      <td>0.2</td>\n",
       "      <td>0</td>\n",
       "    </tr>\n",
       "    <tr>\n",
       "      <th>2</th>\n",
       "      <td>4.7</td>\n",
       "      <td>3.2</td>\n",
       "      <td>1.3</td>\n",
       "      <td>0.2</td>\n",
       "      <td>0</td>\n",
       "    </tr>\n",
       "    <tr>\n",
       "      <th>3</th>\n",
       "      <td>4.6</td>\n",
       "      <td>3.1</td>\n",
       "      <td>1.5</td>\n",
       "      <td>0.2</td>\n",
       "      <td>0</td>\n",
       "    </tr>\n",
       "    <tr>\n",
       "      <th>4</th>\n",
       "      <td>5.0</td>\n",
       "      <td>3.6</td>\n",
       "      <td>1.4</td>\n",
       "      <td>0.2</td>\n",
       "      <td>0</td>\n",
       "    </tr>\n",
       "  </tbody>\n",
       "</table>\n",
       "</div>"
      ],
      "text/plain": [
       "   sepal length (cm)  sepal width (cm)  petal length (cm)  petal width (cm)  \\\n",
       "0                5.1               3.5                1.4               0.2   \n",
       "1                4.9               3.0                1.4               0.2   \n",
       "2                4.7               3.2                1.3               0.2   \n",
       "3                4.6               3.1                1.5               0.2   \n",
       "4                5.0               3.6                1.4               0.2   \n",
       "\n",
       "   target  \n",
       "0       0  \n",
       "1       0  \n",
       "2       0  \n",
       "3       0  \n",
       "4       0  "
      ]
     },
     "execution_count": 4,
     "metadata": {},
     "output_type": "execute_result"
    }
   ],
   "source": [
    "# view iris data\n",
    "iris_df.head()"
   ]
  },
  {
   "cell_type": "code",
   "execution_count": 5,
   "metadata": {},
   "outputs": [
    {
     "name": "stdout",
     "output_type": "stream",
     "text": [
      "['setosa' 'versicolor' 'virginica']\n"
     ]
    }
   ],
   "source": [
    "# view target names \n",
    "print(data.target_names)\n",
    "\n",
    "# add new column with species' name\n",
    "iris_df['species'] = iris_df.target.replace([0,1,2], ['setosa', 'versicolor', 'virginica'])\n",
    "\n",
    "# see if conversion to species names is done correctly.\n",
    "assert iris_df.loc[iris_df['target'] == 0, 'species'].unique() == ['setosa']\n",
    "assert iris_df.loc[iris_df['target'] == 1, 'species'].unique() == ['versicolor']\n",
    "assert iris_df.loc[iris_df['target'] == 2, 'species'].unique() == ['virginica']"
   ]
  },
  {
   "cell_type": "code",
   "execution_count": 6,
   "metadata": {},
   "outputs": [
    {
     "data": {
      "image/png": "[encoded data removed]",
      "text/plain": [
       "<Figure size 432x288 with 1 Axes>"
      ]
     },
     "metadata": {},
     "output_type": "display_data"
    }
   ],
   "source": [
    "# create a swarm plot with seaborn's default settings\n",
    "\n",
    "# plot data distribution of petal length for each species\n",
    "_ = sns.swarmplot(x = 'species', y = 'petal length (cm)', data = iris_df)\n",
    "\n",
    "# label\n",
    "_ = plt.xlabel('species')\n",
    "_ = plt.ylabel('petal length(cm)')\n",
    "\n",
    "# display plot\n",
    "plt.show()"
   ]
  },
  {
   "cell_type": "markdown",
   "metadata": {},
   "source": [
    "virginica petals **tend to be** the longest, and I. setosa petals tend to be the shortest of the three species.\n",
    "\n",
    "**Notice** that we said \"tend to be.\" Some individual I. virginica flowers may be shorter than individual I. versicolor flowers. It is also possible that an individual I. setosa flower may have longer petals than in individual I. versicolor flower, though this is highly unlikely, and was not observed by Anderson."
   ]
  },
  {
   "cell_type": "markdown",
   "metadata": {},
   "source": [
    "## plot all of your data: ECDFs\n",
    "- problem of swarm plot: the edges have overlapping data points, which was necesary in order to fit all points into the plot. \n",
    "- **ECDF** (Empircal Cumulative Distribution Function): plot a value on x-axis and where a value stands in percentage.\n",
    "\n",
    "- **CDF VS ECDF**\n",
    "while a CDF is a hypothetical model of a distribution, the ECDF models empirical (i.e. observed) data."
   ]
  },
  {
   "cell_type": "code",
   "execution_count": 7,
   "metadata": {},
   "outputs": [],
   "source": [
    "def ecdf(data):\n",
    "    \"\"\"Compute ECDF for a one-dimensional array of measurements.\"\"\"\n",
    "    \n",
    "    # number of data points: n\n",
    "    n = len(data)\n",
    "    \n",
    "    # x-data for the ECDF: x\n",
    "    x = np.sort(data)\n",
    "    \n",
    "    # y-data for the ECDF: y \n",
    "    y = np.arange(1, n + 1) / n\n",
    "    \n",
    "    return x, y"
   ]
  },
  {
   "cell_type": "code",
   "execution_count": 8,
   "metadata": {},
   "outputs": [],
   "source": [
    "# pick petal length by species\n",
    "setosa_petal_length = iris_df.loc[iris_df['species'] == 'setosa', 'petal length (cm)']\n",
    "versicolor_petal_length = iris_df.loc[iris_df['species'] == 'versicolor', 'petal length (cm)']\n",
    "virginica_petal_length = iris_df.loc[iris_df['species'] == 'virginica', 'petal length (cm)']"
   ]
  },
  {
   "cell_type": "code",
   "execution_count": 9,
   "metadata": {},
   "outputs": [
    {
     "data": {
      "image/png": "[encoded data removed]",
      "text/plain": [
       "<Figure size 432x288 with 1 Axes>"
      ]
     },
     "metadata": {},
     "output_type": "display_data"
    }
   ],
   "source": [
    "# compute ECDFs\n",
    "x_set, y_set= ecdf(setosa_petal_length)\n",
    "x_ver, y_ver = ecdf(versicolor_petal_length)\n",
    "x_vir, y_vir = ecdf(virginica_petal_length)\n",
    "\n",
    "# plot all ECDFs on the same plot\n",
    "_ = plt.plot(x_set, y_set, marker = '.', linestyle = 'none')\n",
    "_ = plt.plot(x_ver, y_ver, marker = '.', linestyle = 'none')\n",
    "_ = plt.plot(x_vir, y_vir, marker = '.', linestyle = 'none')\n",
    "\n",
    "# annotate the plot\n",
    "_ = plt.legend(('setosa', 'versicolor', 'virginica'))\n",
    "_ = plt.xlabel('petal length (cm)')\n",
    "_ = plt.ylabel('ECDF')\n",
    "\n",
    "# display the plot\n",
    "_ = plt.margins(0.10)\n",
    "plt.show()"
   ]
  },
  {
   "cell_type": "markdown",
   "metadata": {},
   "source": [
    "Setosa is much shorter, also with less absolute variability in petal length than versicolor and virginica."
   ]
  },
  {
   "cell_type": "markdown",
   "metadata": {},
   "source": [
    "# Quantitative Exploratory Data Analysis"
   ]
  },
  {
   "cell_type": "markdown",
   "metadata": {},
   "source": [
    "## introduction to summary statistics: the sample mean & median\n",
    "- mean's drawback: heavily influenced by outliers\n",
    "    - solution: median immune to extreme data\n",
    "- median: the middle value of data"
   ]
  },
  {
   "cell_type": "code",
   "execution_count": 10,
   "metadata": {},
   "outputs": [
    {
     "name": "stdout",
     "output_type": "stream",
     "text": [
      "Mean: 1.4620000000000002\n",
      "Median: 1.5\n"
     ]
    }
   ],
   "source": [
    "# mean : average value\n",
    "# see the mean value of setosa's petal length\n",
    "print('Mean:', np.mean(setosa_petal_length))\n",
    "\n",
    "# median: middle value\n",
    "# see the median value of setosa's petal length\n",
    "np.median(setosa_petal_length)\n",
    "print('Median:', np.median(setosa_petal_length))"
   ]
  },
  {
   "cell_type": "markdown",
   "metadata": {},
   "source": [
    "## percentiles, outliers, box plot\n",
    "- ECDF, boxplot show percentiles\n",
    "- outliers: no single definition, but more than 2 IQRs away from the median is a common criterion\n",
    "> outliers 2 IQRs away from the median <br>\n",
    "> boxplots shows all individual points which are outside of the whiskers "
   ]
  },
  {
   "cell_type": "code",
   "execution_count": 11,
   "metadata": {},
   "outputs": [
    {
     "data": {
      "text/plain": [
       "array([1.4, 1.6])"
      ]
     },
     "execution_count": 11,
     "metadata": {},
     "output_type": "execute_result"
    }
   ],
   "source": [
    "# specify array of percentiles: percentiles\n",
    "# 25th, 80th\n",
    "percentiles = np.array([25, 80])\n",
    "\n",
    "# compute percentiles: ptiles_se\n",
    "ptiles_set = np.percentile(setosa_petal_length, percentiles)\n",
    "\n",
    "# view percentiles of setosa petal length\n",
    "ptiles_set"
   ]
  },
  {
   "cell_type": "code",
   "execution_count": 12,
   "metadata": {},
   "outputs": [
    {
     "data": {
      "image/png": "[encoded data removed]",
      "text/plain": [
       "<Figure size 432x288 with 1 Axes>"
      ]
     },
     "metadata": {},
     "output_type": "display_data"
    }
   ],
   "source": [
    "# plot the ecdf\n",
    "_ = plt.plot(x_set, y_set, marker = '.', linestyle = 'none')\n",
    "_ = plt.xlabel('petal length (cm)')\n",
    "_ = plt.ylabel('ECDF')\n",
    "\n",
    "# overlay percentiles as red diamonds\n",
    "_ = plt.plot(ptiles_set, percentiles/100, marker = 'D', linestyle = 'none', color = 'red')\n",
    "\n",
    "# show the plot\n",
    "plt.show()"
   ]
  },
  {
   "cell_type": "code",
   "execution_count": 13,
   "metadata": {},
   "outputs": [
    {
     "data": {
      "image/png": "[encoded data removed]",
      "text/plain": [
       "<Figure size 432x288 with 1 Axes>"
      ]
     },
     "metadata": {},
     "output_type": "display_data"
    }
   ],
   "source": [
    "# create box plot with seaborn's default settings\n",
    "_ = sns.boxplot(x = 'species', y = 'petal length (cm)', data = iris_df)\n",
    "\n",
    "# label the axes\n",
    "_ = plt.xlabel('species')\n",
    "_ = plt.ylabel('petal length (cm)')\n",
    "\n",
    "# show the plot\n",
    "plt.show()"
   ]
  },
  {
   "cell_type": "markdown",
   "metadata": {},
   "source": [
    "## variance and standard deviation\n",
    "- variance: the mean squared distance of the data from their mean (infomaly, **a measure of the spread of data**)\n",
    "- standard deviation: the square root of variance (the spread adjusted to the unit level of data)"
   ]
  },
  {
   "cell_type": "code",
   "execution_count": 14,
   "metadata": {},
   "outputs": [
    {
     "name": "stdout",
     "output_type": "stream",
     "text": [
      "Variance:  0.2984960000000002  (cm²) \n",
      "Standard Deviation:  0.5463478745268441  (cm)\n"
     ]
    }
   ],
   "source": [
    "# compute the variance\n",
    "var = np.var(virginica_petal_length)\n",
    "\n",
    "# compute the standard deviation\n",
    "std = np.sqrt(var)\n",
    "\n",
    "print('Variance: ', var, ' (cm\\u00B2)', '\\nStandard Deviation: ', std, ' (cm)')\n",
    "\n",
    "# comput the standard deviation\n",
    "assert np.sqrt(np.var(virginica_petal_length)) == np.std(virginica_petal_length)"
   ]
  },
  {
   "cell_type": "markdown",
   "metadata": {},
   "source": [
    "## covariance and the pearson correlation coefficient\n",
    "- covariance and the pearson correlation coefficient come in handy when seeing the relationship between two features\n",
    "- **covariance (dimentional)**\n",
    "> average of all (feature 1 - feature 1 mean) * (feature 2 - feature 2 mean)\n",
    "> both distance from mean positive or negative -> covariance is positive = two features are positively correlated. <br>\n",
    "> only one of distance from mean positive or negative -> covariance is negative = two features are negatively correlated.  \n",
    "- **the pearson correlation coefficient (dimentionless, not have any unit, more generally applicable measure)**\n",
    "> range from -1 to 1 <br>\n",
    "> covariance / product of features' std <br>\n",
    ">(feature 1's std * feature 2's std) <br>\n",
    "<img src = 'covariance_calculation.png' width = 500></img> <br>\n",
    "<img src = 'pearson_correlation_calculation.png' width = 500></img>"
   ]
  },
  {
   "cell_type": "code",
   "execution_count": 15,
   "metadata": {},
   "outputs": [],
   "source": [
    "# pick setosa's peta width to get covariance value\n",
    "setosa_petal_width = iris_df.loc[iris_df['species'] == 'setosa', 'petal width (cm)']"
   ]
  },
  {
   "cell_type": "code",
   "execution_count": 16,
   "metadata": {},
   "outputs": [
    {
     "name": "stdout",
     "output_type": "stream",
     "text": [
      "np.cov returns a 2D arrary : \n",
      " [[0.03015918 0.00606939]\n",
      " [0.00606939 0.01110612]] \n",
      "\n",
      "[0,1], [1,0] indicate covariances :  0.006069387755102041\n",
      "[0,0] indicates the variance of x data, [1,1] indicate that of y. \n",
      "\n",
      "the variance of x (relation between x, x):  0.030159183673469397 \n",
      "the variance of y (relation between y, y):  0.011106122448979598\n"
     ]
    }
   ],
   "source": [
    "# compute the covariance matrix: covariance_matrix\n",
    "covariance_matrix = np.cov(setosa_petal_length, setosa_petal_width)\n",
    "\n",
    "# print covariance matrix\n",
    "print('np.cov returns a 2D arrary : \\n', covariance_matrix, '\\n')\n",
    "print('[0,1], [1,0] indicate covariances : ', covariance_matrix[0,1])\n",
    "print('[0,0] indicates the variance of x data, [1,1] indicate that of y. \\n')\n",
    "print('the variance of x (relation between x, x): ', covariance_matrix[0,0], '\\n'\n",
    "     'the variance of y (relation between y, y): ', covariance_matrix[1,1])\n"
   ]
  },
  {
   "cell_type": "code",
   "execution_count": 17,
   "metadata": {},
   "outputs": [
    {
     "name": "stderr",
     "output_type": "stream",
     "text": [
      "/Users/haneul/opt/anaconda3/lib/python3.7/site-packages/matplotlib/cbook/__init__.py:2062: FutureWarning: Support for multi-dimensional indexing (e.g. `obj[:, None]`) is deprecated and will be removed in a future version.  Convert to a numpy array before indexing instead.\n",
      "  x[:, None]\n",
      "/Users/haneul/opt/anaconda3/lib/python3.7/site-packages/matplotlib/axes/_base.py:248: FutureWarning: Support for multi-dimensional indexing (e.g. `obj[:, None]`) is deprecated and will be removed in a future version.  Convert to a numpy array before indexing instead.\n",
      "  x = x[:, np.newaxis]\n",
      "/Users/haneul/opt/anaconda3/lib/python3.7/site-packages/matplotlib/axes/_base.py:250: FutureWarning: Support for multi-dimensional indexing (e.g. `obj[:, None]`) is deprecated and will be removed in a future version.  Convert to a numpy array before indexing instead.\n",
      "  y = y[:, np.newaxis]\n"
     ]
    },
    {
     "data": {
      "image/png": "[encoded data removed]",
      "text/plain": [
       "<Figure size 432x288 with 1 Axes>"
      ]
     },
     "metadata": {},
     "output_type": "display_data"
    }
   ],
   "source": [
    "# plot two data set\n",
    "_ = plt.plot(setosa_petal_length, setosa_petal_width, marker = '.', linestyle = 'none')\n",
    "_ = plt.xlabel('setosa petal length (cm)')\n",
    "_ = plt.ylabel('setosa petal width (cm)')\n",
    "\n",
    "# display\n",
    "plt.margins(0.2)\n",
    "plt.show()"
   ]
  },
  {
   "cell_type": "code",
   "execution_count": 18,
   "metadata": {},
   "outputs": [
    {
     "name": "stdout",
     "output_type": "stream",
     "text": [
      "0.33839800082052907 0.33163004080411845 \n",
      "\n",
      "the difference is due to the parameter ddof(delta degrees of freedom) of np.std() defaults to 0, while 1 is used in np.corrcoef()\n"
     ]
    }
   ],
   "source": [
    "# compute the pearson correlation coefficient\n",
    "\n",
    "cov = covariance_matrix[0,1]\n",
    "prod_std = np.std(setosa_petal_length) * np.std(setosa_petal_width)\n",
    "corr_mat_1 = cov/prod_std\n",
    "\n",
    "corr_mat_2 = np.corrcoef(setosa_petal_length, setosa_petal_width)[0,1]\n",
    "\n",
    "print(corr_mat_1, corr_mat_2, '\\n')\n",
    "print('the difference is due to the parameter ddof(delta degrees of freedom) of np.std() defaults to 0, while 1 is used in np.corrcoef()')"
   ]
  },
  {
   "cell_type": "code",
   "execution_count": 19,
   "metadata": {},
   "outputs": [
    {
     "name": "stdout",
     "output_type": "stream",
     "text": [
      "0.3316300408041185 0.33163004080411845\n"
     ]
    }
   ],
   "source": [
    "# np.std ddof = 1\n",
    "\n",
    "# compute the pearson correlation coefficient\n",
    "\n",
    "cov = covariance_matrix[0,1]\n",
    "prod_std = np.std(setosa_petal_length, ddof = 1) * np.std(setosa_petal_width, ddof = 1)\n",
    "corr_mat_1 = cov/prod_std\n",
    "\n",
    "corr_mat_2 = np.corrcoef(setosa_petal_length, setosa_petal_width)[0,1]\n",
    "\n",
    "print(corr_mat_1, corr_mat_2)"
   ]
  },
  {
   "cell_type": "markdown",
   "metadata": {},
   "source": [
    "# Thinking Probabilistically - Discrete Variables\n",
    "- with different sample of data, its mean statistical information can be different. \n",
    "> what would the mean value of next year's applicants' age?\n",
    "- therefore, when we convey statisical information, let's state it is of probability.\n",
    "- \"It's is more probable to be close to what we got in past few year's applicants' mean age."
   ]
  },
  {
   "cell_type": "markdown",
   "metadata": {},
   "source": [
    "## random number generator and hacker statistics\n",
    "- **hacker statistics** : Uses simulated repeated measurements to compute probabilities\n"
   ]
  },
  {
   "cell_type": "markdown",
   "metadata": {},
   "source": [
    "## the np.random module and Bernoulli trials (coin flips)"
   ]
  },
  {
   "cell_type": "code",
   "execution_count": 20,
   "metadata": {},
   "outputs": [
    {
     "name": "stdout",
     "output_type": "stream",
     "text": [
      "3\n"
     ]
    }
   ],
   "source": [
    "# simulate the games of chance by Pascal and others in the 17th century\n",
    "\n",
    "# 4 coin flips\n",
    "# what is the change of having all 4 heads?\n",
    "\n",
    "# make the code reproducible\n",
    "np.random.seed(2)\n",
    "\n",
    "# generate random 4 numbers between 0 and 1 using np.random.random(size = )\n",
    "flips = np.random.random(size = 4)\n",
    "\n",
    "# mark head\n",
    "heads = flips < 0.5\n",
    "\n",
    "# True = 1\n",
    "heads_sum = np.sum(heads)\n",
    "\n",
    "print(heads_sum)"
   ]
  },
  {
   "cell_type": "code",
   "execution_count": 21,
   "metadata": {},
   "outputs": [
    {
     "data": {
      "text/plain": [
       "0.059"
      ]
     },
     "execution_count": 21,
     "metadata": {},
     "output_type": "execute_result"
    }
   ],
   "source": [
    "# do above practice for 1000 times\n",
    "np.random.seed(3)\n",
    "\n",
    "num_all_heads = 0\n",
    "for _ in range(1000):\n",
    "    # generate random 4 numbers between 0 and 1 using np.random.random(size = )\n",
    "    flips = np.random.random(size = 4)\n",
    "    \n",
    "    # mark head\n",
    "    heads = flips < 0.5\n",
    "    \n",
    "    # True = 1\n",
    "    heads_sum = np.sum(heads)\n",
    "\n",
    "    if heads_sum == 4:\n",
    "        num_all_heads += 1\n",
    "        \n",
    "# compute the change of all 4 heads \n",
    "num_all_heads / 1000"
   ]
  },
  {
   "cell_type": "markdown",
   "metadata": {},
   "source": [
    "## how many defaults might we expect?"
   ]
  },
  {
   "cell_type": "code",
   "execution_count": 22,
   "metadata": {},
   "outputs": [],
   "source": [
    "def perform_bernoulli_trials(n, p):\n",
    "    \"\"\"Perform n Bernoulli trials with success probability p\n",
    "    and return number of successes.\"\"\"\n",
    "    \n",
    "    # initialize number of success: n_success\n",
    "    n_success = 0\n",
    "    \n",
    "    # perform trials\n",
    "    for _ in range(n):\n",
    "        result = np.random.random()\n",
    "        if result < p:  # e.g. if the success probability (p) is 0.3, when result is 0.2, success is more probable.\n",
    "            n_success += 1\n",
    "        \n",
    "    return n_success"
   ]
  },
  {
   "cell_type": "code",
   "execution_count": 23,
   "metadata": {},
   "outputs": [
    {
     "data": {
      "image/png": "[encoded data removed]",
      "text/plain": [
       "<Figure size 432x288 with 1 Axes>"
      ]
     },
     "metadata": {},
     "output_type": "display_data"
    }
   ],
   "source": [
    "# perform bernoulli trials for 100 loans \n",
    "# with the probability of default (p = 0.05) and repeat that 1000 times\n",
    "\n",
    "# seed random number generator\n",
    "np.random.seed(4)\n",
    "\n",
    "# intialize the number of defaults: n_defaults\n",
    "n_defaults = np.empty(1000)\n",
    "\n",
    "for i in range(1000):\n",
    "    n_default = perform_bernoulli_trials(100, 0.05)\n",
    "    n_defaults[i] = n_default\n",
    "\n",
    "# plot histogram\n",
    "# set density as True so that the height of the bars of the histogram indicate the probability\n",
    "_ = plt.hist(n_defaults, density = True)\n",
    "_ = plt.xlabel('number of default out of 100 loans')\n",
    "_ = plt.ylabel('probability')\n",
    "\n",
    "# view plot\n",
    "plt.show()"
   ]
  },
  {
   "cell_type": "markdown",
   "metadata": {},
   "source": [
    "## will bank fail?\n",
    "- supposed that the bank would fail if more than 10 became defaults out of 100 loans, what would the chance that bank will fail?"
   ]
  },
  {
   "cell_type": "code",
   "execution_count": 24,
   "metadata": {},
   "outputs": [
    {
     "data": {
      "image/png": "[encoded data removed]",
      "text/plain": [
       "<Figure size 432x288 with 1 Axes>"
      ]
     },
     "metadata": {},
     "output_type": "display_data"
    },
    {
     "name": "stdout",
     "output_type": "stream",
     "text": [
      "Probability of losing money :  0.033\n"
     ]
    }
   ],
   "source": [
    "# compute ECDF\n",
    "x, y = ecdf(n_defaults)\n",
    "\n",
    "# plot ECDF\n",
    "_ = plt.plot(x, y, marker = '.', linestyle = 'none', color = 'red')\n",
    "_ = plt.xlabel('number of defaults')\n",
    "_ = plt.ylabel('percentage')\n",
    "\n",
    "# show the plot\n",
    "plt.show()\n",
    "\n",
    "# the chance that the bank will fail (more than 10 or more defaults out of 100 loans)\n",
    "n_lose_money = np.sum(n_defaults >= 10)\n",
    "\n",
    "print('Probability of losing money : ', n_lose_money/len(n_defaults))"
   ]
  },
  {
   "cell_type": "markdown",
   "metadata": {},
   "source": [
    "### 'density = True' argument in histogram\n",
    "- convert counts into probability in y axis.\n",
    "> 3 / (12 * 1)  <br>\n",
    "> 3 occurrences / (total occurrence 12 * interval unit(more than 1 less than 2) <br>\n",
    "> 3 / (12 * 2)  <br>\n",
    "> here interval is 2"
   ]
  },
  {
   "cell_type": "code",
   "execution_count": 25,
   "metadata": {},
   "outputs": [
    {
     "data": {
      "image/png": "[encoded data removed]",
      "text/plain": [
       "<Figure size 432x288 with 1 Axes>"
      ]
     },
     "metadata": {},
     "output_type": "display_data"
    }
   ],
   "source": [
    "# example \n",
    "oc = [1,1,1,2,2,3,3,4,5,6,7,8,8]\n",
    "bin = [1,3,4,5,8,9]\n",
    "plt.hist(oc, bins = bin, density = True)\n",
    "plt.show()"
   ]
  },
  {
   "cell_type": "code",
   "execution_count": 26,
   "metadata": {},
   "outputs": [
    {
     "data": {
      "text/plain": [
       "array([2, 1, 1, 3, 1])"
      ]
     },
     "execution_count": 26,
     "metadata": {},
     "output_type": "execute_result"
    }
   ],
   "source": [
    "np.diff(bin)"
   ]
  },
  {
   "cell_type": "code",
   "execution_count": 27,
   "metadata": {},
   "outputs": [
    {
     "data": {
      "text/plain": [
       "array([[0.19230769, 0.15384615, 0.07692308, 0.07692308, 0.15384615]])"
      ]
     },
     "execution_count": 27,
     "metadata": {},
     "output_type": "execute_result"
    }
   ],
   "source": [
    "np.array([5,2,1,3,2]) / (13 * np.diff([[1,3,4,5,8,9]]))"
   ]
  },
  {
   "cell_type": "markdown",
   "metadata": {},
   "source": [
    "## probability distributions and stories: The Binomial distribution\n",
    "- **probability mass function (PMF)**\n",
    "> - the set of probabilities of discrete outcomes <br>\n",
    "\n",
    "**Discrete & Uniformly distributed probability** <br>\n",
    "the outcomes are discrete because only certain vaules may be attained; you cannot roll a 3.7 with a die. <br>\n",
    "each result has the same probability, 1/6 <br>\n",
    "<img src = 'discrete_uniform_pmf.png' width = 400></img>\n",
    "\n",
    "**Binomial distribution** <br>\n",
    "(such as previous 4 coin flip) The number r of heads in 4 coin flips with probability 0.5 of heads is **binominally distributed**. <br>\n",
    "<img src = 'probability_distribution_1.png'></img> <br>\n",
    "<img src = 'probability_distribution_2.png'></img>"
   ]
  },
  {
   "cell_type": "code",
   "execution_count": 28,
   "metadata": {},
   "outputs": [
    {
     "data": {
      "text/plain": [
       "array([1, 3, 3, 2, 1, 3, 2, 4, 2, 2])"
      ]
     },
     "execution_count": 28,
     "metadata": {},
     "output_type": "execute_result"
    }
   ],
   "source": [
    "# sampling from the binomial distribution\n",
    "\n",
    "# 4 coin flips with 10 times simulation\n",
    "np.random.binomial(n = 4, p = 0.5, size = 10)"
   ]
  },
  {
   "cell_type": "code",
   "execution_count": 29,
   "metadata": {},
   "outputs": [
    {
     "data": {
      "image/png": "[encoded data removed]",
      "text/plain": [
       "<Figure size 432x288 with 1 Axes>"
      ]
     },
     "metadata": {},
     "output_type": "display_data"
    }
   ],
   "source": [
    "# seed random number generator\n",
    "np.random.seed(4)\n",
    "\n",
    "# 4 coin flips with 10,000 samples\n",
    "samples = np.random.binomial(n = 4, p = 0.5, size = 10000)\n",
    "\n",
    "# ecdf\n",
    "x, y = ecdf(samples)\n",
    "\n",
    "# plot\n",
    "_ = plt.plot(x, y, marker = '.', linestyle = 'none')\n",
    "_ = plt.xlabel('number of heads')\n",
    "_ = plt.ylabel('probability')\n",
    "\n",
    "# show the plot\n",
    "plt.show()"
   ]
  },
  {
   "cell_type": "code",
   "execution_count": 30,
   "metadata": {},
   "outputs": [
    {
     "name": "stdout",
     "output_type": "stream",
     "text": [
      "[-0.5  0.5  1.5  2.5  3.5  4.5]\n"
     ]
    },
    {
     "data": {
      "image/png": "[encoded data removed]",
      "text/plain": [
       "<Figure size 432x288 with 1 Axes>"
      ]
     },
     "metadata": {},
     "output_type": "display_data"
    }
   ],
   "source": [
    "# nice looking PMF requires a bit of matplotlib trickery\n",
    "\n",
    "# compute bin edges: bins\n",
    "# max is 4, add 1.5 to have element until 5 and subtract 0.5 \n",
    "# to have the bins centered on the integers\n",
    "bins = np.arange(0, max(samples) + 1.5) - 0.5\n",
    "print(bins)\n",
    "\n",
    "# generage histogram\n",
    "_ = plt.hist(samples, density = True, bins = bins)\n",
    "_ = plt.xlabel('number of heads')\n",
    "_ = plt.ylabel('probability')\n",
    "\n",
    "# view\n",
    "plt.show()"
   ]
  },
  {
   "cell_type": "markdown",
   "metadata": {},
   "source": [
    "## poisson process and the poisson distribution\n",
    "When we have **rare events (low p, high n)**, the Binomial distribution is Poisson.\n",
    "\n",
    "it derived from **arrival of buses in Poissonville**\n",
    "- David MacKay describe a town called Poissonville where the buses have a very erratic schedule.\n",
    "- amount of time you have to wait for a bus is completely independent of when the previous bus arrived.\n",
    "> x = the number of arrivals in a given amount of time <br>\n",
    "> n = average arrival of buses e.g. 6 buses a hour <br>\n",
    "> y = probability <br>\n",
    "> \"the number x of arrivals of bus in Poissonville in one hour \n",
    "<br> with average 6 arrivals per hour is Poisson distributed.\"\n",
    "\n",
    "**poisson process**\n",
    "- the timing of **the next event is completely independent of when the previous event happened.**\n",
    "- examples\n",
    "> - Natural births in a given hospital\n",
    "> - Hit on website during a given hour\n",
    "> - Meteor strikes\n",
    "> - Molecular collison in a gas\n",
    "> - Aviation incidents\n",
    "> - Buses in Poissonville"
   ]
  },
  {
   "cell_type": "markdown",
   "metadata": {},
   "source": [
    "## relationship between Binomial and Poisson distribution"
   ]
  },
  {
   "cell_type": "code",
   "execution_count": 31,
   "metadata": {},
   "outputs": [
    {
     "name": "stdout",
     "output_type": "stream",
     "text": [
      "Poisson:\n",
      " mean:  10.012 \n",
      "standard deviation:  3.1748788953281357\n"
     ]
    }
   ],
   "source": [
    "# draw 10000 samples out of Poisson distribution: samples_poisson\n",
    "\n",
    "# average 10, number of sample 10000 \n",
    "samples_poisson = np.random.poisson(10, 10000)\n",
    "\n",
    "# print the mean and standard deviation\n",
    "print('Poisson:\\n', 'mean: ', np.mean(samples_poisson), '\\nstandard deviation: ', np.std(samples_poisson))"
   ]
  },
  {
   "cell_type": "code",
   "execution_count": 32,
   "metadata": {},
   "outputs": [
    {
     "name": "stdout",
     "output_type": "stream",
     "text": [
      "trial(n): 20 success rate(p) 0.5 binom: 10.0256 2.278978859050693\n",
      "trial(n): 100 success rate(p) 0.1 binom: 10.0025 2.9958794618609077\n",
      "trial(n): 1000 success rate(p) 0.01 binom: 10.0191 3.1614134797586977\n"
     ]
    }
   ],
   "source": [
    "# binomial distribution\n",
    "\n",
    "# number of trials\n",
    "n  = [20, 100, 1000]\n",
    "\n",
    "# success probability\n",
    "p = [0.5, 0.1, 0.01]\n",
    "\n",
    "# draw 10,000 samples for each n, p pair: samples_binomial\n",
    "for i in range(3):\n",
    "    samples_binomial = np.random.binomial(n[i], p[i], size = 10000)\n",
    "    \n",
    "    # print results\n",
    "    print('trial(n):', n[i], 'success rate(p)', p[i], 'binom:', np.mean(samples_binomial), np.std(samples_binomial))"
   ]
  },
  {
   "cell_type": "markdown",
   "metadata": {},
   "source": [
    "**The standard deviation of the Binomial distribution gets closer and closer to that of the Poisson distribution as the probability p gets lower and lower.**"
   ]
  },
  {
   "cell_type": "markdown",
   "metadata": {},
   "source": [
    "# Thinking Probabilistically - Continuous Variables"
   ]
  },
  {
   "cell_type": "markdown",
   "metadata": {},
   "source": [
    "## Probability Density Function (PDF)\n",
    "- the probability set for continuous quantities(23.45, 10.23445....), (not discrete 1,2,4,5)\n",
    "- example\n",
    "> - speed of light\n",
    "- continuous analog to the PMF\n",
    "- in PDF graph, the areas under the PDF give probabilities. <br>\n",
    "> the probability of measuring that the speed of light is greater than 30,000 km/s is 3% (area below)\n",
    "\n",
    "<img src = 'normal_pdf.png' width = 500></img>\n",
    "\n",
    "- calculation of area: **CDF**\n",
    "> the probability that x value is more than a certain number = 1 - CDF of a certain number"
   ]
  },
  {
   "cell_type": "markdown",
   "metadata": {},
   "source": [
    "## introduction to the Normal Distribution\n",
    "\n",
    "**Normal Distribution** <br>\n",
    "describe a continous variable whose PDF has a single symmetric peak.\n",
    "\n",
    "**Parameters of Normal Distribution: Mean, Standard Deviation**\n",
    "- mean: determines where center of the peak is\n",
    "- standard deviaton: a measure of how wide the peak is or how spread out the data are <br>\n",
    "<img src = 'param_normal_distribution.png' width = 500></img>\n",
    "\n",
    "**Remember mean and standard deviation are the names of the parameters of the Normal distribution, not mean , std computed from the data.**\n",
    "- mean, std of Normal Distribution != np.mean(data), np.std(data)\n",
    "\n",
    "**Compare ECDF of the date to CDF of the Normal distribution**\n",
    "- unlike histogram, CDF doesn't have binnig bias, so it is easy to see if the data is normal distribution by comparing theoretical CDF."
   ]
  },
  {
   "cell_type": "markdown",
   "metadata": {},
   "source": [
    "## the normal PDF (probability density function)"
   ]
  },
  {
   "cell_type": "code",
   "execution_count": 36,
   "metadata": {},
   "outputs": [
    {
     "data": {
      "image/png": "[encoded data removed]",
      "text/plain": [
       "<Figure size 432x288 with 1 Axes>"
      ]
     },
     "metadata": {},
     "output_type": "display_data"
    }
   ],
   "source": [
    "# create normal distribution sales\n",
    "sample1 = np.random.normal(20, 1, size = 100000)\n",
    "sample3 = np.random.normal(20, 3, size = 100000)\n",
    "sample10 = np.random.normal(20, 10, size = 100000)\n",
    "\n",
    "# plot histograms\n",
    "_ = plt.hist(sample1, bins = 100, normed = True, histtype = 'step')\n",
    "_ = plt.hist(sample3, bins = 100, normed = True, histtype = 'step')\n",
    "_ = plt.hist(sample10, bins = 100, normed = True, histtype = 'step')\n",
    "\n",
    "# make a legend, set limits and show plot\n",
    "_ = plt.legend(('std = 1', 'std = 3', 'std = 10'))\n",
    "plt.ylim(-0.01, 0.42)\n",
    "plt.show()"
   ]
  },
  {
   "cell_type": "markdown",
   "metadata": {},
   "source": [
    "## the normal CDF (culmulative density function)"
   ]
  },
  {
   "cell_type": "code",
   "execution_count": 37,
   "metadata": {},
   "outputs": [
    {
     "data": {
      "image/png": "[encoded data removed]",
      "text/plain": [
       "<Figure size 432x288 with 1 Axes>"
      ]
     },
     "metadata": {},
     "output_type": "display_data"
    }
   ],
   "source": [
    "# generate CDFs\n",
    "x_1, y_1 = ecdf(sample1)\n",
    "x_3, y_3 = ecdf(sample3)\n",
    "x_10, y_10 = ecdf(sample10)\n",
    "\n",
    "# plot CDF\n",
    "_ = plt.plot(x_1, y_1, marker = '.', linestyle = 'none')\n",
    "_ = plt.plot(x_3, y_3, marker = '.', linestyle = 'none')\n",
    "_ = plt.plot(x_10, y_10, marker = '.', linestyle = 'none')\n",
    "\n",
    "# make a legend and show the plot\n",
    "_ = plt.legend(('std = 1', 'std = 3', 'std = 10'))\n",
    "plt.show()"
   ]
  },
  {
   "cell_type": "markdown",
   "metadata": {},
   "source": [
    "## the normal distribution: Properties and warnings\n",
    "- normal distribution often referred to as the Gaussian distribution\n",
    "- warning: \n",
    "> 1. often times things you may think are Normally distributed are not. \n",
    "> 2. normal distribution has lightness of its tail(= no outliers), but in reality, the data tends to have outliers, so in this case, normal distribution might not be the best description of your data."
   ]
  },
  {
   "cell_type": "code",
   "execution_count": 45,
   "metadata": {},
   "outputs": [
    {
     "name": "stdout",
     "output_type": "stream",
     "text": [
      "probability of besting 144 km/s: 0.07 %\n"
     ]
    }
   ],
   "source": [
    "# after you check that the data is normal distribution by comparing cdf and ecdf\n",
    "\n",
    "# generate a million samples out of the normal distribution: samples\n",
    "mean = 149.22101123595507\n",
    "std = 1.627816471774816\n",
    "samples = np.random.normal(mean, std, size = 1000000)\n",
    "\n",
    "# count the occurrence faster than 144 seconds\n",
    "faster_cases = np.sum(samples < 144)\n",
    "prob = faster_cases/ 1000000\n",
    "\n",
    "print('probability of besting 144 km/s:', round(prob * 100, 2), '%')"
   ]
  },
  {
   "cell_type": "markdown",
   "metadata": {},
   "source": [
    "## the exponential distribution\n",
    "- the waiting time between arrivals of a poisson process (rare event) is exponentially distributed.\n",
    "- if a certain incident can be described as poisson process (independent of previous incident), the waiting time should be exponentially distributed.\n",
    "- it has a single parameter, **mean waiting time**, not peak\n",
    "\n",
    "- testing whether or not data distribution is exponential\n",
    "> comparing ecdf of data with theorectical cdf of exponential distribution\n"
   ]
  },
  {
   "cell_type": "markdown",
   "metadata": {},
   "source": [
    "## how long must we wait to see a no-hitter and then a batter hit the cycle?"
   ]
  },
  {
   "cell_type": "code",
   "execution_count": 52,
   "metadata": {},
   "outputs": [],
   "source": [
    "# define function\n",
    "def successive_poisson(tau1, tau2, size = 1):\n",
    "    \"\"\"Compute time for arrival of 2 successive Poisson processes.\"\"\"\n",
    "    \n",
    "    # draw samples out of first exponential distribution: t1\n",
    "    t1 = np.random.exponential(tau1, size = size)\n",
    "    \n",
    "    # draw samples out of second exponetial distribution: t2\n",
    "    t2 = np.random.exponential(tau2, size = size)\n",
    "    \n",
    "    return t1 + t2"
   ]
  },
  {
   "cell_type": "code",
   "execution_count": 50,
   "metadata": {},
   "outputs": [
    {
     "data": {
      "text/plain": [
       "array([1.02648576, 5.55237595, 2.65715389, 2.25611315, 0.59196502,\n",
       "       2.37921824, 1.43048234, 2.82152474, 2.16035654, 4.1700677 ])"
      ]
     },
     "execution_count": 50,
     "metadata": {},
     "output_type": "execute_result"
    }
   ],
   "source": [
    "# see how np.random.exponential() work\n",
    "np.random.exponential(3, size = 10)"
   ]
  },
  {
   "cell_type": "code",
   "execution_count": 54,
   "metadata": {},
   "outputs": [
    {
     "data": {
      "image/png": "[encoded data removed]",
      "text/plain": [
       "<Figure size 432x288 with 1 Axes>"
      ]
     },
     "metadata": {},
     "output_type": "display_data"
    }
   ],
   "source": [
    "# get waiting_time to see a no-hitter and then a batter hit the cycle\n",
    "\n",
    "# the mean waiting time for a no-hitter: 764 games\n",
    "# the mean waiting time for hitting the cycle: 715 games\n",
    "# generate 10,000 samples\n",
    "wating_times = successive_poisson(764, 715, size = 10000)\n",
    "\n",
    "# make the histogram\n",
    "_ = plt.hist(wating_times, bins = 100, density = True, histtype = 'step')\n",
    "\n",
    "# label axes\n",
    "_ = plt.xlabel('waiting time')\n",
    "_ = plt.ylabel('PDF')\n",
    "\n",
    "plt.show()"
   ]
  },
  {
   "cell_type": "markdown",
   "metadata": {},
   "source": [
    " Notice that the PDF is peaked, unlike the waiting time for a single Poisson process. "
   ]
  }
 ],
 "metadata": {
  "kernelspec": {
   "display_name": "Python 3",
   "language": "python",
   "name": "python3"
  },
  "language_info": {
   "codemirror_mode": {
    "name": "ipython",
    "version": 3
   },
   "file_extension": ".py",
   "mimetype": "text/x-python",
   "name": "python",
   "nbconvert_exporter": "python",
   "pygments_lexer": "ipython3",
   "version": "3.7.6"
  }
 },
 "nbformat": 4,
 "nbformat_minor": 4
}
